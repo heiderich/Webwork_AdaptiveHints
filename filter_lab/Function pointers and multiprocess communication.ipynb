{
 "cells": [
  {
   "cell_type": "code",
   "execution_count": 1,
   "metadata": {
    "collapsed": true
   },
   "outputs": [],
   "source": [
    "code=\"\"\"\n",
    "#from string import *\n",
    "def f(x):\n",
    "    print 'from inside',globals().keys()\n",
    "    return x**2\n",
    "\"\"\"\n"
   ]
  },
  {
   "cell_type": "code",
   "execution_count": 20,
   "metadata": {
    "collapsed": false
   },
   "outputs": [
    {
     "name": "stdout",
     "output_type": "stream",
     "text": [
      "test1\n",
      "test2\n",
      "env keys= ['__builtins__', 'f']\n",
      "<function f at 0x105e21c80> <type 'function'>\n",
      "stdout_dump=|from inside ['__builtins__', 'A', 'f']\n",
      "|\n",
      "returned value= 4\n"
     ]
    }
   ],
   "source": [
    "#%%writefile insulating_exec.py\n",
    "'''\n",
    "make_function takes a function source string as input and returns a pointer to the executable function\n",
    "\n",
    "Parameters: \n",
    "        name: name of the function (should be consistent with the name used in the code)\n",
    "        code: A string containing the code\n",
    "\n",
    "Returns:\n",
    "        if type==function: a pointer to the executable function\n",
    "        if type==str: An error message\n",
    "'''\n",
    "import sys\n",
    "import StringIO\n",
    "\n",
    "def make_function(name,code):\n",
    "    #locals().pop(name,'clearing keypair')\n",
    "    try:\n",
    "        bytecode=compile(source=code,filename='filter source code',mode='exec')\n",
    "        env={}\n",
    "\n",
    "        stdout = sys.stdout  #keep a handle on the real standard output\n",
    "        #sys.stdout = StringIO.StringIO() #Choose a file-like object to write to\n",
    "        print 'test1'\n",
    "        exec(bytecode,env)\n",
    "        print 'test2'\n",
    "        \n",
    "        print 'env keys=',env.keys()\n",
    "\n",
    "    except SyntaxError, e:\n",
    "        message='Syntax error:  line=%d, offset=%d text=%s'%(e.lineno,e.offset,e.text)\n",
    "        return message\n",
    "    \n",
    "    if env.has_key(name):\n",
    "        return env[name],env\n",
    "    else:\n",
    "        return 'code failed to generate function named '+name\n",
    "\n",
    "    \n",
    "if __name__==\"__main__\":  \n",
    "    code=\"\"\"\n",
    "#from string import *\n",
    "def f(x):\n",
    "    print 'from inside',globals().keys()\n",
    "    return x**2\n",
    "\"\"\"\n",
    "    A,env=make_function('f',code)\n",
    "    if type(A)==str:\n",
    "        print A\n",
    "    else:\n",
    "        old_stdout=sys.stdout\n",
    "        sys.stdout=StringIO.StringIO()\n",
    "        env['A']=A\n",
    "        exec('x=A(2)',env)\n",
    "        stdout_dump=sys.stdout.getvalue()\n",
    "        sys.stdout=old_stdout\n",
    "        print A, type(A)\n",
    "        print 'stdout_dump=|%s|'%stdout_dump\n",
    "        print 'returned value=',env['x']\n",
    "    \n",
    "\n",
    "    "
   ]
  },
  {
   "cell_type": "code",
   "execution_count": 18,
   "metadata": {
    "collapsed": false
   },
   "outputs": [
    {
     "name": "stdout",
     "output_type": "stream",
     "text": [
      "before redirect\n",
      "text= after redirect\n",
      "\n"
     ]
    }
   ],
   "source": [
    "import sys\n",
    "import StringIO\n",
    "\n",
    "print 'before redirect'\n",
    "old_stdout=sys.stdout\n",
    "sys.stdout=StringIO.StringIO()\n",
    "exec(\"print 'after redirect'\",{})\n",
    "text=sys.stdout.getvalue()\n",
    "sys.stdout=old_stdout\n",
    "print 'text=',text"
   ]
  },
  {
   "cell_type": "code",
   "execution_count": 7,
   "metadata": {
    "collapsed": false
   },
   "outputs": [],
   "source": [
    "from sys import stdout\n",
    "globals()['stdout']\n",
    "old_stdout=stdout\n",
    "stdout=StringIO.StringIO()"
   ]
  },
  {
   "cell_type": "code",
   "execution_count": 10,
   "metadata": {
    "collapsed": false
   },
   "outputs": [
    {
     "data": {
      "text/plain": [
       "''"
      ]
     },
     "execution_count": 10,
     "metadata": {},
     "output_type": "execute_result"
    }
   ],
   "source": [
    "stdout.getvalue()"
   ]
  },
  {
   "cell_type": "code",
   "execution_count": 37,
   "metadata": {
    "collapsed": false
   },
   "outputs": [
    {
     "ename": "SyntaxError",
     "evalue": "invalid syntax (<ipython-input-37-4204c6a82c29>, line 2)",
     "output_type": "error",
     "traceback": [
      "\u001b[0;36m  File \u001b[0;32m\"<ipython-input-37-4204c6a82c29>\"\u001b[0;36m, line \u001b[0;32m2\u001b[0m\n\u001b[0;31m    env keys= ['ascii_lowercase', 'upper', 'punctuation', 'letters', 'lstrip', 'uppercase', 'ascii_letters', 'replace', 'capwords', 'index_error', 'rfind', 'Template', 'strip', 'ljust', 'octdigits', 'index', 'ascii_uppercase', 'whitespace', 'rindex', 'rsplit', 'atol_error', 'find', 'printable', 'splitfields', 'split', 'rstrip', 'translate', 'digits', 'joinfields', 'rjust', '__builtins__', 'swapcase', 'atof_error', 'atoi', 'hexdigits', 'atol', 'atof', 'lowercase', 'count', 'lower', 'join', 'center', 'f', 'expandtabs', 'atoi_error', 'maketrans', 'capitalize', 'zfill', 'Formatter']\u001b[0m\n\u001b[0m           ^\u001b[0m\n\u001b[0;31mSyntaxError\u001b[0m\u001b[0;31m:\u001b[0m invalid syntax\n"
     ]
    }
   ],
   "source": [
    "# %load tmp\n",
    "env keys= ['ascii_lowercase', 'upper', 'punctuation', 'letters', 'lstrip', 'uppercase', 'ascii_letters', 'replace', 'capwords', 'index_error', 'rfind', 'Template', 'strip', 'ljust', 'octdigits', 'index', 'ascii_uppercase', 'whitespace', 'rindex', 'rsplit', 'atol_error', 'find', 'printable', 'splitfields', 'split', 'rstrip', 'translate', 'digits', 'joinfields', 'rjust', '__builtins__', 'swapcase', 'atof_error', 'atoi', 'hexdigits', 'atol', 'atof', 'lowercase', 'count', 'lower', 'join', 'center', 'f', 'expandtabs', 'atoi_error', 'maketrans', 'capitalize', 'zfill', 'Formatter']\n",
    "<function f at 0x106e03668> <type 'function'>\n",
    "2\n",
    "4\n"
   ]
  },
  {
   "cell_type": "code",
   "execution_count": 4,
   "metadata": {
    "collapsed": false
   },
   "outputs": [
    {
     "data": {
      "text/plain": [
       "<IPython.kernel.zmq.iostream.OutStream at 0x1053b8e90>"
      ]
     },
     "execution_count": 4,
     "metadata": {},
     "output_type": "execute_result"
    }
   ],
   "source": [
    "globals()['stdout']"
   ]
  },
  {
   "cell_type": "code",
   "execution_count": 7,
   "metadata": {
    "collapsed": false
   },
   "outputs": [
    {
     "name": "stdout",
     "output_type": "stream",
     "text": [
      "0\n",
      "1 1\n",
      "2\n",
      "3 3\n"
     ]
    },
    {
     "data": {
      "text/plain": [
       "[0, -1, 4, -3]"
      ]
     },
     "execution_count": 7,
     "metadata": {},
     "output_type": "execute_result"
    }
   ],
   "source": [
    "[A[i](i) for i in range(len(A))]"
   ]
  },
  {
   "cell_type": "markdown",
   "metadata": {},
   "source": [
    "### communicating through pipes"
   ]
  },
  {
   "cell_type": "code",
   "execution_count": 1,
   "metadata": {
    "collapsed": false
   },
   "outputs": [
    {
     "name": "stdout",
     "output_type": "stream",
     "text": [
      "00\n",
      "master got through conn2 f recieved 0\n",
      "11\n",
      "master got through conn2 f recieved 1\n",
      "22\n",
      "master got through conn2 f recieved 2\n",
      "33\n",
      "master got through conn2 f recieved 3\n",
      "44\n",
      "master got through conn2 f recieved 4\n",
      "55\n",
      "master got through conn2 f recieved 5\n",
      "66\n",
      "master got through conn2 f recieved 6\n",
      "77\n",
      "master got through conn2 f recieved 7\n",
      "88\n",
      "master got through conn2 f recieved 8\n",
      "99\n",
      "master got through conn2 f recieved 9\n"
     ]
    }
   ],
   "source": [
    "from multiprocessing import Process, Pipe\n",
    "\n",
    "def f(conn1,conn2):\n",
    "    #sys.stdout=conn2\n",
    "    while True:\n",
    "        string=conn1.recv()\n",
    "        conn1.send(string+string)\n",
    "        conn2.send('f recieved '+string)\n",
    "        # print 'f recieved '+string\n",
    "        # sys.stdout.flush()\n",
    "\n",
    "if __name__ == '__main__':\n",
    "    parent_conn1, child_conn1 = Pipe()\n",
    "    parent_conn2, child_conn2 = Pipe()\n",
    "    p = Process(target=f, args=(child_conn1,child_conn2))\n",
    "    p.start()\n",
    "    for i in range(10):\n",
    "        parent_conn1.send(str(i))\n",
    "        print parent_conn1.recv()\n",
    "        if parent_conn2.poll():\n",
    "            print \"master got through conn2\",parent_conn2.recv()\n",
    "\n",
    "    parent_conn1.close()\n",
    "    parent_conn2.close()"
   ]
  },
  {
   "cell_type": "code",
   "execution_count": 2,
   "metadata": {
    "collapsed": true
   },
   "outputs": [],
   "source": [
    "parent_conn1.recv?"
   ]
  },
  {
   "cell_type": "code",
   "execution_count": 70,
   "metadata": {
    "collapsed": true
   },
   "outputs": [],
   "source": [
    "from contextlib import contextmanager\n",
    "\n",
    "@contextmanager\n",
    "def stdout_redirector(stream):\n",
    "    old_stdout = sys.stdout\n",
    "    sys.stdout = stream\n",
    "    try:\n",
    "        yield\n",
    "    finally:\n",
    "        sys.stdout = old_stdout\n"
   ]
  },
  {
   "cell_type": "code",
   "execution_count": 71,
   "metadata": {
    "collapsed": false
   },
   "outputs": [
    {
     "ename": "TypeError",
     "evalue": "unicode argument expected, got 'str'",
     "output_type": "error",
     "traceback": [
      "\u001b[0;31m---------------------------------------------------------------------------\u001b[0m",
      "\u001b[0;31mTypeError\u001b[0m                                 Traceback (most recent call last)",
      "\u001b[0;32m<ipython-input-71-97d38d780397>\u001b[0m in \u001b[0;36m<module>\u001b[0;34m()\u001b[0m\n\u001b[1;32m      3\u001b[0m \u001b[0;32mwith\u001b[0m \u001b[0mstdout_redirector\u001b[0m\u001b[0;34m(\u001b[0m\u001b[0mf\u001b[0m\u001b[0;34m)\u001b[0m\u001b[0;34m:\u001b[0m\u001b[0;34m\u001b[0m\u001b[0m\n\u001b[1;32m      4\u001b[0m     \u001b[0;31m#print 'foobar'\u001b[0m\u001b[0;34m\u001b[0m\u001b[0;34m\u001b[0m\u001b[0m\n\u001b[0;32m----> 5\u001b[0;31m     \u001b[0;32mprint\u001b[0m \u001b[0;36m12\u001b[0m\u001b[0;34m\u001b[0m\u001b[0m\n\u001b[0m\u001b[1;32m      6\u001b[0m \u001b[0;32mprint\u001b[0m\u001b[0;34m(\u001b[0m\u001b[0;34mu'Got stdout: \"{0}\"'\u001b[0m\u001b[0;34m.\u001b[0m\u001b[0mformat\u001b[0m\u001b[0;34m(\u001b[0m\u001b[0mf\u001b[0m\u001b[0;34m.\u001b[0m\u001b[0mgetvalue\u001b[0m\u001b[0;34m(\u001b[0m\u001b[0;34m)\u001b[0m\u001b[0;34m)\u001b[0m\u001b[0;34m)\u001b[0m\u001b[0;34m\u001b[0m\u001b[0m\n",
      "\u001b[0;31mTypeError\u001b[0m: unicode argument expected, got 'str'"
     ]
    }
   ],
   "source": [
    "import io\n",
    "f = io.StringIO()\n",
    "with stdout_redirector(f):\n",
    "    #print 'foobar'\n",
    "    print 12\n",
    "print(u'Got stdout: \"{0}\"'.format(f.getvalue()))"
   ]
  },
  {
   "cell_type": "code",
   "execution_count": 29,
   "metadata": {
    "collapsed": false
   },
   "outputs": [
    {
     "name": "stdout",
     "output_type": "stream",
     "text": [
      "Writing ../TimeoutError.py\n"
     ]
    }
   ],
   "source": [
    "%%writefile ../TimeoutError.py\n",
    "from functools import wraps\n",
    "import errno\n",
    "import os\n",
    "import signal\n",
    "\n",
    "class TimeoutError(Exception):\n",
    "    pass\n",
    "\n",
    "def timeout(seconds=1, error_message=os.strerror(errno.ETIME)):\n",
    "    def decorator(func):\n",
    "        def _handle_timeout(signum, frame):\n",
    "            raise TimeoutError(error_message)\n",
    "\n",
    "        def wrapper(*args, **kwargs):\n",
    "            signal.signal(signal.SIGALRM, _handle_timeout)\n",
    "            signal.alarm(seconds)\n",
    "            try:\n",
    "                result = func(*args, **kwargs)\n",
    "            finally:\n",
    "                signal.alarm(0)\n",
    "            return result\n",
    "\n",
    "        return wraps(func)(wrapper)\n",
    "\n",
    "    return decorator"
   ]
  },
  {
   "cell_type": "code",
   "execution_count": 30,
   "metadata": {
    "collapsed": false
   },
   "outputs": [
    {
     "name": "stdout",
     "output_type": "stream",
     "text": [
      "0 1 2 3 4 5 6 7 8 9 STREAM ioctl timeout\n"
     ]
    }
   ],
   "source": [
    "from time import sleep\n",
    "@timeout(1)\n",
    "def long_running_function():\n",
    "    for i in range(20):\n",
    "        print i,\n",
    "        sleep(0.1)\n",
    "\n",
    "try:        \n",
    "    long_running_function()\n",
    "except Exception, e:\n",
    "    print e\n"
   ]
  },
  {
   "cell_type": "code",
   "execution_count": 6,
   "metadata": {
    "collapsed": true
   },
   "outputs": [],
   "source": [
    "from os import wait"
   ]
  },
  {
   "cell_type": "code",
   "execution_count": 25,
   "metadata": {
    "collapsed": true
   },
   "outputs": [],
   "source": [
    "import StringIO\n",
    "\n",
    "output = StringIO.StringIO()\n",
    "output.write('First line.\\n')\n",
    "print >>output, 'Second line.'\n",
    "\n",
    "# Retrieve file contents -- this will be\n",
    "# 'First line.\\nSecond line.\\n'\n",
    "contents = output.getvalue()\n",
    "\n",
    "# Close object and discard memory buffer --\n",
    "# .getvalue() will now raise an exception.\n",
    "output.close()"
   ]
  },
  {
   "cell_type": "code",
   "execution_count": 27,
   "metadata": {
    "collapsed": false
   },
   "outputs": [],
   "source": [
    "print contents"
   ]
  },
  {
   "cell_type": "code",
   "execution_count": 12,
   "metadata": {
    "collapsed": false
   },
   "outputs": [
    {
     "data": {
      "text/plain": [
       "{'A': <function f>,\n",
       " 'In': ['',\n",
       "  u'code=\"\"\"\\nfrom string import *\\ndef f(x):\\n    print x\\n    return x**2\\n\"\"\"',\n",
       "  u\"'''\\nmake_function takes a function source string as input and returns a pointer to the executable function\\n\\nParameters: \\n        name: name of the function (should be consistent with the name used in the code)\\n        code: A string containing the code\\n\\nReturns:\\n        if type==function: a pointer to the executable function\\n        if type==str: An error message\\n'''\\nimport sys\\nimport StringIO\\n\\ndef make_function(name,code):\\n    #locals().pop(name,'clearing keypair')\\n    try:\\n        bytecode=compile(source=code,filename='filter source code',mode='exec')\\n        env={}\\n        #dump=StringIO.StringIO()\\n        #old_stdout=sys.stdout\\n        #sys.stdout=dump\\n        exec(bytecode,env)\\n        #sys.stdout=old_stdout\\n        \\n        #print 'dump=',dump.getvalue()\\n        print 'env keys=',env.keys()\\n\\n    except SyntaxError, e:\\n        message='Syntax error:  line=%d, offset=%d text=%s'%(e.lineno,e.offset,e.text)\\n        return message\\n    \\n    if env.has_key(name):\\n        return env[name]\\n    else:\\n        return 'code failed to generate function named '+name\\n\\n    \\n    \\nimport pickle    \\nA=make_function('f',code)\\nif type(A)==str:\\n    print A\\nelse:\\n    print A, type(A)\\n    print A(2)\",\n",
       "  u'code=\"\"\"\\n#from string import *\\ndef f(x):\\n    print x\\n    return x**2\\n\"\"\"',\n",
       "  u\"'''\\nmake_function takes a function source string as input and returns a pointer to the executable function\\n\\nParameters: \\n        name: name of the function (should be consistent with the name used in the code)\\n        code: A string containing the code\\n\\nReturns:\\n        if type==function: a pointer to the executable function\\n        if type==str: An error message\\n'''\\nimport sys\\nimport StringIO\\n\\ndef make_function(name,code):\\n    #locals().pop(name,'clearing keypair')\\n    try:\\n        bytecode=compile(source=code,filename='filter source code',mode='exec')\\n        env={}\\n        #dump=StringIO.StringIO()\\n        #old_stdout=sys.stdout\\n        #sys.stdout=dump\\n        exec(bytecode,env)\\n        #sys.stdout=old_stdout\\n        \\n        #print 'dump=',dump.getvalue()\\n        print 'env keys=',env.keys()\\n\\n    except SyntaxError, e:\\n        message='Syntax error:  line=%d, offset=%d text=%s'%(e.lineno,e.offset,e.text)\\n        return message\\n    \\n    if env.has_key(name):\\n        return env[name]\\n    else:\\n        return 'code failed to generate function named '+name\\n\\n    \\n    \\nimport pickle    \\nA=make_function('f',code)\\nif type(A)==str:\\n    print A\\nelse:\\n    print A, type(A)\\n    print A(2)\",\n",
       "  u'get_ipython().magic(u\"env [\\'__builtin__\\']\")',\n",
       "  u'get_ipython().magic(u\"env [\\'__builtins__\\']\")',\n",
       "  u\"'''\\nmake_function takes a function source string as input and returns a pointer to the executable function\\n\\nParameters: \\n        name: name of the function (should be consistent with the name used in the code)\\n        code: A string containing the code\\n\\nReturns:\\n        if type==function: a pointer to the executable function\\n        if type==str: An error message\\n'''\\nimport sys\\nimport StringIO\\n\\ndef make_function(name,code):\\n    #locals().pop(name,'clearing keypair')\\n    try:\\n        bytecode=compile(source=code,filename='filter source code',mode='exec')\\n        env={}\\n        #dump=StringIO.StringIO()\\n        #old_stdout=sys.stdout\\n        #sys.stdout=dump\\n        exec(bytecode,env)\\n        #sys.stdout=old_stdout\\n        \\n        #print 'dump=',dump.getvalue()\\n        print 'env keys=',env.keys()\\n        print env['__builtins__']\\n\\n    except SyntaxError, e:\\n        message='Syntax error:  line=%d, offset=%d text=%s'%(e.lineno,e.offset,e.text)\\n        return message\\n    \\n    if env.has_key(name):\\n        return env[name]\\n    else:\\n        return 'code failed to generate function named '+name\\n\\n    \\n    \\nimport pickle    \\nA=make_function('f',code)\\nif type(A)==str:\\n    print A\\nelse:\\n    print A, type(A)\\n    print A(2)\",\n",
       "  u'globals()',\n",
       "  u\"globals()['stdout']\",\n",
       "  u\"globals()['sys.stdout']\",\n",
       "  u\"locals()['sys.stdout']\",\n",
       "  u'locals()'],\n",
       " 'Out': {8: {...}},\n",
       " 'StringIO': <module 'StringIO' from '/Users/yoavfreund/anaconda/lib/python2.7/StringIO.pyc'>,\n",
       " '_': {...},\n",
       " '_8': {...},\n",
       " '__': '',\n",
       " '___': '',\n",
       " '__builtin__': <module '__builtin__' (built-in)>,\n",
       " '__builtins__': <module '__builtin__' (built-in)>,\n",
       " '__doc__': '\\nmake_function takes a function source string as input and returns a pointer to the executable function\\n\\nParameters: \\n        name: name of the function (should be consistent with the name used in the code)\\n        code: A string containing the code\\n\\nReturns:\\n        if type==function: a pointer to the executable function\\n        if type==str: An error message\\n',\n",
       " '__name__': '__main__',\n",
       " '__package__': None,\n",
       " '_dh': [u'/Users/yoavfreund/projects/Webwork.Improvement.Project/AdaptiveHints/src/servers/rest_server/filter_lab'],\n",
       " '_i': u\"locals()['sys.stdout']\",\n",
       " '_i1': u'code=\"\"\"\\nfrom string import *\\ndef f(x):\\n    print x\\n    return x**2\\n\"\"\"',\n",
       " '_i10': u\"globals()['sys.stdout']\",\n",
       " '_i11': u\"locals()['sys.stdout']\",\n",
       " '_i12': u'locals()',\n",
       " '_i2': u\"'''\\nmake_function takes a function source string as input and returns a pointer to the executable function\\n\\nParameters: \\n        name: name of the function (should be consistent with the name used in the code)\\n        code: A string containing the code\\n\\nReturns:\\n        if type==function: a pointer to the executable function\\n        if type==str: An error message\\n'''\\nimport sys\\nimport StringIO\\n\\ndef make_function(name,code):\\n    #locals().pop(name,'clearing keypair')\\n    try:\\n        bytecode=compile(source=code,filename='filter source code',mode='exec')\\n        env={}\\n        #dump=StringIO.StringIO()\\n        #old_stdout=sys.stdout\\n        #sys.stdout=dump\\n        exec(bytecode,env)\\n        #sys.stdout=old_stdout\\n        \\n        #print 'dump=',dump.getvalue()\\n        print 'env keys=',env.keys()\\n\\n    except SyntaxError, e:\\n        message='Syntax error:  line=%d, offset=%d text=%s'%(e.lineno,e.offset,e.text)\\n        return message\\n    \\n    if env.has_key(name):\\n        return env[name]\\n    else:\\n        return 'code failed to generate function named '+name\\n\\n    \\n    \\nimport pickle    \\nA=make_function('f',code)\\nif type(A)==str:\\n    print A\\nelse:\\n    print A, type(A)\\n    print A(2)\",\n",
       " '_i3': u'code=\"\"\"\\n#from string import *\\ndef f(x):\\n    print x\\n    return x**2\\n\"\"\"',\n",
       " '_i4': u\"'''\\nmake_function takes a function source string as input and returns a pointer to the executable function\\n\\nParameters: \\n        name: name of the function (should be consistent with the name used in the code)\\n        code: A string containing the code\\n\\nReturns:\\n        if type==function: a pointer to the executable function\\n        if type==str: An error message\\n'''\\nimport sys\\nimport StringIO\\n\\ndef make_function(name,code):\\n    #locals().pop(name,'clearing keypair')\\n    try:\\n        bytecode=compile(source=code,filename='filter source code',mode='exec')\\n        env={}\\n        #dump=StringIO.StringIO()\\n        #old_stdout=sys.stdout\\n        #sys.stdout=dump\\n        exec(bytecode,env)\\n        #sys.stdout=old_stdout\\n        \\n        #print 'dump=',dump.getvalue()\\n        print 'env keys=',env.keys()\\n\\n    except SyntaxError, e:\\n        message='Syntax error:  line=%d, offset=%d text=%s'%(e.lineno,e.offset,e.text)\\n        return message\\n    \\n    if env.has_key(name):\\n        return env[name]\\n    else:\\n        return 'code failed to generate function named '+name\\n\\n    \\n    \\nimport pickle    \\nA=make_function('f',code)\\nif type(A)==str:\\n    print A\\nelse:\\n    print A, type(A)\\n    print A(2)\",\n",
       " '_i5': u\"env['__builtin__']\",\n",
       " '_i6': u\"env['__builtins__']\",\n",
       " '_i7': u\"'''\\nmake_function takes a function source string as input and returns a pointer to the executable function\\n\\nParameters: \\n        name: name of the function (should be consistent with the name used in the code)\\n        code: A string containing the code\\n\\nReturns:\\n        if type==function: a pointer to the executable function\\n        if type==str: An error message\\n'''\\nimport sys\\nimport StringIO\\n\\ndef make_function(name,code):\\n    #locals().pop(name,'clearing keypair')\\n    try:\\n        bytecode=compile(source=code,filename='filter source code',mode='exec')\\n        env={}\\n        #dump=StringIO.StringIO()\\n        #old_stdout=sys.stdout\\n        #sys.stdout=dump\\n        exec(bytecode,env)\\n        #sys.stdout=old_stdout\\n        \\n        #print 'dump=',dump.getvalue()\\n        print 'env keys=',env.keys()\\n        print env['__builtins__']\\n\\n    except SyntaxError, e:\\n        message='Syntax error:  line=%d, offset=%d text=%s'%(e.lineno,e.offset,e.text)\\n        return message\\n    \\n    if env.has_key(name):\\n        return env[name]\\n    else:\\n        return 'code failed to generate function named '+name\\n\\n    \\n    \\nimport pickle    \\nA=make_function('f',code)\\nif type(A)==str:\\n    print A\\nelse:\\n    print A, type(A)\\n    print A(2)\",\n",
       " '_i8': u'globals()',\n",
       " '_i9': u\"globals()['stdout']\",\n",
       " '_ih': ['',\n",
       "  u'code=\"\"\"\\nfrom string import *\\ndef f(x):\\n    print x\\n    return x**2\\n\"\"\"',\n",
       "  u\"'''\\nmake_function takes a function source string as input and returns a pointer to the executable function\\n\\nParameters: \\n        name: name of the function (should be consistent with the name used in the code)\\n        code: A string containing the code\\n\\nReturns:\\n        if type==function: a pointer to the executable function\\n        if type==str: An error message\\n'''\\nimport sys\\nimport StringIO\\n\\ndef make_function(name,code):\\n    #locals().pop(name,'clearing keypair')\\n    try:\\n        bytecode=compile(source=code,filename='filter source code',mode='exec')\\n        env={}\\n        #dump=StringIO.StringIO()\\n        #old_stdout=sys.stdout\\n        #sys.stdout=dump\\n        exec(bytecode,env)\\n        #sys.stdout=old_stdout\\n        \\n        #print 'dump=',dump.getvalue()\\n        print 'env keys=',env.keys()\\n\\n    except SyntaxError, e:\\n        message='Syntax error:  line=%d, offset=%d text=%s'%(e.lineno,e.offset,e.text)\\n        return message\\n    \\n    if env.has_key(name):\\n        return env[name]\\n    else:\\n        return 'code failed to generate function named '+name\\n\\n    \\n    \\nimport pickle    \\nA=make_function('f',code)\\nif type(A)==str:\\n    print A\\nelse:\\n    print A, type(A)\\n    print A(2)\",\n",
       "  u'code=\"\"\"\\n#from string import *\\ndef f(x):\\n    print x\\n    return x**2\\n\"\"\"',\n",
       "  u\"'''\\nmake_function takes a function source string as input and returns a pointer to the executable function\\n\\nParameters: \\n        name: name of the function (should be consistent with the name used in the code)\\n        code: A string containing the code\\n\\nReturns:\\n        if type==function: a pointer to the executable function\\n        if type==str: An error message\\n'''\\nimport sys\\nimport StringIO\\n\\ndef make_function(name,code):\\n    #locals().pop(name,'clearing keypair')\\n    try:\\n        bytecode=compile(source=code,filename='filter source code',mode='exec')\\n        env={}\\n        #dump=StringIO.StringIO()\\n        #old_stdout=sys.stdout\\n        #sys.stdout=dump\\n        exec(bytecode,env)\\n        #sys.stdout=old_stdout\\n        \\n        #print 'dump=',dump.getvalue()\\n        print 'env keys=',env.keys()\\n\\n    except SyntaxError, e:\\n        message='Syntax error:  line=%d, offset=%d text=%s'%(e.lineno,e.offset,e.text)\\n        return message\\n    \\n    if env.has_key(name):\\n        return env[name]\\n    else:\\n        return 'code failed to generate function named '+name\\n\\n    \\n    \\nimport pickle    \\nA=make_function('f',code)\\nif type(A)==str:\\n    print A\\nelse:\\n    print A, type(A)\\n    print A(2)\",\n",
       "  u'get_ipython().magic(u\"env [\\'__builtin__\\']\")',\n",
       "  u'get_ipython().magic(u\"env [\\'__builtins__\\']\")',\n",
       "  u\"'''\\nmake_function takes a function source string as input and returns a pointer to the executable function\\n\\nParameters: \\n        name: name of the function (should be consistent with the name used in the code)\\n        code: A string containing the code\\n\\nReturns:\\n        if type==function: a pointer to the executable function\\n        if type==str: An error message\\n'''\\nimport sys\\nimport StringIO\\n\\ndef make_function(name,code):\\n    #locals().pop(name,'clearing keypair')\\n    try:\\n        bytecode=compile(source=code,filename='filter source code',mode='exec')\\n        env={}\\n        #dump=StringIO.StringIO()\\n        #old_stdout=sys.stdout\\n        #sys.stdout=dump\\n        exec(bytecode,env)\\n        #sys.stdout=old_stdout\\n        \\n        #print 'dump=',dump.getvalue()\\n        print 'env keys=',env.keys()\\n        print env['__builtins__']\\n\\n    except SyntaxError, e:\\n        message='Syntax error:  line=%d, offset=%d text=%s'%(e.lineno,e.offset,e.text)\\n        return message\\n    \\n    if env.has_key(name):\\n        return env[name]\\n    else:\\n        return 'code failed to generate function named '+name\\n\\n    \\n    \\nimport pickle    \\nA=make_function('f',code)\\nif type(A)==str:\\n    print A\\nelse:\\n    print A, type(A)\\n    print A(2)\",\n",
       "  u'globals()',\n",
       "  u\"globals()['stdout']\",\n",
       "  u\"globals()['sys.stdout']\",\n",
       "  u\"locals()['sys.stdout']\",\n",
       "  u'locals()'],\n",
       " '_ii': u\"globals()['sys.stdout']\",\n",
       " '_iii': u\"globals()['stdout']\",\n",
       " '_oh': {8: {...}},\n",
       " '_sh': <module 'IPython.core.shadowns' from '/anaconda/lib/python2.7/site-packages/IPython/core/shadowns.pyc'>,\n",
       " 'code': '\\n#from string import *\\ndef f(x):\\n    print x\\n    return x**2\\n',\n",
       " 'exit': <IPython.core.autocall.ZMQExitAutocall at 0x1053ddf10>,\n",
       " 'get_ipython': <bound method ZMQInteractiveShell.get_ipython of <IPython.kernel.zmq.zmqshell.ZMQInteractiveShell object at 0x1053cce90>>,\n",
       " 'make_function': <function __main__.make_function>,\n",
       " 'pickle': <module 'pickle' from '/Users/yoavfreund/anaconda/lib/python2.7/pickle.pyc'>,\n",
       " 'quit': <IPython.core.autocall.ZMQExitAutocall at 0x1053ddf10>,\n",
       " 'sys': <module 'sys' (built-in)>}"
      ]
     },
     "execution_count": 12,
     "metadata": {},
     "output_type": "execute_result"
    }
   ],
   "source": [
    "locals()"
   ]
  },
  {
   "cell_type": "code",
   "execution_count": 31,
   "metadata": {
    "collapsed": false
   },
   "outputs": [
    {
     "name": "stderr",
     "output_type": "stream",
     "text": [
      "2015-09-19 13:12:29,682 - simple_example - DEBUG - debug message\n",
      "DEBUG:simple_example:debug message\n",
      "2015-09-19 13:12:29,683 - simple_example - INFO - info message\n",
      "INFO:simple_example:info message\n",
      "2015-09-19 13:12:29,684 - simple_example - WARNING - warn message\n",
      "WARNING:simple_example:warn message\n",
      "2015-09-19 13:12:29,685 - simple_example - ERROR - error message\n",
      "ERROR:simple_example:error message\n",
      "2015-09-19 13:12:29,686 - simple_example - CRITICAL - critical message\n",
      "CRITICAL:simple_example:critical message\n"
     ]
    }
   ],
   "source": [
    "import logging\n",
    "\n",
    "# create logger\n",
    "logger = logging.getLogger('simple_example')\n",
    "logger.setLevel(logging.DEBUG)\n",
    "\n",
    "# create console handler and set level to debug\n",
    "ch = logging.StreamHandler()\n",
    "ch.setLevel(logging.DEBUG)\n",
    "\n",
    "# create formatter\n",
    "formatter = logging.Formatter('%(asctime)s - %(name)s - %(levelname)s - %(message)s')\n",
    "\n",
    "# add formatter to ch\n",
    "ch.setFormatter(formatter)\n",
    "\n",
    "# add ch to logger\n",
    "logger.addHandler(ch)\n",
    "\n",
    "# 'application' code\n",
    "logger.debug('debug message')\n",
    "logger.info('info message')\n",
    "logger.warn('warn message')\n",
    "logger.error('error message')\n",
    "logger.critical('critical message')"
   ]
  },
  {
   "cell_type": "code",
   "execution_count": 33,
   "metadata": {
    "collapsed": false
   },
   "outputs": [
    {
     "data": {
      "text/plain": [
       "['__builtins__', 'A', 'x', 'f']"
      ]
     },
     "execution_count": 33,
     "metadata": {},
     "output_type": "execute_result"
    }
   ],
   "source": [
    "env.keys()"
   ]
  },
  {
   "cell_type": "code",
   "execution_count": 35,
   "metadata": {
    "collapsed": false
   },
   "outputs": [
    {
     "ename": "KeyError",
     "evalue": "'A'",
     "output_type": "error",
     "traceback": [
      "\u001b[0;31m---------------------------------------------------------------------------\u001b[0m",
      "\u001b[0;31mKeyError\u001b[0m                                  Traceback (most recent call last)",
      "\u001b[0;32m<ipython-input-35-ac92bf2dd0fc>\u001b[0m in \u001b[0;36m<module>\u001b[0;34m()\u001b[0m\n\u001b[0;32m----> 1\u001b[0;31m \u001b[0menv\u001b[0m\u001b[0;34m.\u001b[0m\u001b[0mpop\u001b[0m\u001b[0;34m(\u001b[0m\u001b[0;34m'A'\u001b[0m\u001b[0;34m)\u001b[0m\u001b[0;34m\u001b[0m\u001b[0m\n\u001b[0m",
      "\u001b[0;31mKeyError\u001b[0m: 'A'"
     ]
    }
   ],
   "source": [
    "env.pop('A')"
   ]
  },
  {
   "cell_type": "code",
   "execution_count": null,
   "metadata": {
    "collapsed": true
   },
   "outputs": [],
   "source": []
  }
 ],
 "metadata": {
  "kernelspec": {
   "display_name": "Python 2",
   "language": "python",
   "name": "python2"
  },
  "language_info": {
   "codemirror_mode": {
    "name": "ipython",
    "version": 2
   },
   "file_extension": ".py",
   "mimetype": "text/x-python",
   "name": "python",
   "nbconvert_exporter": "python",
   "pygments_lexer": "ipython2",
   "version": "2.7.9"
  }
 },
 "nbformat": 4,
 "nbformat_minor": 0
}
