{
 "cells": [
  {
   "cell_type": "code",
   "execution_count": 6,
   "metadata": {
    "collapsed": false
   },
   "outputs": [],
   "source": [
    "import sys\n",
    "sys.path.append('../src')\n",
    "from servers.rest_server.filter_helpers.classify_final_value import classify_final_value"
   ]
  },
  {
   "cell_type": "code",
   "execution_count": 7,
   "metadata": {
    "collapsed": false,
    "scrolled": true
   },
   "outputs": [
    {
     "name": "stdout",
     "output_type": "stream",
     "text": [
      "    2978  298474 2222658 logfiles/CSE103_Fall2015_Week4_problem7_part1.txt\r\n"
     ]
    }
   ],
   "source": [
    "filename='logfiles/CSE103_Fall2015_Week4_problem7_part1.txt'\n",
    "!wc $filename"
   ]
  },
  {
   "cell_type": "code",
   "execution_count": 15,
   "metadata": {
    "collapsed": false
   },
   "outputs": [
    {
     "name": "stdout",
     "output_type": "stream",
     "text": [
      "#### Week4 Problem7 Part1\n",
      "#### C(32,5)-C(20,5)\n",
      "C(32,5) - C(16,5)\n",
      "C(52,5)-C(40,5) +  C(32,5)\n",
      "C(52,5)-C(40,5) + (C(52,5)-C(32,5))\n",
      "(C(52,5)-C(40,5)) + (C(52,5)-C(32,5))\n",
      "(C(32,5))+(C(52,5)-C(40,5))-((C(52,5)-C(40,5)) + (C(52,5)-C(32,5)))\n",
      "(C(32,5))+(C(40,5)-C(40,5))-((C(52,5)-C(40,5)) + (C(52,5)-C(32,5)))\n",
      "C(52,5)-C(40,5)-C(32,5)\n",
      "C(52-20,5)\n",
      "C(52,5)-(C(32,5)-C(12,5))\n",
      "(C(32,5)-C(12,5))\n",
      "(C(32,5)-C(40,5))\n",
      "(C(32,5)+C(52,5)-C(40,5))\n",
      "C(52,5) - C(52-20,5)\n",
      "32!/(5! * 27!) * (52!/(5! * 47!) - 40!/(5! * 35!))\n",
      "(32!/((32-5)!5!)) - (16!/(11!5!))\n",
      "(32!/((32-5)!5!)) - (16!/(11!5!))\n",
      "32!/((32-5)!5!)\n",
      "(32!/((32-5)!5!) )- (16!/(11!5!))\n",
      "(C(52,5)-C(40,5))-(C(32,5))\n",
      "(C(52,5)-C(40,5))+ (C(32,5))\n",
      "(C(52,5)-C(40,5))+ (C(52,5)-C(32,5))\n",
      "C(52,5)-C(32,5)\n",
      "C(52,5)-C(40,5)+C(32,5)\n",
      "(C(52,5) - C(40,5)) - C(32,5)\n",
      "(32!/(5!*27!))-(16!/(5!*11!))/(52!/5!*47!)-(36!/(5!*31!))\n",
      "((32!/(5!*27!))-(16!/(5!*11!)))/(52!/5!*47!)-(36!/(5!*31!))\n",
      "((32!/(5!*27!))-(16!/(5!*11!)))/((52!/5!*47!)-(36!/(5!*31!)))\n",
      "((32!/(5!*27!))-(16!/(5!*11!)))/((52!/(5!*47!))-(36!/(5!*31!)))\n",
      "201376\n",
      "C(32,5)-C(16,5)\n",
      "C(32,5)-C(12,5)\n",
      "1-C(20,5)/C(32,5)\n",
      "C(20,5)/C(32,5)\n",
      "((C(32,5))/(C(52,5)))*((C(52,5) - C(40,5))/(C(52,5)))\n",
      "((C(32,5)))*((C(52,5) - C(40,5)))\n",
      "C(32,5)\n",
      "C(52,5)-C(32,5)\n",
      "C(32,5)\n",
      "C(52,5)-C(32,5)\n",
      "C(32,5)-C(16,5)\n",
      "C(52,5)-C(32,5)-C(16,5)\n",
      "C(52,5)-C(32,5)-C(20,5)\n"
     ]
    },
    {
     "ename": "TypeError",
     "evalue": "ufunc 'isinf' not supported for the input types, and the inputs could not be safely coerced to any supported types according to the casting rule ''safe''",
     "output_type": "error",
     "traceback": [
      "\u001b[0;31m---------------------------------------------------------------------------\u001b[0m",
      "\u001b[0;31mTypeError\u001b[0m                                 Traceback (most recent call last)",
      "\u001b[0;32m<ipython-input-15-01319d532050>\u001b[0m in \u001b[0;36m<module>\u001b[0;34m()\u001b[0m\n\u001b[1;32m      9\u001b[0m         \u001b[0;31m#print params['attempt'],params['att_tree']\u001b[0m\u001b[0;34m\u001b[0m\u001b[0;34m\u001b[0m\u001b[0m\n\u001b[1;32m     10\u001b[0m         \u001b[0mmatches\u001b[0m\u001b[0;34m=\u001b[0m\u001b[0mfind_matches\u001b[0m\u001b[0;34m(\u001b[0m\u001b[0mparams\u001b[0m\u001b[0;34m)\u001b[0m\u001b[0;34m\u001b[0m\u001b[0m\n\u001b[0;32m---> 11\u001b[0;31m         \u001b[0mvalue\u001b[0m\u001b[0;34m,\u001b[0m\u001b[0mclassification\u001b[0m\u001b[0;34m=\u001b[0m\u001b[0mclassify_final_value\u001b[0m\u001b[0;34m(\u001b[0m\u001b[0mparams\u001b[0m\u001b[0;34m)\u001b[0m\u001b[0;34m\u001b[0m\u001b[0m\n\u001b[0m\u001b[1;32m     12\u001b[0m \u001b[0;34m\u001b[0m\u001b[0m\n\u001b[1;32m     13\u001b[0m         \u001b[0;32mif\u001b[0m \u001b[0mlen\u001b[0m\u001b[0;34m(\u001b[0m\u001b[0mmatches\u001b[0m\u001b[0;34m)\u001b[0m\u001b[0;34m>\u001b[0m\u001b[0;36m0\u001b[0m \u001b[0;32mand\u001b[0m \u001b[0mmax\u001b[0m\u001b[0;34m(\u001b[0m\u001b[0;34m[\u001b[0m\u001b[0mitem\u001b[0m\u001b[0;34m[\u001b[0m\u001b[0;36m1\u001b[0m\u001b[0;34m]\u001b[0m \u001b[0;32mfor\u001b[0m \u001b[0mitem\u001b[0m \u001b[0;32min\u001b[0m \u001b[0mmatches\u001b[0m\u001b[0;34m]\u001b[0m\u001b[0;34m)\u001b[0m\u001b[0;34m>\u001b[0m\u001b[0;36m100\u001b[0m\u001b[0;34m:\u001b[0m\u001b[0;34m\u001b[0m\u001b[0m\n",
      "\u001b[0;32m/Users/yoavfreund/projects/Webwork.Improvement.Project/AdaptiveHints/src/servers/rest_server/filter_helpers/classify_final_value.pyc\u001b[0m in \u001b[0;36mclassify_final_value\u001b[0;34m(params)\u001b[0m\n\u001b[1;32m     23\u001b[0m     \u001b[0;32mif\u001b[0m \u001b[0matt_final_value\u001b[0m\u001b[0;34m==\u001b[0m\u001b[0mans_final_value\u001b[0m\u001b[0;34m:\u001b[0m\u001b[0;34m\u001b[0m\u001b[0m\n\u001b[1;32m     24\u001b[0m         \u001b[0mclassification\u001b[0m\u001b[0;34m.\u001b[0m\u001b[0mappend\u001b[0m\u001b[0;34m(\u001b[0m\u001b[0;34m'correct'\u001b[0m\u001b[0;34m)\u001b[0m\u001b[0;34m\u001b[0m\u001b[0m\n\u001b[0;32m---> 25\u001b[0;31m     \u001b[0;32mif\u001b[0m \u001b[0misinf\u001b[0m\u001b[0;34m(\u001b[0m\u001b[0matt_final_value\u001b[0m\u001b[0;34m)\u001b[0m\u001b[0;34m:\u001b[0m\u001b[0;34m\u001b[0m\u001b[0m\n\u001b[0m\u001b[1;32m     26\u001b[0m         \u001b[0mclassification\u001b[0m\u001b[0;34m.\u001b[0m\u001b[0mappend\u001b[0m\u001b[0;34m(\u001b[0m\u001b[0;34m'Inf'\u001b[0m\u001b[0;34m)\u001b[0m\u001b[0;34m\u001b[0m\u001b[0m\n\u001b[1;32m     27\u001b[0m     \u001b[0;32mif\u001b[0m \u001b[0mabs\u001b[0m\u001b[0;34m(\u001b[0m\u001b[0mint\u001b[0m\u001b[0;34m(\u001b[0m\u001b[0matt_final_value\u001b[0m\u001b[0;34m)\u001b[0m\u001b[0;34m-\u001b[0m\u001b[0matt_final_value\u001b[0m\u001b[0;34m)\u001b[0m\u001b[0;34m>\u001b[0m\u001b[0;36m0.1\u001b[0m\u001b[0;34m:\u001b[0m\u001b[0;34m\u001b[0m\u001b[0m\n",
      "\u001b[0;31mTypeError\u001b[0m: ufunc 'isinf' not supported for the input types, and the inputs could not be safely coerced to any supported types according to the casting rule ''safe''"
     ]
    }
   ],
   "source": [
    "import json\n",
    "from FindMatchingSubexpressions import find_matches\n",
    "with open(filename,'r') as file:\n",
    "    print '####',file.readline(),\n",
    "    print '####',file.readline(),\n",
    "    i=0;\n",
    "    for line in file.readlines():\n",
    "        params=json.loads(line)\n",
    "        #print params['attempt'],params['att_tree']\n",
    "        matches=find_matches(params)\n",
    "        value,classification=classify_final_value(params)\n",
    "        \n",
    "        if len(matches)>0 and max([item[1] for item in matches])>100:\n",
    "            if u'R.0' in [item[0] for item in matches]:\n",
    "                print params['attempt']\n",
    "        \n",
    "        #if 'not int' in classification:\n",
    "        #    print classification,value,params['attempt']\n",
    "        #if u'R.1' in [item[0] for item in matches]:\n",
    "            #print params['attempt'],matches\n",
    "        #if i>100: break\n",
    "        i+=1"
   ]
  },
  {
   "cell_type": "code",
   "execution_count": 10,
   "metadata": {
    "collapsed": false
   },
   "outputs": [
    {
     "name": "stdout",
     "output_type": "stream",
     "text": [
      "lex: tokens   = ('Q', 'CHOOSE', 'PERMUTE', 'VARIABLE', 'NUMBER', 'PLUS', 'MINUS', 'TIMES', 'DIVIDE', 'LPAREN', 'RPAREN', 'FACTORIAL', 'LSET', 'RSET', 'COMMA', 'EXP', 'LBRACKET', 'RBRACKET')\n",
      "lex: literals = ''\n",
      "lex: states   = {'INITIAL': 'inclusive'}\n",
      "lex: Adding rule t_NUMBER -> '\\d*\\.?\\d+(E(\\+|\\-)?\\d+)?' (state 'INITIAL')\n",
      "lex: Adding rule t_newline -> '\\n+' (state 'INITIAL')\n",
      "lex: Adding rule t_VARIABLE -> '\\$[A-Za-z_]+[0-9]*' (state 'INITIAL')\n",
      "lex: Adding rule t_EXP -> '\\^|(\\*\\*)' (state 'INITIAL')\n",
      "lex: Adding rule t_RSET -> '\\}' (state 'INITIAL')\n",
      "lex: Adding rule t_RBRACKET -> '\\]' (state 'INITIAL')\n",
      "lex: Adding rule t_LBRACKET -> '\\[' (state 'INITIAL')\n",
      "lex: Adding rule t_PLUS -> '\\+' (state 'INITIAL')\n",
      "lex: Adding rule t_COMMA -> '\\,' (state 'INITIAL')\n",
      "lex: Adding rule t_LPAREN -> '\\(' (state 'INITIAL')\n",
      "lex: Adding rule t_LSET -> '\\{' (state 'INITIAL')\n",
      "lex: Adding rule t_TIMES -> '\\*' (state 'INITIAL')\n",
      "lex: Adding rule t_RPAREN -> '\\)' (state 'INITIAL')\n",
      "lex: Adding rule t_FACTORIAL -> '!' (state 'INITIAL')\n",
      "lex: Adding rule t_Q -> 'Q' (state 'INITIAL')\n",
      "lex: Adding rule t_DIVIDE -> '/' (state 'INITIAL')\n",
      "lex: Adding rule t_CHOOSE -> 'C' (state 'INITIAL')\n",
      "lex: Adding rule t_PERMUTE -> 'P' (state 'INITIAL')\n",
      "lex: Adding rule t_MINUS -> '-' (state 'INITIAL')\n",
      "lex: ==== MASTER REGEXS FOLLOW ====\n",
      "lex: state 'INITIAL' : regex[0] = '(?P<t_NUMBER>\\d*\\.?\\d+(E(\\+|\\-)?\\d+)?)|(?P<t_newline>\\n+)|(?P<t_VARIABLE>\\$[A-Za-z_]+[0-9]*)|(?P<t_EXP>\\^|(\\*\\*))|(?P<t_RSET>\\})|(?P<t_RBRACKET>\\])|(?P<t_LBRACKET>\\[)|(?P<t_PLUS>\\+)|(?P<t_COMMA>\\,)|(?P<t_LPAREN>\\()|(?P<t_LSET>\\{)|(?P<t_TIMES>\\*)|(?P<t_RPAREN>\\))|(?P<t_FACTORIAL>!)|(?P<t_Q>Q)|(?P<t_DIVIDE>/)|(?P<t_CHOOSE>C)|(?P<t_PERMUTE>P)|(?P<t_MINUS>-)'\n",
      "Generating LALR tables\n",
      "WARNING: 60 shift/reduce conflicts\n",
      "WARNING: 19 reduce/reduce conflicts\n",
      "WARNING: reduce/reduce conflict in state 48 resolved using rule (expression -> factor MINUS factor)\n",
      "WARNING: rejected rule (factor -> MINUS factor) in state 48\n",
      "2015-10-22 13:39:56,341 - __main__ - ERROR - 'float' object has no attribute '__getitem__'\n",
      "Traceback (most recent call last):\n",
      "  File \"FindMatchingSubexpressions.py\", line 43, in flatten\n",
      "    elif isinstance(current[0][0],basestring) and isinstance(current[0][1],(int, long, float, complex)) and type(current[0][2])==list:\n",
      "TypeError: 'float' object has no attribute '__getitem__'\n",
      "2015-10-22 13:39:56,341 - __main__ - ERROR - 'float' object has no attribute '__getitem__'\n",
      "Traceback (most recent call last):\n",
      "  File \"FindMatchingSubexpressions.py\", line 43, in flatten\n",
      "    elif isinstance(current[0][0],basestring) and isinstance(current[0][1],(int, long, float, complex)) and type(current[0][2])==list:\n",
      "TypeError: 'float' object has no attribute '__getitem__'\n",
      "2015-10-22 13:39:56,342 - __main__ - ERROR - current=[192192.0]\n",
      "2015-10-22 13:39:56,342 - __main__ - ERROR - current=[192192.0]\n",
      "2015-10-22 13:39:57,067 - __main__ - ERROR - 'float' object has no attribute '__getitem__'\n",
      "Traceback (most recent call last):\n",
      "  File \"FindMatchingSubexpressions.py\", line 43, in flatten\n",
      "    elif isinstance(current[0][0],basestring) and isinstance(current[0][1],(int, long, float, complex)) and type(current[0][2])==list:\n",
      "TypeError: 'float' object has no attribute '__getitem__'\n",
      "2015-10-22 13:39:57,067 - __main__ - ERROR - 'float' object has no attribute '__getitem__'\n",
      "Traceback (most recent call last):\n",
      "  File \"FindMatchingSubexpressions.py\", line 43, in flatten\n",
      "    elif isinstance(current[0][0],basestring) and isinstance(current[0][1],(int, long, float, complex)) and type(current[0][2])==list:\n",
      "TypeError: 'float' object has no attribute '__getitem__'\n",
      "2015-10-22 13:39:57,067 - __main__ - ERROR - current=[192192.0]\n",
      "2015-10-22 13:39:57,067 - __main__ - ERROR - current=[192192.0]\n",
      "{\"answer\": \"C(32,5)-C(20,5)\", \"att_tree\": [\"X\", 24.0, [0, 1], \"R\"], \"variables\": {}, \"ans_tree\": [[\"-\", 185872.0, [0, 14], \"R\"], [[\"C\", 201376, [0, 6], \"R.0\"], [\"X\", 32.0, [2, 3], \"R.0.0\"], [\"X\", 5.0, [5, 5], \"R.0.1\"]], [[\"C\", 15504, [8, 14], \"R.1\"], [\"X\", 20.0, [10, 11], \"R.1.0\"], [\"X\", 5.0, [13, 13], \"R.1.1\"]]], \"attempt\": \"24\"}\n",
      "params= {u'answer': u'C(32,5)-C(20,5)', u'attempt': u'24', u'variables': {}, u'ans_tree': [[u'-', 185872.0, [0, 14], u'R'], [[u'C', 201376, [0, 6], u'R.0'], [u'X', 32.0, [2, 3], u'R.0.0'], [u'X', 5.0, [5, 5], u'R.0.1']], [[u'C', 15504, [8, 14], u'R.1'], [u'X', 20.0, [10, 11], u'R.1.0'], [u'X', 5.0, [13, 13], u'R.1.1']]], u'att_tree': [u'X', 24.0, [0, 1], u'R']}\n",
      "long line error in line 2977\n",
      "Clusters=\n",
      "Nothing recognizable= 1823\n",
      "                 R.1                       C(20,5)       170\n",
      "                   R               C(32,5)-C(20,5)       242\n",
      "                 R.0                       C(32,5)       317\n",
      "               R.1.0                            20        78\n",
      "               R.0.0                            32       148\n"
     ]
    }
   ],
   "source": [
    "!python FindMatchingSubexpressions.py $filename | tail"
   ]
  },
  {
   "cell_type": "code",
   "execution_count": 4,
   "metadata": {
    "collapsed": true
   },
   "outputs": [],
   "source": [
    "import numpy"
   ]
  },
  {
   "cell_type": "code",
   "execution_count": 6,
   "metadata": {
    "collapsed": false
   },
   "outputs": [
    {
     "ename": "ZeroDivisionError",
     "evalue": "integer division or modulo by zero",
     "output_type": "error",
     "traceback": [
      "\u001b[0;31m---------------------------------------------------------------------------\u001b[0m",
      "\u001b[0;31mZeroDivisionError\u001b[0m                         Traceback (most recent call last)",
      "\u001b[0;32m<ipython-input-6-50db5bbb8daf>\u001b[0m in \u001b[0;36m<module>\u001b[0;34m()\u001b[0m\n\u001b[0;32m----> 1\u001b[0;31m \u001b[0mnumpy\u001b[0m\u001b[0;34m.\u001b[0m\u001b[0misinf\u001b[0m\u001b[0;34m(\u001b[0m\u001b[0;36m5\u001b[0m\u001b[0;34m/\u001b[0m\u001b[0;36m0\u001b[0m\u001b[0;34m)\u001b[0m\u001b[0;34m\u001b[0m\u001b[0m\n\u001b[0m",
      "\u001b[0;31mZeroDivisionError\u001b[0m: integer division or modulo by zero"
     ]
    }
   ],
   "source": [
    "numpy.isinf(5/0)"
   ]
  },
  {
   "cell_type": "code",
   "execution_count": null,
   "metadata": {
    "collapsed": true
   },
   "outputs": [],
   "source": []
  }
 ],
 "metadata": {
  "kernelspec": {
   "display_name": "Python 2",
   "language": "python",
   "name": "python2"
  },
  "language_info": {
   "codemirror_mode": {
    "name": "ipython",
    "version": 2
   },
   "file_extension": ".py",
   "mimetype": "text/x-python",
   "name": "python",
   "nbconvert_exporter": "python",
   "pygments_lexer": "ipython2",
   "version": "2.7.9"
  }
 },
 "nbformat": 4,
 "nbformat_minor": 0
}
