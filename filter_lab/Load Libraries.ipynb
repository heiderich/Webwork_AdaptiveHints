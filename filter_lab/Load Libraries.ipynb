{
 "cells": [
  {
   "cell_type": "code",
   "execution_count": 1,
   "metadata": {
    "collapsed": false
   },
   "outputs": [
    {
     "name": "stdout",
     "output_type": "stream",
     "text": [
      "Function pointers and multiprocess communication.ipynb\r\n",
      "Load Libraries.ipynb\r\n",
      "Problem2.3.json\r\n",
      "Problem8Attempts.json\r\n",
      "Process Data.ipynb\r\n",
      "Week3.Prob8.Part1.json\r\n",
      "attempts.txt\r\n",
      "insulating_exec.py\r\n",
      "redirect.py\r\n",
      "timeouterror.py\r\n",
      "tmp\r\n"
     ]
    }
   ],
   "source": [
    "!ls"
   ]
  },
  {
   "cell_type": "code",
   "execution_count": 14,
   "metadata": {
    "collapsed": false
   },
   "outputs": [
    {
     "name": "stdout",
     "output_type": "stream",
     "text": [
      "/Users/yoavfreund/projects/Webwork.Improvement.Project/AdaptiveHints/src/servers/rest_server\n"
     ]
    }
   ],
   "source": [
    "%cd .."
   ]
  },
  {
   "cell_type": "code",
   "execution_count": 25,
   "metadata": {
    "collapsed": false
   },
   "outputs": [
    {
     "name": "stdout",
     "output_type": "stream",
     "text": [
      "#exec_filters.py#           filter_bank.pyc             pg_wrapper.py\r\n",
      "#parsers.py#                \u001b[34mfilter_helpers\u001b[m\u001b[m              pg_wrapper.pyc\r\n",
      "#test.py#                   \u001b[34mfilter_lab\u001b[m\u001b[m                  process_query.py\r\n",
      "README.md                   \u001b[34mfilters\u001b[m\u001b[m                     process_query.pyc\r\n",
      "TimeoutError.py             get_answers.py              render.py\r\n",
      "TimeoutError.pyc            get_header_footer.py        render.pyc\r\n",
      "TimeoutError.py~            get_header_footer.pyc       rest_server.py\r\n",
      "__init__.py                 hints_api.py                \u001b[34mscripts\u001b[m\u001b[m\r\n",
      "auth.py                     hints_api.pyc               tornado_database.py\r\n",
      "auth.pyc                    json_request_handler.py     tornado_database_example.py\r\n",
      "checkanswer.py              json_request_handler.pyc    trace.log\r\n",
      "checkanswer.pyc             newrelic.ini                webwork.py\r\n",
      "convert_timestamp.py        parser.out                  webwork.pyc\r\n",
      "convert_timestamp.pyc       parsers.py                  webwork_config.py\r\n",
      "exec_filters.py             parsers.pyc                 webwork_config.pyc\r\n",
      "exec_filters.pyc            pg_utils.py                 webwork_utils.py\r\n",
      "\u001b[34mfilter\u001b[m\u001b[m                      pg_utils.pyc                webwork_utils.pyc\r\n",
      "filter_bank.py              pg_wrapper.md\r\n"
     ]
    }
   ],
   "source": [
    "!ls"
   ]
  },
  {
   "cell_type": "code",
   "execution_count": 50,
   "metadata": {
    "collapsed": false,
    "scrolled": true
   },
   "outputs": [
    {
     "name": "stdout",
     "output_type": "stream",
     "text": [
      "['__builtins__', 'flatten']\n",
      "['__builtins__', 'answer_should_be_int', 'answer_is_not_expression', 'flatten']\n",
      "answer_should_be_int: \n",
      " Written by Yoav Freund, Sat Sep 19 17:09:48 PDT 2015\n",
      "    Assumes answer should be an integer number, send a hint if not\n",
      "    \n",
      "answer_is_not_expression: \n",
      "None\n",
      "flatten: \n",
      "None\n"
     ]
    }
   ],
   "source": [
    "import glob\n",
    "import string\n",
    "from filter_bank import filter_bank\n",
    "\n",
    "def import_filters_from_files(filter_dir):\n",
    "    for filename in glob.glob(filter_dir+'*.py'):\n",
    "        filtername=filename[len(filter_dir):-3]\n",
    "        code=open(filename,'r').read()\n",
    "        filters.add_filter(filtername,code)\n",
    "    return filters.get_env_keys()\n",
    "\n",
    "def get_docstring(filter_name):\n",
    "    if filters.env.has_key(filter_name):\n",
    "        print filter_name+': \\n',filters.env[filter_name].__doc__\n",
    "        return filters.env[filter_name].__doc__\n",
    "    else:\n",
    "        return 'no filter named '+filter_name\n",
    "    \n",
    "filter_dir=''\n",
    "filters=filter_bank()\n",
    "print import_filters_from_files('filter_helpers/')\n",
    "print import_filters_from_files('filters/')\n",
    "\n",
    "for filtername in ['answer_should_be_int', 'answer_is_not_expression', 'flatten']:\n",
    "    get_docstring(filtername)"
   ]
  },
  {
   "cell_type": "code",
   "execution_count": 38,
   "metadata": {
    "collapsed": false
   },
   "outputs": [],
   "source": [
    "!mv filter_helpers/%%flatten.py filter_helpers/flattend.py"
   ]
  },
  {
   "cell_type": "code",
   "execution_count": 48,
   "metadata": {
    "collapsed": false
   },
   "outputs": [
    {
     "name": "stdout",
     "output_type": "stream",
     "text": [
      " Written by Yoav Freund, Sat Sep 19 17:09:48 PDT 2015\n",
      "    Assumes answer should be an integer number, send a hint if not\n",
      "    \n"
     ]
    }
   ],
   "source": [
    "print filters.env['answer_should_be_int'].__doc__"
   ]
  },
  {
   "cell_type": "code",
   "execution_count": null,
   "metadata": {
    "collapsed": true
   },
   "outputs": [],
   "source": []
  }
 ],
 "metadata": {
  "kernelspec": {
   "display_name": "Python 2",
   "language": "python",
   "name": "python2"
  },
  "language_info": {
   "codemirror_mode": {
    "name": "ipython",
    "version": 2
   },
   "file_extension": ".py",
   "mimetype": "text/x-python",
   "name": "python",
   "nbconvert_exporter": "python",
   "pygments_lexer": "ipython2",
   "version": "2.7.9"
  }
 },
 "nbformat": 4,
 "nbformat_minor": 0
}
