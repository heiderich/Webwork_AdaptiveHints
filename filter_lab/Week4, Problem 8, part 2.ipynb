{
 "cells": [
  {
   "cell_type": "code",
   "execution_count": 1,
   "metadata": {
    "collapsed": false
   },
   "outputs": [],
   "source": [
    "import sys\n",
    "sys.path.append('../src')\n",
    "from servers.rest_server.filter_helpers.classify_final_value import classify_final_value"
   ]
  },
  {
   "cell_type": "code",
   "execution_count": 2,
   "metadata": {
    "collapsed": false,
    "scrolled": true
   },
   "outputs": [
    {
     "name": "stdout",
     "output_type": "stream",
     "text": [
      "    3535  339862 2341500 logfiles/CSE103_Fall2015_Week4_problem8_part2.txt\r\n"
     ]
    }
   ],
   "source": [
    "filename='logfiles/CSE103_Fall2015_Week4_problem8_part2.txt'\n",
    "!wc $filename"
   ]
  },
  {
   "cell_type": "code",
   "execution_count": 4,
   "metadata": {
    "collapsed": false
   },
   "outputs": [
    {
     "name": "stdout",
     "output_type": "stream",
     "text": [
      "#### Week4 Problem8 Part2\n",
      "#### C(52-5,2)-C(52-5-4,2)\n",
      "C(47,2)\n",
      "C(47,2)-C(4,2)\n",
      "C(47,2) - C(4,2)\n",
      "47!/(2!45!)-42!/(2!40!)\n",
      "C(47,2)\n",
      "47!/(2! * 45!) - 4\n",
      "47!/(45!2!) - 43*42\n",
      "C(47,2)-C(32,2)\n",
      "C(47,2)\n",
      "C(47,2)\n",
      "C(47, 2) - C(4, 1)\n",
      "4/C(47,2)\n",
      "C(47,2)\n",
      "C(47,2) * 4\n",
      "((47*46)/2!) - ((46*45/2))\n",
      "C(47,2) - C( 47,1)\n",
      "C(47,2) - 47*3\n",
      "C(47,2) - 47*4\n",
      "C(47,2) - 4\n",
      "C(47,2) - C(43,4)\n",
      "C(47,2)-C(44,2)\n",
      "C(47,2)-C(42,2)\n",
      "C(47,2)-C(4,1)\n",
      "C(47,2)-C(4,1)C(4,1)\n",
      "C(47,2)-C(43,1)\n",
      "C(47,2)-(12)\n",
      "C(47,2)-C(4,2)\n",
      "C(47,2)\n",
      "C(47,2)-16\n",
      "C(47,2)-C(45,2)\n",
      "C(47,2)-C(4,1)\n",
      "C(47,2)-C(4,1)C(4,1)\n",
      "C(47,2)-C(43,1)\n",
      "C(47, 2) - C(4, 1)\n",
      "C(47,2)\n",
      "C(47,2)-C(4,2)\n",
      "C(47,2) - C(4,2)\n",
      "C(47,2)-C(32,2)\n",
      "C(47,2)\n",
      "C(47,2)\n",
      "C(47,2) * 4\n",
      "C(47,2) - C( 47,1)\n",
      "C(47,2) - 47*3\n",
      "C(47,2) - 47*4\n",
      "C(47,2) - 4\n",
      "C(47,2) - C(43,4)\n",
      "47!/(2!45!)-42!/(2!40!)\n",
      "C(47,2)\n",
      "C(47,2)-16\n",
      "C(47,2)\n",
      "C(47,2)-C(44,2)\n",
      "47!/(2! * 45!) - 4\n",
      "C(47,2)-C(45,2)\n",
      "C(47,2)-C(42,2)\n",
      "((47*46)/2!) - ((46*45/2))\n",
      "C(47,2)-(12)\n",
      "C(47,2)-C(4,2)\n",
      "47!/(45!2!) - 43*42\n",
      "4/C(47,2)\n",
      "C(47,2)\n",
      "C(47,2)*C(4,1)\n",
      "C(47,2) - C(45,2)\n",
      "C(4,1)*C(47,2)*C(7,5)\n",
      "C(4,1)*C(47,2)*13\n",
      "C(4,1)*C(47,2)*2\n",
      "C(4,1)*C(47,2)*3\n",
      "C(4,1)C(47,2)\n",
      "C(4,2)*C(47,2)\n",
      "12*C(47,2)\n",
      "C(47,2)-C(12,2)\n",
      "C(47,2)-C(4,2)\n",
      "47!/(2!(47-2)!) - 12\n",
      "(47!/(2!(47-2)!)) - (47!/12!(47-12)!)\n",
      "47!/((47-2)!2!)-43*42\n",
      "1.0*C(47,2)\n",
      "[(52-5)!/(2!45!)]-[(52-5-4)!/(2!43!)]\n",
      "47!/(2!45!) - (43!/(2!38!))\n",
      "C(47,2)-(44*43)\n",
      "C(47,2)-(43*42)\n",
      "C(47,2)\n",
      "C(47,2) - C(45, 2)\n",
      "C(47,2) - C(46, 2)\n",
      "C(47,2)\n",
      "C(47,2) / 45\n",
      "C(52-5,2)*C(13,1)*C(4,1)\n",
      "C(47,2)-C(42,2)\n",
      "C(47,2)\n",
      "C(47,2)*46\n",
      "C(47,2) - 43*42\n",
      "C(47,2)-C(42,1)\n",
      "C(47,2)-C(42,2)\n",
      "C(47,2)-C(4,1)\n",
      "C(47,2)-43\n",
      "4*8/C(52-5,2)\n",
      "C(47,2)\n",
      "C(47,2)-4\n",
      "C(47,2)-C(46,2)\n",
      "C(4,2)*47*C(47,2)\n",
      "C(47,2)-4\n",
      "C(47,2)-8\n",
      "C(47,2)-16\n",
      "C(47,2)-16\n",
      "C(47,2)-(47*46)\n",
      "C(47,2)-(47-8)\n",
      "C(47,2)-(46-8)\n",
      "C(47,2)-(8)\n",
      "C(47,2)-(64)\n",
      "C(47,2)-16\n",
      "C(47,2)-C(39,2)\n",
      "C(47,2)-C(45,2)\n",
      "C(47,2)-(46*46)\n",
      "C(47,2)-(46*45)\n",
      "C(47,2)-(43*42)\n",
      "C(47,2)-(44)\n",
      "C(47,2)-(43)\n",
      "C(47,2)-C(39,2)\n",
      "47! / (45! * 2!) - 47! / (43! * 4!)\n",
      "C(47,2)- (4*46)\n",
      "(47!/(45!2!))\n",
      "C(52-5,2) - (52-5-4)\n",
      "C(4,1)*C(47,2)\n",
      "C(47,2)-43\n",
      "C(47,2)-C(47,46)\n",
      "C(47,2)-C(47,43)\n",
      "C(52-5,2)C(52-5-4,2)\n",
      "(C(47,2)*(52-6))\n",
      "(C(47,2)-(52-6))\n",
      "C(47,2)*(52-6)\n",
      "C(47,2)-(52-6)\n",
      "C(47,2)*(52-6)\n",
      "C(47,2)-(52-6)\n",
      "C(47,2) - C(46,2)\n",
      "1081\n",
      "1081\n",
      "1081\n",
      "1081\n",
      "1081\n",
      "1081\n",
      "1081\n",
      "1081\n",
      "1081\n",
      "1081\n",
      "1081\n",
      "C(52-5,2)\n",
      "C(47,2)-C(42,2)\n",
      "C(47,2)-C(47,43)\n",
      "C(47,2)-C(43,5)\n",
      "C(47,2)-C(43,4)\n",
      "C(47,2)-C(43,3)\n",
      "1- (C(52-5-4, 2)/C(52-5, 2))\n",
      "C(47,2)\n",
      "4 * C(47,2)\n",
      "C(47,2)\n",
      "C(47,3)-C(47,2)\n",
      "C(47,4)-C(47,2)\n",
      "C(47,2)-C(4,2)\n",
      "C(47,2)-4\n",
      "(47!/[2!45!]) - (46!/[2!44!])\n",
      "47!/[2!45!] - 12\n",
      "47!/[2!45!] - 4\n",
      "47!/[2!45!] - 7\n",
      "47!/[2!45!] - 8\n",
      "47!/[2!45!] - [13*4]\n",
      "47!/[2!45!] - [13*4*2]\n",
      "47!/[2!45!] - [13*4**12]\n",
      "47!/[2!45!] - 47!/[1!46!]\n",
      "47!/[2!45!]-[45!/[2!43!]]\n",
      "47!/[2!45!]-[43!/[2!39!]]\n",
      "47!/[2!45!]-43\n",
      "C(47,2)-44*44\n",
      "C(47,2)-11*11\n",
      "C(52,2)-C(47,2)\n",
      "C(47,2)-C(42,2)\n",
      "C(47,2) - C(35,2)\n",
      "C(52,2)-C(47,2)\n",
      "C(47,2)\n",
      "C(47,2)\n",
      "1081\n",
      "C(47,2) - 48\n",
      "C(47,2) - C(46,2)\n",
      "4[C(47,2) - C(46,2)]\n",
      "C(47,2) - 43\n",
      "C(47, 2)/C(4, 2)\n",
      "C(47, 2)*C(4, 2)\n",
      "C(43,2) - C(47,2)\n",
      "[C(47,2)]-[C(47,47-8)]\n",
      "47*46/2-12/2\n",
      "1081-741\n",
      "4/(C(47,2)+C(46,2))\n",
      "C(52-5,2)-C(52-4,2)\n",
      "C(47,2)-C(46,2)\n",
      "C(47,2)-C(46,2)\n",
      "C(47,2)C(4,2)\n"
     ]
    }
   ],
   "source": [
    "import json\n",
    "from FindMatchingSubexpressions import find_matches\n",
    "with open(filename,'r') as file:\n",
    "    print '####',file.readline(),\n",
    "    print '####',file.readline(),\n",
    "    i=0;\n",
    "    for line in file.readlines():\n",
    "        params=json.loads(line)\n",
    "        #print params['attempt'],params['att_tree']\n",
    "        matches=find_matches(params)\n",
    "        value,classification=classify_final_value(params)\n",
    "        \n",
    "        if len(matches)>0 and max([item[1] for item in matches])>100:\n",
    "            if u'R.0' in [item[0] for item in matches]:\n",
    "                print params['attempt']\n",
    "        \n"
   ]
  },
  {
   "cell_type": "code",
   "execution_count": 7,
   "metadata": {
    "collapsed": false
   },
   "outputs": [
    {
     "data": {
      "text/plain": [
       "True"
      ]
     },
     "execution_count": 7,
     "metadata": {},
     "output_type": "execute_result"
    }
   ],
   "source": [
    "type([1,2])==list"
   ]
  },
  {
   "cell_type": "code",
   "execution_count": 4,
   "metadata": {
    "collapsed": true
   },
   "outputs": [],
   "source": [
    "import numpy"
   ]
  },
  {
   "cell_type": "code",
   "execution_count": 6,
   "metadata": {
    "collapsed": false
   },
   "outputs": [
    {
     "ename": "ZeroDivisionError",
     "evalue": "integer division or modulo by zero",
     "output_type": "error",
     "traceback": [
      "\u001b[0;31m---------------------------------------------------------------------------\u001b[0m",
      "\u001b[0;31mZeroDivisionError\u001b[0m                         Traceback (most recent call last)",
      "\u001b[0;32m<ipython-input-6-50db5bbb8daf>\u001b[0m in \u001b[0;36m<module>\u001b[0;34m()\u001b[0m\n\u001b[0;32m----> 1\u001b[0;31m \u001b[0mnumpy\u001b[0m\u001b[0;34m.\u001b[0m\u001b[0misinf\u001b[0m\u001b[0;34m(\u001b[0m\u001b[0;36m5\u001b[0m\u001b[0;34m/\u001b[0m\u001b[0;36m0\u001b[0m\u001b[0;34m)\u001b[0m\u001b[0;34m\u001b[0m\u001b[0m\n\u001b[0m",
      "\u001b[0;31mZeroDivisionError\u001b[0m: integer division or modulo by zero"
     ]
    }
   ],
   "source": [
    "numpy.isinf(5/0)"
   ]
  },
  {
   "cell_type": "code",
   "execution_count": null,
   "metadata": {
    "collapsed": true
   },
   "outputs": [],
   "source": []
  }
 ],
 "metadata": {
  "kernelspec": {
   "display_name": "Python 2",
   "language": "python",
   "name": "python2"
  },
  "language_info": {
   "codemirror_mode": {
    "name": "ipython",
    "version": 2
   },
   "file_extension": ".py",
   "mimetype": "text/x-python",
   "name": "python",
   "nbconvert_exporter": "python",
   "pygments_lexer": "ipython2",
   "version": "2.7.9"
  }
 },
 "nbformat": 4,
 "nbformat_minor": 0
}
