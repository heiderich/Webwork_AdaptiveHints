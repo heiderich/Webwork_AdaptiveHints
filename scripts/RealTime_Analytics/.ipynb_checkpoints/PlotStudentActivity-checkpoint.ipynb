{
 "cells": [
  {
   "cell_type": "code",
   "execution_count": 1,
   "metadata": {
    "collapsed": false
   },
   "outputs": [],
   "source": [
    "#%pylab inline\n",
    "import pandas as pd\n",
    "import datetime\n",
    "import matplotlib.pyplot as pl\n",
    "from matplotlib.backends.backend_pdf import PdfPages\n",
    "import datetime\n",
    "import numpy as np\n",
    "from pylab import *\n",
    "from plot_student_assignment import plot_student_assignment"
   ]
  },
  {
   "cell_type": "code",
   "execution_count": 2,
   "metadata": {
    "collapsed": false
   },
   "outputs": [
    {
     "data": {
      "text/html": [
       "<div style=\"max-height:1000px;max-width:1500px;overflow:auto;\">\n",
       "<table border=\"1\" class=\"dataframe\">\n",
       "  <thead>\n",
       "    <tr style=\"text-align: right;\">\n",
       "      <th></th>\n",
       "      <th>id</th>\n",
       "      <th>user_id</th>\n",
       "      <th>answer_id</th>\n",
       "      <th>answer_string</th>\n",
       "      <th>score</th>\n",
       "      <th>problem_id</th>\n",
       "      <th>set_id</th>\n",
       "      <th>part_id</th>\n",
       "      <th>timestamp</th>\n",
       "      <th>gap</th>\n",
       "    </tr>\n",
       "  </thead>\n",
       "  <tbody>\n",
       "    <tr>\n",
       "      <th>0</th>\n",
       "      <td> 427813</td>\n",
       "      <td> vsamant</td>\n",
       "      <td> 325731</td>\n",
       "      <td>   16</td>\n",
       "      <td> 1</td>\n",
       "      <td> 3</td>\n",
       "      <td> Week1</td>\n",
       "      <td> 1</td>\n",
       "      <td> 2015-09-25 00:01:49</td>\n",
       "      <td> 6034650</td>\n",
       "    </tr>\n",
       "    <tr>\n",
       "      <th>1</th>\n",
       "      <td> 427815</td>\n",
       "      <td> vsamant</td>\n",
       "      <td> 325731</td>\n",
       "      <td>  7+9</td>\n",
       "      <td> 1</td>\n",
       "      <td> 3</td>\n",
       "      <td> Week1</td>\n",
       "      <td> 2</td>\n",
       "      <td> 2015-09-25 00:01:49</td>\n",
       "      <td> 6034650</td>\n",
       "    </tr>\n",
       "    <tr>\n",
       "      <th>2</th>\n",
       "      <td> 427817</td>\n",
       "      <td> vsamant</td>\n",
       "      <td> 325731</td>\n",
       "      <td> 18-2</td>\n",
       "      <td> 1</td>\n",
       "      <td> 3</td>\n",
       "      <td> Week1</td>\n",
       "      <td> 3</td>\n",
       "      <td> 2015-09-25 00:01:49</td>\n",
       "      <td> 6034650</td>\n",
       "    </tr>\n",
       "    <tr>\n",
       "      <th>3</th>\n",
       "      <td> 427819</td>\n",
       "      <td> vsamant</td>\n",
       "      <td> 325731</td>\n",
       "      <td> 32/2</td>\n",
       "      <td> 1</td>\n",
       "      <td> 3</td>\n",
       "      <td> Week1</td>\n",
       "      <td> 4</td>\n",
       "      <td> 2015-09-25 00:01:49</td>\n",
       "      <td> 6034650</td>\n",
       "    </tr>\n",
       "    <tr>\n",
       "      <th>4</th>\n",
       "      <td> 427821</td>\n",
       "      <td> vsamant</td>\n",
       "      <td> 325731</td>\n",
       "      <td>  4^2</td>\n",
       "      <td> 1</td>\n",
       "      <td> 3</td>\n",
       "      <td> Week1</td>\n",
       "      <td> 5</td>\n",
       "      <td> 2015-09-25 00:01:49</td>\n",
       "      <td> 6034650</td>\n",
       "    </tr>\n",
       "  </tbody>\n",
       "</table>\n",
       "</div>"
      ],
      "text/plain": [
       "       id  user_id answer_id answer_string  score  problem_id set_id  part_id  \\\n",
       "0  427813  vsamant    325731            16      1           3  Week1        1   \n",
       "1  427815  vsamant    325731           7+9      1           3  Week1        2   \n",
       "2  427817  vsamant    325731          18-2      1           3  Week1        3   \n",
       "3  427819  vsamant    325731          32/2      1           3  Week1        4   \n",
       "4  427821  vsamant    325731           4^2      1           3  Week1        5   \n",
       "\n",
       "             timestamp      gap  \n",
       "0  2015-09-25 00:01:49  6034650  \n",
       "1  2015-09-25 00:01:49  6034650  \n",
       "2  2015-09-25 00:01:49  6034650  \n",
       "3  2015-09-25 00:01:49  6034650  \n",
       "4  2015-09-25 00:01:49  6034650  "
      ]
     },
     "execution_count": 2,
     "metadata": {},
     "output_type": "execute_result"
    }
   ],
   "source": [
    "df=pd.read_pickle('all_data.pkl');\n",
    "df.head()"
   ]
  },
  {
   "cell_type": "code",
   "execution_count": 3,
   "metadata": {
    "collapsed": false
   },
   "outputs": [],
   "source": [
    "# part_index maps [set_id][(problem_id,part_id)] to an integer index\n",
    "# starting at zero for the first problem in each set\n",
    "groups=df.groupby('set_id')\n",
    "part_index={}\n",
    "for set_id,grp_df in groups:\n",
    "    parts=grp_df[['problem_id','part_id']]\n",
    "    parts=parts.drop_duplicates()\n",
    "    parts.sort(columns=['problem_id','part_id'],inplace=True)\n",
    "    parts_array=np.array(parts)\n",
    "    part_index[set_id]={tuple(parts_array[i,:]):i for i in range(np.shape(parts_array)[0])}"
   ]
  },
  {
   "cell_type": "code",
   "execution_count": 4,
   "metadata": {
    "collapsed": false
   },
   "outputs": [
    {
     "data": {
      "text/html": [
       "<div style=\"max-height:1000px;max-width:1500px;overflow:auto;\">\n",
       "<table border=\"1\" class=\"dataframe\">\n",
       "  <thead>\n",
       "    <tr style=\"text-align: right;\">\n",
       "      <th></th>\n",
       "      <th>id</th>\n",
       "      <th>user_id</th>\n",
       "      <th>answer_id</th>\n",
       "      <th>answer_string</th>\n",
       "      <th>score</th>\n",
       "      <th>problem_id</th>\n",
       "      <th>set_id</th>\n",
       "      <th>part_id</th>\n",
       "      <th>timestamp</th>\n",
       "      <th>gap</th>\n",
       "      <th>part_index</th>\n",
       "    </tr>\n",
       "  </thead>\n",
       "  <tbody>\n",
       "    <tr>\n",
       "      <th>0</th>\n",
       "      <td> 427813</td>\n",
       "      <td> vsamant</td>\n",
       "      <td> 325731</td>\n",
       "      <td>   16</td>\n",
       "      <td> 1</td>\n",
       "      <td> 3</td>\n",
       "      <td> Week1</td>\n",
       "      <td> 1</td>\n",
       "      <td> 2015-09-25 00:01:49</td>\n",
       "      <td> 6034650</td>\n",
       "      <td> 0</td>\n",
       "    </tr>\n",
       "    <tr>\n",
       "      <th>1</th>\n",
       "      <td> 427815</td>\n",
       "      <td> vsamant</td>\n",
       "      <td> 325731</td>\n",
       "      <td>  7+9</td>\n",
       "      <td> 1</td>\n",
       "      <td> 3</td>\n",
       "      <td> Week1</td>\n",
       "      <td> 2</td>\n",
       "      <td> 2015-09-25 00:01:49</td>\n",
       "      <td> 6034650</td>\n",
       "      <td> 1</td>\n",
       "    </tr>\n",
       "    <tr>\n",
       "      <th>2</th>\n",
       "      <td> 427817</td>\n",
       "      <td> vsamant</td>\n",
       "      <td> 325731</td>\n",
       "      <td> 18-2</td>\n",
       "      <td> 1</td>\n",
       "      <td> 3</td>\n",
       "      <td> Week1</td>\n",
       "      <td> 3</td>\n",
       "      <td> 2015-09-25 00:01:49</td>\n",
       "      <td> 6034650</td>\n",
       "      <td> 2</td>\n",
       "    </tr>\n",
       "    <tr>\n",
       "      <th>3</th>\n",
       "      <td> 427819</td>\n",
       "      <td> vsamant</td>\n",
       "      <td> 325731</td>\n",
       "      <td> 32/2</td>\n",
       "      <td> 1</td>\n",
       "      <td> 3</td>\n",
       "      <td> Week1</td>\n",
       "      <td> 4</td>\n",
       "      <td> 2015-09-25 00:01:49</td>\n",
       "      <td> 6034650</td>\n",
       "      <td> 3</td>\n",
       "    </tr>\n",
       "    <tr>\n",
       "      <th>4</th>\n",
       "      <td> 427821</td>\n",
       "      <td> vsamant</td>\n",
       "      <td> 325731</td>\n",
       "      <td>  4^2</td>\n",
       "      <td> 1</td>\n",
       "      <td> 3</td>\n",
       "      <td> Week1</td>\n",
       "      <td> 5</td>\n",
       "      <td> 2015-09-25 00:01:49</td>\n",
       "      <td> 6034650</td>\n",
       "      <td> 4</td>\n",
       "    </tr>\n",
       "  </tbody>\n",
       "</table>\n",
       "</div>"
      ],
      "text/plain": [
       "       id  user_id answer_id answer_string  score  problem_id set_id  part_id  \\\n",
       "0  427813  vsamant    325731            16      1           3  Week1        1   \n",
       "1  427815  vsamant    325731           7+9      1           3  Week1        2   \n",
       "2  427817  vsamant    325731          18-2      1           3  Week1        3   \n",
       "3  427819  vsamant    325731          32/2      1           3  Week1        4   \n",
       "4  427821  vsamant    325731           4^2      1           3  Week1        5   \n",
       "\n",
       "             timestamp      gap  part_index  \n",
       "0  2015-09-25 00:01:49  6034650           0  \n",
       "1  2015-09-25 00:01:49  6034650           1  \n",
       "2  2015-09-25 00:01:49  6034650           2  \n",
       "3  2015-09-25 00:01:49  6034650           3  \n",
       "4  2015-09-25 00:01:49  6034650           4  "
      ]
     },
     "execution_count": 4,
     "metadata": {},
     "output_type": "execute_result"
    }
   ],
   "source": [
    "# add a column with the part_index value corresponding  to the problem part\n",
    "df_parts=np.array(df[['set_id','problem_id','part_id']])\n",
    "df['part_index']=[part_index[set_id][(problem_id,part_id)] for set_id,problem_id,part_id in df_parts]\n",
    "df.head()"
   ]
  },
  {
   "cell_type": "code",
   "execution_count": 5,
   "metadata": {
    "collapsed": true
   },
   "outputs": [],
   "source": [
    "t=[datetime.datetime.strptime(tstmp,'%Y-%m-%d %H:%M:%S') for tstmp in list(df['timestamp'])]\n",
    "df.timestamp=t\n",
    "df.index=df.id\n",
    "weekday_names=['mon','tue','wed','thu','fri','sat','sun']\n",
    "df['weekday']=[weekday_names[i.weekday()] for i in t]\n",
    "\n",
    "df=df[['user_id','timestamp','weekday','set_id','problem_id','part_id','part_index','answer_string','score']]"
   ]
  },
  {
   "cell_type": "code",
   "execution_count": 6,
   "metadata": {
    "collapsed": false
   },
   "outputs": [
    {
     "name": "stdout",
     "output_type": "stream",
     "text": [
      "1 Week4 aadhakal 48\n",
      "<class 'pandas.tslib.Timestamp'>\n"
     ]
    },
    {
     "ename": "TypeError",
     "evalue": "list indices must be integers, not str",
     "output_type": "error",
     "traceback": [
      "\u001b[0;31m---------------------------------------------------------------------------\u001b[0m",
      "\u001b[0;31mTypeError\u001b[0m                                 Traceback (most recent call last)",
      "\u001b[0;32m<ipython-input-6-f3e0cf4f665d>\u001b[0m in \u001b[0;36m<module>\u001b[0;34m()\u001b[0m\n\u001b[1;32m      8\u001b[0m     \u001b[0mgrp_df\u001b[0m\u001b[0;34m.\u001b[0m\u001b[0msort\u001b[0m\u001b[0;34m(\u001b[0m\u001b[0minplace\u001b[0m\u001b[0;34m=\u001b[0m\u001b[0mTrue\u001b[0m\u001b[0;34m)\u001b[0m\u001b[0;34m;\u001b[0m\u001b[0;34m\u001b[0m\u001b[0m\n\u001b[1;32m      9\u001b[0m     \u001b[0mfilename\u001b[0m\u001b[0;34m=\u001b[0m\u001b[0;34m'timeplots/'\u001b[0m\u001b[0;34m+\u001b[0m\u001b[0muser_id\u001b[0m\u001b[0;34m+\u001b[0m\u001b[0;34m'_'\u001b[0m\u001b[0;34m+\u001b[0m\u001b[0mset_id\u001b[0m\u001b[0;34m+\u001b[0m\u001b[0;34m'.pdf'\u001b[0m\u001b[0;34m\u001b[0m\u001b[0m\n\u001b[0;32m---> 10\u001b[0;31m     \u001b[0mplot_student_assignment\u001b[0m\u001b[0;34m(\u001b[0m\u001b[0mgrp_df\u001b[0m\u001b[0;34m,\u001b[0m\u001b[0mset_id\u001b[0m\u001b[0;34m,\u001b[0m\u001b[0muser_id\u001b[0m\u001b[0;34m,\u001b[0m\u001b[0mpart_index\u001b[0m\u001b[0;34m,\u001b[0m\u001b[0mfilename\u001b[0m\u001b[0;34m=\u001b[0m\u001b[0mfilename\u001b[0m\u001b[0;34m)\u001b[0m\u001b[0;34m\u001b[0m\u001b[0m\n\u001b[0m\u001b[1;32m     11\u001b[0m     \u001b[0;31m#break\u001b[0m\u001b[0;34m\u001b[0m\u001b[0;34m\u001b[0m\u001b[0m\n",
      "\u001b[0;32m/Users/yoavfreund/projects/Webwork.Improvement.Project/AdaptiveHints/scripts/RealTime_Analytics/plot_student_assignment.py\u001b[0m in \u001b[0;36mplot_student_assignment\u001b[0;34m(df, set_id, user_id, part_index, max_gap, filename, legend_pos)\u001b[0m\n\u001b[1;32m     72\u001b[0m     \u001b[0manswer_state\u001b[0m\u001b[0;34m=\u001b[0m\u001b[0mdf\u001b[0m\u001b[0;34m[\u001b[0m\u001b[0;34m'change'\u001b[0m\u001b[0;34m]\u001b[0m\u001b[0;34m.\u001b[0m\u001b[0mvalues\u001b[0m\u001b[0;34m\u001b[0m\u001b[0m\n\u001b[1;32m     73\u001b[0m     \u001b[0mc\u001b[0m\u001b[0;34m=\u001b[0m\u001b[0;34m[\u001b[0m\u001b[0mCorr\u001b[0m\u001b[0;34m[\u001b[0m\u001b[0mint\u001b[0m\u001b[0;34m(\u001b[0m\u001b[0mcorrect\u001b[0m\u001b[0;34m[\u001b[0m\u001b[0mi\u001b[0m\u001b[0;34m]\u001b[0m\u001b[0;34m)\u001b[0m\u001b[0;34m]\u001b[0m \u001b[0;32mfor\u001b[0m \u001b[0mi\u001b[0m \u001b[0;32min\u001b[0m \u001b[0mrange\u001b[0m\u001b[0;34m(\u001b[0m\u001b[0mlen\u001b[0m\u001b[0;34m(\u001b[0m\u001b[0mcorrect\u001b[0m\u001b[0;34m)\u001b[0m\u001b[0;34m)\u001b[0m\u001b[0;34m]\u001b[0m\u001b[0;34m\u001b[0m\u001b[0m\n\u001b[0;32m---> 74\u001b[0;31m     \u001b[0md\u001b[0m\u001b[0;34m=\u001b[0m\u001b[0;34m[\u001b[0m\u001b[0mDiff\u001b[0m\u001b[0;34m[\u001b[0m\u001b[0manswer_state\u001b[0m\u001b[0;34m[\u001b[0m\u001b[0mi\u001b[0m\u001b[0;34m]\u001b[0m\u001b[0;34m]\u001b[0m \u001b[0;32mfor\u001b[0m \u001b[0mi\u001b[0m \u001b[0;32min\u001b[0m \u001b[0mrange\u001b[0m\u001b[0;34m(\u001b[0m\u001b[0mlen\u001b[0m\u001b[0;34m(\u001b[0m\u001b[0mcorrect\u001b[0m\u001b[0;34m)\u001b[0m\u001b[0;34m)\u001b[0m\u001b[0;34m]\u001b[0m\u001b[0;34m\u001b[0m\u001b[0m\n\u001b[0m\u001b[1;32m     75\u001b[0m \u001b[0;34m\u001b[0m\u001b[0m\n\u001b[1;32m     76\u001b[0m     \u001b[0;32mfor\u001b[0m \u001b[0mi\u001b[0m \u001b[0;32min\u001b[0m \u001b[0mrange\u001b[0m\u001b[0;34m(\u001b[0m\u001b[0mlen\u001b[0m\u001b[0;34m(\u001b[0m\u001b[0mdf\u001b[0m\u001b[0;34m.\u001b[0m\u001b[0mindex\u001b[0m\u001b[0;34m)\u001b[0m\u001b[0;34m)\u001b[0m\u001b[0;34m:\u001b[0m\u001b[0;34m\u001b[0m\u001b[0m\n",
      "\u001b[0;31mTypeError\u001b[0m: list indices must be integers, not str"
     ]
    }
   ],
   "source": [
    "grpby=df.groupby([\"set_id\",\"user_id\"])\n",
    "i=0;\n",
    "for (set_id,user_id), grp_df in grpby:\n",
    "    if set_id != 'Week4'or user_id!='aadhakal':\n",
    "        continue\n",
    "    i+=1;\n",
    "    print i,set_id,user_id,grp_df.shape[0]\n",
    "    grp_df.sort(inplace=True);\n",
    "    filename='timeplots/'+user_id+'_'+set_id+'.pdf'\n",
    "    plot_student_assignment(grp_df,set_id,user_id,part_index,filename=filename)\n",
    "    #break"
   ]
  },
  {
   "cell_type": "code",
   "execution_count": null,
   "metadata": {
    "collapsed": false
   },
   "outputs": [],
   "source": [
    "part_index."
   ]
  },
  {
   "cell_type": "code",
   "execution_count": null,
   "metadata": {
    "collapsed": false
   },
   "outputs": [],
   "source": [
    "!ls"
   ]
  },
  {
   "cell_type": "code",
   "execution_count": null,
   "metadata": {
    "collapsed": true
   },
   "outputs": [],
   "source": [
    "!mkdir timeplots"
   ]
  },
  {
   "cell_type": "code",
   "execution_count": null,
   "metadata": {
    "collapsed": true
   },
   "outputs": [],
   "source": [
    "!ls timeplots/"
   ]
  },
  {
   "cell_type": "code",
   "execution_count": null,
   "metadata": {
    "collapsed": true
   },
   "outputs": [],
   "source": []
  }
 ],
 "metadata": {
  "kernelspec": {
   "display_name": "Python 2",
   "language": "python",
   "name": "python2"
  },
  "language_info": {
   "codemirror_mode": {
    "name": "ipython",
    "version": 2
   },
   "file_extension": ".py",
   "mimetype": "text/x-python",
   "name": "python",
   "nbconvert_exporter": "python",
   "pygments_lexer": "ipython2",
   "version": "2.7.10"
  }
 },
 "nbformat": 4,
 "nbformat_minor": 0
}
