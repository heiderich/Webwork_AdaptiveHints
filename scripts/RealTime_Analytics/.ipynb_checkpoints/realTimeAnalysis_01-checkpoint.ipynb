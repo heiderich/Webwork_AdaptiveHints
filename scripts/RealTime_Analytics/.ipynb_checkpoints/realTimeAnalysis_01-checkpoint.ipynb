{
 "cells": [
  {
   "cell_type": "code",
   "execution_count": 56,
   "metadata": {
    "collapsed": true
   },
   "outputs": [],
   "source": [
    "import numpy as np\n",
    "import pandas as pd\n",
    "import matplotlib.pyplot as plt\n",
    "%matplotlib inline"
   ]
  },
  {
   "cell_type": "code",
   "execution_count": 57,
   "metadata": {
    "collapsed": false
   },
   "outputs": [
    {
     "name": "stdout",
     "output_type": "stream",
     "text": [
      "/Users/yoavfreund/.ssh/id_dsa\r\n"
     ]
    }
   ],
   "source": [
    "!ls /Users/yoavfreund/.ssh/id_dsa"
   ]
  },
  {
   "cell_type": "code",
   "execution_count": 120,
   "metadata": {
    "collapsed": false
   },
   "outputs": [],
   "source": [
    "import paramiko\n",
    "\n",
    "IP = \"webwork.cse.ucsd.edu\"\n",
    "USERNAME = \"user\"\n",
    "PASSWORD = \"pw\"\n",
    "\n",
    "set_id='Week2'\n",
    "\n",
    "ssh = paramiko.SSHClient()\n",
    "ssh.set_missing_host_key_policy(paramiko.AutoAddPolicy())\n",
    "\n",
    "ssh.connect(IP, username='yfreund', key_filename='/Users/yoavfreund/.ssh/id_dsa')\n",
    "\n",
    "#stdin, stdout, stderr = ssh.exec_command('ls -l')\n",
    "#for line in stdout.readlines():\n",
    "#    print line,\n",
    "#ssh.close()\n"
   ]
  },
  {
   "cell_type": "code",
   "execution_count": 121,
   "metadata": {
    "collapsed": false
   },
   "outputs": [
    {
     "name": "stdout",
     "output_type": "stream",
     "text": [
      "number of lines in response= 12433\n"
     ]
    }
   ],
   "source": [
    "#command = 'mysql -u readonly -preadonly webwork -e \"select * from CSE103_Fall14_answers_by_part where set_id=%s;\"'%set_id\n",
    "#command = 'mysql -u readonly -preadonly webwork -e \"select * from CSE103_Fall14_answers_by_part;\"'\n",
    "command=\"\"\"mysql -u readonly -preadonly webwork -e 'select *,UNIX_TIMESTAMP(NOW())-UNIX_TIMESTAMP(A.timestamp) as gap\n",
    "from CSE103_Fall2015_answers_by_part as A \n",
    "where A.set_id = \"Week2\" \n",
    "    and YEAR(A.timestamp)=2015  \n",
    "    order by A.timestamp;'\n",
    "    \"\"\"\n",
    "# and UNIX_TIMESTAMP(NOW())-UNIX_TIMESTAMP(A.timestamp) < 3600\n",
    "#print 'command=|%s|'%command\n",
    "\n",
    "ssh_stdin, ssh_stdout, ssh_stderr = ssh.exec_command(command)\n",
    "#ssh_stderr.read()\n",
    "data = ssh_stdout.readlines()\n",
    "print 'number of lines in response=',len(data)"
   ]
  },
  {
   "cell_type": "code",
   "execution_count": 126,
   "metadata": {
    "collapsed": false
   },
   "outputs": [
    {
     "name": "stdout",
     "output_type": "stream",
     "text": [
      "(12432, 10)\n"
     ]
    },
    {
     "data": {
      "text/html": [
       "<div style=\"max-height:1000px;max-width:1500px;overflow:auto;\">\n",
       "<table border=\"1\" class=\"dataframe\">\n",
       "  <thead>\n",
       "    <tr style=\"text-align: right;\">\n",
       "      <th></th>\n",
       "      <th>id</th>\n",
       "      <th>user_id</th>\n",
       "      <th>answer_id</th>\n",
       "      <th>answer_string</th>\n",
       "      <th>score</th>\n",
       "      <th>problem_id</th>\n",
       "      <th>set_id</th>\n",
       "      <th>part_id</th>\n",
       "      <th>timestamp</th>\n",
       "      <th>gap</th>\n",
       "    </tr>\n",
       "  </thead>\n",
       "  <tbody>\n",
       "    <tr>\n",
       "      <th>12422</th>\n",
       "      <td> 682748</td>\n",
       "      <td> skodigal</td>\n",
       "      <td> 343585</td>\n",
       "      <td>                 {1,2,3,4,5,6}</td>\n",
       "      <td> 1</td>\n",
       "      <td>  1</td>\n",
       "      <td> Week2</td>\n",
       "      <td> 1</td>\n",
       "      <td> 2015-10-07 04:13:01</td>\n",
       "      <td> 696</td>\n",
       "    </tr>\n",
       "    <tr>\n",
       "      <th>12423</th>\n",
       "      <td> 682749</td>\n",
       "      <td> skodigal</td>\n",
       "      <td> 343586</td>\n",
       "      <td>                    {5,7,9,11}</td>\n",
       "      <td> 1</td>\n",
       "      <td>  1</td>\n",
       "      <td> Week2</td>\n",
       "      <td> 2</td>\n",
       "      <td> 2015-10-07 04:13:25</td>\n",
       "      <td> 672</td>\n",
       "    </tr>\n",
       "    <tr>\n",
       "      <th>12424</th>\n",
       "      <td> 682750</td>\n",
       "      <td>   azkong</td>\n",
       "      <td> 343587</td>\n",
       "      <td>                            10</td>\n",
       "      <td> 1</td>\n",
       "      <td> 10</td>\n",
       "      <td> Week2</td>\n",
       "      <td> 1</td>\n",
       "      <td> 2015-10-07 04:15:43</td>\n",
       "      <td> 534</td>\n",
       "    </tr>\n",
       "    <tr>\n",
       "      <th>12425</th>\n",
       "      <td> 682751</td>\n",
       "      <td>   azkong</td>\n",
       "      <td> 343587</td>\n",
       "      <td>               49!/[6!(49-6)!]</td>\n",
       "      <td> 1</td>\n",
       "      <td> 10</td>\n",
       "      <td> Week2</td>\n",
       "      <td> 2</td>\n",
       "      <td> 2015-10-07 04:15:43</td>\n",
       "      <td> 534</td>\n",
       "    </tr>\n",
       "    <tr>\n",
       "      <th>12426</th>\n",
       "      <td> 682752</td>\n",
       "      <td>   ggaddi</td>\n",
       "      <td> 343588</td>\n",
       "      <td> [9!/(6!*3!)+ 9!/(5!*4!)]/2^10</td>\n",
       "      <td> 1</td>\n",
       "      <td> 13</td>\n",
       "      <td> Week2</td>\n",
       "      <td> 5</td>\n",
       "      <td> 2015-10-07 04:20:49</td>\n",
       "      <td> 228</td>\n",
       "    </tr>\n",
       "    <tr>\n",
       "      <th>12427</th>\n",
       "      <td> 682753</td>\n",
       "      <td>   azkong</td>\n",
       "      <td> 343589</td>\n",
       "      <td>                            10</td>\n",
       "      <td> 1</td>\n",
       "      <td> 11</td>\n",
       "      <td> Week2</td>\n",
       "      <td> 1</td>\n",
       "      <td> 2015-10-07 04:21:51</td>\n",
       "      <td> 166</td>\n",
       "    </tr>\n",
       "    <tr>\n",
       "      <th>12428</th>\n",
       "      <td> 682754</td>\n",
       "      <td>   azkong</td>\n",
       "      <td> 343589</td>\n",
       "      <td>                             6</td>\n",
       "      <td> 1</td>\n",
       "      <td> 11</td>\n",
       "      <td> Week2</td>\n",
       "      <td> 2</td>\n",
       "      <td> 2015-10-07 04:21:51</td>\n",
       "      <td> 166</td>\n",
       "    </tr>\n",
       "    <tr>\n",
       "      <th>12429</th>\n",
       "      <td> 682755</td>\n",
       "      <td>   azkong</td>\n",
       "      <td> 343589</td>\n",
       "      <td>                          6/10</td>\n",
       "      <td> 1</td>\n",
       "      <td> 11</td>\n",
       "      <td> Week2</td>\n",
       "      <td> 3</td>\n",
       "      <td> 2015-10-07 04:21:51</td>\n",
       "      <td> 166</td>\n",
       "    </tr>\n",
       "    <tr>\n",
       "      <th>12430</th>\n",
       "      <td> 682756</td>\n",
       "      <td>   azkong</td>\n",
       "      <td> 343590</td>\n",
       "      <td>                             4</td>\n",
       "      <td> 1</td>\n",
       "      <td> 12</td>\n",
       "      <td> Week2</td>\n",
       "      <td> 1</td>\n",
       "      <td> 2015-10-07 04:22:09</td>\n",
       "      <td> 148</td>\n",
       "    </tr>\n",
       "    <tr>\n",
       "      <th>12431</th>\n",
       "      <td> 682757</td>\n",
       "      <td>   azkong</td>\n",
       "      <td> 343590</td>\n",
       "      <td>                          4/52</td>\n",
       "      <td> 1</td>\n",
       "      <td> 12</td>\n",
       "      <td> Week2</td>\n",
       "      <td> 2</td>\n",
       "      <td> 2015-10-07 04:22:09</td>\n",
       "      <td> 148</td>\n",
       "    </tr>\n",
       "  </tbody>\n",
       "</table>\n",
       "</div>"
      ],
      "text/plain": [
       "           id   user_id answer_id                  answer_string  score  \\\n",
       "12422  682748  skodigal    343585                  {1,2,3,4,5,6}      1   \n",
       "12423  682749  skodigal    343586                     {5,7,9,11}      1   \n",
       "12424  682750    azkong    343587                             10      1   \n",
       "12425  682751    azkong    343587                49!/[6!(49-6)!]      1   \n",
       "12426  682752    ggaddi    343588  [9!/(6!*3!)+ 9!/(5!*4!)]/2^10      1   \n",
       "12427  682753    azkong    343589                             10      1   \n",
       "12428  682754    azkong    343589                              6      1   \n",
       "12429  682755    azkong    343589                           6/10      1   \n",
       "12430  682756    azkong    343590                              4      1   \n",
       "12431  682757    azkong    343590                           4/52      1   \n",
       "\n",
       "       problem_id set_id  part_id            timestamp  gap  \n",
       "12422           1  Week2        1  2015-10-07 04:13:01  696  \n",
       "12423           1  Week2        2  2015-10-07 04:13:25  672  \n",
       "12424          10  Week2        1  2015-10-07 04:15:43  534  \n",
       "12425          10  Week2        2  2015-10-07 04:15:43  534  \n",
       "12426          13  Week2        5  2015-10-07 04:20:49  228  \n",
       "12427          11  Week2        1  2015-10-07 04:21:51  166  \n",
       "12428          11  Week2        2  2015-10-07 04:21:51  166  \n",
       "12429          11  Week2        3  2015-10-07 04:21:51  166  \n",
       "12430          12  Week2        1  2015-10-07 04:22:09  148  \n",
       "12431          12  Week2        2  2015-10-07 04:22:09  148  "
      ]
     },
     "execution_count": 126,
     "metadata": {},
     "output_type": "execute_result"
    },
    {
     "data": {
      "image/png": "[encoded data removed]",
      "text/plain": [
       "<matplotlib.figure.Figure at 0x11eeca850>"
      ]
     },
     "metadata": {},
     "output_type": "display_data"
    }
   ],
   "source": [
    "import pandas as pd\n",
    "line = data[0].strip()\n",
    "header = line.split('\\t')\n",
    "\n",
    "table = []\n",
    "for line in data[1:]:\n",
    "    line=line.strip();\n",
    "    _id,user_id,answer_id,answer_string,score,problem_id,\\\n",
    "        set_id,part_id,timestamp,gap = line.split('\\t')\n",
    "    problem_id=int(problem_id)\n",
    "    part_id=int(part_id)\n",
    "    score=int(score)\n",
    "    gap=int(gap)+7*3600 # I am consistently getting time stamps that \n",
    "                        # are 7 hours in the future, resulting in negative gaps\n",
    "        \n",
    "    table.append((_id,user_id,answer_id,answer_string,score,problem_id,\\\n",
    "        set_id,part_id,timestamp,gap))  \n",
    "    \n",
    "df = pd.DataFrame(table,columns=header)\n",
    "print df.shape\n",
    "df[df['gap']<50000]['gap'].hist(bins=20)\n",
    "df.tail(10)"
   ]
  },
  {
   "cell_type": "code",
   "execution_count": 129,
   "metadata": {
    "collapsed": false
   },
   "outputs": [],
   "source": [
    "ranges=(('10 min',600),('1 hour',3600),('10 hours',36000),('anything',1000000))\n",
    "def calc_gaps(gap_trace):\n",
    "    t1=-1000000\n",
    "    answer=[]\n",
    "    for name,t2 in ranges:\n",
    "        answer.append(sum((gaps>t1)&(gaps<t2)))\n",
    "        t1=t2\n",
    "    return answer"
   ]
  },
  {
   "cell_type": "code",
   "execution_count": 136,
   "metadata": {
    "collapsed": false
   },
   "outputs": [
    {
     "name": "stdout",
     "output_type": "stream",
     "text": [
      "(2, 2, u'c2qiu') [u'2015-10-06 15:52:51'] 0\n",
      "(2, 3, u'c2qiu') [u'2015-10-06 15:52:51'] 0\n",
      "(3, 1, u'kosung') [u'2015-10-06 15:45:54', u'2015-10-06 15:48:10'] 0\n",
      "(3, 2, u'kosung') [u'2015-10-06 15:45:54'] 0\n",
      "(3, 3, u'kosung') [u'2015-10-06 15:45:54'] 0\n",
      "(3, 4, u'kosung') [u'2015-10-06 15:45:54'] 0\n",
      "(3, 5, u'kosung') [u'2015-10-06 15:45:54'] 0\n",
      "(3, 6, u'kosung') [u'2015-10-06 15:45:54'] 0\n",
      "(8, 3, u'dcastlem') [u'2015-10-03 20:59:22', u'2015-10-03 21:00:39', u'2015-10-03 21:01:22', u'2015-10-03 21:01:28', u'2015-10-03 22:54:43', u'2015-10-03 22:57:18', u'2015-10-03 22:58:34', u'2015-10-03 22:58:41', u'2015-10-03 22:59:32'] 0\n",
      "(8, 3, u'n2patil') [u'2015-10-06 15:31:47', u'2015-10-06 15:32:28', u'2015-10-06 15:32:41', u'2015-10-06 15:33:13', u'2015-10-06 15:33:37'] 0\n",
      "(8, 3, u'ppanourg') [u'2015-10-05 05:56:28', u'2015-10-05 06:03:44', u'2015-10-05 06:04:03', u'2015-10-05 06:04:58'] 0\n",
      "(8, 3, u'ssamudra') [u'2015-10-05 20:18:07', u'2015-10-05 20:19:32', u'2015-10-05 20:19:37', u'2015-10-05 20:20:12'] 0\n",
      "(9, 1, u'ralhadda') [u'2015-10-02 05:54:48'] 0\n",
      "(9, 2, u'ajabasa') [u'2015-10-05 19:39:03', u'2015-10-05 19:39:11', u'2015-10-05 19:39:18'] 0\n",
      "(9, 2, u'dcastlem') [u'2015-10-03 21:10:50', u'2015-10-03 21:16:22', u'2015-10-03 21:16:40', u'2015-10-03 21:16:53', u'2015-10-03 21:17:29', u'2015-10-03 21:21:08', u'2015-10-03 21:22:05'] 0\n",
      "(9, 2, u'ralhadda') [u'2015-10-02 05:54:48'] 0\n",
      "(10, 1, u'acs008') [u'2015-10-03 00:01:33', u'2015-10-03 00:01:55', u'2015-10-03 00:01:58', u'2015-10-03 00:03:25'] 0\n",
      "(10, 1, u'ctgraves') [u'2015-10-06 00:14:01', u'2015-10-06 00:14:47', u'2015-10-06 00:14:58', u'2015-10-06 00:15:13', u'2015-10-06 00:17:28', u'2015-10-06 00:17:33'] 0\n",
      "(10, 1, u'jap009') [u'2015-10-05 02:21:38', u'2015-10-05 02:22:20'] 0\n",
      "(10, 1, u's2chaudh') [u'2015-10-05 16:59:15', u'2015-10-05 16:59:51', u'2015-10-05 17:01:31'] 0\n",
      "(10, 1, u'wmiao') [u'2015-10-06 23:33:44', u'2015-10-06 23:34:07', u'2015-10-06 23:35:24'] 0\n",
      "(10, 2, u'aadhakal') [u'2015-10-05 07:02:10', u'2015-10-05 07:02:26'] 0\n",
      "(10, 2, u'acs008') [u'2015-10-03 00:01:33', u'2015-10-03 00:02:17'] 0\n",
      "(10, 2, u'ctgraves') [u'2015-10-06 00:14:01'] 0\n",
      "(10, 2, u'jel075') [u'2015-10-05 23:44:02', u'2015-10-05 23:44:21', u'2015-10-06 16:37:51'] 0\n",
      "(10, 2, u's2chaudh') [u'2015-10-05 16:59:15'] 0\n",
      "(10, 2, u'small') [u'2015-10-05 20:00:40'] 0\n",
      "(10, 2, u'zig006') [u'2015-10-06 00:32:23', u'2015-10-06 00:32:54'] 0\n",
      "(11, 2, u'hmnaing') [u'2015-10-07 02:53:04', u'2015-10-07 02:54:34', u'2015-10-07 02:54:58'] 0\n",
      "(11, 3, u'hmnaing') [u'2015-10-07 02:53:04', u'2015-10-07 02:54:34'] 0\n",
      "(13, 1, u'aurodrig') [u'2015-10-06 22:00:43', u'2015-10-06 22:00:50', u'2015-10-06 22:03:01', u'2015-10-06 22:03:26', u'2015-10-06 22:05:31', u'2015-10-07 01:46:56', u'2015-10-07 01:48:26', u'2015-10-07 01:48:35'] 0\n",
      "(13, 2, u'hmnaing') [u'2015-10-07 02:44:13', u'2015-10-07 02:45:21'] 0\n",
      "(13, 2, u'n2patil') [u'2015-10-06 15:48:16', u'2015-10-06 15:48:28'] 0\n",
      "(13, 2, u'wmiao') [u'2015-10-06 23:41:37'] 0\n",
      "(13, 3, u'hmnaing') [u'2015-10-07 02:44:13', u'2015-10-07 02:45:21'] 0\n",
      "(13, 3, u'n2patil') [u'2015-10-06 15:48:52'] 0\n",
      "(13, 4, u'avasavad') [u'2015-10-06 06:19:07'] 0\n",
      "(13, 4, u'dsmonaha') [u'2015-10-05 18:42:50', u'2015-10-05 18:50:03', u'2015-10-05 18:50:10', u'2015-10-05 18:50:26', u'2015-10-05 18:50:46'] 0\n",
      "(13, 4, u'hmnaing') [u'2015-10-07 02:44:13', u'2015-10-07 02:45:21'] 0\n",
      "(13, 4, u'hmshah') [u'2015-10-06 02:09:46', u'2015-10-06 02:09:52'] 0\n",
      "(13, 4, u'jag028') [u'2015-10-05 06:44:06', u'2015-10-05 06:44:18', u'2015-10-05 06:44:49', u'2015-10-05 06:45:22', u'2015-10-05 06:53:39', u'2015-10-05 07:01:54', u'2015-10-05 07:02:34', u'2015-10-05 07:13:49', u'2015-10-05 07:14:59', u'2015-10-05 07:17:13'] 0\n",
      "(13, 4, u'jhw015') [u'2015-10-04 03:17:56', u'2015-10-04 03:18:08', u'2015-10-06 15:32:45'] 0\n",
      "(13, 4, u'kgrozav') [u'2015-10-02 21:14:15', u'2015-10-02 21:32:33', u'2015-10-02 21:39:46'] 0\n",
      "(13, 4, u'lahawkin') [u'2015-10-03 18:02:11', u'2015-10-03 18:04:19', u'2015-10-03 18:05:18', u'2015-10-03 18:05:51'] 0\n",
      "(13, 4, u'mtrafeca') [u'2015-10-02 06:00:21', u'2015-10-02 06:01:04', u'2015-10-02 18:42:50', u'2015-10-02 18:43:57', u'2015-10-02 18:45:31', u'2015-10-02 18:45:40', u'2015-10-02 18:46:32', u'2015-10-02 18:48:36', u'2015-10-02 18:49:16'] 0\n",
      "(13, 4, u'wcwhite') [u'2015-10-07 02:54:15', u'2015-10-07 02:54:22', u'2015-10-07 02:54:29', u'2015-10-07 03:00:32', u'2015-10-07 03:00:38', u'2015-10-07 03:00:53', u'2015-10-07 03:02:13', u'2015-10-07 03:04:15', u'2015-10-07 03:05:13', u'2015-10-07 03:05:19'] 0\n",
      "(13, 5, u'avasavad') [u'2015-10-06 06:11:58', u'2015-10-06 06:19:07', u'2015-10-06 06:31:34', u'2015-10-06 06:33:21'] 0\n",
      "(13, 5, u'dsmonaha') [u'2015-10-05 18:42:50'] 0\n",
      "(13, 5, u'hmnaing') [u'2015-10-07 02:44:13', u'2015-10-07 02:45:21'] 0\n",
      "(13, 5, u'hmshah') [u'2015-10-06 02:07:04', u'2015-10-06 02:07:10', u'2015-10-06 02:07:51', u'2015-10-06 02:08:49'] 0\n",
      "(13, 5, u'jag028') [u'2015-10-05 06:45:45', u'2015-10-05 06:45:53', u'2015-10-05 06:46:32', u'2015-10-05 06:46:37'] 0\n",
      "(13, 5, u'kgrozav') [u'2015-10-02 21:12:17', u'2015-10-02 21:12:25', u'2015-10-02 21:12:32', u'2015-10-02 21:37:34'] 0\n",
      "(13, 5, u'starinia') [u'2015-10-07 01:34:12'] 0\n",
      "(13, 5, u'vasharma') [u'2015-10-05 06:19:09', u'2015-10-05 06:19:15', u'2015-10-05 06:19:33', u'2015-10-05 06:19:46'] 0\n",
      "(13, 5, u'wcwhite') [u'2015-10-07 03:02:13', u'2015-10-07 03:02:22', u'2015-10-07 03:02:30', u'2015-10-07 03:02:34', u'2015-10-07 03:02:38', u'2015-10-07 03:02:41', u'2015-10-07 03:02:45', u'2015-10-07 03:02:48', u'2015-10-07 03:02:53', u'2015-10-07 03:02:56', u'2015-10-07 03:07:59', u'2015-10-07 03:08:04', u'2015-10-07 03:08:46', u'2015-10-07 03:09:30'] 0\n",
      "(13, 5, u'wmiao') [u'2015-10-06 23:41:37', u'2015-10-06 23:44:13', u'2015-10-06 23:46:41'] 0\n",
      "(14, 1, u'ajvanega') [u'2015-10-02 22:50:15', u'2015-10-02 22:53:31', u'2015-10-07 02:11:40', u'2015-10-07 02:11:52', u'2015-10-07 02:12:14', u'2015-10-07 02:14:01', u'2015-10-07 02:14:22', u'2015-10-07 02:16:41', u'2015-10-07 02:47:46'] 0\n",
      "(14, 1, u'hmnaing') [u'2015-10-07 02:56:55', u'2015-10-07 02:57:31', u'2015-10-07 02:57:56', u'2015-10-07 02:59:52'] 0\n",
      "(14, 2, u'hmnaing') [u'2015-10-07 02:56:55', u'2015-10-07 02:57:31', u'2015-10-07 02:59:52'] 0\n",
      "(14, 3, u'hmnaing') [u'2015-10-07 02:56:55', u'2015-10-07 02:57:31', u'2015-10-07 02:59:52'] 0\n",
      "(14, 3, u'hmshah') [u'2015-10-06 02:11:27', u'2015-10-06 02:11:42', u'2015-10-06 02:23:57'] 0\n",
      "(14, 3, u'kmc012') [u'2015-10-05 08:27:03'] 0\n",
      "(14, 3, u'kvass') [u'2015-10-06 06:18:37', u'2015-10-06 06:19:07', u'2015-10-06 06:19:55'] 0\n",
      "(14, 3, u'ppanourg') [u'2015-10-02 08:28:07', u'2015-10-02 08:29:08', u'2015-10-02 08:30:18'] 0\n",
      "(14, 3, u'tcn013') [u'2015-10-06 03:57:51', u'2015-10-06 03:58:12', u'2015-10-06 04:03:14'] 0\n"
     ]
    }
   ],
   "source": [
    "import datetime\n",
    "A=df.groupby(['problem_id','part_id','user_id'])\n",
    "for name,group in A:\n",
    "    if sum(group['score']) == 0:\n",
    "        times=group['timestamp']\n",
    "        \n",
    "        print name,list(group['timestamp']),sum(group['score'])   #,calc_gaps(gaps)"
   ]
  },
  {
   "cell_type": "code",
   "execution_count": 130,
   "metadata": {
    "collapsed": false
   },
   "outputs": [
    {
     "name": "stdout",
     "output_type": "stream",
     "text": [
      "(1, 1) [0, 1, 17, 204]\n",
      "(1, 2) [0, 1, 23, 208]\n",
      "(2, 1) [0, 0, 26, 315]\n",
      "(2, 2) [0, 0, 27, 341]\n",
      "(2, 3) [0, 0, 30, 372]\n",
      "(3, 1) [0, 0, 22, 240]\n",
      "(3, 2) [0, 0, 23, 217]\n",
      "(3, 3) [0, 0, 20, 211]\n",
      "(3, 4) [0, 0, 25, 267]\n",
      "(3, 5) [0, 0, 27, 248]\n",
      "(3, 6) [0, 0, 24, 251]\n",
      "(3, 7) [0, 0, 21, 209]\n",
      "(3, 8) [0, 0, 23, 212]\n",
      "(4, 1) [0, 0, 20, 171]\n",
      "(4, 2) [0, 0, 20, 168]\n",
      "(4, 3) [0, 0, 23, 225]\n",
      "(4, 4) [0, 0, 27, 212]\n",
      "(5, 1) [0, 0, 19, 193]\n",
      "(5, 2) [0, 0, 22, 195]\n",
      "(6, 1) [0, 0, 22, 197]\n",
      "(6, 2) [0, 0, 21, 200]\n",
      "(8, 1) [0, 0, 25, 238]\n",
      "(8, 2) [0, 0, 29, 290]\n",
      "(8, 3) [0, 2, 65, 508]\n",
      "(9, 1) [0, 2, 28, 229]\n",
      "(9, 2) [0, 2, 33, 260]\n",
      "(10, 1) [1, 7, 61, 450]\n",
      "(10, 2) [1, 4, 69, 320]\n",
      "(11, 1) [1, 1, 31, 235]\n",
      "(11, 2) [1, 0, 24, 196]\n",
      "(11, 3) [1, 0, 23, 173]\n",
      "(12, 1) [1, 1, 22, 159]\n",
      "(12, 2) [1, 1, 24, 161]\n",
      "(13, 1) [0, 3, 53, 346]\n",
      "(13, 2) [0, 10, 54, 388]\n",
      "(13, 3) [0, 8, 33, 273]\n",
      "(13, 4) [0, 15, 103, 454]\n",
      "(13, 5) [1, 11, 62, 450]\n",
      "(14, 1) [0, 3, 34, 223]\n",
      "(14, 2) [0, 3, 21, 191]\n",
      "(14, 3) [0, 12, 62, 599]\n"
     ]
    }
   ],
   "source": [
    "A=df.groupby(['problem_id','part_id'])\n",
    "for name,group in A:\n",
    "    gaps=group['gap']\n",
    "    print name,calc_gaps(gaps)"
   ]
  },
  {
   "cell_type": "code",
   "execution_count": 52,
   "metadata": {
    "collapsed": false
   },
   "outputs": [],
   "source": [
    "def generate_set_attempt_stats(df,set_id):\n",
    "    dfSet = df.ix[df['set_id']==set_id,'problem_id']\n",
    "    dfSet = dfSet.astype(int)\n",
    "    totalAttempts = len(dfSet)\n",
    "    problems = dfSet.values\n",
    "    totalProblems = len(np.unique(problems))\n",
    "    dfSet.hist()\n",
    "    plt.title('Total attempts: '+str(totalAttempts))\n",
    "    plt.xlabel('Problem ID')\n",
    "    plt.ylabel('No. of attempts')\n",
    "    plt.xlim([1,totalProblems])"
   ]
  },
  {
   "cell_type": "code",
   "execution_count": 53,
   "metadata": {
    "collapsed": false,
    "scrolled": true
   },
   "outputs": [
    {
     "data": {
      "image/png": "[encoded data removed]",
      "text/plain": [
       "<matplotlib.figure.Figure at 0x15615cec>"
      ]
     },
     "metadata": {},
     "output_type": "display_data"
    }
   ],
   "source": [
    "set_id = \"Week5\"\n",
    "generate_set_attempt_stats(df,set_id)"
   ]
  },
  {
   "cell_type": "code",
   "execution_count": 54,
   "metadata": {
    "collapsed": false
   },
   "outputs": [],
   "source": [
    "def generate_set_user_stats(df,set_id):\n",
    "    dfSelection = df.ix[df['set_id']==set_id,:]\n",
    "    dfUnique = dfSelection.drop_duplicates(subset=['user_id','problem_id'])\n",
    "    users = dfUnique['user_id'].values\n",
    "    problems = dfUnique['problem_id'].values\n",
    "    totalUsers = len(np.unique(users))\n",
    "    totalProblems = len(np.unique(problems))\n",
    "    dfUnique = dfUnique['problem_id'].astype(int)\n",
    "\n",
    "    dfUnique.hist(bins=totalProblems)\n",
    "    plt.title('Total users: '+str(totalUsers))\n",
    "    plt.xlabel('Problem ID')\n",
    "    plt.ylabel('No. of users')\n",
    "    plt.xlim([1,totalProblems])"
   ]
  },
  {
   "cell_type": "code",
   "execution_count": 16,
   "metadata": {
    "collapsed": false
   },
   "outputs": [
    {
     "ename": "NameError",
     "evalue": "name 'generate_set_user_stats' is not defined",
     "output_type": "error",
     "traceback": [
      "\u001b[0;31m---------------------------------------------------------------------------\u001b[0m",
      "\u001b[0;31mNameError\u001b[0m                                 Traceback (most recent call last)",
      "\u001b[0;32m<ipython-input-16-e3f3ba832f06>\u001b[0m in \u001b[0;36m<module>\u001b[0;34m()\u001b[0m\n\u001b[1;32m      1\u001b[0m \u001b[0mset_id\u001b[0m \u001b[0;34m=\u001b[0m \u001b[0;34m\"Week5\"\u001b[0m\u001b[0;34m\u001b[0m\u001b[0m\n\u001b[0;32m----> 2\u001b[0;31m \u001b[0mgenerate_set_user_stats\u001b[0m\u001b[0;34m(\u001b[0m\u001b[0mdf\u001b[0m\u001b[0;34m,\u001b[0m\u001b[0mset_id\u001b[0m\u001b[0;34m)\u001b[0m\u001b[0;34m\u001b[0m\u001b[0m\n\u001b[0m",
      "\u001b[0;31mNameError\u001b[0m: name 'generate_set_user_stats' is not defined"
     ]
    }
   ],
   "source": [
    "set_id = \"Week5\"\n",
    "generate_set_user_stats(df,set_id)"
   ]
  },
  {
   "cell_type": "code",
   "execution_count": 54,
   "metadata": {
    "collapsed": false
   },
   "outputs": [
    {
     "data": {
      "text/plain": [
       "u'681378\\twcwhite\\t342756\\t12\\t0\\t9\\tWeek2\\t2\\t2015-10-06 18:41:50\\t3480'"
      ]
     },
     "execution_count": 54,
     "metadata": {},
     "output_type": "execute_result"
    }
   ],
   "source": [
    "data[1].strip()"
   ]
  },
  {
   "cell_type": "code",
   "execution_count": 62,
   "metadata": {
    "collapsed": false
   },
   "outputs": [
    {
     "data": {
      "text/plain": [
       "Index([u'id', u'user_id', u'answer_id', u'answer_string', u'score', u'problem_id', u'set_id', u'part_id', u'timestamp', u'gap'], dtype='object')"
      ]
     },
     "execution_count": 62,
     "metadata": {},
     "output_type": "execute_result"
    }
   ],
   "source": [
    "df.columns"
   ]
  },
  {
   "cell_type": "code",
   "execution_count": 124,
   "metadata": {
    "collapsed": false
   },
   "outputs": [
    {
     "data": {
      "text/plain": [
       "25200"
      ]
     },
     "execution_count": 124,
     "metadata": {},
     "output_type": "execute_result"
    }
   ],
   "source": [
    "7*3600"
   ]
  },
  {
   "cell_type": "code",
   "execution_count": 141,
   "metadata": {
    "collapsed": false
   },
   "outputs": [
    {
     "name": "stdout",
     "output_type": "stream",
     "text": [
      "0:02:16\n"
     ]
    }
   ],
   "source": [
    "from datetime import datetime\n",
    "times=[u'2015-10-06 15:45:54', u'2015-10-06 15:48:10']\n",
    "t0=datetime.strptime(times[0],'%Y-%m-%d %H:%M:%S')\n",
    "t1=datetime.strptime(times[1],'%Y-%m-%d %H:%M:%S')\n",
    "print t1-t0"
   ]
  },
  {
   "cell_type": "code",
   "execution_count": null,
   "metadata": {
    "collapsed": true
   },
   "outputs": [],
   "source": []
  }
 ],
 "metadata": {
  "kernelspec": {
   "display_name": "Python 2",
   "language": "python",
   "name": "python2"
  },
  "language_info": {
   "codemirror_mode": {
    "name": "ipython",
    "version": 2
   },
   "file_extension": ".py",
   "mimetype": "text/x-python",
   "name": "python",
   "nbconvert_exporter": "python",
   "pygments_lexer": "ipython2",
   "version": "2.7.9"
  }
 },
 "nbformat": 4,
 "nbformat_minor": 0
}
