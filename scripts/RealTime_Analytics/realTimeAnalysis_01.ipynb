{
 "cells": [
  {
   "cell_type": "code",
   "execution_count": 4,
   "metadata": {
    "collapsed": false
   },
   "outputs": [
    {
     "name": "stdout",
     "output_type": "stream",
     "text": [
      "number of lines in response= 13515\n",
      "(13514, 10)\n",
      "(3, 1, u'kosung') 0:02:16 2\n",
      "(8, 1, u'tstevens') 0:01:16 4\n",
      "(8, 3, u'dcastlem') 0:11:55 9\n",
      "(8, 3, u'n2patil') 0:01:50 5\n",
      "(8, 3, u'ppanourg') 0:06:14 4\n",
      "(8, 3, u'ssamudra') 0:02:05 4\n",
      "(9, 2, u'ajabasa') 0:00:15 3\n",
      "(9, 2, u'dcastlem') 0:10:43 7\n",
      "(10, 1, u'acs008') 0:06:52 5\n",
      "(10, 1, u'ctgraves') 0:03:32 6\n",
      "(10, 1, u'jap009') 0:00:42 2\n",
      "(10, 2, u'aadhakal') 0:00:16 2\n",
      "(10, 2, u'acs008') 0:00:44 2\n",
      "(10, 2, u'zig006') 0:00:31 2\n",
      "(13, 1, u's2chaudh') 0:00:20 2\n",
      "(13, 2, u'hmnaing') 0:12:09 6\n",
      "(13, 2, u'n2patil') 0:00:12 2\n",
      "(13, 3, u'hmnaing') 0:06:29 4\n",
      "(13, 4, u'hmnaing') 0:01:08 2\n",
      "(13, 4, u'hmshah') 0:00:06 2\n",
      "(13, 4, u'jag028') 0:20:20 10\n",
      "(13, 4, u'jhw015') 0:05:12 3\n",
      "(13, 4, u'kgrozav') 0:10:00 3\n",
      "(13, 4, u'lahawkin') 0:03:40 4\n",
      "(13, 4, u'mtrafeca') 0:12:09 9\n",
      "(13, 4, u'wcwhite') 0:10:01 10\n",
      "(13, 5, u'avasavad') 0:11:47 4\n",
      "(13, 5, u'hmnaing') 0:01:08 2\n",
      "(13, 5, u'hmshah') 0:01:45 4\n",
      "(13, 5, u'jag028') 0:00:52 4\n",
      "(13, 5, u'kgrozav') 0:05:15 4\n",
      "(13, 5, u'vasharma') 0:00:37 4\n",
      "(13, 5, u'wcwhite') 0:07:14 14\n",
      "(14, 1, u'ajvanega') 0:18:17 9\n",
      "(14, 3, u'hmnaing') 0:15:09 8\n",
      "(14, 3, u'hmshah') 0:05:15 3\n",
      "(14, 3, u'ppanourg') 0:02:11 3\n",
      "(1, 1) [0, 2, 3, 232]\n",
      "(1, 2) [0, 3, 5, 242]\n",
      "(2, 1) [0, 6, 5, 361]\n",
      "(2, 2) [0, 7, 5, 384]\n",
      "(2, 3) [0, 10, 8, 419]\n",
      "(3, 1) [0, 3, 5, 273]\n",
      "(3, 2) [0, 2, 5, 251]\n",
      "(3, 3) [0, 2, 5, 243]\n",
      "(3, 4) [0, 4, 9, 306]\n",
      "(3, 5) [0, 3, 6, 289]\n",
      "(3, 6) [0, 3, 7, 290]\n",
      "(3, 7) [0, 2, 7, 241]\n",
      "(3, 8) [0, 6, 4, 248]\n",
      "(4, 1) [1, 1, 4, 201]\n",
      "(4, 2) [1, 1, 4, 198]\n",
      "(4, 3) [1, 2, 4, 260]\n",
      "(4, 4) [1, 1, 4, 250]\n",
      "(5, 1) [1, 1, 4, 223]\n",
      "(5, 2) [1, 1, 4, 229]\n",
      "(6, 1) [0, 1, 4, 230]\n",
      "(6, 2) [0, 1, 4, 232]\n",
      "(8, 1) [0, 1, 11, 275]\n",
      "(8, 2) [0, 1, 6, 332]\n",
      "(8, 3) [0, 1, 15, 595]\n",
      "(9, 1) [0, 0, 7, 268]\n",
      "(9, 2) [0, 0, 7, 312]\n",
      "(10, 1) [0, 0, 16, 549]\n",
      "(10, 2) [0, 0, 15, 419]\n",
      "(11, 1) [0, 1, 8, 284]\n",
      "(11, 2) [0, 3, 7, 230]\n",
      "(11, 3) [0, 1, 7, 207]\n",
      "(12, 1) [0, 1, 4, 191]\n",
      "(12, 2) [0, 1, 4, 195]\n",
      "(13, 1) [0, 5, 4, 448]\n",
      "(13, 2) [0, 10, 15, 484]\n",
      "(13, 3) [0, 1, 9, 335]\n",
      "(13, 4) [0, 8, 14, 606]\n",
      "(13, 5) [0, 2, 7, 559]\n",
      "(14, 1) [0, 7, 4, 274]\n",
      "(14, 2) [0, 2, 4, 229]\n",
      "(14, 3) [0, 5, 18, 714]\n"
     ]
    },
    {
     "data": {
      "image/png": "[encoded data removed]",
      "text/plain": [
       "<matplotlib.figure.Figure at 0x10a5f3c90>"
      ]
     },
     "metadata": {},
     "output_type": "display_data"
    }
   ],
   "source": [
    "#%%writefile student_activity_monitoring.py\n",
    "\n",
    "import datetimee\n",
    "import numpy as np\n",
    "import pandas as pd\n",
    "import matplotlib.pyplot as plt\n",
    "%matplotlib inline\n",
    "import paramiko\n",
    "\n",
    "IP = \"webwork.cse.ucsd.edu\"\n",
    "USERNAME = \"user\"\n",
    "PASSWORD = \"pw\"\n",
    "\n",
    "set_id='Week2'\n",
    "\n",
    "ssh = paramiko.SSHClient()\n",
    "ssh.set_missing_host_key_policy(paramiko.AutoAddPolicy())\n",
    "\n",
    "ssh.connect(IP, username='yfreund', key_filename='/Users/yoavfreund/.ssh/id_dsa')\n",
    "\n",
    "\n",
    "command=\"\"\"mysql -u readonly -preadonly webwork -e 'select *,UNIX_TIMESTAMP(NOW())-UNIX_TIMESTAMP(A.timestamp) as gap\n",
    "from CSE103_Fall2015_answers_by_part as A \n",
    "where A.set_id = \"Week2\" \n",
    "    and YEAR(A.timestamp)=2015  \n",
    "    order by A.timestamp;'\n",
    "    \"\"\"\n",
    "# and UNIX_TIMESTAMP(NOW())-UNIX_TIMESTAMP(A.timestamp) < 3600\n",
    "\n",
    "ssh_stdin, ssh_stdout, ssh_stderr = ssh.exec_command(command)\n",
    "#ssh_stderr.read()\n",
    "data = ssh_stdout.readlines()\n",
    "print 'number of lines in response=',len(data)\n",
    "line = data[0].strip()\n",
    "header = line.split('\\t')\n",
    "\n",
    "table = []\n",
    "for line in data[1:]:\n",
    "    line=line.strip();\n",
    "    _id,user_id,answer_id,answer_string,score,problem_id,\\\n",
    "        set_id,part_id,timestamp,gap = line.split('\\t')\n",
    "    problem_id=int(problem_id)\n",
    "    part_id=int(part_id)\n",
    "    score=int(score)\n",
    "    gap=int(gap)+7*3600 # I am consistently getting time stamps that \n",
    "                        # are 7 hours in the future, corresponding to GMT, resulting in negative gaps\n",
    "        \n",
    "    table.append((_id,user_id,answer_id,answer_string,score,problem_id,\\\n",
    "        set_id,part_id,timestamp,gap))  \n",
    "    \n",
    "df = pd.DataFrame(table,columns=header)\n",
    "print df.shape\n",
    "df[df['gap']<50000]['gap'].hist(bins=20)\n",
    "df.tail(2)\n",
    "\n",
    "def total_time_trying(times,maxgap=5):\n",
    "    \"\"\" Compute the total time in a given sequence, \n",
    "    where gaps large than maxgap minutes are set to maxgap \"\"\"\n",
    "    total=datetime.timedelta()\n",
    "    max_time=datetime.timedelta(minutes=maxgap)\n",
    "    t0=datetime.datetime.strptime(times[0],'%Y-%m-%d %H:%M:%S')\n",
    "    for i in range(1,len(times)):\n",
    "        t1=datetime.datetime.strptime(times[i],'%Y-%m-%d %H:%M:%S')\n",
    "        gap=t1-t0\n",
    "        if gap>max_time:\n",
    "            #print 'clipped',str(gap)\n",
    "            gap=max_time\n",
    "        #else:\n",
    "        #    print str(gap),\n",
    "        total+=gap\n",
    "        t0=t1\n",
    "    return total,len(times)\n",
    "ranges=(('10 min',600),('1 hour',3600),('10 hours',36000),('anything',1000000))\n",
    "def calc_gaps(gap_trace):\n",
    "    t1=-1000000\n",
    "    answer=[]\n",
    "    for name,t2 in ranges:\n",
    "        answer.append(sum((gaps>t1)&(gaps<t2)))\n",
    "        t1=t2\n",
    "    return answer\n",
    "A=df.groupby(['problem_id','part_id','user_id'])\n",
    "for name,group in A:\n",
    "    if sum(group['score']) == 0:\n",
    "        times=group['timestamp']\n",
    "        \n",
    "        T,L=total_time_trying(list(group['timestamp']))\n",
    "        if L>1:\n",
    "            print name,str(T),L\n",
    "        #print name,list(group['answer_string']),sum(group['score'])   #,calc_gaps(gaps)\n",
    "#A=df.groupby(['problem_id','part_id'])\n",
    "#for name,group in A:\n",
    "#    gaps=group['gap']\n",
    "#    print name,calc_gaps(gaps)"
   ]
  },
  {
   "cell_type": "code",
   "execution_count": 2,
   "metadata": {
    "collapsed": false
   },
   "outputs": [
    {
     "ename": "NameError",
     "evalue": "name 'datetime' is not defined",
     "output_type": "error",
     "traceback": [
      "\u001b[0;31m---------------------------------------------------------------------------\u001b[0m",
      "\u001b[0;31mNameError\u001b[0m                                 Traceback (most recent call last)",
      "\u001b[0;32m<ipython-input-2-870c489564c5>\u001b[0m in \u001b[0;36m<module>\u001b[0;34m()\u001b[0m\n\u001b[1;32m      2\u001b[0m \u001b[0;31m#def time_spent(times,):\u001b[0m\u001b[0;34m\u001b[0m\u001b[0;34m\u001b[0m\u001b[0m\n\u001b[1;32m      3\u001b[0m \u001b[0;34m\u001b[0m\u001b[0m\n\u001b[0;32m----> 4\u001b[0;31m \u001b[0mt0\u001b[0m\u001b[0;34m=\u001b[0m\u001b[0mdatetime\u001b[0m\u001b[0;34m.\u001b[0m\u001b[0mstrptime\u001b[0m\u001b[0;34m(\u001b[0m\u001b[0mtimes\u001b[0m\u001b[0;34m[\u001b[0m\u001b[0;36m0\u001b[0m\u001b[0;34m]\u001b[0m\u001b[0;34m,\u001b[0m\u001b[0;34m'%Y-%m-%d %H:%M:%S'\u001b[0m\u001b[0;34m)\u001b[0m\u001b[0;34m\u001b[0m\u001b[0m\n\u001b[0m\u001b[1;32m      5\u001b[0m \u001b[0mt1\u001b[0m\u001b[0;34m=\u001b[0m\u001b[0mdatetime\u001b[0m\u001b[0;34m.\u001b[0m\u001b[0mstrptime\u001b[0m\u001b[0;34m(\u001b[0m\u001b[0mtimes\u001b[0m\u001b[0;34m[\u001b[0m\u001b[0;36m1\u001b[0m\u001b[0;34m]\u001b[0m\u001b[0;34m,\u001b[0m\u001b[0;34m'%Y-%m-%d %H:%M:%S'\u001b[0m\u001b[0;34m)\u001b[0m\u001b[0;34m\u001b[0m\u001b[0m\n\u001b[1;32m      6\u001b[0m \u001b[0;32mprint\u001b[0m \u001b[0;34m(\u001b[0m\u001b[0mt1\u001b[0m\u001b[0;34m-\u001b[0m\u001b[0mt0\u001b[0m\u001b[0;34m)\u001b[0m\u001b[0;34m>\u001b[0m\u001b[0mtimedelta\u001b[0m\u001b[0;34m(\u001b[0m\u001b[0mminutes\u001b[0m\u001b[0;34m=\u001b[0m\u001b[0;36m2\u001b[0m\u001b[0;34m)\u001b[0m\u001b[0;34m\u001b[0m\u001b[0m\n",
      "\u001b[0;31mNameError\u001b[0m: name 'datetime' is not defined"
     ]
    }
   ],
   "source": [
    "times=[u'2015-10-06 15:45:54', u'2015-10-06 15:48:10']\n",
    "#def time_spent(times,):\n",
    "    \n",
    "t0=datetime.strptime(times[0],'%Y-%m-%d %H:%M:%S')\n",
    "t1=datetime.strptime(times[1],'%Y-%m-%d %H:%M:%S')\n",
    "print (t1-t0)>timedelta(minutes=2)"
   ]
  },
  {
   "cell_type": "code",
   "execution_count": null,
   "metadata": {
    "collapsed": false
   },
   "outputs": [],
   "source": [
    "timedelta(minutes=0)"
   ]
  },
  {
   "cell_type": "code",
   "execution_count": null,
   "metadata": {
    "collapsed": true
   },
   "outputs": [],
   "source": []
  },
  {
   "cell_type": "code",
   "execution_count": null,
   "metadata": {
    "collapsed": false
   },
   "outputs": [],
   "source": [
    "def generate_set_attempt_stats(df,set_id):\n",
    "    dfSet = df.ix[df['set_id']==set_id,'problem_id']\n",
    "    dfSet = dfSet.astype(int)\n",
    "    totalAttempts = len(dfSet)\n",
    "    problems = dfSet.values\n",
    "    totalProblems = len(np.unique(problems))\n",
    "    dfSet.hist()\n",
    "    plt.title('Total attempts: '+str(totalAttempts))\n",
    "    plt.xlabel('Problem ID')\n",
    "    plt.ylabel('No. of attempts')\n",
    "    plt.xlim([1,totalProblems])"
   ]
  },
  {
   "cell_type": "code",
   "execution_count": null,
   "metadata": {
    "collapsed": false
   },
   "outputs": [],
   "source": [
    "def generate_set_user_stats(df,set_id):\n",
    "    dfSelection = df.ix[df['set_id']==set_id,:]\n",
    "    dfUnique = dfSelection.drop_duplicates(subset=['user_id','problem_id'])\n",
    "    users = dfUnique['user_id'].values\n",
    "    problems = dfUnique['problem_id'].values\n",
    "    totalUsers = len(np.unique(users))\n",
    "    totalProblems = len(np.unique(problems))\n",
    "    dfUnique = dfUnique['problem_id'].astype(int)\n",
    "\n",
    "    dfUnique.hist(bins=totalProblems)\n",
    "    plt.title('Total users: '+str(totalUsers))\n",
    "    plt.xlabel('Problem ID')\n",
    "    plt.ylabel('No. of users')\n",
    "    plt.xlim([1,totalProblems])"
   ]
  },
  {
   "cell_type": "code",
   "execution_count": null,
   "metadata": {
    "collapsed": false
   },
   "outputs": [],
   "source": [
    "import datetime\n",
    "datetime.datetime.strptime()"
   ]
  },
  {
   "cell_type": "code",
   "execution_count": null,
   "metadata": {
    "collapsed": false,
    "scrolled": true
   },
   "outputs": [],
   "source": [
    "set_id = \"Week2\"\n",
    "generate_set_attempt_stats(df,set_id)"
   ]
  },
  {
   "cell_type": "code",
   "execution_count": 4,
   "metadata": {
    "collapsed": false
   },
   "outputs": [
    {
     "data": {
      "text/plain": [
       "'2015-10-07 15:07:31.813422'"
      ]
     },
     "execution_count": 4,
     "metadata": {},
     "output_type": "execute_result"
    }
   ],
   "source": [
    "import datetime\n",
    "str(datetime.datetime.now())"
   ]
  },
  {
   "cell_type": "code",
   "execution_count": 6,
   "metadata": {
    "collapsed": false
   },
   "outputs": [
    {
     "data": {
      "text/plain": [
       "list"
      ]
     },
     "execution_count": 6,
     "metadata": {},
     "output_type": "execute_result"
    }
   ],
   "source": [
    "import sys\n",
    "type(sys.path)"
   ]
  },
  {
   "cell_type": "code",
   "execution_count": 7,
   "metadata": {
    "collapsed": false
   },
   "outputs": [
    {
     "data": {
      "text/plain": [
       "['_dh',\n",
       " '__',\n",
       " '_4',\n",
       " '_i',\n",
       " 'quit',\n",
       " '__builtins__',\n",
       " '_3',\n",
       " '_ih',\n",
       " '__builtin__',\n",
       " 'datetime',\n",
       " 'sys',\n",
       " '__name__',\n",
       " '___',\n",
       " '__package__',\n",
       " '_',\n",
       " '_sh',\n",
       " '_6',\n",
       " '_i7',\n",
       " '_i6',\n",
       " '_i5',\n",
       " '_i4',\n",
       " '_i3',\n",
       " '_i2',\n",
       " '_i1',\n",
       " '__doc__',\n",
       " '_iii',\n",
       " 'exit',\n",
       " 'get_ipython',\n",
       " '_ii',\n",
       " 'In',\n",
       " '_5',\n",
       " '_oh',\n",
       " 'Out']"
      ]
     },
     "execution_count": 7,
     "metadata": {},
     "output_type": "execute_result"
    }
   ],
   "source": [
    "globals().keys()"
   ]
  },
  {
   "cell_type": "code",
   "execution_count": null,
   "metadata": {
    "collapsed": true
   },
   "outputs": [],
   "source": []
  }
 ],
 "metadata": {
  "kernelspec": {
   "display_name": "Python 2",
   "language": "python",
   "name": "python2"
  },
  "language_info": {
   "codemirror_mode": {
    "name": "ipython",
    "version": 2
   },
   "file_extension": ".py",
   "mimetype": "text/x-python",
   "name": "python",
   "nbconvert_exporter": "python",
   "pygments_lexer": "ipython2",
   "version": "2.7.9"
  }
 },
 "nbformat": 4,
 "nbformat_minor": 0
}
