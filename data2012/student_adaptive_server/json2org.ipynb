{
 "metadata": {
  "name": "json2org"
 },
 "nbformat": 3,
 "nbformat_minor": 0,
 "worksheets": [
  {
   "cells": [
    {
     "cell_type": "code",
     "collapsed": false,
     "input": [
      "import json"
     ],
     "language": "python",
     "metadata": {},
     "outputs": [],
     "prompt_number": 1
    },
    {
     "cell_type": "code",
     "collapsed": false,
     "input": [
      "file=open('parts0_7.json','r')\n",
      "Object=json.load(file)"
     ],
     "language": "python",
     "metadata": {},
     "outputs": [],
     "prompt_number": 70
    },
    {
     "cell_type": "code",
     "collapsed": false,
     "input": [
      "len(Object)"
     ],
     "language": "python",
     "metadata": {},
     "outputs": [
      {
       "output_type": "pyout",
       "prompt_number": 71,
       "text": [
        "20"
       ]
      }
     ],
     "prompt_number": 71
    },
    {
     "cell_type": "code",
     "collapsed": false,
     "input": [
      "type(Object)"
     ],
     "language": "python",
     "metadata": {},
     "outputs": [
      {
       "output_type": "pyout",
       "prompt_number": 72,
       "text": [
        "dict"
       ]
      }
     ],
     "prompt_number": 72
    },
    {
     "cell_type": "code",
     "collapsed": false,
     "input": [
      "F=Object['0']; cent=F[u'centroids']; clus=F[u'clusters']"
     ],
     "language": "python",
     "metadata": {},
     "outputs": [],
     "prompt_number": 80
    },
    {
     "cell_type": "code",
     "collapsed": false,
     "input": [
      "[(key,cent[key],clus[key]) for key in clus.keys() if key in cent.keys()]"
     ],
     "language": "python",
     "metadata": {},
     "outputs": [
      {
       "output_type": "pyout",
       "prompt_number": 81,
       "text": [
        "[(u'13',\n",
        "  u'(56!)/(51!(5!))',\n",
        "  [u'(52!)/((5!))', u'52!/5!', u'52!/5!', u'52!/5!'])]"
       ]
      }
     ],
     "prompt_number": 81
    },
    {
     "cell_type": "code",
     "collapsed": false,
     "input": [
      "clus.keys()"
     ],
     "language": "python",
     "metadata": {},
     "outputs": [
      {
       "output_type": "pyout",
       "prompt_number": 82,
       "text": [
        "[u'11',\n",
        " u'10',\n",
        " u'13',\n",
        " u'12',\n",
        " u'15',\n",
        " u'14',\n",
        " u'16',\n",
        " u'1',\n",
        " u'0',\n",
        " u'3',\n",
        " u'2',\n",
        " u'5',\n",
        " u'4',\n",
        " u'7',\n",
        " u'6',\n",
        " u'9',\n",
        " u'8']"
       ]
      }
     ],
     "prompt_number": 82
    },
    {
     "cell_type": "code",
     "collapsed": false,
     "input": [
      "cent.keys()"
     ],
     "language": "python",
     "metadata": {},
     "outputs": [
      {
       "output_type": "pyout",
       "prompt_number": 83,
       "text": [
        "[u'combinations, not permutations 2',\n",
        " u'combinations, not permutations 3',\n",
        " u'13',\n",
        " u'combinations, not permutations 1',\n",
        " u'combinations, not permutations 4',\n",
        " u'you need to divide',\n",
        " u\"You're choosing cards *without* replacement, where order doesn't matter.  Exponentiation applies when cards are chosen *with* replacement, where order matters.  \",\n",
        " u'incorrect',\n",
        " u'please give a full expression',\n",
        " u'syntax err',\n",
        " u'correct2',\n",
        " u'correct3',\n",
        " u'correct1',\n",
        " u'5 cards, not 4',\n",
        " u'correct',\n",
        " u'?']"
       ]
      }
     ],
     "prompt_number": 83
    },
    {
     "cell_type": "code",
     "collapsed": false,
     "input": [
      "for key in sorted(Object.keys()):\n",
      "    print key,Object[key].keys()"
     ],
     "language": "python",
     "metadata": {},
     "outputs": [
      {
       "output_type": "stream",
       "stream": "stdout",
       "text": [
        "0 [u'answer', u'clusters', u'dependencies', u'centroids', u'text']\n",
        "0-0 [u'answer', u'text', u'is_clue']\n",
        "0-1 [u'answer', u'text', u'is_clue']\n",
        "0-2 [u'answer', u'text', u'is_clue']\n",
        "1 [u'answer', u'clusters', u'dependencies', u'centroids', u'text']\n",
        "1-0 [u'answer', u'text', u'is_clue']\n",
        "1-1 [u'answer', u'text', u'is_clue']\n",
        "2 [u'answer', u'clusters', u'dependencies', u'centroids', u'text']\n",
        "2-0 [u'answer', u'text', u'is_clue']\n",
        "2-1 [u'answer', u'text', u'is_clue']\n",
        "2-2 [u'answer', u'text', u'is_clue']\n",
        "2-3 [u'answer', u'text', u'is_clue']\n",
        "2-4 [u'answer', u'text', u'is_clue']\n",
        "3 [u'answer', u'clusters', u'dependencies', u'centroids', u'text']\n",
        "3-0 [u'answer', u'text', u'is_clue']\n",
        "3-1 [u'answer', u'text', u'is_clue']\n",
        "3-2 [u'answer', u'text', u'is_clue']\n",
        "4 [u'answer', u'clusters', u'dependencies', u'centroids', u'text']\n",
        "5 [u'answer', u'clusters', u'dependencies', u'centroids', u'text']\n",
        "6 [u'answer', u'clusters', u'dependencies', u'centroids', u'text']\n"
       ]
      }
     ],
     "prompt_number": 35
    },
    {
     "cell_type": "code",
     "collapsed": false,
     "input": [
      "q=dict([[key,Object[key]] for key in Object.keys() if key[0]=='0'])"
     ],
     "language": "python",
     "metadata": {},
     "outputs": [],
     "prompt_number": 40
    },
    {
     "cell_type": "code",
     "collapsed": false,
     "input": [
      "q.keys()"
     ],
     "language": "python",
     "metadata": {},
     "outputs": [
      {
       "output_type": "pyout",
       "prompt_number": 42,
       "text": [
        "[u'0', u'0-0', u'0-1', u'0-2']"
       ]
      }
     ],
     "prompt_number": 42
    },
    {
     "cell_type": "code",
     "collapsed": false,
     "input": [
      "Object['0']"
     ],
     "language": "python",
     "metadata": {},
     "outputs": [
      {
       "output_type": "pyout",
       "prompt_number": 67,
       "text": [
        "{u'answer': u'comb(52,5)',\n",
        " u'centroids': {u'13': u'(56!)/(51!(5!))',\n",
        "  u'5 cards, not 4': u'52!/(4!48!)',\n",
        "  u'?': u'5/52',\n",
        "  u\"You're choosing cards *without* replacement, where order doesn't matter.  Exponentiation applies when cards are chosen *with* replacement, where order matters.  \": u'52^5',\n",
        "  u'combinations, not permutations 1': u'52*51*50*49*48',\n",
        "  u'combinations, not permutations 2': u'(52!)/((5!))',\n",
        "  u'combinations, not permutations 3': u'52!/(52-5)!',\n",
        "  u'combinations, not permutations 4': u'52!/47!',\n",
        "  u'correct': u'52! / 5! (52 - 5)!',\n",
        "  u'correct1': u'52!/(47!5!)',\n",
        "  u'correct2': u'2598960',\n",
        "  u'correct3': u'52!/47!/5!',\n",
        "  u'incorrect': u'52! / 5! * 47!',\n",
        "  u'please give a full expression': u'9',\n",
        "  u'syntax err': u'52!/(5!47!)(',\n",
        "  u'you need to divide': u'52!(52-5)!5!'},\n",
        " u'clusters': {u'0': [u'52!/(47!5!)',\n",
        "   u'52!/(47!*5!)',\n",
        "   u'52!/(5!47!)',\n",
        "   u'52!/(5!47!)',\n",
        "   u'52!/(5!*47!)',\n",
        "   u'52!/(5!47!)',\n",
        "   u'52!/(5!47!)',\n",
        "   u'52!/(47!*5!)',\n",
        "   u'52!/(5!*47!)',\n",
        "   u'(52!/(47!*5!))',\n",
        "   u'52!/(5!(47)!)',\n",
        "   u'52!/((47!)*(5!))',\n",
        "   u'52!/(5!*47!)',\n",
        "   u'52!/(5!(47)!)',\n",
        "   u'52!/(47!*5!)',\n",
        "   u'52!/(5!(47!))',\n",
        "   u'52!/(5! * 47!)',\n",
        "   u'52! / (5! * 47!)',\n",
        "   u'52!/(5!47!)',\n",
        "   u'52!/(47!5!)',\n",
        "   u'52!/(5!47!)',\n",
        "   u'52!/(47!5!)',\n",
        "   u'52!/(5!47!)',\n",
        "   u'52!/(5!47!)',\n",
        "   u'52!/(5!(47!))',\n",
        "   u'52!/(5!*47!)',\n",
        "   u'52!/(5!47!)',\n",
        "   u'52!/(5!47!)',\n",
        "   u'52!/(5!47!)',\n",
        "   u'52!/(5!47!)',\n",
        "   u'52!/(5!*47!)',\n",
        "   u'(52!)/(47!(5!))',\n",
        "   u'52!/(5!47!)',\n",
        "   u'52!/(47!(5!))',\n",
        "   u'(52!)/(5!47!)',\n",
        "   u'52!/(5!*47!)',\n",
        "   u'52!/(47!*5!)',\n",
        "   u'52! / (5! 47!)',\n",
        "   u'(52!)/((47!)(5!))',\n",
        "   u'52!/(5!47!)',\n",
        "   u'52!/(5!*47!)',\n",
        "   u'52!/(5!47!)',\n",
        "   u'52! / (5! * 47!)',\n",
        "   u'52!/(5!47!)',\n",
        "   u'52!/(47!*5!)',\n",
        "   u'52!/(47!5!)',\n",
        "   u'52!/(5!*47!)',\n",
        "   u'52!/(5!47!)',\n",
        "   u'52!/(5!(47!))',\n",
        "   u'52!/(5!*47!)',\n",
        "   u'52!/(5!47!)',\n",
        "   u'52!/(5!(47!))',\n",
        "   u'52!/(5!47!)',\n",
        "   u'52!/(47!5!)',\n",
        "   u'(52!/(5!47!))',\n",
        "   u'52!/(5!47!)',\n",
        "   u'52!/(47!*5!)',\n",
        "   u'52!/(5!*47!)',\n",
        "   u'52!/(5!*47!)',\n",
        "   u'52!/(5!47!)',\n",
        "   u'52!/(47!*5!)',\n",
        "   u'52! / (5! 47!)',\n",
        "   u'(52! / (5! 47!))',\n",
        "   u'(52!/(47!*5!))',\n",
        "   u'52!/(5!*47!)',\n",
        "   u'52!/(5!*47!)',\n",
        "   u'52!/(5!(47)!)',\n",
        "   u'(52!)/((47!)*(5!))',\n",
        "   u'52!/(5!47!)',\n",
        "   u'52!/((5!)(47!))',\n",
        "   u'52!/(5!*47!)'],\n",
        "  u'1': [u'2598960',\n",
        "   u'2598960',\n",
        "   u'2598960',\n",
        "   u'2598960',\n",
        "   u'2598960',\n",
        "   u'2598960',\n",
        "   u'2598960',\n",
        "   u'2598960',\n",
        "   u'2598960',\n",
        "   u'2598960',\n",
        "   u'2598960',\n",
        "   u'2598960',\n",
        "   u'2598960',\n",
        "   u'2598960',\n",
        "   u'2598960',\n",
        "   u'2598960',\n",
        "   u'2598960',\n",
        "   u'2598960',\n",
        "   u'2598960',\n",
        "   u'2598960',\n",
        "   u'2598960',\n",
        "   u'2598960',\n",
        "   u'2598960',\n",
        "   u'2598960',\n",
        "   u'2598960',\n",
        "   u'2598960',\n",
        "   u'2598960',\n",
        "   u'2598960',\n",
        "   u'2598960',\n",
        "   u' 2598960',\n",
        "   u'2598960',\n",
        "   u'2598960',\n",
        "   u'2598960',\n",
        "   u'2598960',\n",
        "   u'2598960',\n",
        "   u'2598960',\n",
        "   u'2598960',\n",
        "   u'2598960'],\n",
        "  u'10': [u'52^5', u'52^5', u'5^52', u'52^5', u'52^5', u'52^5', u'52^5'],\n",
        "  u'11': [u'(52*51*50*49*48)/5!',\n",
        "   u'52*51*50*49*48/5!',\n",
        "   u'52*51*50*49*48/5!',\n",
        "   u'52*51*50*49*48/5!',\n",
        "   u'(52*51*50*49*48)/5!',\n",
        "   u'52*51*50*49*48/5!'],\n",
        "  u'12': [u'52', u'52', u'52', u'52', u'52', u'52'],\n",
        "  u'13': [u'(52!)/((5!))', u'52!/5!', u'52!/5!', u'52!/5!'],\n",
        "  u'14': [u'52!/47!/5!', u'52! / 5! / 47!', u'52!/5!/47!'],\n",
        "  u'15': [u'52! / 5! * 47!', u'52!/5!47!', u'52!/5!47!'],\n",
        "  u'16': [u'(52 C 5)', u'52 choose 5', u'52 choose 5'],\n",
        "  u'2': [u'9',\n",
        "   u'9',\n",
        "   u'9',\n",
        "   u'9',\n",
        "   u'9',\n",
        "   u'9',\n",
        "   u'9',\n",
        "   u'9',\n",
        "   u'9',\n",
        "   u'9',\n",
        "   u'9',\n",
        "   u'9',\n",
        "   u'9',\n",
        "   u'9',\n",
        "   u'9',\n",
        "   u'9',\n",
        "   u'9',\n",
        "   u'9',\n",
        "   u'9',\n",
        "   u'9',\n",
        "   u'9',\n",
        "   u'9',\n",
        "   u'9',\n",
        "   u'9',\n",
        "   u'9',\n",
        "   u'9',\n",
        "   u'9',\n",
        "   u'9',\n",
        "   u'9',\n",
        "   u'9',\n",
        "   u'9',\n",
        "   u'9'],\n",
        "  u'3': [u'52!/(5!47!)(',\n",
        "   u'1225',\n",
        "   u'1326',\n",
        "   u'169',\n",
        "   u'1287',\n",
        "   u'7462',\n",
        "   u'6',\n",
        "   u'52!/(5!(47!)',\n",
        "   u'40+624+3744+5108+10200+54912+123552+1098240+1302540',\n",
        "   u'133784560',\n",
        "   u'311875200',\n",
        "   u'6497400',\n",
        "   u'8',\n",
        "   u'1326',\n",
        "   u'40',\n",
        "   u'624',\n",
        "   u'311875200',\n",
        "   u'',\n",
        "   u'45',\n",
        "   u'8',\n",
        "   u'11',\n",
        "   u'',\n",
        "   u'7462',\n",
        "   u'1302540',\n",
        "   u'3628800',\n",
        "   u'311875200',\n",
        "   u'8',\n",
        "   u'1326',\n",
        "   u'9.7073  10^12',\n",
        "   u'311875200'],\n",
        "  u'4': [u'52!/((52-5)!5!)',\n",
        "   u'52!/(5!(52-5)!)',\n",
        "   u'52!/(5!(52-5)!)',\n",
        "   u'52!/(5!(52-5)!)',\n",
        "   u'52! /( 5! (52 - 5)!)',\n",
        "   u'52!/(5!(52-5)!)',\n",
        "   u'52!/(5!(52-5)!)',\n",
        "   u'52!/(5!(52-5)!)',\n",
        "   u'52!/((5!)(52-5)!)',\n",
        "   u'52!/(5! * (52-5)!)',\n",
        "   u'52!/(5!(52-5)!)',\n",
        "   u'52!/(5!(52-5)!)',\n",
        "   u'(52!/(5!(52-5)!))',\n",
        "   u'52!/(5!(52-5)!)',\n",
        "   u'52!/(5!(52-5)!)',\n",
        "   u'52!/(5!(52-5)!)',\n",
        "   u'52!/(5!*(52-5)!)',\n",
        "   u'52! / (5! * (52-5)! )',\n",
        "   u'(52!)/(5!(52-5)!)',\n",
        "   u'52!/(5!*(52-5)!)',\n",
        "   u'52!/((52-5)!5!)',\n",
        "   u'52!/(5!(52-5)!)',\n",
        "   u'52!/(5!(52-5)!)',\n",
        "   u'52!/(5!(52-5)!)',\n",
        "   u'52!/(5!(52-5)!)',\n",
        "   u'52!/(5!(52-5)!)',\n",
        "   u'52!/(5!(52-5)!)',\n",
        "   u'52!/(5!*(52-5)!)'],\n",
        "  u'5': [u'52*51*50*49*48',\n",
        "   u'52* 51* 50*49*48',\n",
        "   u'52*51*50*49*48',\n",
        "   u'52*51*50*49*48',\n",
        "   u'52*51*50*49*48',\n",
        "   u'52*51*50*49*48',\n",
        "   u'52*51*50*49*48',\n",
        "   u'52*51*50*49*48',\n",
        "   u'52 * 51 * 50 * 49 * 48',\n",
        "   u'52*51*50*49*48',\n",
        "   u'52*51*50*49*48',\n",
        "   u'52*51*50*49*48',\n",
        "   u'52*51*50*49*48',\n",
        "   u'52*51*50*49*48',\n",
        "   u'52*51*50*49*48',\n",
        "   u'52*51*50*49*48',\n",
        "   u'52*51*50*49*48',\n",
        "   u'52*51*50*49*48',\n",
        "   u'52*51*50*49*48',\n",
        "   u'52*51*50*49*48'],\n",
        "  u'6': [u'52!/47!',\n",
        "   u'52!/47!',\n",
        "   u'52! / 47!',\n",
        "   u'52!/47!',\n",
        "   u'52!/(47!)',\n",
        "   u'52! / 47!',\n",
        "   u'52!/47!',\n",
        "   u'52!/47!',\n",
        "   u'52!/47!',\n",
        "   u'52!/47!',\n",
        "   u'52!/47!',\n",
        "   u'52!/47!',\n",
        "   u'52!/47!',\n",
        "   u'(52!)/(47!)',\n",
        "   u'52!/47!'],\n",
        "  u'7': [u'7,462',\n",
        "   u'2,598,960',\n",
        "   u'133,784,560',\n",
        "   u'2,598,960',\n",
        "   u'2,598,960',\n",
        "   u'2,598,960',\n",
        "   u'2,598,960',\n",
        "   u'1,302,540',\n",
        "   u'2,598,960',\n",
        "   u'{1,2,3,4,5,6,7,8,9}'],\n",
        "  u'8': [u'52!/(52-5)!',\n",
        "   u'52!/(52-5)!',\n",
        "   u'52!/(52-5)!',\n",
        "   u'52!/5!/(52-5)!',\n",
        "   u'52!/(52-5)!',\n",
        "   u'52!/(52-5)!',\n",
        "   u'52!/(52-5)!/5!',\n",
        "   u'52!/(52-5)!',\n",
        "   u'52!/(52-5)!'],\n",
        "  u'9': [u'10', u'10', u'10', u'10', u'10', u'10', u'10', u'10', u'10']},\n",
        " u'dependencies': [],\n",
        " u'text': u\"\\n## Probability of Poker Hands ##\\n\\nA hand in Texas Hold'em consists of 5 cards from a deck of 52 cards. A hand may fall into one of the following categories. We are going to compute the probability of each category.\\n\\nFirst, the number of all possible hands is %s\\n\\n### Pair: exactly one pair of equal rank cards ###\\n\\n\"}"
       ]
      }
     ],
     "prompt_number": 67
    },
    {
     "cell_type": "code",
     "collapsed": false,
     "input": [
      "Object['0'][u'dependencies']"
     ],
     "language": "python",
     "metadata": {},
     "outputs": [
      {
       "output_type": "pyout",
       "prompt_number": 69,
       "text": [
        "[]"
       ]
      }
     ],
     "prompt_number": 69
    },
    {
     "cell_type": "code",
     "collapsed": false,
     "input": [
      "len(clusters)"
     ],
     "language": "python",
     "metadata": {},
     "outputs": [
      {
       "output_type": "pyout",
       "prompt_number": 53,
       "text": [
        "17"
       ]
      }
     ],
     "prompt_number": 53
    },
    {
     "cell_type": "code",
     "collapsed": false,
     "input": [
      "[[c,len(clusters[c])] for c in clusters];"
     ],
     "language": "python",
     "metadata": {},
     "outputs": [],
     "prompt_number": 54
    },
    {
     "cell_type": "code",
     "collapsed": false,
     "input": [
      "centroids=Object['0']['centroids']"
     ],
     "language": "python",
     "metadata": {},
     "outputs": [],
     "prompt_number": 55
    },
    {
     "cell_type": "code",
     "collapsed": false,
     "input": [
      "clusters['1']"
     ],
     "language": "python",
     "metadata": {},
     "outputs": [
      {
       "ename": "KeyError",
       "evalue": "'1'",
       "output_type": "pyerr",
       "traceback": [
        "\u001b[0;31m---------------------------------------------------------------------------\u001b[0m\n\u001b[0;31mKeyError\u001b[0m                                  Traceback (most recent call last)",
        "\u001b[0;32m<ipython-input-56-bc7c56c62d8a>\u001b[0m in \u001b[0;36m<module>\u001b[0;34m()\u001b[0m\n\u001b[0;32m----> 1\u001b[0;31m \u001b[0mclusters\u001b[0m\u001b[0;34m[\u001b[0m\u001b[0;34m'1'\u001b[0m\u001b[0;34m]\u001b[0m\u001b[0;34m,\u001b[0m \u001b[0mcentroids\u001b[0m\u001b[0;34m[\u001b[0m\u001b[0;34m'1'\u001b[0m\u001b[0;34m]\u001b[0m\u001b[0;34m\u001b[0m\u001b[0m\n\u001b[0m",
        "\u001b[0;31mKeyError\u001b[0m: '1'"
       ]
      }
     ],
     "prompt_number": 56
    },
    {
     "cell_type": "code",
     "collapsed": false,
     "input": [
      "centroids"
     ],
     "language": "python",
     "metadata": {},
     "outputs": [
      {
       "output_type": "pyout",
       "prompt_number": 59,
       "text": [
        "{u'13': u'(56!)/(51!(5!))',\n",
        " u'5 cards, not 4': u'52!/(4!48!)',\n",
        " u'?': u'5/52',\n",
        " u\"You're choosing cards *without* replacement, where order doesn't matter.  Exponentiation applies when cards are chosen *with* replacement, where order matters.  \": u'52^5',\n",
        " u'combinations, not permutations 1': u'52*51*50*49*48',\n",
        " u'combinations, not permutations 2': u'(52!)/((5!))',\n",
        " u'combinations, not permutations 3': u'52!/(52-5)!',\n",
        " u'combinations, not permutations 4': u'52!/47!',\n",
        " u'correct': u'52! / 5! (52 - 5)!',\n",
        " u'correct1': u'52!/(47!5!)',\n",
        " u'correct2': u'2598960',\n",
        " u'correct3': u'52!/47!/5!',\n",
        " u'incorrect': u'52! / 5! * 47!',\n",
        " u'please give a full expression': u'9',\n",
        " u'syntax err': u'52!/(5!47!)(',\n",
        " u'you need to divide': u'52!(52-5)!5!'}"
       ]
      }
     ],
     "prompt_number": 59
    },
    {
     "cell_type": "code",
     "collapsed": false,
     "input": [
      "!ls"
     ],
     "language": "python",
     "metadata": {},
     "outputs": [
      {
       "output_type": "stream",
       "stream": "stdout",
       "text": [
        "#json2org.py#                 json2org.ipynb                sample.json\r\n",
        "hard_parts.json               parts0_7.json                 student_session_testcase.json\r\n",
        "hard_parts_with_hints.json    parts0_7_proper_clusters.json\r\n"
       ]
      }
     ],
     "prompt_number": 85
    },
    {
     "cell_type": "code",
     "collapsed": false,
     "input": [
      "len(clusters)"
     ],
     "language": "python",
     "metadata": {},
     "outputs": [
      {
       "output_type": "pyout",
       "prompt_number": 61,
       "text": [
        "17"
       ]
      }
     ],
     "prompt_number": 61
    },
    {
     "cell_type": "code",
     "collapsed": false,
     "input": [
      "[(len(q[u'centroids']),len(q[u'clusters'])) for q in Object.values() if u'centroids' in q.keys()]"
     ],
     "language": "python",
     "metadata": {},
     "outputs": [
      {
       "output_type": "pyout",
       "prompt_number": 64,
       "text": [
        "[(2, 16), (16, 17), (11, 11), (9, 9), (9, 9), (12, 12), (14, 14)]"
       ]
      }
     ],
     "prompt_number": 64
    },
    {
     "cell_type": "code",
     "collapsed": false,
     "input": [
      "centroids"
     ],
     "language": "python",
     "metadata": {},
     "outputs": [
      {
       "output_type": "pyout",
       "prompt_number": 66,
       "text": [
        "{u'13': u'(56!)/(51!(5!))',\n",
        " u'5 cards, not 4': u'52!/(4!48!)',\n",
        " u'?': u'5/52',\n",
        " u\"You're choosing cards *without* replacement, where order doesn't matter.  Exponentiation applies when cards are chosen *with* replacement, where order matters.  \": u'52^5',\n",
        " u'combinations, not permutations 1': u'52*51*50*49*48',\n",
        " u'combinations, not permutations 2': u'(52!)/((5!))',\n",
        " u'combinations, not permutations 3': u'52!/(52-5)!',\n",
        " u'combinations, not permutations 4': u'52!/47!',\n",
        " u'correct': u'52! / 5! (52 - 5)!',\n",
        " u'correct1': u'52!/(47!5!)',\n",
        " u'correct2': u'2598960',\n",
        " u'correct3': u'52!/47!/5!',\n",
        " u'incorrect': u'52! / 5! * 47!',\n",
        " u'please give a full expression': u'9',\n",
        " u'syntax err': u'52!/(5!47!)(',\n",
        " u'you need to divide': u'52!(52-5)!5!'}"
       ]
      }
     ],
     "prompt_number": 66
    },
    {
     "cell_type": "code",
     "collapsed": false,
     "input": [
      "import json,re\n",
      "file=open('parts0_7.json','r')\n",
      "Objects=json.load(file)\n",
      "for part in sorted(Objects.keys()):\n",
      "    Object=Objects[part]\n",
      "    if u'is_clue' in Object.keys():\n",
      "        # [u'answer', u'text', u'is_clue']\n",
      "        print '** Hint',part\n",
      "        print '** Hint Text:', Object[u'text']\n",
      "        print '** Correct Answer:',Object[u'answer']\n",
      "    else:\n",
      "        # [u'answer', u'clusters', u'dependencies', u'centroids', u'text']\n",
      "        print '* Part',part\n",
      "        print '** Question:', Object[u'text']\n",
      "        print '** Correct Answer:',Object[u'answer']\n",
      "        # It seems that dependencies are currently empty\n",
      "        print '** Dependencies:',Object[u'dependencies']\n",
      "        print '** Clusters:'\n",
      "        clusters = Object[u'clusters']\n",
      "        for c in sorted(clusters.keys()):\n",
      "            print '*** ',c,clusters[c]\n",
      "        print '** Centroids:'\n",
      "        centroids=Object[u'centroids']\n",
      "        # the clusters, centroids and clues should have a common key \n",
      "        # so that the cluster is reprensented by centroid(s) \n",
      "        # and the clue is the appropriate one for those examples\n",
      "        for c in centroids.keys():  \n",
      "            print '*** ',centroids[c],c\n",
      "\n",
      "        \n",
      "        "
     ],
     "language": "python",
     "metadata": {},
     "outputs": [
      {
       "output_type": "stream",
       "stream": "stdout",
       "text": [
        "* Part 0\n",
        "** Question: \n",
        "## Probability of Poker Hands ##\n",
        "\n",
        "A hand in Texas Hold'em consists of 5 cards from a deck of 52 cards. A hand may fall into one of the following categories. We are going to compute the probability of each category.\n",
        "\n",
        "First, the number of all possible hands is %s\n",
        "\n",
        "### Pair: exactly one pair of equal rank cards ###\n",
        "\n",
        "\n",
        "** Correct Answer: comb(52,5)\n",
        "** Dependencies: []\n",
        "** Clusters:\n",
        "***  0 [u'52!/(47!5!)', u'52!/(47!*5!)', u'52!/(5!47!)', u'52!/(5!47!)', u'52!/(5!*47!)', u'52!/(5!47!)', u'52!/(5!47!)', u'52!/(47!*5!)', u'52!/(5!*47!)', u'(52!/(47!*5!))', u'52!/(5!(47)!)', u'52!/((47!)*(5!))', u'52!/(5!*47!)', u'52!/(5!(47)!)', u'52!/(47!*5!)', u'52!/(5!(47!))', u'52!/(5! * 47!)', u'52! / (5! * 47!)', u'52!/(5!47!)', u'52!/(47!5!)', u'52!/(5!47!)', u'52!/(47!5!)', u'52!/(5!47!)', u'52!/(5!47!)', u'52!/(5!(47!))', u'52!/(5!*47!)', u'52!/(5!47!)', u'52!/(5!47!)', u'52!/(5!47!)', u'52!/(5!47!)', u'52!/(5!*47!)', u'(52!)/(47!(5!))', u'52!/(5!47!)', u'52!/(47!(5!))', u'(52!)/(5!47!)', u'52!/(5!*47!)', u'52!/(47!*5!)', u'52! / (5! 47!)', u'(52!)/((47!)(5!))', u'52!/(5!47!)', u'52!/(5!*47!)', u'52!/(5!47!)', u'52! / (5! * 47!)', u'52!/(5!47!)', u'52!/(47!*5!)', u'52!/(47!5!)', u'52!/(5!*47!)', u'52!/(5!47!)', u'52!/(5!(47!))', u'52!/(5!*47!)', u'52!/(5!47!)', u'52!/(5!(47!))', u'52!/(5!47!)', u'52!/(47!5!)', u'(52!/(5!47!))', u'52!/(5!47!)', u'52!/(47!*5!)', u'52!/(5!*47!)', u'52!/(5!*47!)', u'52!/(5!47!)', u'52!/(47!*5!)', u'52! / (5! 47!)', u'(52! / (5! 47!))', u'(52!/(47!*5!))', u'52!/(5!*47!)', u'52!/(5!*47!)', u'52!/(5!(47)!)', u'(52!)/((47!)*(5!))', u'52!/(5!47!)', u'52!/((5!)(47!))', u'52!/(5!*47!)']\n",
        "***  1 [u'2598960', u'2598960', u'2598960', u'2598960', u'2598960', u'2598960', u'2598960', u'2598960', u'2598960', u'2598960', u'2598960', u'2598960', u'2598960', u'2598960', u'2598960', u'2598960', u'2598960', u'2598960', u'2598960', u'2598960', u'2598960', u'2598960', u'2598960', u'2598960', u'2598960', u'2598960', u'2598960', u'2598960', u'2598960', u' 2598960', u'2598960', u'2598960', u'2598960', u'2598960', u'2598960', u'2598960', u'2598960', u'2598960']\n",
        "***  10 [u'52^5', u'52^5', u'5^52', u'52^5', u'52^5', u'52^5', u'52^5']\n",
        "***  11 [u'(52*51*50*49*48)/5!', u'52*51*50*49*48/5!', u'52*51*50*49*48/5!', u'52*51*50*49*48/5!', u'(52*51*50*49*48)/5!', u'52*51*50*49*48/5!']\n",
        "***  12 [u'52', u'52', u'52', u'52', u'52', u'52']\n",
        "***  13 [u'(52!)/((5!))', u'52!/5!', u'52!/5!', u'52!/5!']\n",
        "***  14 [u'52!/47!/5!', u'52! / 5! / 47!', u'52!/5!/47!']\n",
        "***  15 [u'52! / 5! * 47!', u'52!/5!47!', u'52!/5!47!']\n",
        "***  16 [u'(52 C 5)', u'52 choose 5', u'52 choose 5']\n",
        "***  2 [u'9', u'9', u'9', u'9', u'9', u'9', u'9', u'9', u'9', u'9', u'9', u'9', u'9', u'9', u'9', u'9', u'9', u'9', u'9', u'9', u'9', u'9', u'9', u'9', u'9', u'9', u'9', u'9', u'9', u'9', u'9', u'9']\n",
        "***  3 [u'52!/(5!47!)(', u'1225', u'1326', u'169', u'1287', u'7462', u'6', u'52!/(5!(47!)', u'40+624+3744+5108+10200+54912+123552+1098240+1302540', u'133784560', u'311875200', u'6497400', u'8', u'1326', u'40', u'624', u'311875200', u'', u'45', u'8', u'11', u'', u'7462', u'1302540', u'3628800', u'311875200', u'8', u'1326', u'9.7073  10^12', u'311875200']\n",
        "***  4 [u'52!/((52-5)!5!)', u'52!/(5!(52-5)!)', u'52!/(5!(52-5)!)', u'52!/(5!(52-5)!)', u'52! /( 5! (52 - 5)!)', u'52!/(5!(52-5)!)', u'52!/(5!(52-5)!)', u'52!/(5!(52-5)!)', u'52!/((5!)(52-5)!)', u'52!/(5! * (52-5)!)', u'52!/(5!(52-5)!)', u'52!/(5!(52-5)!)', u'(52!/(5!(52-5)!))', u'52!/(5!(52-5)!)', u'52!/(5!(52-5)!)', u'52!/(5!(52-5)!)', u'52!/(5!*(52-5)!)', u'52! / (5! * (52-5)! )', u'(52!)/(5!(52-5)!)', u'52!/(5!*(52-5)!)', u'52!/((52-5)!5!)', u'52!/(5!(52-5)!)', u'52!/(5!(52-5)!)', u'52!/(5!(52-5)!)', u'52!/(5!(52-5)!)', u'52!/(5!(52-5)!)', u'52!/(5!(52-5)!)', u'52!/(5!*(52-5)!)']\n",
        "***  5 [u'52*51*50*49*48', u'52* 51* 50*49*48', u'52*51*50*49*48', u'52*51*50*49*48', u'52*51*50*49*48', u'52*51*50*49*48', u'52*51*50*49*48', u'52*51*50*49*48', u'52 * 51 * 50 * 49 * 48', u'52*51*50*49*48', u'52*51*50*49*48', u'52*51*50*49*48', u'52*51*50*49*48', u'52*51*50*49*48', u'52*51*50*49*48', u'52*51*50*49*48', u'52*51*50*49*48', u'52*51*50*49*48', u'52*51*50*49*48', u'52*51*50*49*48']\n",
        "***  6 [u'52!/47!', u'52!/47!', u'52! / 47!', u'52!/47!', u'52!/(47!)', u'52! / 47!', u'52!/47!', u'52!/47!', u'52!/47!', u'52!/47!', u'52!/47!', u'52!/47!', u'52!/47!', u'(52!)/(47!)', u'52!/47!']\n",
        "***  7 [u'7,462', u'2,598,960', u'133,784,560', u'2,598,960', u'2,598,960', u'2,598,960', u'2,598,960', u'1,302,540', u'2,598,960', u'{1,2,3,4,5,6,7,8,9}']\n",
        "***  8 [u'52!/(52-5)!', u'52!/(52-5)!', u'52!/(52-5)!', u'52!/5!/(52-5)!', u'52!/(52-5)!', u'52!/(52-5)!', u'52!/(52-5)!/5!', u'52!/(52-5)!', u'52!/(52-5)!']\n",
        "***  9 [u'10', u'10', u'10', u'10', u'10', u'10', u'10', u'10', u'10']\n",
        "** Centroids:\n",
        "***  (52!)/((5!)) combinations, not permutations 2\n",
        "***  52!/(52-5)! combinations, not permutations 3\n",
        "***  (56!)/(51!(5!)) 13\n",
        "***  52*51*50*49*48 combinations, not permutations 1\n",
        "***  52!/47! combinations, not permutations 4\n",
        "***  52!(52-5)!5! you need to divide\n",
        "***  52^5 You're choosing cards *without* replacement, where order doesn't matter.  Exponentiation applies when cards are chosen *with* replacement, where order matters.  \n",
        "***  52! / 5! * 47! incorrect\n",
        "***  9 please give a full expression\n",
        "***  52!/(5!47!)( syntax err\n",
        "***  2598960 correct2\n",
        "***  52!/47!/5! correct3\n",
        "***  52!/(47!5!) correct1\n",
        "***  52!/(4!48!) 5 cards, not 4\n",
        "***  52! / 5! (52 - 5)! correct\n",
        "***  5/52 ?\n",
        "*\n",
        "*\n",
        "*\n",
        "* Part 1\n",
        "** Question: 1. The number of possibilities for the ranks of the pair is %s\n",
        "** Correct Answer: 13\n",
        "** Dependencies: []\n",
        "** Clusters:\n",
        "***  0 [u'13', u'13!', u'13', u'13', u'13', u'13', u'13', u'13', u'13', u'13!', u'13', u'13', u'13', u'13', u'13', u'13', u'13', u'13', u'13', u'13', u'13', u'13', u'13', u'13!', u'13', u'13', u'13', u'13', u'13', u'13', u'13', u'13', u'13', u'13', u'13', u'13', u'13', u'13', u'13', u'13', u'13', u'13', u'13', u'13', u'13', u'13', u'13+12+11+10+9+8+7+6+5+4+3+2+1', u'13', u'13', u'13', u'13', u'13', u'13', u'13', u'13', u'13', u'13', u'13', u'13', u'13', u'13', u'13', u'13', u'13', u'13', u'13', u'13', u'13', u'13', u'13', u'13', u'13!', u'13', u'13', u'13', u'13', u'13', u'13', u'13', u'13', u'13', u'13', u'13', u'13', u'13', u'13', u'13', u'13', u'13', u'13', u'13', u'13', u'13!', u'13', u'13!', u'13!', u'13', u'13', u'1/13', u'13', u'13', u'13', u'13', u'13', u'13', u'13', u'13!', u'13', u'13!', u'13', u'13', u'13', u'13', u'13', u'13', u'13', u'13', u'13', u'13', u'13', u'13', u'13', u'13', u'13', u'13', u'13', u'13', u'13', u'13', u'13', u'13', u'13', u'13', u'13', u'13', u'13', u'13!', u'13', u'13', u'13', u'13', u'13', u'13', u'13', u'13']\n",
        "***  1 [u'', u'12', u'1098240', u'', u'1098240/2598960', u'48', u'4^3', u'(26*25)/2598960', u'(26*25)', u'78', u'78*4', u'', u'4!', u'1302540/2598960 ', u'4', u'16', u'', u'', u'1098240', u'14', u'2002', u'14*14', u'6', u'14', u'12', u'1,098,240', u'1098240', u'52', u'6', u'1', u'C(4,2)', u'12', u'1098240', u'26', u'', u'26', u'2860', u'6', u'64', u'220', u'66', u'312', u'52*3*48*47*46', u'', u'6', u'12!', u'', u'26', u'12', u'4', u'1,098,240', u'1098240', u'1,098,240', u'1098240', u'52', u'4!/3!', u'4^4', u'4', u'1098240', u'52/4', u'156', u'182', u'728', u'1,098,240', u'1098240', u'2860', u'52', u'16/2', u'10', u'', u'', u'6', u'13*(4!/(2*2)', u'4', u'10', u'26', u'14!', u'1,098,240', u'1098240', u'', u'', u'', u'1098240', u'6', u'16', u'12', u'4', u'6', u'6', u'12', u'4', u'4!', u'10', u'26', u'', u'1098240', u'', u'7462', u'', u'120', u'10', u'1098240', u'123552', u'44', u'', u'4!', u'91', u'', u'12', u'1098240', u'', u'78', u'', u'', u'', u'4', u'1,098,240', u'1098240', u'26', u'1,098,240', u'', u'14080', u'78', u'6', u'12', u'']\n",
        "***  10 [u'13!/(9!4!)', u'13!/4!(9!)', u'13!/(4!(9!))', u'13!/(4!*9!)', u'13!/(4!9!)', u'13!/(4!9!)', u'13!/(4!9!)']\n",
        "***  11 [u'52!/(2!(50)!)', u'52!/(2!(50!))', u'52!/(2!50!)', u'52!/(49!2!)', u'52!/(2!50!)', u'52!/(2!50!)', u'52! / (2! * 50!)']\n",
        "***  12 [u'13!/12!', u'14!/13!', u'13!/(12!)', u'12!/5!', u'13!/4!', u'13!/(12!)', u'(13!/12!)']\n",
        "***  13 [u'12!/(7!5!)', u'15!/(5!10!)', u'17!/(5!12!)', u'17!/(5!13!)', u'12!/(5!7!)', u'52!/(47!5!)', u'52!/(2(5!(47!)))']\n",
        "***  14 [u'13!/(5!8!)', u'13!/(8!5!)', u'13!/(5!8!)', u'13!/(5!8!)', u'13!/(5!(8!))', u'13!/(5!8!)']\n",
        "***  15 [u'13!/(2!(13-2)!)', u'13!/(2!(13-2)!)', u'13! / (2! (13-2)!)', u'13!/(2!*(13-2)!)', u'(13!)/(2!(13-2)!)', u'4*(13!)/(2!(13-2)!)']\n",
        "***  2 [u'13*25', u'14*13', u'13*13', u'13*12', u'4*4*13', u'13*12', u'13*13', u'220*13', u'13*13', u'13C1*4C2*64', u'13*12*64', u'(13!)*(12)', u'13*12', u'13!13!', u'13*3', u'13*3!', u'13*12', u'13*16', u'13*4']\n",
        "***  3 [u'12^2', u'2^13', u'2^13', u'13^2', u'13^2', u'13^6', u'2^13', u'13^2', u'13^2', u'13^2', u'2^13', u'13^2', u'2^16', u'16^2', u'13^13', u'2^4', u'2^13', u'13^2']\n",
        "***  4 [u'14*6', u'13*6', u'13*6*220*4^3', u'13!6!', u'13*6', u'13*6', u'13*6', u'6*13', u'6*12', u'6*13', u'6*13', u'6*13*220*64', u'13*220*4^3*6', u'13*6', u'13*6', u'13*6', u'13*6', u'12*6']\n",
        "***  5 [u'13!/(2!11!)', u'13!/(2!(11!))', u'13!/(2!11!)', u'13!/(2!(11)!)', u'13!/(2!11!)', u'13!/(2!11!)', u'13!/((11!)(2!))', u'13!/(2!11!)', u'13!/(2!11!)', u'13!/(2!11!)', u'13! / (2! * 11!)', u'13!/(2!11!)', u'13!/(2!11!)', u'13!/(2!11!)', u'13!/(2!(11!))', u'13!/(2!11!)']\n",
        "***  6 [u'52!/13!', u'1098240/52!', u'1/52!', u'52!/(2(49!))', u'52!/(2(49!))', u'52!/2', u'52!/2!', u'52!/2!', u'52/2', u'52!/2', u'(52*51)/2!', u'4!/(4-2)!', u'(52*51)/2']\n",
        "***  7 [u'52!/(13!*39!)', u'52!/(13!(39!))', u'13!/(6!(7)!)', u'13! / (1! * 13!)', u'15!/(2!(13!))', u'52!/(13!(39!))', u'15!/(2!13!)', u'13!/(6!7!)', u'13!/(3!10!)', u'52!/(13!(39)!)', u'15!/(3!(15-3)!)', u'(52!/(13!(39)!))*6']\n",
        "***  8 [u'13*4*3/2', u'13*12/2', u'(13*12*11*10)/(4*3*2)', u'(13*13)/2', u'(13+1)*13/2', u'13*12*11/2!', u'13*12/2!', u'4*(13*12)/2', u'4*((13*12)/2)']\n",
        "***  9 [u'13!/(13-2)!', u'13!/(11!)', u'13!/11!', u'13!/2!', u'13!/5!', u'13!/2', u'13!/2!', u'13!/5!', u'13!/(2!/11!)']\n",
        "** Centroids:\n",
        "***  13!/(2!(13-2)!) too complicated!\n",
        "***  13 correct\n",
        "*\n",
        "*\n",
        "* Part 2\n",
        "** Question: 2. The number of possibilities for the suits of the pair is %s\n",
        "** Correct Answer: comb(4,2)\n",
        "** Dependencies: []\n",
        "** Clusters:\n",
        "***  0 [u'', u'0', u'', u'48', u'1098240/((52*51*50*49*48)/5!)', u'', u'', u'16', u'10', u'16', u'', u'52', u'715', u'8', u'16', u'8', u'', u'3!', u'16', u'8', u'2', u'', u'', u'8', u'7', u'10', u'16', u'(16*16)/2', u'24', u'5', u'24', u'5', u'8', u'5', u'3', u'10', u'16', u'16', u'24', u'220*64', u'64', u'16', u'2', u'78', u'16', u'312', u'', u'16', u'3!', u'C(4, 2)', u'16', u'1', u'2', u'8', u'52/13', u'91', u'13', u'', u'', u'', u'', u'', u'18', u'35', u'36', u'38', u'37', u'5!', u'41', u'42', u'43', u'44', u'45', u'52', u'208', u'27', u'3!', u'208', u'10', u'', u'16', u'13', u'', u'', u'', u'52', u'78', u'78', u'14080', u'', u'1', u'52', u'16', u'8', u'16', u'10', u'8', u'', u'8', u'16', u'2']\n",
        "***  1 [u'6', u'6', u'6', u'6', u'6', u'6', u'6', u'6', u'6', u'6', u'6', u'6', u'6', u'6', u'6', u'6', u'13*6', u'6', u'6', u'6', u'6', u'13*6', u'6', u'6', u'6', u'13*6', u'6', u'6', u'6', u'6', u'6', u'6', u'6', u'6', u'6', u'6', u'6', u'6', u'6', u'6', u'6', u'6', u'6', u'6', u'6', u'6', u'6', u'6', u'6', u'6', u'13*6', u'6', u'6', u'6', u'6', u'6', u'6', u'6', u'6', u'6', u'6', u'6', u'6', u'6', u'6', u'6', u'6', u'6', u'6', u'6', u'6', u'6', u'6', u'6', u'6', u'6', u'6', u'6', u'6']\n",
        "***  2 [u'4', u'4', u'4', u'4', u'4!', u'4', u'4', u'4', u'4!', u'4!', u'4', u'4', u'4', u'4', u'4', u'4', u'4', u'4', u'4', u'4!', u'4', u'4', u'4', u'4!', u'4', u'4', u'4', u'4', u'4', u'4', u'1098240/4', u'4', u'4', u'4!', u'4', u'4', u'4', u'4', u'1/4', u'4!', u'4!+4', u'4!-4', u'4', u'4!', u'4', u'4', u'4', u'4', u'4', u'4', u'4', u'4', u'4', u'4', u'4', u'4', u'4', u'4', u'4!', u'4', u'4', u'4', u'4', u'4', u'4', u'4']\n",
        "***  3 [u'4!/(2!2!)', u'4!/(2!2!)', u'4!/(2!2!)', u'4!/(2!2!)', u'4!/(2!2!)', u'4!/(2!*2!)', u'4!/(2!*2!)', u'4!/(2!*2!)', u'4! / (2! * 2!)', u'54!/(2!(52!))', u'53!/(2!(52!))', u'4!/(2!2!)', u'4!/(2!2!)', u'4!/(2! * 2!)', u'4!/(2!2!)', u'52!/(2!(50!))', u'4!/(2!2!)', u'4!/(2!*2!)', u'4!/(2!2!)', u'4!/(2!2!)', u'4!/(2!*2!)', u'(4!)/(2!(2!))', u'4!/(2!*2!)', u'(4!/(2! * 2!))', u'4!/(2!2!)', u'4!/(2! * 2!)', u'4!/(2!2!)', u'4! / (2! * 2!)', u'4! / (2! * 2!)', u'4! / (2! 2!)', u'4!/(2!*2!)!', u'13!/(2!11!)', u'4!/(2!*2!)', u'4! / (2! 2!)', u'4!/(2!2!)', u'4!/(2!*2!)', u'4!/(2!2!)', u'4!/(2!*2!)', u'4!/(2!2!)', u'4!/(2!2!)', u'4!/(2!2!)', u'13!/(2!(11!))', u'4!/(2!2!)', u'(4!/(2!2!))', u'(4!/(2!*2!))', u'4!/(2!2!)', u'4!/(2!*2!)', u'(13!)/(2!13!)']\n",
        "***  4 [u'4^2', u'4^3', u'4^13', u'4^2', u'4^2', u'4^4', u'2^4', u'4^2', u'2^4', u'4^2', u'13**4', u'4^2', u'2^4', u'5^4', u'4^3', u'13^4', u'4^4', u'4^5', u'4^3', u'4^2', u'4^2', u'4^2*13', u'4^2', u'4^2']\n",
        "***  5 [u'12', u'12', u'12', u'12', u'12', u'12', u'12', u'12', u'12', u'12', u'12', u'12', u'12', u'12', u'13!/(1!12!)', u'12', u'12*13', u'12', u'12', u'12', u'12', u'12']\n",
        "***  6 [u'13!/(9!4!)', u'4!/2', u'4!/4', u'4!/4', u'4!/2!', u'4!/2', u'5!/4!', u'13!/(4!9!)', u'4!/3!', u'4!/4', u'13!/(4!9!)', u'5!/4!', u'(4!/3!)^3', u'13!/2!', u'4!/2!', u'4!/2!', u'(4!/2!)', u'((52*51)/2)/4!']\n",
        "***  7 [u'4*4', u'4*4', u'13!(13-4)!', u'4*6', u'4*4', u'24*13', u'24*13*13', u'4*13!/(5!8!)', u'13*4', u'13*4', u'4*4', u'4*13', u'4*4', u'13*4', u'13*4', u'13*4', u'5*4', u'4!(2!2!)']\n",
        "***  8 [u'4!/((2!)(4-2)!)', u'4! / (2! (4-2)!)', u'4!/(2!(4-2)!)', u'4!/(2!(4-2)!)', u'4!/(2!(4-2)!)', u'4!/(2!(4-2)!)', u'4!/(2!*(4-2)!)', u'4!/(2!(4-2)!)', u'4!/(2!(4-2)!)', u'4!/(2!(4-2)!)', u'((52!)/(4!(52-4)!))*((51!)/(3!(51-3)!))', u'4!/(2!(4-2)!)', u'4!/(2!(4-2)!)', u'4!/(2!(4-2)!)', u'4!/(2!*(4-2)!)']\n",
        "** Centroids:\n",
        "***  6 1\n",
        "***   0\n",
        "***  4!/(2!2!) 3\n",
        "***  4 2\n",
        "***  12 5\n",
        "***  4^2 4\n",
        "***  13*4 7\n",
        "***  4!/4 6\n",
        "***  4!/((2!)(4-2)!) 8\n",
        "*\n",
        "*\n",
        "*\n",
        "*\n",
        "*\n",
        "* Part 3\n",
        "** Question: 3. The three other cards have three ranks different from the pair, the number of possibilities for their ranks is %s\n",
        "** Correct Answer: comb(12,3)\n",
        "** Dependencies: []\n",
        "** Clusters:\n",
        "***  0 [u'12', u'13', u'48', u'', u'12', u'', u'10', u'11', u'12', u'12+11+10', u'10+9+8+7+6+5+4+3+2+1', u'', u'3*12', u'10!', u'50!/(3!)', u'48!/(3!)', u'12*9', u'', u'', u'', u'1320', u'12', u'11! / 8!', u'286', u'17296', u'110592', u'19600', u'48!/45!', u'19600', u'12', u'1320', u'', u'13* (13!/(3!*10!)', u'1320', u'12!', u'64!', u'11', u'48', u'12', u'12*12*12', u'', u'1320', u'', u'1', u'79833600', u'1320', u'13!/10!', u'1320', u'12', u'(12!11!10!)/', u'', u'12', u'12*12', u'440', u'', u'', u'48', u'55', u'33', u'84480', u'1320', u'', u'17296', u'12', u'12*3', u'', u'720', u'1/10', u'10', u'286', u'286', u'715', u'', u'3', u'3*12', u'6^13', u'', u'12*12*12', u'12', u'64', u'39!/(2!/37!)', u'', u'', u'6', u'12', u'', u'', u'12', u'1716', u'1098240', u'14080', u'78', u'1037836800', u'', u'', u'(12!/(3!9!)', u'', u'12!/(3!(9!)', u'12!/((3!(9!)', u'12!/((3!(9!))', u'13', u'12*12*12', u'12', u'', u'', u'48', u'', u'12', u'12', u'', u'12+11+10', u'', u'440', u'12', u'12', u'3']\n",
        "***  1 [u'12!/(9!3!)', u'12!/(3!9!)', u'12!/(3!*9!)', u'12!/(9!*3!)', u'12!/(3!*9!)', u'12!/(3!9!)', u'(12!/(3!9!))', u'12!/(3!*9!)', u'12!/(9!*3!)', u'(12!/(3!*9!))', u'12!/(9!*3!)', u'12!/(3!(9)!)', u'12! / (9! * 3!)', u'12! / (3! * 9!)', u'12!/(9!3!)', u'12!/(9!3!)', u'12!/(3!9!)', u'12!/(3!9!)', u'12!/(3!*9!)', u'12!/(3!9!)', u'12!/(3!9!)', u'12!/(3!9!)', u'12!/(3!9!)', u'12!/(3!*9!)', u'(12!/(3!*9!))', u'12!/(3!9!)', u'13*12!/(9!3!)', u'12!/(9!3!)', u'12!/(3!*9!)', u'12!/((3!)(9!))', u'12!/(3!*9!)', u'12!/(9!(3!))', u'12!/(3!(9!))', u'12!/(9!*3!)', u'12!/(3!*9!)', u'12!/(3! * 9!)', u'12!/(3!9!)', u'12!/(3!*9!)', u'12!/(3!9!)', u'12!/(3!9!)', u'12! / (9! * 3!)', u'(12!11!10!)/(9!3!)', u'12! / (9! * 3!)', u'12!/(9!*3!)', u'12!/(3!9!)', u'12!/(3!(9!))', u'12!/(3!*9!)', u'12!/(3!(9!))', u'12!/(3!*9!)', u'12!/(3!9!)', u'12!/(3!*9!)', u'12!/(3!9!)', u'12!/(3!*9!)', u'12!/(3!9!)', u'12!/(3!9!)', u'12!/(3!9!)', u'12!/(9!*3!)', u'12!/(3!9!)', u'(12!/(3!9!))', u'12! / (3! 9!)', u'(12!/(3!*9!))', u'12!/(3!9!)', u'12!/(3!*9!)', u'12!/(3!(9)!)', u'12! / (3! * 9!)', u'(12!)/(9!*3!)', u'12!/(3!9!)', u'12!/(3!*9!)']\n",
        "***  10 [u'12!(9!3!)', u'12!/3!/9!', u'12!(3!9!)', u'13!/(9!4!)', u'12! / 9!', u'12!/9!3!', u'12!(3!9!)', u'12!/9!', u'13*12!/9!', u'12!/9!', u'12!/3!', u'13!/(1!12!)', u'12!/3!', u'12!/3!', u'12!/8!', u'(12!)/(9!)']\n",
        "***  2 [u'12*11*10', u'2*11*10', u'12*11*10', u'12*11*10', u'11*10*9', u'12*11*10', u'13*12*11', u'12*11*10', u'12*11*10', u'12*11*10', u'12*11*10', u'12*11*10', u'12*11*10', u'12*11*10', u'12*11*10', u'12 * 11 * 10', u'13 * 12 * 11', u'13*12*11', u'12*11*10', u'12*11*10', u'12*11*10', u'12*11*10', u'12*11*10', u'12*11*10', u'12*11*10', u'12!11!10!', u'12*11*10', u'13 * 12 * 11 * 10', u'12*11*10', u'12*11*10', u'12*11*10', u'13*12*11', u'12*11*10', u'12*11*10', u'13*12*11', u'12*11*10', u'12*11*10', u'12*11*10', u'13*12*11', u'12*11*10', u'12*11*10', u'12*11*10', u'12*11*10', u'12*11*10', u'12*11*10', u'12*11*10', u'11*10*9', u'11*10*9', u'(11*10*9)*4', u'12*11*10', u'(12*11*10)*4', u'12*11*10', u'12*4*11*4*10*4', u'(12*11*10)*3', u'12*4*11*3*10*2', u'12*11*10', u'12*11*10', u'12*11*10', u'12*11*10*4', u'12*11*10*4^3']\n",
        "***  3 [u'220', u'220', u'(220*64)', u'220', u'220', u'220', u'220', u'220', u'220', u'220', u'220', u'220', u'220', u'220', u'220', u'220', u'220', u'220', u'220', u'220', u'220', u'220', u'220', u'220', u'220', u'220', u'220', u'220', u'220', u'220']\n",
        "***  4 [u'13^3', u'12^3', u'3^13', u'4^3', u'12^3', u'12^3', u'48^3', u'13^3-13-12', u'12^3', u'12^3', u'13^3', u'12^3', u'13*12^3', u'13*12^3', u'12^3', u'4^3', u'12^3', u'12^3', u'11^3', u'3^3', u'4^3', u'3^13', u'12^3', u'12^3', u'12^3']\n",
        "***  5 [u'12!/(3!(12-3)!)', u'12!/((12-3)!3!)', u'12!/(3!(12-3)!)', u'12!/(3!*(12-3)!)', u'12!/((3!)(12-3)!)', u'12!/(3! * (12 - 3)!)', u'12!/(3!(12-3)!)', u'12!/(3!(12-3)!)', u'12! / (3! (12 - 3)!)', u'12!/(3!(12-3)!)', u'12!/(3!(12-3)!)', u'12!/(3!*(12-3)!)', u'12!/(3!(12-3)!)', u'(12!)/(3!(12-3)!)', u'12!/(3!(12-3)!)', u'12!/(3!(12-3)!)', u'12!/(3!(12-3)!)', u'12!/(3!(12-3)!)', u'12!/(3!(12-3)!)', u'12!/(3!(12-3)!)', u'12!/(3!(12-3)!)', u'12!/(3!(12-3)!)', u'(12!)/(3!(12-3)!)', u'12!/((3!)(12-3)!)']\n",
        "***  6 [u'12*11*10/3!', u'(10*9*8)/3!', u'11*10*9/3!', u'13*12*11/3!', u'12*11*10/3!', u'12*11*10/5!', u'12*11*10/3!', u'12 * 11 * 10/(3!)', u'(13*12*11)/3!', u'(12*11*10)/3', u'(12*11*10)/3!', u'(12*11*10)/3!', u'(12*11*10)/3!', u'(12*11*10)/3!', u'(13 * 12 * 11 * 10) / 3!', u'12*11*10/3!', u'(11*10*9)/3!', u'(12*11*10)/3!', u'12 * 11 * 10 / 3!']\n",
        "***  7 [u'11!/(3!*8!)', u'48!/(3!*45!)', u'11! / (8! * 3!)', u'11!/(3!8!)', u'(52!/(3!49!))*49', u'48!(45!(3!))', u'14!/(11!(3!))', u'15!/(3!*(12!))', u'16!/(3!13!)', u'12!/(3!19!)', u'48!/(3!45!)', u'48!/(3!45!)', u'11!/(3!*8!)', u'48!/(3!45!)', u'12!/(3!(8!))', u'40! / ( 3! * 37!)', u'48! / (3! * 45!)', u'13!/(8!*5!)']\n",
        "***  8 [u'48*47*46', u'48*44*40', u'48*44*40', u'48*44*40', u'48*44*40', u'48*44*40*6', u'48*44*40', u'48*44*40', u'48*44*40/3', u'48*44*40/6', u'48*44*40', u'(50*49*48)/3!', u'48*44*40/6', u'48*44*40', u'48*44*40', u'48*47*46', u'(50*49*48)/6']\n",
        "***  9 [u'14*13*12', u'(52-12)*(52-16)*(52-20)', u'(52-12)*(52-4)*(52-8)', u'(13-1)*(13-2)*(13-3)', u'13*(13-1)*(13-2)*(13-3)', u'1098240/(13*4)', u'13 * 6', u'3*13', u'13*6', u'13-6', u'52-13-6', u'52-13', u'6*13', u'(52-13)/3', u'13*12*13', u'13*13*12']\n",
        "** Centroids:\n",
        "***  12! / 9! 10\n",
        "***  12!/(9!3!) 1\n",
        "***   0\n",
        "***  220 3\n",
        "***  12*11*10 2\n",
        "***  12!/(3!(12-3)!) 5\n",
        "***  12^3 4\n",
        "***  40! / ( 3! * 37!) 7\n",
        "***  12*11*10/3! 6\n",
        "***  13 * 6 9\n",
        "***  48*44*40 8\n",
        "*\n",
        "*\n",
        "*\n",
        "* Part 4\n",
        "** Question: 4. And they can have any suit, thus the number of possibilities of their suites is %s\n",
        "** Correct Answer: 4**3\n",
        "** Dependencies: []\n",
        "** Clusters:\n",
        "***  0 [u'3', u'', u'48', u'', u'20', u'', u'64', u'', u'', u'', u'', u'64', u'24', u'72', u'3*3*3', u'35', u'12', u'64', u'16', u'12', u'35', u'20', u'', u'6', u'20', u'', u'120', u'', u'64', u'', u'', u'3!', u'', u'9', u'6', u'6', u'3', u'220*3', u'48', u'48*47*46', u'16', u'', u'6', u'78', u'78', u'64', u'64/3', u'', u'64', u'10', u'14080', u'27', u'64', u'8', u'64', u'8', u'64', u'10', u'(4+3-1)!/((4-1)!3!))', u'48', u'3', u'3*3', u'440*35', u'35', u'', u'20', u'', u'84480', u'14', u'9', u'', u'3', u'64', u'12', u'880', u'', u'6', u'3', u'17296', u'24', u'64', u'', u'6', u'64', u'715', u'78', u'78+', u'64', u'715', u'', u'3!', u'64', u'64', u'64', u'14080', u'4400', u'64', u'', u'', u'', u'', u'', u'880', u'14080', u'78', u'84480', u'44', u'64', u'', u'4+(4!/2!(4-2)!))*(4!/1!(4-1)!))', u'4+(4!/2!(4-2)!)*(4!/1!(4-1)!))', u'64', u'', u'3!', u'', u'', u'', u'64', u'1320', u'14080', u'6', u'64', u'', u'(4!/(3!(4-3)!)*(12!/(3!(12-3)!))', u'', u'12', u'48', u'64', u'12', u'24']\n",
        "***  1 [u'4^3', u'4^3', u'4^3', u'4^3', u'4^3', u'4^3', u'4^3', u'4^3', u'4^3', u'4^5', u'4^3', u'4^3', u'4^3', u'4^3', u'4^3', u'3^4', u'4^3', u'4^3', u'4^3', u'4^3', u'4^3', u'4^3', u'4^3', u'4^3', u'4^3', u'3^3', u'4^3', u'4^3', u'4**3', u'4^3', u'4^3', u'4^3', u'4^3', u'3^4', u'4^3', u'4^3', u'4^3', u'4^3', u'4^3', u'4^3', u'4^3', u'4^3', u'4^3', u'4^3', u'4^3', u'4^3', u'4^3', u'3^13', u'4^3', u'4^3', u'4^3', u'4^3', u'16^4', u'4^3', u'4^3', u'4^3', u'4^3', u'4^3', u'4^4', u'4^3', u'4^3', u'4^3', u'4^3', u'4^3', u'4^3', u'4^3', u'4^3', u'4^3', u'4^3', u'4^3', u'4^3', u'4^3', u'4^3', u'4^3', u'12^3', u'3^3', u'3^4', u'3^4', u'4^3', u'4^3', u'4^3', u'4^3', u'4^3', u'4^3', u'4^3', u'4^3', u'3^6', u'4^3', u'4^3', u'12^3', u'4^3', u'4^3', u'4^3', u'4**3', u'4^3', u'4^3', u'4^3']\n",
        "***  10 [u'(12!/(3!(12-3)!))*4', u'(12!/(3!(12-3)!))*4^3', u'(12!/(3!(12-3)!))*4*4*4', u'(12!/(3!(12-3)!) )*6', u'(12!/(3!(12-3)!) )*4', u'4*(12!/(3!(12-3)!))', u'4*(12!/(3!(12-3)!))', u'4*((12!)/(3!(12-3)!))']\n",
        "***  11 [u'(12!/(3!(12-3)!))', u'(12!/(3!(12-3)!) )/4', u'12!/(3!(12-3)!)', u'(12!)/(3!(12-3)!)', u'12!/(3!(12-3)!)', u'4*(12!)/(3!(12-3)!)']\n",
        "***  2 [u'4', u'4', u'4', u'4', u'4', u'4', u'4', u'4', u'4', u'4', u'4', u'4!', u'4', u'4!', u'4!', u'4', u'4!', u'4!', u'4', u'1098240/4', u'4', u'4', u'4', u'4', u'4', u'4', u'4+6+4', u'4', u'4!', u'4', u'4', u'4!', u'4', u'4', u'4']\n",
        "***  3 [u'4*4*4', u'4*4*4', u'4 choose 1', u'4*4', u'4*4*4', u'4*4*4', u'4*4*4', u'16*4', u'(13!/(5!8!))*4', u'4*3*2', u'4*4*4', u'4 * 4 * 4', u'4*4*4', u'4*4*4', u'4 * 4 * 4', u'4*4*4', u'(4*4*4)/6', u'4*4*4', u'4*4*4', u'4*3*4*4*4', u'16*4', u'4 * 3*2', u'4*4*4', u'4*4*4', u'4*4*4', u'4*4*4', u'4*4*4', u'4*4*4', u'220*4']\n",
        "***  4 [u'4!/3!', u'4!/3!', u'4!/3!', u'64/3!', u'4!/3!', u'4!/(3!)', u'3*4!/(3!)', u'4!/(3!)', u'4!/3!', u'4!/(3!)', u'4^3/3!', u'4!/3!', u'4!/3!', u'4!/3!', u'52!/(4!(48!))', u'6!/(3!)', u'4!/3!', u'4!/(4!0!)', u'((50*49*48)/6)/4!', u'4!/3!']\n",
        "***  5 [u'6!/(3!*3!)', u'6 * 11! / 8!', u'6 * 11! / (8! * 3!)', u'13!/(10!3!)', u'6!/(3!3!)', u'6!/(3!3!)', u'6!/(3!(3!))', u'6!/(3!3!)', u'(6!/(3! * 3!))', u'6!/(3! * 3!)', u'5!/(2!*3!)', u'48!/(3!45!)', u'6!/(3!*3!)', u'6!/3!3!', u'6!/(3!*3!)', u'6!/(3!*3!)', u'13!/(3!10!)', u'3!/(3!0!)', u'6!/(3!*3!)']\n",
        "***  6 [u'12!/(3!*9!)*64*6*13', u'4*(12!/(3!9!))', u'(12!/(3!*9!))*4', u'(12!/(3! * 9!)) * (5!/(3! * 2!))', u'(12!/(3! * 9!)) * (6!/(3! * 3!))', u'(12!/(3!9!)) *4', u'12!/(3!9!) * 4', u'12!/(3!9!) * 3!', u'12!/(3!9!)*4', u'4*(12!/(3!9!))', u'4*(12!/(3!9!))', u'4!/(1!3!)*(12!/(3!9!))', u'(12!/(3!*9!)) * 4', u'(12!/(3!*9!)) * 3', u'(12!/(3!*9!)) * 4^3', u'12! / (3!* 9!) * 4', u'3*[12!/(3!*9!)]']\n",
        "***  7 [u'4!/(3!(4-3)!)', u'4!/(3!(4-3)!)', u'48!/((3!)(48-3)!)', u'4!/((3!)(4-3)!)', u'4! / (3! (4-3)!)', u'4!/(3!(4-3)!)', u'4!/(3!(4-3)!)', u'4!/(3!(4-3)!)', u'4!/(3!(4-3)!)', u'4!/(3!(4-3)!)']\n",
        "***  8 [u'(3 + 4-1)!/(3! * (4-1)!)', u'6!/(4!(6-4)!)', u'4!/(1!(4-1)!)', u'(4!/(1!(4-1)!))**3', u'6!/(4!(6-4)!)', u'(4+3-1)!/((4-1)!3!)', u'4!/(1!(4-1)!)', u'(4!/(1!(4-1)!))*3', u'(4!/(1!(4-1)!))^3']\n",
        "***  9 [u'4!/(3!1!)', u'4!/(3!1!)', u'13!/(1!12!)', u'11!/(1!10!)', u'4!/(1!3!)', u'3!/(1!2!)', u'4!/(1!3!)', u'(4!/(1!3!))^3', u'(4!/(1!3!))^3']\n",
        "** Centroids:\n",
        "***  (12!/(3!(12-3)!)) 11\n",
        "***  (12!/(3!(12-3)!))*4 10\n",
        "***  4^3 1\n",
        "***   0\n",
        "***  4*4*4 3\n",
        "***  4 2\n",
        "***  6!/(3!*3!) 5\n",
        "***  4!/3! 4\n",
        "***  4!/(3!(4-3)!) 7\n",
        "***  4*(12!/(3!9!)) 6\n",
        "***  4!/(3!1!) 9\n",
        "***  4!/(1!(4-1)!) 8\n",
        "* Part 5\n",
        "** Question: 5. Thus the number of hands with exactly one pair is %s\n",
        "** Correct Answer: 13*comb(4,2)*comb(12,3)*(4**3)\n",
        "** Dependencies: [1, 2, 3, 4]\n",
        "** Clusters:\n",
        "***  0 [u'52*3*48*47*46', u'1,098,240', u'1098240', u'1098240', u'1098240', u'1098240 ', u'', u'1098240', u'1098240', u'1098240', u'1,098,240', u'1098240', u'1098240', u'13^2+13^3-13-12', u'1098240', u'(52!/5!47!)(5!/2!3!)', u'(52!/(5!47!))(5!/(2!3!))', u'52*51^3', u'52*50^3', u'52*50^3*3', u'52*3*48^3', u'52!/(5!(52-5)!) + 5!/(2!(5-2)!)', u'463320', u'1098240', u'20 * 4!/(2!2!)', u'', u'52/4', u'52/2', u'1098240', u'1098240', u'1528800', u'1349088', u'13*4!/(2!2!)', u'13*6', u'1098240h', u'1098240', u'52!/(4!48!)*3', u'', u'1098240', u'58,627,800', u'58627800', u'', u'', u'(11*10*9/3!)*4)*((13*12*11/2!)*6)', u'13*6', u'13+220', u'13*220', u'', u'78', u'390', u'7*13', u'84480', u'1098240', u'13*((4!)/(2!(2!)))*4*4*4*(12!/(9!(3!))', u'', u'', u'', u'26', u'52/2', u'52/4', u'1098240', u'78', u'1098240', u'220 * 4^3', u'', u'2584880', u'1098240', u'(13!)(4!/(2!2!)(12!/3!)(4^3)', u'1098240', u'109825', u'1098240', u'1098240', u'1098240', u'1098240', u'(4!/(2!2!))(13)+(12!/(3!9!))((4+3-1)!/((4-1)!3!)))', u'((52*3)/2)((48*44*38)/3!)', u'52!/(2!(52-2)!)', u'3744', u'31680', u'1098240', u'1098240/(13*4)', u'2,860', u'(13!/12!)*(12!/(3!(9!))', u'', u'2860', u'', u'1098240', u'303', u'13 * 6', u'1098240', u'123552', u'(13!/(2!*(13-11)!)* (4!(2!*2!))^2 * 44', u'1098240', u'52*13!/(3!*10!)', u'', u'52*11!/(3!*8!)', u'1098240', u'1098240', u'(13C2 * 4C2 * 4C2 * 44)', u'123552', u'1098880', u'1098240', u'((12*11*10)/3!)*(4^3)*(4!/(2!2!)*13', u'', u'1098240', u'2*3*48*47*46/3', u'4*(13!/(2!11!))', u'', u'13!/(1!12!)', u'', u'', u'1098240', u'123552', u'1326', u'6*13', u'1098240', u'1098240', u'', u'1098240', u'1098240', u'', u'1098240', u'', u'1098240', u'4^2*13*(4!/(3!(4-3)!)*(12!/(3!(12-3)!))']\n",
        "***  1 [u'13*6*220*4', u'13*6*220*(4^3)', u'13*6*220*64', u'13 * 6* 6 * 11! / 8!', u'13 * 6* 6 * 11! / (8! * 3!)', u'13 * 6 * 220 * 64', u'13*6*220*4^3', u'13*6*12!*64/3!/9!', u'13*6*220*64', u'13*6*220*20', u'13*6*220*64', u'13*6+220*64', u'13*6*220*64', u'13*6*220*64', u'13*220*4^3*6', u'13*6*220*64', u'13*6*220*64', u'220*35*13*6', u'220*20*13*6', u'12*3*6*13', u'13*6*220*64', u'13*6*220*64', u'13*6*220*64', u'220*13*6*4^3', u'(13*6*64*220)', u'13 * 6 * 12^3 * 4^3', u'6*13*(50/(3!47!))', u'13*12*1320*64', u'13*12*1320*64/12', u'13*6*220*4^3', u'13*6*220*64']\n",
        "***  2 [u'13*4*3*12!/(3!9!)*4*4*4', u'(12!/(3!*9!))*4*6*13', u'(12!/(3!*9!))*20*6*13', u'(12!/(3!*9!))*64*6*13', u'(12!/(3!*9!))*64*3*13', u'13*6*(12!/(3!9!))*(4^3)', u'13*6*(12!/(9!*3!))*4*4*4', u'13*6*(12!/(3!(9)!))*4^3', u'(13*4)(12!/9!3!)(4^3)', u'(13*4!/4)(12!/9!3!)(4^3)', u'(13*4!/4)(12!/(9!3!))(4^3)', u'13*6*(12!/(3!9!))*4^3', u'13*(12!/(3!*9!)*4^3)', u'13*6*(12!/3!*9!)*(4^3)', u'(13*6)*(64*(12!/(3!9!)))', u'(13*6)*(12!/(3!*9!)*4^3)', u'4 * 12! / (9! * 3!) * 13 * 4! / (2! * 2!)', u'13*6*(12!/(3!(9!)))*4^3', u'((12!/(3!9!)) *4)*(6*13)', u'((12!/(3!9!)) *64)*(6*13)', u'13*6*(12!/(3!*9!))*64', u'13*4*3*(12!/(3!9!))*(4^3)', u'13*6*(12!/(9!*3!))*4^3', u'(4!/(2!*2!)) * ((12!/(3!*9!))*4)', u'(4!/(2!*2!)) * ((12!/(3!*9!))*3)', u'13 * 6 * 12! / (3!*9!) * 4 * 4 * 4', u'6*13*((12!/(3!*9!)))*(4^3)', u'13*6*(12!/(3!9!))*4^3', u'4 * 12! / (9! * 3!) * 13 * 4']\n",
        "***  3 [u'13*4!/(2!2!) * 4*4*4*(12!/(3!9!))', u'13*(4!/(2!*2!))*(12!/(3!*9!))*(4!/3!)', u'13*(4!/(2!*2!))*(12!/(3!*9!))*4^3', u'13*((4!)/(2!(2!)))*4*4*4*(12!/(9!(3!)))', u'13*(4!/(2!*2!))*(12!/(9!*3!))*(4^3)', u'(4!/(2! * 2!)) * (12!/(3! * 9!)) * 4^3', u'(4!/(2! * 2!)) * (12!/(3! * 9!)) * 4^3 * 13', u'(13!/(12!))(4!/(2!2!))(12!/(3!9!))(4^3)', u'(4!/(2!2!))(13)+(12!/(3!9!))((4+3-1)!/3!3!)', u'13 * (4! / (2! * 2!)) * (12! / (9! * 3!)) * 4^3', u'(4!/(2!2!))(13)+(12!/(3!9!))((4+3-1)!/((4-1)!3!))', u'(4!/(2!2!))(13)+(12!/(3!9!))(4^3)', u'(4!/(2!2!))(13)*(12!/(3!9!))(4^3)', u'(13*(4!/(2!*2!))*(12!/(3!*9!))*(6!/(3!*3!)))/5!', u'(13*(4!/(2!*2!))*(12!/(3!*9!))*(4^3))/5!', u'(13*(4!/(2!*2!))*(12!/(3!*9!))*(4^3))', u'13*(4!/(2!2!))*(12!/(3!9!))*(4^3)', u'(13!/(1!12!))*(4!/(2!2!))*((4!/(1!3!))^3)*(12!/(3!9!))', u'(13!/(1!12!))(4!/(2!2!))(12!/(3!9!))(4!/(1!3!))^3', u'13 * (4!/(2!2!)) * (12!/3!9!) * 4^3', u'13 * (4!/(2!2!)) * (12!/(3!9!)) * 4^3', u'(13!/(12!*1!)) * (4!/(2!*2!)) * (12!/(9!*3!)) * (4!/(3!*1!)) * (4!/(3!*1!)) * (4!/(3!*1!))', u'13*(4!/(2!*2!))*((12!)/(9!*3!))*(4^3)']\n",
        "***  4 [u'13*6*4^3*12!/3!/9!', u'13*6*2*11*10*4*4*4', u'13*4*12*3', u'13*4*4*12!(3!9!)', u'13*6*12*11*10*4*4*4', u'4^3 * 13 * 6 * 12! / 9!', u'4^3 * 13 * 6 * 12! / 9! / 3!', u'13*10*12*11*10*4^3', u'13*4*12*11*10*4', u'13*4*3*12*11*10*4*3*2', u'(13*4)*(12*11*10*4)', u'(4*4*4 * 6 * 13) * 12 * 11 *10/(3!)', u'13*12*11*10', u'13*(13-1)*(13-2)*(13-3)*4*3*4*4*(5!/2)', u'12*11*10*4*4*4', u'13*12*12*11*10*4^3', u'13*12*11*10*4^3', u'((12*11*10)/3!)/(4^3)', u'13*6*12*11*10*4*4*4', u'13*6*12*11*10*4*4*4/6', u'13*4^2*12*11*10*4^3', u'((12*11*10)/3!)+(4^3)', u'13*12*11*10*4*4*4']\n",
        "***  5 [u'13!/(2!11!) - 4!/(2!2!) - 4*(12!/(3!9!))', u'13*4*3/2*12!/(9!*3!)*4^3', u'13*(12!/(3!*9!))', u'13 * 6 * 4^3 * (12!/(3!9!))', u'13*6*12!/(9!3!)*4^3', u'13*6*4^3*12!/(3!*9!)', u'12!/(3! * 9!) * 4^3', u'(13*4^2)*(12!/(3!*9!))', u'(13*6)*(12!/(3!*9!))', u'52*12!/(3!*9!)', u'13 * 3! * 12!/(3!9!) * 4^3', u'13*6*12!/(3!9!)*4', u'13*6*12!/(3!9!)*6', u'13*6*12!/(3!9!)*4', u'13*6*12!/(3!9!)*4^3', u'13!/(1!12!)*12!/(3!9!)*4!/(2!2!)', u'(4!/(2!*2!)) * (12!/(3!*9!))', u'13*(12!)/(9!*3!)', u'6*13*((12!/(3!*9!)))', u'13*6*(12!/(3!9!))', u'(13*6)*[(4^3*12!)/(3!*9!)]']\n",
        "***  6 [u'13*4!/(2!2!) + 4*(12!/(3!9!))', u'13*4!/(2!2!) + 16*(12!/(3!9!))', u'13*4!/(2!2!) + 4*4*4*(12!/(3!9!))', u'13*4!/(2!2!)+12!/(3!9!)*4!/(3!)', u'13*4!/(2!2!)+12!/(3!9!)*3*4!/(3!)', u'13*4!/(2!2!)+12!/(3!9!)*4**3', u'13*4!(2!2!)+4**3*12!/(3!9!)', u'13*4!/(2!2!)+4**3*12!/(3!9!)', u'13*4!/(2!2!)+(4**3)*12!/(3!9!)', u'(13*6)+(64*(12!/3!9!))', u'(13*6)+(64*(12!/(3!9!)))', u'13*(4!/(2!*2!)) + ((12!)/(9!*3!))*(4^3)', u'13 + (12!)/(9!*3!)', u'(13*6)+[(4^3*12!)/(3!*9!)]']\n",
        "***  7 [u'12!/(3!(12-3)!)*4^3*13', u'(12!/((3!)(12-3)!))*(4^3)', u'13 * (2!/((3!)(12-3)!))', u'13 * (12!/((3!)(12-3)!))', u'13*6*4^3*(12!/(3!(12-3)!))', u'(13!/(1!(13-3)!))*(12!/(3!(12-3)!))', u'(13!/(1!(13-1)!))*(12!/(3!(12-3)!))', u'13*(12!/(3!*(12-3)!))', u'13*12!/(3!*(12-3)!)', u'(12!)/(3!(12-3)!)*6*13*4^3', u'52!/(5!(52-5)!)-12!/(3!(12-3)!)*4^3', u'13*6*(12!/(3!(12-3)!))*(4**3)', u'4*13*4*(12!/(3!(12-3)!))']\n",
        "***  8 [u'13*4!/(2!2!)*12!/(9!3!)*4^3', u'13 * 4!/(4-2)! * 12!/((12-3)!3!) * 4^3', u'13 * 4!/(2!2!) * 12!/((12-3)!3!) * 4^3', u'13 * 4! / (2! * 2!) * 12! / (3! * 9!) * 4^3', u'13 * 4!/(2! * 2!) * 12!/(3! * (12 - 3)!) * 4^3', u'13*4!/(2!2!)*12!/(3!9!)*4^3', u'13*4!/(2!(4-2)!)*12!/(3!*(12-3)!)*4^3', u'(4!/(2! * 2!)) * 12!/(3! * 9!) * 4^3', u'13*4!/(2!*(4-2)!)*12!/(3!(12-3)!)*4^3', u'13*4!/(2!*2!)*12!/(9!*3!)*4^3', u'13*4!/(2!(4-2)!)*12!/(3!(12-3)!)*4^3', u'13*4!/(2!*2!)*12!/(3!*9!)*4^3']\n",
        "** Centroids:\n",
        "***  13*6*220*64 1\n",
        "***  1,098,240 0\n",
        "***  13*(4!/(2!*2!))*(12!/(3!*9!))*4^3 3\n",
        "***  ((12!/(3!9!)) *4)*(6*13) 2\n",
        "***  (13*6)*(12!/(3!*9!)) 5\n",
        "***  13*4*12*11*10*4 4\n",
        "***  13 * (12!/((3!)(12-3)!)) 7\n",
        "***  13*4!/(2!2!) + 4*(12!/(3!9!)) 6\n",
        "***  13*4!/(2!2!)*12!/(9!3!)*4^3 8\n",
        "* Part 6\n",
        "** Question: 6. The ratio of this number to the number of all hands %s\n",
        "** Correct Answer: 13*comb(4,2)*comb(12,3)*(4**3)/comb(52,5)\n",
        "** Dependencies: [0, 5]\n",
        "** Clusters:\n",
        "***  0 [u'3*48*47*46', u'1,098,240/52!/(5!(52-5)!)', u'1098240/2598960', u'1098240/2598960', u'', u'1098240/2598960', u'1098240/2598960', u'(13^2+13^3-13-12)/(52!/47!)', u'1098240/2598960', u'1098240/2598960', u'1098240/2598960', u'', u'1098240/2598960', u'1098240/2598960', u'', u'1098240/2598960', u'58,627,800/133,784,560', u'58627800/133784560', u'', u'1.36 : 1', u'(7*13)/2598960', u'(13*6*220*64)/2598960', u'1098240 /  2,598,960 ', u'1098240 / 2598960 ', u'', u'26/2598960', u'1098240/2598960', u'78/2598960', u'1098240/2598960', u'1098240/2598960', u'((13!)(4!/(2!2!)(12!/3!)(4^3))/(52!/(5!47!))', u'(13*6*220*64)/2598960', u'352/833', u'1098240/2598960', u'1098240/2598960', u'((4!/(2!2!))(13)+(12!/(3!9!))(4^3)', u'1098240/2598960', u'1098240/2598960', u'((13!/12!)*(12!/(3!(9!)))/2598960', u'', u'(12*3*6*13)/2598960', u'', u'1098240/2598960', u'123552/2598960', u'1098240/2598960', u'1098240/2598960', u'1098880/2598960', u'1098240/2598960', u'(((12*11*10)/3!)*(4^3)*(4!/(2!2!)*13)/2598960', u'0.42256902761', u'4*(13!/(2!11!))', u'', u'13!/(1!12!)', u'', u'', u'(13*12*11*10*4*4*4)/2,598,960', u'1098240', u'1098240/2598960', u'123552/2598960', u'1326/2598960', u'1/221', u'1098240/2598960', u'', u'(13*6*220*4^3)/(52!/(5!(47!))', u'1098240/2598960', u'1/2.36', u'.422', u'', u'', u'.422', u'', u'1098240/2598960', u'1098240/2598960', u'(4^2*13*(4!/(3!(4-3)!)*(12!/(3!(12-3)!)))/(52!/(5!(52-5)!))']\n",
        "***  1 [u'(13*4!/(2!2!) * 4*4*4*(12!/(3!9!)))/(52*51*50*49*48/5!)', u'13*(4!/(2!*2!))*(12!/(3!*9!))*(4!/3!)/(52*51*50*49*48)', u'13*(4!/(2!*2!))*(12!/(3!*9!))*(4!/3!)/(52!/(5!*47!))', u'13*(4!/(2!*2!))*(12!/(3!*9!))*4^3/(52!/(5!*47!))', u'(13*((4!)/(2!(2!)))*4*4*4*(12!/(9!(3!))))/(52!)/(47!(5!))', u'(13*((4!)/(2!(2!)))*4*4*4*(12!/(9!(3!))))/((52!)/(47!(5!)))', u'(13*(4!/(2!*2!))*(12!/(9!*3!))*(4^3))/(52!/(47!(5!)))', u'(4!/(2! * 2!)) * (12!/(3! * 9!)) * 4^3 * 13 / 2598960', u'((13!)(4!/(2!2!))(12!/3!))/((4^3)/(52!/(5!47!)))', u'((13!)(4!/(2!2!))(12!/3!)(4^3))/(52!/(5!47!))', u'((4!/(2!2!))(13)+(12!/(3!9!))((4+3-1)!/3!3!))/(52!/(5!47!))', u'(13 * (4! / (2! * 2!)) * (12! / (9! * 3!)) * 4^3) / (52! / (5! * 47!))', u'((4!/(2!2!))(13)+(12!/(3!9!))((4+3-1)!/((4-1)!3!)))/(52!/(5!47!))', u'((4!/(2!2!))(13)*(12!/(3!9!))(4^3))/(52!/(5!47!))', u'(4 * 12! / (9! * 3!) * 13 * 4! / (2! * 2!)) / (52! / (5! * (52-5)! ))', u'(13!/(9!*4!)*4!(2!*2!)*4^3)/(52!/(47!*5!))', u'(13*(4!/(2!*2!))*(12!/(3!*9!))*(4^3))/(52!/(5!*47!))', u'(13*(4!/(2!2!))*(12!/(3!9!))*(4^3))/(52!/((52-5)!5!))', u'(13!/(1!12!))*(12!/(3!9!))*(4!/(2!2!))/(52!/(5!47!))', u'(13!/(1!12!))*(4!/(2!2!))*((4!/(1!3!))^3)/(52!/(5!47!))', u'(13!/(1!12!))*(4!/(2!2!))*((4!/(1!3!))^3)*(12!/(3!9!))/(52!/(5!47!))', u'(13 * (4!/(2!2!)) * (12!/3!9!) * 4^3) / (52!/5!47!)', u'(13 * (4!/(2!2!)) * (12!/(3!9!)) * 4^3) / (52!/(5!47!))', u'(4!/(2!*2!)) * (12!/(3!*9!)) / 52!/(47!*5)', u'(4!/(2!*2!)) * ((12!/(3!*9!)) * 4) / 52!/(47!*5!)', u'(4!/(2!*2!)) * ((12!/(3!*9!)) * 3) / (52!/(47!*5!))', u'((13!/(12!*1!)) * (4!/(2!*2!)) * (12!/(9!*3!)) * (4!/(3!*1!)) * (4!/(3!*1!)) * (4!/(3!*1!)))/ (52!/(47!*5!))', u'(13*(4!/(2!*2!))*((12!)/(9!*3!))*(4^3))/(52!)/((47!)*(5!))', u'(13*(4!/(2!*2!))*((12!)/(9!*3!))*(4^3))/((52!)/((47!)*(5!)))']\n",
        "***  10 [u'(13*4!/(2!2!) + 4*(12!/(3!9!)))/(52*51*50*49*48/5!)', u'(13*4!/(2!2!) + 16*(12!/(3!9!)))/(52*51*50*49*48/5!)', u'(13*4!/(2!2!) + 4*4*4*(12!/(3!9!)))/(52*51*50*49*48/5!)', u'(13*4!/(2!2!)+12!/(3!9!)*4!/(3!))/52!/(5!47!)', u'(13*4!/(2!2!)+12!/(3!9!)*3*4!/(3!))/52!/(5!47!)', u'(13*4!/(2!2!)+12!/(3!9!)*4**3)/52!/(5!47!)', u'(13*4!(2!2!)+4**3*12!/(3!9!))/(52!/(5!47!))', u'(13*4!/(2!2!)+4**3*12!/(3!9!))/(52!/(5!47!))']\n",
        "***  11 [u'13*6*4^3*12!/3!/9!/52!/47!/5!', u'(13*6*220*(4^3))/(52!/(47!*5!))', u'4^3 * 13 * 6 * 12! / 9! /(52! / 5! / 47!)', u'4^3 * 13 * 6 * 12! / 9! / 3! /(52! / 5! / 47!)', u'(13*6*4^3*12!/(3!*9!))/(52!/(47!*5!))', u'(13*220*4^3*6)/(52!/(5!*47!))', u'(220*13*6*4^3)/(52!/(5!(47!)))', u'(13*6*220*4^3)/(52!/(5!(47!)))']\n",
        "***  12 [u'(13*4!/(2!2!)*(13!/10!3!)*4^3)/(52!/((52-5)!5!))', u'(13*(4!/(2!*2!))*(12!/(3!*(12-3)!))*(4^3))/(52!/(5!(52-5)!))', u'((13)*(4!/(2!*2!))*(12!/(3!(12-3)!))*(4^3))/(52!/(5!(52-5)!))', u'(13 * (4!/(2!(4-2!))) * (12!/(3!(12-3)!)) * 4^3)/(52!/(5!(52-5)!))', u'((13!/(1!(13-1)!))* (4!/(2!(4-2)!)) * (12!/(3!(12-3)!)) * (4!/(1!(4-1)!))^3) / (52!/(5!(52-5)!))', u'((13)(4!/(2!(4-2)!))(12!/(3!(12-3)!))(4^3))/(52!/(5!(52-5)!))', u'(13*(4!/(2!(4-2)!))*(12!/(3!(12-3)!))*4^3)/(52!/(5!(52-5)!))', u'(4^2*13*(4!/(3!(4-3)!))*(12!/(3!(12-3)!)))/(52!/(5!(52-5)!))']\n",
        "***  13 [u'(13!/(2!11!) - 4!/(2!2!) - 4*(12!/(3!9!)))/(52*51*50*49*48/5!)', u'13*(12!/(3!*9!))/2598960', u'(13*4^2)*(12!/(3!*9!))/2598960', u'(13*6)*(12!/(3!*9!))/2598960', u'(13*6)*(12!/(3!*9!)*4^3)/2598960', u'(13*6*(12!/(3!(9!)))*4^3)/2598960', u'(((12!/(3!9!)) *4)*(6*13))/(52*51*50*49*48/5!)', u'(((12!/(3!9!)) *64)*(6*13))/(52*51*50*49*48/5!)']\n",
        "***  2 [u'13*6*2*11*10*4*4*4*5!*47!/52!', u'13*4*12*3/(52!/(5!47!))', u'(13*6*220*4)/(52!/(47!*5!))', u'(13*6*12*11*10*4*4*4)/(52!/(5! * 47!))', u'(13 * 6 * 220 * 64)/52!/(5!47!)', u'(13 * 6 * 220 * 64)/(52!/(5!47!))', u'13*6*12!*64/3!/9!/(52!/(5!*47!))', u'13*6*220*64/(52!/(5!47!))', u'13*4*12*11*10*4/(52!/(5!47!))', u'13*4*3*12*11*10*4*3*2/(52!/(5!47!))', u'((4*4*4 * 6 * 13) * 12 * 11 *10/(3!))/(52!/(47!*5!))', u'(13*6*220*64)/((52!)/((47!)(5!)))', u'(13*6*220*64)/((52!)/(5!47!))', u'(13*6*64*220)52!/(5!47!)', u'(13*6*64*220)/(52!/(5!47!))', u'13*6*12*11*10*4*4*4/(52!/(5!47!))', u'13*6*12*11*10*4*4*4/(52!/(5!47!))6', u'13*6*12*11*10*4*4*4/(6*52!/(5!47!))']\n",
        "***  3 [u'13*4*3*12!/(3!9!)*4*4*4/(52!/(5!47!))', u'(12!/(3!*9!))*4*6*13/(52!/(5!*47!))', u'(12!/(3!*9!))*20*6*13/(52!/(5!*47!))', u'(12!/(3!*9!))*64*6*13/(52!/(5!*47!))', u'(13*6*(12!/(9!*3!))*4*4*4)/(52!/(5! * 47!))', u'[13*6*(12!/(3!(9)!))*4^3]/[52!/(5!(47)!)]', u'(13*6*(12!/(3!9!))*4^3)/(52!/(5!47!))', u'((13*6)*(64*(12!/(3!9!))))/(52!/(5!47!))', u'13*6*(12!/(3!*9!))*64/(52!/(5!*47!))', u'(13*4*3*(12!/(3!9!))*(4^3))/(52!/((52-5)!5!))', u'13*6*(12!/(9!*3!))*4^3/(52!/(47!*5!))', u'13 * 6 * 12! / (3!*9!) * 4 * 4 * 4 / (52!/(5!*47!))', u'13*6*(12!/(3!9!)) / (52!/5!47!)', u'6*13*((12!/(3!*9!)))*(4^3)/(52!/(47!5!))', u'13*6*(12!/(3!9!))*4^3 / (52!/5!47!)', u'13*6*(12!/(3!9!))*4^3 / (52!/(5!47!))']\n",
        "***  4 [u'(13*4!/(2!2!)*12!/(9!3!)*4^3)/(52!/((52-5)!5!))', u'(13*4!/(2!2!)*12!/(3!9!)*4*4*4)/(52!/(5!47!))', u'13*4*3/2*12!/(9!*3!)*4^3/(52!/(47!*5!))', u'13 * ( 4! / (2! * 2!) ) * 12! / (3! * 9!) * 4^3 * 5! * 47! / 52!', u'(13*4!/(2!2!)*(4**3)*12!/(3!9!))/(52!/(5!47!))', u'13*4!/(2!2!)*12!/(3!9!)*4^3/52!/(5!47!)', u'13*4!/(2!2!)*12!/(3!9!)*4^3/(52!/(5!47!))', u'13*4!/(2!*2!)*4*4*4*12!/(3!*9!)/(52!/(5!*47!))', u'(13!/(9!*4!)*4!/(2!*2!)*4^3)/(52!/(47!*5!))', u'(13*4!/(2!*2!)*12!/(9!*3!)*4^3)/(52!/(47!*5!))', u'13*4!/(2!*2!)*12!/(3!*9!)*4*4*4/(52!/(5!47!))', u'(13 * 4!/(2!2!) * 12!/(3!9!) * 4*4*4) / 52! / (5! 47!)', u'13 * 4!/(2!2!) * 12!/(3!9!) * 4*4*4 / 52! / (5! 47!)', u'13 * 4!/(2!2!) * 12!/(3!9!) * 4*4*4 / (52! / (5! 47!))', u'(13*4!/(2!*2!)*12!/(3!*9!)*4^3)/(52!/(5!*47!))']\n",
        "***  5 [u'1098240/52!/(5!(52-5)!)', u'463320/(52!/(5!(52-5)!))', u'(13*6*220*4^3)/(52!/((5!)(52-5)!))', u'(52!/(4!48!)*3)/(52!/(5!(52-5)!))', u'343200/(52!/(5!(52-5)!))', u'(13*6*220*64)/(52!/(5!(52-5)!))', u'(13*6*220*64)/(52!/(5!(52-5)!))', u'(4 * 13! / (2! * 11!) * 12! / (9! * 3!) ) / (51! / (5! * (52-5)! ))', u'(52!/(5!*(52-5)!))/(52!/(5!*(52-5)!))', u'(13*6*220*64)/(52!/(5!*(52-5)!))', u'52!/(5!(52-5)!)', u'13*12*1320*64/(52!/(52-5)!)', u'13*12*1320*64/(52!/(52-5)!/5!)/12', u'(13*6*220*64) / (52!/(5!*(52-5)!))']\n",
        "***  6 [u'1098240/(52!/(47!5!))', u'1098240/(52!/(5!47!))', u'(13 * 36 * 11! / 8!) / (52! / 47!)', u'(13 * 36 * 11! / (8! * 3!)) / (52! / 47! / 5!)', u'1098240/(52!/(5!(47)!))', u'1098240/(52!/(5!*47!))', u'1098240/(52!/(5!47!))', u'(52*13!/(3!*10!))/(52!/(5!47!))', u'(52*11!/(3!*8!))/(52!/(5!47!))', u'(52*12!/(3!*9!))/(52!/(5!47!))', u'1098240/(52!/(5*47!))', u'1098240/(52!/(5(47!)))', u'1098240/(52!/(5!(47!)))', u'1098240/(52!/(5!(47)!))']\n",
        "***  7 [u'13*6*2*11*10*4*4*4/52', u'1098240/((52*51*50*49*48)/5!)', u'(13*10*12*11*10*4^3)/(52*51*50*49*48)', u'((13*4)*(12*11*10*4))/(52*51*50*49*48)', u'13*6*440*64/(52*51*10*49*2)', u'13*(13-1)*(13-2)*(13-3)*4*3*4*4*(5!/2)/(52*51*50*49*48)', u'13*12*12*11*10*4^3/(52!/47!)', u'13*12*11*10*4^3/(52!/47!)', u'13*12*11*10*4^3/(52*51*50*49*48/5!)', u'(13*4^2*12*11*10*4^3)/(52!/(52-5)!)', u'13 * 6 * 12^3 * 4^3 / 52*51*50*49*48', u'(13*12*11*10*4*4*4)/(52*51*50*49*48)', u'(13*12*11*10*4*4*4)/2598960']\n",
        "***  8 [u'(12*11*10/6)*4^3/(52!/(5!*47!))', u'13*6*12*11*10/6*4^3/(52!/(5!*47!))', u'((13*6*(4^3))*((12*11*10)/6))/((52!)/(5!)(47!))', u'((13*6*(4^3))*((12*11*10)/6))/((52!)/((5!)(47!)))', u'13*6*(12*11*10/3!)*(4^3)/((52!)/(5!47!))', u'(13*6*12*11*10/6*4^3)/(52!/5!/47!)', u'(13*6*((12*11*10)/3!)*(4^3))/((52*51*50*49*48)/5!)', u'13 * 6 * (12 * 11 * 10 / 3!) * 4^3 / (52*51*50*49*48 / 5!)', u'(((12*11*10)/3!)*(4^3)*(4!/(2!2!))*13)/2598960', u'(13(4*3)*12*11*10*4^3/(52-5)!) / (52!/(52-5)!)']\n",
        "***  9 [u'13*6*4^3*12!/3!/9!/52!*47!*5!', u'(13 * 6 * 4^3 * (12!/(3!9!))) / (52!/(5!47!))', u'13*6*12!/(9!3!)*4^3/(51!/5!47!)', u'13*6*12!/(9!3!)*4^3/(52!/5!47!)', u'13*6*12!/(9!3!)*4^3/(52!/(5!47!))', u'(13 * 3! * 12!/(3!9!) * 4^3) / 52!/(47!5!)', u'(13 * 3! * 12!/(3!9!) * 4^3) / (52!/(47!5!))', u'(13*6*12!/(3!9!)*4^3)/(52!/(5!47!))', u'(13!/(1!12!))*(12!/(3!9!))/(52!/(5!47!))', u'{(13*6)*[(4^3*12!)/(3!*9!)]}/[52!/(5!*47!)]']\n",
        "** Centroids:\n",
        "***  (13*220*4^3*6)/(52!/(5!*47!)) 11\n",
        "***  (13*4!/(2!2!)+12!/(3!9!)*4!/(3!))/52!/(5!47!) 10\n",
        "***  (13*6)*(12!/(3!*9!))/2598960 13\n",
        "***  (13 * (4!/(2!(4-2!))) * (12!/(3!(12-3)!)) * 4^3)/(52!/(5!(52-5)!)) 12\n",
        "***  13*(4!/(2!*2!))*(12!/(3!*9!))*4^3/(52!/(5!*47!)) 1\n",
        "***  58627800/133784560 0\n",
        "***  [13*6*(12!/(3!(9)!))*4^3]/[52!/(5!(47)!)] 3\n",
        "***  (13*6*220*4)/(52!/(47!*5!)) 2\n",
        "***  463320/(52!/(5!(52-5)!)) 5\n",
        "***  13*4!/(2!2!)*12!/(3!9!)*4^3/(52!/(5!47!)) 4\n",
        "***  (13*12*11*10*4*4*4)/(52*51*50*49*48) 7\n",
        "***  1098240/(52!/(47!5!)) 6\n",
        "***  13*6*12!/(9!3!)*4^3/(52!/(5!47!)) 9\n",
        "***  ((13*6*(4^3))*((12*11*10)/6))/((52!)/((5!)(47!))) 8\n"
       ]
      }
     ],
     "prompt_number": 86
    },
    {
     "cell_type": "code",
     "collapsed": false,
     "input": [],
     "language": "python",
     "metadata": {},
     "outputs": []
    }
   ],
   "metadata": {}
  }
 ]
}