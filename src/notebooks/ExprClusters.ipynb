{
 "metadata": {
  "name": ""
 },
 "nbformat": 3,
 "nbformat_minor": 0,
 "worksheets": [
  {
   "cells": [
    {
     "cell_type": "markdown",
     "metadata": {},
     "source": [
      "# Prepare Data #"
     ]
    },
    {
     "cell_type": "markdown",
     "metadata": {},
     "source": [
      "### Import ###"
     ]
    },
    {
     "cell_type": "code",
     "collapsed": false,
     "input": [
      "import random, os,sys\n",
      "from hashlib import md5\n",
      "sys.path.append(os.environ['WWAH_SRC'])\n",
      "from student_behavior_analysis.cluster_exprs import cluster_expr_dataframe, preprocess_exprs\n",
      "from numpy.linalg import lstsq\n",
      "from sklearn.linear_model import LogisticRegression\n",
      "import numpy as np\n",
      "from sklearn.cluster import KMeans\n",
      "from sklearn.decomposition import PCA\n",
      "import pandas as pd\n",
      "import pickle\n",
      "from datetime import timedelta\n",
      "import random\n",
      "import matplotlib.pyplot as plt\n",
      "from scipy.stats import pearsonr"
     ],
     "language": "python",
     "metadata": {},
     "outputs": [],
     "prompt_number": 3
    },
    {
     "cell_type": "markdown",
     "metadata": {},
     "source": [
      "### Load Attempt Logs from pickle files ###"
     ]
    },
    {
     "cell_type": "code",
     "collapsed": false,
     "input": [
      "course_name='UCSD_CSE103'\n",
      "\n",
      "# Load the table mapping <assigned hint id> to the part of the hint\n",
      "assigned_hints_path = '%s/%s_processed_assigned_hints.pkl' \\\n",
      "    %(os.environ['WWAH_PICKLE'],course_name)\n",
      "with open(assigned_hints_path,'rb') as f:\n",
      "    assigned_hints = pickle.load(f).set_index('assigned_hint_id')\n",
      "\n",
      "# Load aggregate assignment/problem/part/user statistics into variable `agg`\n",
      "behavioral_statistics_path = '%s/%s_behavioral_statistics_realtime.pkl' \\\n",
      "    %(os.environ['WWAH_PICKLE'],course_name)\n",
      "with open(behavioral_statistics_path,'rb') as f:\n",
      "    agg = pickle.load(f)['BehaviourStatistics']\n",
      "\n",
      "# Load timestamped answer logs into variable `logs`\n",
      "processed_logs_path = '%s/%s_processed_logs_realtime.pkl' \\\n",
      "    %(os.environ['WWAH_PICKLE'],course_name)\n",
      "with open(processed_logs_path,'rb') as f:\n",
      "    logs = pickle.load(f)['FullRealtimeDataFrame']\n",
      "\n",
      "# Print loaded DataFrames\n",
      "print 'Aggregate behavior statistics:'\n",
      "print agg\n",
      "print '\\nFull answer log:'\n",
      "print logs"
     ],
     "language": "python",
     "metadata": {},
     "outputs": [
      {
       "output_type": "stream",
       "stream": "stdout",
       "text": [
        "Aggregate behavior statistics:\n",
        "<class 'pandas.core.frame.DataFrame'>\n",
        "Int64Index: 122703 entries, 0 to 11\n",
        "Data columns (total 8 columns):\n",
        "assignment       122703  non-null values\n",
        "final_correct    122703  non-null values\n",
        "part_no          122703  non-null values\n",
        "problem_no       122703  non-null values\n",
        "start_time       122703  non-null values\n",
        "time             122703  non-null values\n",
        "tries            122703  non-null values\n",
        "user             122703  non-null values\n",
        "dtypes: float64(1), int64(5), object(2)\n",
        "\n",
        "Full answer log:\n",
        "<class 'pandas.core.frame.DataFrame'>\n",
        "DatetimeIndex: 483389 entries, 2013-10-01 02:56:06 to 2013-12-20 01:27:21\n",
        "Data columns (total 8 columns):\n",
        "Assignment    483389  non-null values\n",
        "answer        483389  non-null values\n",
        "correct       483389  non-null values\n",
        "part_no       483389  non-null values\n",
        "problem_no    483389  non-null values\n",
        "time          483389  non-null values\n",
        "timestamp     483389  non-null values\n",
        "user          483389  non-null values\n",
        "dtypes: bool(1), datetime64[ns](1), int64(3), object(3)"
       ]
      },
      {
       "output_type": "stream",
       "stream": "stdout",
       "text": [
        "\n"
       ]
      },
      {
       "output_type": "stream",
       "stream": "stderr",
       "text": [
        "/usr/local/lib/python2.7/dist-packages/pandas/core/config.py:570: DeprecationWarning: height has been deprecated.\n",
        "\n",
        "  warnings.warn(d.msg, DeprecationWarning)\n",
        "/usr/local/lib/python2.7/dist-packages/pandas/core/config.py:570: DeprecationWarning: height has been deprecated.\n",
        "\n",
        "  warnings.warn(d.msg, DeprecationWarning)\n"
       ]
      }
     ],
     "prompt_number": 4
    },
    {
     "cell_type": "markdown",
     "metadata": {},
     "source": [
      "### Filter a Part ###\n",
      "Choose a part among the poker hand problem sets with a large number of tries.  \n",
      "Let 'df' be a DataFrame with attempts from only that problem part.  "
     ]
    },
    {
     "cell_type": "code",
     "collapsed": false,
     "input": [
      "# Get the problem \n",
      "index = -4\n",
      "\n",
      "# Find a problem part with lots of tries.  This means it's probably hard, and we have a lot of data for it.  \n",
      "poker_assignments = logs[(logs['Assignment'] == 'Assignment10.14.13') | \n",
      "                         (logs['Assignment'] == 'Assignment10.16.13') | \n",
      "                         (logs['Assignment'] == 'Assignment10.18.13')]\n",
      "parts = poker_assignments.groupby(['Assignment','problem_no','part_no']).size()\n",
      "# Sort parts by number of tries\n",
      "parts.sort()\n",
      "# Choose a part from the end- with a large number of tries\n",
      "assignment, problem, part = parts.index[index]\n",
      "# Get a dataframe, filtered by this problem part\n",
      "df = logs[(logs['Assignment'] == assignment) & (logs['problem_no'] == problem) & (logs['part_no'] == part)]\n",
      "print '%s problem %d part %d was difficult.  Students made %d attempts total' % \\\n",
      "    (assignment, problem, part, parts[index])"
     ],
     "language": "python",
     "metadata": {},
     "outputs": [
      {
       "output_type": "stream",
       "stream": "stdout",
       "text": [
        "Assignment10.18.13 problem 6 part 1 was difficult.  Students made 2564 attempts total\n"
       ]
      }
     ],
     "prompt_number": 37
    },
    {
     "cell_type": "markdown",
     "metadata": {},
     "source": [
      "# Compute/Evaluate Correct-Answer Distances #\n",
      "Cluster correct answer expressions.  Let $E = {e_1,...e_n}$ be the set of all expressions, each expression $e_i \\subseteq F$ a set of features of that expression.  Let $C \\subseteq E$ be the set of correct expressions, and $Q \\subseteq C$ be the centroids of a clustering of these correct answers.  \n",
      "\n",
      "Then we define the correctness distance for any $e \\in E$ as \n",
      "  $$d(e) = min_{c \\in Q}(d_{jaccard}(e,c)) = min_{c \\in Q} \\left( 1 - \\left( \\frac{e \\cap c}{e \\cup c} \\right) \\right)$$"
     ]
    },
    {
     "cell_type": "code",
     "collapsed": false,
     "input": [
      "def md5_int(s):\n",
      "    ''' Return an md5 hash as an integer'''\n",
      "    h = md5(s).hexdigest()\n",
      "    return int(h, 16)\n",
      "\n",
      "# Each row of X gives a bit vector for the math expression:\n",
      "#   1 means some feature is present in the expression\n",
      "X = preprocess_exprs(df['answer'])\n",
      "# Syntax errors are those expressions with no features\n",
      "df['syntax_err'] = (X.sum(axis=1) == 0)\n",
      "X = X[~df['syntax_err'],:]\n",
      "df = df[~df['syntax_err']]\n",
      "# For very simple expressions, distances break down\n",
      "too_simple = (X.sum(axis=1) <= 5)\n",
      "df = df[~too_simple]\n",
      "X = X[~too_simple,:]\n",
      "\n",
      "# break users into train/test split\n",
      "user_hash = df['user'].apply(lambda user:md5_int(user)%1000)\n",
      "is_train = (user_hash < 300)\n",
      "is_test = (user_hash >= 300)\n",
      "\n",
      "\n",
      "### Filter data for training set: dfc and Xc\n",
      "# Cluster correct answers into 'm' clusters\n",
      "m = 10 \n",
      "dfc = cluster_expr_dataframe(df[df['correct'] & is_train],m)\n",
      "# Compute distance from each expression to each correct centroid\n",
      "#    The distance to the closest correct centroid is the \"correctness distance\"\n",
      "Xc = X[df['correct'] & is_train]\n",
      "\n",
      "### Filter data for test set: df, X, n, and D\n",
      "df = df[is_test]\n",
      "X = X[is_test]\n",
      "n = X.shape[0]\n",
      "D = np.ones((n,m))\n",
      "\n",
      "for c in range(m):\n",
      "    if (dfc['expr_cluster'] == c).sum() == 0: #cluster is empty\n",
      "        D[:,c] = 1\n",
      "        continue\n",
      "    c_median = median(Xc[dfc['expr_cluster'] == c], axis=0)       \n",
      "    cluster_exprs = dfc[dfc['expr_cluster'] == c]['answer'].values\n",
      "    print 'Correct cluster %d has %2d attempts, example:  %s'%(c,len(cluster_exprs),random.choice(cluster_exprs))\n",
      "    num = (X*c_median).sum(axis=1)\n",
      "    den = ((X + c_median) > 0).sum(axis=1)\n",
      "    jaccard = num / den\n",
      "    D[:,c] = 1 - jaccard\n",
      "D = D.min(axis=1)\n",
      "df['distance_to_correct'] = D"
     ],
     "language": "python",
     "metadata": {},
     "outputs": [
      {
       "output_type": "stream",
       "stream": "stdout",
       "text": [
        "Correct cluster 0 has  7 attempts, example:  (20!/(2!18!))*(12!/(2!10!))* 20\n",
        "Correct cluster 1 has 65 attempts, example:  C(12,1)*C(12,1)*C(28,3)\n",
        "Correct cluster 2 has  2 attempts, example:  24!/(2!22!)*16*12!/(2!10!)\n",
        "Correct cluster 3 has 10 attempts, example:  12*(C(16,2))*(C(24,2))\n",
        "Correct cluster 4 has  2 attempts, example:  (12!/(3!9!))(24!/(2!*22!))\n",
        "Correct cluster 5 has  2 attempts, example:  (16!/(14!2!))*(12!/(9!3!))\n",
        "Correct cluster 6 has  2 attempts, example:  (12!/(2!*10!))*(24!/(2!*22!))*16\n",
        "Correct cluster 7 has 11 attempts, example:  C(12,2) * C(12,2) *28 \n",
        "Correct cluster 8 has  1 attempts, example:  (66 ^ 2) * 28\n",
        "Correct cluster 9 has  1 attempts, example:  12*(16!/(2!14!))*(24!/(2!22!))"
       ]
      },
      {
       "output_type": "stream",
       "stream": "stdout",
       "text": [
        "\n"
       ]
      }
     ],
     "prompt_number": 38
    },
    {
     "cell_type": "markdown",
     "metadata": {},
     "source": [
      "### Anecdotally Evaluate Distance Function ###\n",
      "Choose a particular user who has made a lot of attempts at this problem part.  \n",
      "Show the distance to the correct answer as a function of #tries, along with the expressions answered.  "
     ]
    },
    {
     "cell_type": "code",
     "collapsed": false,
     "input": [
      "# Pick a user who has made a lot of attempts\n",
      "u = df.groupby('user').size()\n",
      "u.sort()\n",
      "user = random.choice(u.index[-40:])\n",
      "dfu = df[(df['user'] == user)]\n",
      "\n",
      "# Plot the distance of this user's answer to the correct answer, over #tries\n",
      "title_str = \"user '%s' attempting %s/%d/%d\"%(user,assignment,problem,part)\n",
      "print title_str+'\\n'\n",
      "print dfu[['answer','correct','distance_to_correct']]\n",
      "xlabel('number of tries')\n",
      "ylabel('distance to correct answer')\n",
      "title(title_str)\n",
      "plot(dfu['distance_to_correct'])\n",
      "show()"
     ],
     "language": "python",
     "metadata": {},
     "outputs": [
      {
       "output_type": "stream",
       "stream": "stdout",
       "text": [
        "user 'jpw007' attempting Assignment10.18.13/6/1\n",
        "\n",
        "                                           answer correct  distance_to_correct\n",
        "2013-10-20 05:41:31            (12,2)*24*23*22*12   False             0.523810\n",
        "2013-10-20 05:41:36           C(12,2)*24*23*22*12   False             0.418605\n",
        "2013-10-20 05:46:00           C(12,2)*24*23*22*12   False             0.418605\n",
        "2013-10-20 05:46:05               C(12,2)*C(40,3)   False             0.043478\n",
        "2013-10-20 05:46:26             C(40,4)*12-652080   False             0.631579\n",
        "2013-10-20 05:47:44             C(40,4)*12-652080   False             0.631579\n",
        "2013-10-20 05:49:37               C(12,2)*C(40,3)   False             0.043478\n",
        "2013-10-20 05:49:44               C(12,2)*C(40,3)   False             0.043478\n",
        "2013-10-20 05:49:52  (C(40,4)*12)-C(12,2)*C(40,3)   False             0.545455\n",
        "2013-10-20 05:51:07  (C(40,4)*12)*C(12,2)*C(40,3)   False             0.032258\n",
        "2013-10-20 05:51:36             652080-C(40,4)*12   False             0.500000\n",
        "2013-10-20 05:53:38            -1.09668E+06652080   False             0.878049\n",
        "2013-10-20 05:53:43           -1.09668E+06-652080   False             0.901961\n",
        "2013-10-20 05:53:44            1.09668E+06-652080   False             0.897959\n",
        "2013-10-20 05:54:09            1.09668E+06-652080   False             0.897959\n",
        "2013-10-20 05:58:16            1.09668E+06-652080   False             0.897959\n",
        "2013-10-21 08:08:48     C(40,4)*12-C(12,2)C(40,3)   False             0.545455\n",
        "2013-10-21 08:09:05   (C(40,4)*12)-C(12,2)C(40,3)   False             0.545455\n",
        "2013-10-21 08:13:29               C(12,2)*C(40,3)   False             0.043478\n",
        "2013-10-21 08:14:41            C(12,2)*C(40,3)-12   False             0.404255\n",
        "2013-10-21 08:14:46            C(12,2)*C(40,3)-12   False             0.404255\n",
        "2013-10-21 08:14:56             C(12,2)*C(40,3)-C   False             0.450000\n",
        "2013-10-21 08:15:00       C(12,2)*C(40,3)-C(40,1)   False             0.463415\n",
        "2013-10-21 08:15:05       C(12,2)*C(40,3)-C(12,1)   False             0.463415\n",
        "2013-10-21 08:15:15            C(12,2)*C(40,3)*12   False             0.000000\n",
        "2013-10-21 08:15:27            C(12,2)*C(40,3)*12   False             0.000000\n",
        "2013-10-22 06:40:35                    C(12,2)*12   False             0.300000\n",
        "2013-10-22 06:41:01            C(12,2)*12*C(28,2)    True             0.032258\n",
        "2013-10-22 06:41:08            C(12,2)*12*C(28,2)    True             0.032258\n"
       ]
      },
      {
       "output_type": "stream",
       "stream": "stderr",
       "text": [
        "/usr/local/lib/python2.7/dist-packages/pandas/core/config.py:570: DeprecationWarning: height has been deprecated.\n",
        "\n",
        "  warnings.warn(d.msg, DeprecationWarning)\n"
       ]
      },
      {
       "metadata": {},
       "output_type": "display_data",
       "png": "[encoded data removed]",
       "text": [
        "<matplotlib.figure.Figure at 0xfd24310>"
       ]
      }
     ],
     "prompt_number": 40
    },
    {
     "cell_type": "markdown",
     "metadata": {},
     "source": [
      "### Correlate Distance Function with Number of Tries ###\n",
      "To show the \"distance to correct\" is a useful metric, we show the correlation of this method with \n",
      "the number of tries remaining, until the student gets the question correct.  \n",
      "We ignore cases where the student does not get the question correct.  "
     ]
    },
    {
     "cell_type": "code",
     "collapsed": false,
     "input": [
      "def get_tries_left(dfu, if_incorrect=-1):\n",
      "    ''' Given a time-ordered pandas series of correct/incorrect attempts by a user, \n",
      "        return a series giving the number of tries remaining until that user gets the answer\n",
      "        correct.  -1 is returned if the user never gets the problem right '''\n",
      "    n = len(dfu) #number of tries\n",
      "    if not any(dfu): #user never gets correct answer:\n",
      "        tries_left = array([if_incorrect]*n) #return all 'if_incorrect'\n",
      "    else:\n",
      "        tries_until_correct = argmax(dfu)\n",
      "        tries_left = tries_until_correct - arange(n)\n",
      "        tries_left[tries_left < 0] = 0\n",
      "    return tries_left\n",
      "\n",
      "# Calculate the number of tries each user makes until getting the correct answer\n",
      "df['tries_left'] = df.groupby('user')['correct'].transform(get_tries_left)\n",
      "# In evaluating the performance of the distance function, we don't include cases where:\n",
      "#   - the student actually gets the answer right.  \n",
      "#       this is not useful information: we can directly check whether the answer is rightr\n",
      "#   - the student doesn't eventually get the answer right.  \n",
      "df2 = df[(~df['correct']) & (df['tries_left'] > 0)]\n",
      "\n",
      "# Correlate the distance function and number of tries\n",
      "r,p = pearsonr(df2['tries_left'], df2['distance_to_correct'])\n",
      "print 'The correlation between tries_left and distance has r-value %.3f and p-value %.2e'%(r,p)\n",
      "\n",
      "# Plot r-value distribution, assuming no relationship between tries and distance-to-correct\n",
      "rs = []\n",
      "for i in range(1000):\n",
      "    distance = sorted(df2['distance_to_correct'], key=lambda *args: random.random())\n",
      "    r,_ = pearsonr(df2['tries_left'], distance)\n",
      "    rs.append(r)\n",
      "hist(rs, bins=40)\n",
      "title('r-value distribution under null hypothesis: no correlation')\n",
      "show()\n",
      "\n",
      "# Plot this relationship\n",
      "a = df2[['tries_left','distance_to_correct']]\n",
      "a[a['tries_left'] <= 8].groupby('tries_left')['distance_to_correct'].mean().plot()\n",
      "ylabel('mean distance_to_correct')\n",
      "title('distance vs. tries left over student attempts')\n",
      "show()\n"
     ],
     "language": "python",
     "metadata": {},
     "outputs": [
      {
       "output_type": "stream",
       "stream": "stdout",
       "text": [
        "The correlation between tries_left and distance has r-value 0.187 and p-value 5.42e-08\n"
       ]
      },
      {
       "metadata": {},
       "output_type": "display_data",
       "png": "[encoded data removed]",
       "text": [
        "<matplotlib.figure.Figure at 0x12df7090>"
       ]
      },
      {
       "metadata": {},
       "output_type": "display_data",
       "png": "[encoded data removed]",
       "text": [
        "<matplotlib.figure.Figure at 0x19cf0590>"
       ]
      }
     ],
     "prompt_number": 39
    }
   ],
   "metadata": {}
  }
 ]
}