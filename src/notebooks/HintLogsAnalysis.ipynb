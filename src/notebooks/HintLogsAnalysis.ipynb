{
 "metadata": {
  "name": ""
 },
 "nbformat": 3,
 "nbformat_minor": 0,
 "worksheets": [
  {
   "cells": [
    {
     "cell_type": "code",
     "collapsed": false,
     "input": [
      "import random, os\n",
      "from numpy.linalg import lstsq\n",
      "from scipy.stats.contingency import margins\n",
      "from sklearn.linear_model import LogisticRegression\n",
      "import numpy as np\n",
      "from sklearn.cluster import KMeans\n",
      "from sklearn.decomposition import PCA\n",
      "import pandas as pd\n",
      "import pickle\n",
      "\n",
      "pickle_dir=os.environ['WWAH_PICKLE']\n",
      "\n",
      "f = pickle.load(open(pickle_dir+'/BehavioralStatistics.pkl','rb'))\n",
      "df = f.values()[0]"
     ],
     "language": "python",
     "metadata": {},
     "outputs": [],
     "prompt_number": 67
    },
    {
     "cell_type": "code",
     "collapsed": false,
     "input": [
      "Table=df.pivot_table('tries',rows='user',cols=['assignment','problem_no','part_no'])"
     ],
     "language": "python",
     "metadata": {},
     "outputs": [],
     "prompt_number": 68
    },
    {
     "cell_type": "markdown",
     "metadata": {},
     "source": [
      "### Remove Outliers ###\n",
      "* Remove users who have not attempted many parts, and parts not attempted by many users.  \n",
      "* Replace NaN in the sub-table with 0.  "
     ]
    },
    {
     "cell_type": "code",
     "collapsed": false,
     "input": [
      "user_cutoff_quantile = 0.2\n",
      "#count the number of tries cells that are not nan row-wise (users)\n",
      "# This is the number of attempted problem parts per user\n",
      "#Plot a histogram of number of number of attempted problem parts, and show the cutoff \n",
      "# for determining which users are \"inactive\"\n",
      "user_list=df.groupby('user')['tries'].count()\n",
      "user_list.sort()\n",
      "user_list.hist(bins=40, color='blue')\n",
      "# Get the height of the histogram\n",
      "hist_height = hist(user_list, bins=40, label='number of attempted parts per user')[0].max()\n",
      "user_cutoff = user_list.quantile(user_cutoff_quantile)\n",
      "vlines([user_cutoff],[0],[hist_height], color='red', label='cutoff at %.1f attempted parts'%user_cutoff)\n",
      "legend()\n",
      "# Show examples of active and inactive users\n",
      "inactive_users = user_list[user_list <= user_cutoff]\n",
      "active_users = user_list[user_list > user_cutoff]\n",
      "print '### Sample Inactive Users:'\n",
      "print random.sample(inactive_users.index, 10)\n",
      "print '### Sample Active Users:'\n",
      "print random.sample(inactive_users.index, 10)"
     ],
     "language": "python",
     "metadata": {},
     "outputs": [
      {
       "output_type": "stream",
       "stream": "stdout",
       "text": [
        "### Sample Inactive Users:\n",
        "['jdake', 'bbatenga', 'jwalrath', 'ajudah', 'lahuynh', 'ssko', 'yoav.student', 'jtc003', 'r1luong', 'dnl001']\n",
        "### Sample Active Users:\n",
        "['zzhai', 'jkdey', 'kbhatt', 'yoav.student', 'jiw066', 'jdake', 'pjia', 'fake', 'amahrous', 'melkherj']\n"
       ]
      },
      {
       "metadata": {},
       "output_type": "display_data",
       "png": "[encoded data removed]",
       "text": [
        "<matplotlib.figure.Figure at 0x109765990>"
       ]
      }
     ],
     "prompt_number": 69
    },
    {
     "cell_type": "code",
     "collapsed": false,
     "input": [
      "part_cutoff_quantile = 0.62\n",
      "#count the number of tries cells that are not nan column-wise (part)\n",
      "# This is the number of users who attempted the part\n",
      "#Plot a histogram of number of number of users who attempted parts, and show the cutoff\n",
      "# for determining which users are \"inactive\"\n",
      "part_list=df.groupby(['assignment','problem_no','part_no'])['tries'].count()\n",
      "part_list.sort()\n",
      "part_list.hist(bins=40, color='blue')\n",
      "# Get the height of the histogram\n",
      "hist_height = hist(part_list, bins=40, label='number of users who attempted part')[0].max()\n",
      "part_cutoff = part_list.quantile(part_cutoff_quantile)\n",
      "vlines([part_cutoff],[0],[hist_height], color='red', label='cutoff at %.1f users who attempted part'%part_cutoff)\n",
      "legend()\n",
      "junk_parts = part_list[part_list <= part_cutoff]\n",
      "attempted_parts = part_list[part_list > part_cutoff]\n",
      "print '### Sample Junk Parts:'\n",
      "print junk_parts.ix[random.sample(junk_parts.index,10)]\n",
      "print ''\n",
      "print '### Sample Attempted Parts:'\n",
      "print attempted_parts.ix[random.sample(attempted_parts.index,10)]\n",
      "print ''"
     ],
     "language": "python",
     "metadata": {},
     "outputs": [
      {
       "output_type": "stream",
       "stream": "stdout",
       "text": [
        "### Sample Junk Parts:\n",
        "assignment            problem_no  part_no\n",
        "Orientation           14          1            2\n",
        "Assignment10.16.13    1           120          1\n",
        "                                  115          1\n",
        "Assignment10.23.13    3           10         132\n",
        "Assignment3           8           6          150\n",
        "Assignment10.18.13    3           198          1\n",
        "Orientation           3           2            4\n",
        "experimentalProblems  7           2            1\n",
        "Assignment3           5           4          155\n",
        "Assignment10.18.13    4           206          1\n",
        "dtype: int64\n",
        "\n",
        "### Sample Attempted Parts:\n",
        "assignment          problem_no  part_no\n",
        "Assignment2         11          6          163\n",
        "Assignment3         3           1          173\n",
        "Assignment10.14.13  7           1          166\n",
        "Assignment2         11          7          161\n",
        "Assignment10.14.13  1           5          168\n",
        "Assignment2         9           5          167\n",
        "Assignment10.18.13  3           5          159\n",
        "Assignment2         3           3          170\n",
        "Assignment10.16.13  2           2          162\n",
        "Assignment10.18.13  6           1          167\n",
        "dtype: int64\n",
        "\n"
       ]
      },
      {
       "metadata": {},
       "output_type": "display_data",
       "png": "[encoded data removed]",
       "text": [
        "<matplotlib.figure.Figure at 0x10a7aca50>"
       ]
      }
     ],
     "prompt_number": 70
    },
    {
     "cell_type": "code",
     "collapsed": false,
     "input": [
      "print 'Original table size, (#users,#parts)='+str(shape(Table))\n",
      "Table=Table.drop(inactive_users.index,axis=0)\n",
      "print 'After dropping users, (#users,#parts)='+str(shape(Table))\n",
      "Table=Table.drop(junk_parts.index,axis=1)\n",
      "print 'After dropping parts, (#users,#parts)='+str(shape(Table))\n",
      "# Fill in the remaining NaN's in Table\n",
      "# Table = Table.fillna(0)"
     ],
     "language": "python",
     "metadata": {},
     "outputs": [
      {
       "output_type": "stream",
       "stream": "stdout",
       "text": [
        "Original table size, (#users,#parts)=(205, 636)\n",
        "After dropping users, (#users,#parts)=(164, 636)\n",
        "After dropping parts, (#users,#parts)=(164, 237)\n"
       ]
      }
     ],
     "prompt_number": 71
    },
    {
     "cell_type": "markdown",
     "metadata": {},
     "source": [
      "Look at some basic statistics and identify outliers"
     ]
    },
    {
     "cell_type": "code",
     "collapsed": false,
     "input": [
      "s=shape(Table)\n",
      "sz=s[0]*s[1]+0.0\n",
      "count=Table.count().sum()\n",
      "print s,sz,count,(0.0+sz-count)/sz\n",
      "Tf=Table.unstack()\n",
      "print Tf.mean(),Tf.var()\n",
      "Tf.hist(bins=100)\n",
      "print (Tf>20).sum()/sz, Table.unstack().max()"
     ],
     "language": "python",
     "metadata": {},
     "outputs": [
      {
       "output_type": "stream",
       "stream": "stdout",
       "text": [
        "(164, 237) 38868.0 36686 0.0561387259442\n",
        "3.82434716241 33.7145452669\n",
        "0.0188329731399"
       ]
      },
      {
       "output_type": "stream",
       "stream": "stdout",
       "text": [
        " 212.0\n"
       ]
      },
      {
       "metadata": {},
       "output_type": "display_data",
       "png": "[encoded data removed]",
       "text": [
        "<matplotlib.figure.Figure at 0x109e21390>"
       ]
      }
     ],
     "prompt_number": 72
    },
    {
     "cell_type": "code",
     "collapsed": false,
     "input": [
      "Table = Table.apply(log)\n",
      "Tf=Table.unstack()\n",
      "print Tf.mean(),Tf.var()\n",
      "Tf.hist(bins=100)"
     ],
     "language": "python",
     "metadata": {},
     "outputs": [
      {
       "output_type": "stream",
       "stream": "stdout",
       "text": [
        "0.850590695571 0.786529856118\n"
       ]
      },
      {
       "metadata": {},
       "output_type": "pyout",
       "prompt_number": 73,
       "text": [
        "<matplotlib.axes.AxesSubplot at 0x10a51b450>"
       ]
      },
      {
       "metadata": {},
       "output_type": "display_data",
       "png": "[encoded data removed]",
       "text": [
        "<matplotlib.figure.Figure at 0x109781750>"
       ]
      }
     ],
     "prompt_number": 73
    },
    {
     "cell_type": "markdown",
     "metadata": {},
     "source": [
      "### Create two table ###"
     ]
    },
    {
     "cell_type": "code",
     "collapsed": false,
     "input": [
      "mean_per_part=Table.mean(axis=0)\n",
      "mean_per_user=Table.mean(axis=1)\n",
      "UserTable = Table.copy()\n",
      "PartTable = Table.copy()\n",
      "user = mean_per_user.index[0]\n",
      "part = mean_per_part.index[0]\n",
      "PartTable.ix[user,part]\n",
      "for user,user_mean in mean_per_user.iteritems():\n",
      "    for part,part_mean in mean_per_part.iteritems():\n",
      "        UserTable.ix[user,part] = user_mean\n",
      "        PartTable.ix[user,part] = part_mean"
     ],
     "language": "python",
     "metadata": {},
     "outputs": [],
     "prompt_number": 77
    },
    {
     "cell_type": "code",
     "collapsed": false,
     "input": [
      "f = lambda df:np.ndarray.flatten(df.values)\n",
      "# Remove NaN values \n",
      "L = np.column_stack([f(UserTable), f(PartTable), f(Table)])\n",
      "nan_rows = np.isnan(L).any(axis=1)\n",
      "L = L[~nan_rows, :]\n",
      "X = L[:,:2]\n",
      "Y = L[:,2]\n",
      "X = np.column_stack([  X  ,  X[:,0]*X[:,1]  ,  np.ones(shape=(X.shape[0],))  ])\n",
      "x, residuals, rank, s = lstsq(X,Y)"
     ],
     "language": "python",
     "metadata": {},
     "outputs": [],
     "prompt_number": 75
    },
    {
     "cell_type": "code",
     "collapsed": false,
     "input": [
      "print 'Parameters of least-square fit: '\n",
      "print '<user/part tries> = %.3f user, %.3f part, %.3f product, base rate: %.3f'% tuple(x.tolist())\n",
      "print 'Proportion reduction in variance: %.3f'%(residuals / (L[:,2]**2).sum())"
     ],
     "language": "python",
     "metadata": {},
     "outputs": [
      {
       "output_type": "stream",
       "stream": "stdout",
       "text": [
        "Parameters of least-square fit: \n",
        "<user/part tries> = 0.220 user, 0.222 part, 0.913 product, base rate: -0.186\n",
        "Proportion reduction in variance: 0.302\n"
       ]
      }
     ],
     "prompt_number": 76
    },
    {
     "cell_type": "code",
     "collapsed": false,
     "input": [
      "R = (Y - X.dot(x))\n",
      "Residuals = R.reshape(Table.shape)"
     ],
     "language": "python",
     "metadata": {},
     "outputs": [],
     "prompt_number": 21
    },
    {
     "cell_type": "code",
     "collapsed": false,
     "input": [
      "# Learn and score PCA/KMeans\n",
      "ks = np.array([1,2,3,4,5,10,20,25])\n",
      "kmeans_scores = []\n",
      "pca_scores = []\n",
      "U,S,V = svd(Residuals)\n",
      "for k in ks:\n",
      "    model = KMeans(n_clusters=k)\n",
      "    score = (model.fit_transform(Residuals).min(axis=1)**2).sum()\n",
      "    kmeans_scores.append(score)\n",
      "    S2 = S.copy()\n",
      "    S2[k:] = 0\n",
      "    D = np.concatenate([np.diag(S2), np.zeros(shape=(164,349-164))], axis=1)\n",
      "    Pred = np.dot(np.dot(U,D),V)\n",
      "    pca_scores.append(   ((Pred - Residuals)**2).sum().sum()   )\n",
      "\n",
      "kmeans_scores = np.array(kmeans_scores)\n",
      "print kmeans_scores\n",
      "pca_scores = np.array(pca_scores)\n",
      "\n",
      "total_residual_variance = (Residuals**2).sum().sum()\n",
      "normalized_ks = ks/float(Residuals.shape[0])\n",
      "\n",
      "# Compute variance ratio for KMeans\n",
      "kmeans_scores = 1 - (kmeans_scores / total_residual_variance)\n",
      "# Compute variance ratio for PCA\n",
      "pca_scores = 1 - (pca_scores / total_residual_variance)\n",
      "# Plot proportion of variance reduction vs. space compression\n",
      "plot(normalized_ks, kmeans_scores, label='kmeans')\n",
      "plot(normalized_ks,pca_scores, label='pca')\n",
      "plot(normalized_ks,(np.cumsum(S**2))[ks]/((S**2).sum()), label='pca singular values')\n",
      "#plot(normalized_ks, pca_scores)\n",
      "xlabel('Compression ratio')\n",
      "ylabel('Proportion of Variance Explained')\n",
      "legend()"
     ],
     "language": "python",
     "metadata": {},
     "outputs": [
      {
       "ename": "ValueError",
       "evalue": "matrices are not aligned",
       "output_type": "pyerr",
       "traceback": [
        "\u001b[0;31m---------------------------------------------------------------------------\u001b[0m\n\u001b[0;31mValueError\u001b[0m                                Traceback (most recent call last)",
        "\u001b[0;32m<ipython-input-22-cad193e3de67>\u001b[0m in \u001b[0;36m<module>\u001b[0;34m()\u001b[0m\n\u001b[1;32m     11\u001b[0m     \u001b[0mS2\u001b[0m\u001b[0;34m[\u001b[0m\u001b[0mk\u001b[0m\u001b[0;34m:\u001b[0m\u001b[0;34m]\u001b[0m \u001b[0;34m=\u001b[0m \u001b[0;36m0\u001b[0m\u001b[0;34m\u001b[0m\u001b[0m\n\u001b[1;32m     12\u001b[0m     \u001b[0mD\u001b[0m \u001b[0;34m=\u001b[0m \u001b[0mnp\u001b[0m\u001b[0;34m.\u001b[0m\u001b[0mconcatenate\u001b[0m\u001b[0;34m(\u001b[0m\u001b[0;34m[\u001b[0m\u001b[0mnp\u001b[0m\u001b[0;34m.\u001b[0m\u001b[0mdiag\u001b[0m\u001b[0;34m(\u001b[0m\u001b[0mS2\u001b[0m\u001b[0;34m)\u001b[0m\u001b[0;34m,\u001b[0m \u001b[0mnp\u001b[0m\u001b[0;34m.\u001b[0m\u001b[0mzeros\u001b[0m\u001b[0;34m(\u001b[0m\u001b[0mshape\u001b[0m\u001b[0;34m=\u001b[0m\u001b[0;34m(\u001b[0m\u001b[0;36m164\u001b[0m\u001b[0;34m,\u001b[0m\u001b[0;36m349\u001b[0m\u001b[0;34m-\u001b[0m\u001b[0;36m164\u001b[0m\u001b[0;34m)\u001b[0m\u001b[0;34m)\u001b[0m\u001b[0;34m]\u001b[0m\u001b[0;34m,\u001b[0m \u001b[0maxis\u001b[0m\u001b[0;34m=\u001b[0m\u001b[0;36m1\u001b[0m\u001b[0;34m)\u001b[0m\u001b[0;34m\u001b[0m\u001b[0m\n\u001b[0;32m---> 13\u001b[0;31m     \u001b[0mPred\u001b[0m \u001b[0;34m=\u001b[0m \u001b[0mnp\u001b[0m\u001b[0;34m.\u001b[0m\u001b[0mdot\u001b[0m\u001b[0;34m(\u001b[0m\u001b[0mnp\u001b[0m\u001b[0;34m.\u001b[0m\u001b[0mdot\u001b[0m\u001b[0;34m(\u001b[0m\u001b[0mU\u001b[0m\u001b[0;34m,\u001b[0m\u001b[0mD\u001b[0m\u001b[0;34m)\u001b[0m\u001b[0;34m,\u001b[0m\u001b[0mV\u001b[0m\u001b[0;34m)\u001b[0m\u001b[0;34m\u001b[0m\u001b[0m\n\u001b[0m\u001b[1;32m     14\u001b[0m     \u001b[0mpca_scores\u001b[0m\u001b[0;34m.\u001b[0m\u001b[0mappend\u001b[0m\u001b[0;34m(\u001b[0m   \u001b[0;34m(\u001b[0m\u001b[0;34m(\u001b[0m\u001b[0mPred\u001b[0m \u001b[0;34m-\u001b[0m \u001b[0mResiduals\u001b[0m\u001b[0;34m)\u001b[0m\u001b[0;34m**\u001b[0m\u001b[0;36m2\u001b[0m\u001b[0;34m)\u001b[0m\u001b[0;34m.\u001b[0m\u001b[0msum\u001b[0m\u001b[0;34m(\u001b[0m\u001b[0;34m)\u001b[0m\u001b[0;34m.\u001b[0m\u001b[0msum\u001b[0m\u001b[0;34m(\u001b[0m\u001b[0;34m)\u001b[0m   \u001b[0;34m)\u001b[0m\u001b[0;34m\u001b[0m\u001b[0m\n\u001b[1;32m     15\u001b[0m \u001b[0;34m\u001b[0m\u001b[0m\n",
        "\u001b[0;31mValueError\u001b[0m: matrices are not aligned"
       ]
      }
     ],
     "prompt_number": 22
    },
    {
     "cell_type": "code",
     "collapsed": false,
     "input": [
      "print sorted(Table.index[np.argsort(U[:,0])[-10:]])\n",
      "print sorted(Table.columns[np.argsort(U[0,:])[-10:]])"
     ],
     "language": "python",
     "metadata": {},
     "outputs": [
      {
       "output_type": "stream",
       "stream": "stdout",
       "text": [
        "['clemon', 'dcchou', 'hshaikle', 'jagustin', 'jpw007', 'khchong', 'mabid', 'ppbalist', 'rtien', 'suliu']\n",
        "[('Assignment10.11.13', 3L, 3L), ('Assignment10.11.13', 4L, 2L), ('Assignment10.11.13', 5L, 2L), ('Assignment10.14.13', 2L, 2L), ('Assignment10.14.13', 4L, 2L), ('Assignment10.14.13', 5L, 10L), ('Assignment10.14.13', 5L, 12L), ('Assignment10.14.13', 7L, 2L), ('Assignment10.16.13', 4L, 1L), ('Assignment10.18.13', 1L, 2L)]\n"
       ]
      }
     ],
     "prompt_number": 498
    },
    {
     "cell_type": "code",
     "collapsed": false,
     "input": [
      "print sorted(Table.index[np.argsort(U[:,1])[-10:]])\n",
      "print sorted(Table.columns[np.argsort(U[1,:])[-10:]])"
     ],
     "language": "python",
     "metadata": {},
     "outputs": [
      {
       "output_type": "stream",
       "stream": "stdout",
       "text": [
        "['clemon', 'e6hwang', 'esnover', 'jagustin', 'jchin', 'jogong', 'jpw007', 'rtien', 'suliu', 'xil039']\n",
        "[('Assignment10.14.13', 1L, 4L), ('Assignment10.14.13', 4L, 1L), ('Assignment10.14.13', 7L, 3L), ('Assignment10.18.13', 1L, 1L), ('Assignment10.18.13', 2L, 1L), ('Assignment10.18.13', 2L, 6L), ('Assignment10.18.13', 4L, 2L), ('Assignment10.23.13', 1L, 2L), ('Assignment10.23.13', 2L, 1L), ('Assignment10.23.13', 3L, 1L)]\n"
       ]
      }
     ],
     "prompt_number": 499
    },
    {
     "cell_type": "code",
     "collapsed": false,
     "input": [],
     "language": "python",
     "metadata": {},
     "outputs": []
    }
   ],
   "metadata": {}
  }
 ]
}