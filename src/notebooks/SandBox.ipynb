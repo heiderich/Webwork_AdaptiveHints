{
 "metadata": {
  "name": "SandBox"
 },
 "nbformat": 3,
 "nbformat_minor": 0,
 "worksheets": [
  {
   "cells": [
    {
     "cell_type": "code",
     "collapsed": false,
     "input": [
      "%load ../python/reportStruggles.py"
     ],
     "language": "python",
     "metadata": {},
     "outputs": [],
     "prompt_number": 99
    },
    {
     "cell_type": "code",
     "collapsed": false,
     "input": [
      "import os,pandas,pickle,sys\n",
      "\n",
      "class reportStruggles:\n",
      "\n",
      "    def __init__(self):\n",
      "        pickle_dir=os.environ['WWAH_PICKLE']\n",
      "\n",
      "        def load_pickle(pickle_file):\n",
      "            print 'reading ',pickle_file\n",
      "            sys.stdout.flush()\n",
      "            return pickle.load(open(pickle_dir+pickle_file,'rb'))\n",
      "\n",
      "        self.BT = load_pickle('/BehavioralStatistics.pkl')\n",
      "        self.B=self.BT['BehaviourStatistics']\n",
      "\n",
      "        self.TT= load_pickle('/problemTexts.pkl')\n",
      "        self.Texts=self.TT['ProblemTexts']\n",
      "\n",
      "        self.LT = load_pickle('/ProcessedLogs.pkl')\n",
      "        self.G=self.LT['GroupedDataFrame']\n",
      "\n",
      "        print 'done reading pickle files'\n",
      "\n",
      "    def find_struggles(self):\n",
      "        B=self.B\n",
      "        grouped=B.groupby(['assignment','problem_no','part_no'])\n",
      "        mean_times=grouped['time'].mean()\n",
      "        mean_tries=grouped['tries'].mean()\n",
      "        return (mean_times, mean_tries)\n",
      "\n",
      "    def extract_history(self,assignment, problem, part, student):\n",
      "        frame=self.G[(student,assignment)]\n",
      "\n",
      "        frame=frame[frame['problem_no']==problem]\n",
      "        frame=frame[frame['part_no']<=part]\n",
      "        frame=frame[frame['answer_state']=='!=']\n",
      "        frame=frame.sort(columns=['part_no','time'])\n",
      "        frame['time']=(frame['time']-frame['time'].values[0])/60.0\n",
      "        triplets=frame[['part_no','time','correct','answer']]\n",
      "        if len(triplets)==0:\n",
      "            return None\n",
      "        else:\n",
      "            return triplets\n",
      "    \n",
      "    def generate_report(self,assignment, problem, part, student):\n",
      "        \"\"\"Generate a report for a particular (user,assignment) pair.  The\n",
      "        report consists of the PG text up to each question box,\n",
      "        followed by the list of attempts to answer made by the\n",
      "        student.  The output is a sequence of multi-line strings the\n",
      "        are meant to be printed and then viewed in emac in org-mode\n",
      "\n",
      "        \"\"\"\n",
      "        T=extract_history(self,assignment, problem, part, student)\n",
      "        parts=T.groupby('part_no')\n",
      "\n",
      "        if parts==None:\n",
      "            return None\n",
      "\n",
      "        # extract the relevant parts of the student's log\n",
      "        i=0\n",
      "        summary=[]   # text representing answer attempts\n",
      "        attempts=[]  # number of attempts for this part\n",
      "        time_length=[]  # length of time spent on this part\n",
      "        SorF=['failure','success']\n",
      "        final_correct=[] # indicates if the final attempt is correct\n",
      "        for g in parts:\n",
      "            att_no=len(g[1])\n",
      "            attempts.append(att_no)\n",
      "            gt=g[1]['time'].values\n",
      "            time_length.append(gt[-1]-gt[0])\n",
      "            fin=SorF[int(g[1]['correct'].values[-1])]\n",
      "            final_correct.append(fin)\n",
      "            a_i=0; text='** All but last attempt\\n'\n",
      "            for row in g[1].iterrows():\n",
      "                line=(' %2d:'%a_i)+('\\t%3d\\t%4.1f\\t%s\\t%s' % tuple(row[1].values)+'\\n')\n",
      "                if  a_i==att_no-1:\n",
      "                    line ='** '+line # make last line easily accessible in org-mode\n",
      "                text+=line\n",
      "                a_i+=1\n",
      "            summary.append(text)\n",
      "            i+=1\n",
      "    \n",
      "        # extract the relevant problem texts\n",
      "        FT=self.Texts\n",
      "        selector=(FT['Assignment']==assignment) & (FT['problem']==problem)\n",
      "        texts=FT.ix[selector,'text'].values[0]\n",
      "\n",
      "        # combine logs and problem texts and output to a file\n",
      "        output_dir=os.environ['WWAH_OUTPUT']\n",
      "        filename='.'.join((assignment,str(problem),str(part),student,'org'))\n",
      "        f=open(output_dir+'/'+filename,'wb')\n",
      "        for i in range(len(texts)):\n",
      "            print >>f,texts[i]\n",
      "            print >>f,('* Answers of student %s. %2d attempts lasting %3.1f minutes, ending in %s'\\\n",
      "                      % (student,attempts[i],time_length[i],final_correct[i]))\n",
      "            print >>f,summary[i]\n",
      "        f.close()\n"
     ],
     "language": "python",
     "metadata": {},
     "outputs": [],
     "prompt_number": 100
    },
    {
     "cell_type": "code",
     "collapsed": false,
     "input": [
      "R=reportStruggles()"
     ],
     "language": "python",
     "metadata": {},
     "outputs": [
      {
       "output_type": "stream",
       "stream": "stdout",
       "text": [
        "reading  /BehavioralStatistics.pkl\n"
       ]
      },
      {
       "output_type": "stream",
       "stream": "stdout",
       "text": [
        "reading  /problemTexts.pkl\n"
       ]
      },
      {
       "output_type": "stream",
       "stream": "stdout",
       "text": [
        "reading  /ProcessedLogs.pkl\n"
       ]
      },
      {
       "output_type": "stream",
       "stream": "stdout",
       "text": [
        "done reading pickle files\n"
       ]
      }
     ],
     "prompt_number": 101
    },
    {
     "cell_type": "code",
     "collapsed": true,
     "input": [
      "(time,tries)=R.find_struggles()"
     ],
     "language": "python",
     "metadata": {},
     "outputs": [],
     "prompt_number": 111
    },
    {
     "cell_type": "code",
     "collapsed": false,
     "input": [
      "B=R.B"
     ],
     "language": "python",
     "metadata": {},
     "outputs": [],
     "prompt_number": 179
    },
    {
     "cell_type": "code",
     "collapsed": false,
     "input": [
      "grouped_by_assignment=B.groupby(['assignment','problem_no','part_no'])"
     ],
     "language": "python",
     "metadata": {},
     "outputs": [],
     "prompt_number": 196
    },
    {
     "cell_type": "code",
     "collapsed": false,
     "input": [
      "B.keys()"
     ],
     "language": "python",
     "metadata": {},
     "outputs": [
      {
       "output_type": "pyout",
       "prompt_number": 197,
       "text": [
        "Index([assignment, final_correct, part_no, problem_no, start_time, time, tries, user], dtype=object)"
       ]
      }
     ],
     "prompt_number": 197
    },
    {
     "cell_type": "code",
     "collapsed": false,
     "input": [
      "def GP(x):\n",
      "    return float(sum(x>10))/len(x)\n",
      "def PP(*args):\n",
      "    print type(*args), len(*args)\n",
      "    print ','.join(*args)\n",
      "    sys.exit()"
     ],
     "language": "python",
     "metadata": {},
     "outputs": [],
     "prompt_number": 198
    },
    {
     "cell_type": "code",
     "collapsed": false,
     "input": [
      "GA=grouped_by_assignment\n",
      "Mean_by_problem=GA['time'].mean() #quantile(0.75)\n",
      "print Mean_by_problem.order().tail(50)"
     ],
     "language": "python",
     "metadata": {},
     "outputs": [
      {
       "output_type": "stream",
       "stream": "stdout",
       "text": [
        "assignment            problem_no  part_no\n",
        "Assignment8           1           6           7.233088\n",
        "Assignment2           7           5           7.271693\n",
        "Assignment5           3           1           7.331522\n",
        "Assignment8           1           5           7.363580\n",
        "Assignment3           5           2           7.442926\n",
        "                      1           26          7.659615\n",
        "                      3           7           7.742782\n",
        "Assignment4           5           1           7.900583\n",
        "Assignment6           5           1           7.932238\n",
        "Assignment9           3           1           8.178947\n",
        "Assignment3           3           6           8.542248\n",
        "Assignment5           3           2           8.612530\n",
        "Assignment7           8           1           8.634606\n",
        "Assignment5           1           2           8.835082\n",
        "                                  3           8.901418\n",
        "Assignment3           1           27          8.925065\n",
        "Discrete_Probability  56          1           9.016667\n",
        "Assignment9           3           8           9.028571\n",
        "Assignment7           3           2           9.451010\n",
        "Assignment3           1           2           9.793056\n",
        "                                  3          10.087089\n",
        "Assignment9           3           4          10.299405\n",
        "Assignment5           1           6          10.459328\n",
        "                      5           4          10.471296\n",
        "Assignment7           3           1          10.841727\n",
        "Assignment3           1           6          11.319608\n",
        "                                  8          11.345926\n",
        "                                  5          11.518127\n",
        "Assignment2           1           1          11.526499\n",
        "Assignment9           3           6          11.544667\n",
        "Assignment3           1           4          11.553810\n",
        "Assignment5           4           1          12.941071\n",
        "Assignment9           3           7          12.994697\n",
        "Assignment5           1           5          12.995134\n",
        "                      2           4          13.061779\n",
        "                                  6          13.069531\n",
        "Assignment7           1           4          13.296393\n",
        "Assignment2           7           4          13.673756\n",
        "Assignment6           1           1          13.723214\n",
        "Assignment2           7           3          14.064748\n",
        "Assignment5           2           5          14.285354\n",
        "                      1           4          14.570892\n",
        "Assignment3           1           10         14.766418\n",
        "Assignment5           5           2          16.813086\n",
        "Assignment2           5           3          17.052206\n",
        "Assignment3           1           21         17.395707\n",
        "Combinatorics         5           1          18.200000\n",
        "Assignment5           5           1          18.793210\n",
        "                                  3          27.161508\n",
        "                      2           7          36.321806\n",
        "Name: time, dtype: float64\n"
       ]
      }
     ],
     "prompt_number": 230
    },
    {
     "cell_type": "code",
     "collapsed": false,
     "input": [
      "MED[MED>10]"
     ],
     "language": "python",
     "metadata": {},
     "outputs": [
      {
       "output_type": "pyout",
       "prompt_number": 225,
       "text": [
        "assignment     problem_no  part_no\n",
        "Assignment2    1           1          11.526499\n",
        "               5           3          17.052206\n",
        "               7           3          14.064748\n",
        "                           4          13.673756\n",
        "Assignment3    1           3          10.087089\n",
        "                           4          11.553810\n",
        "                           5          11.518127\n",
        "                           6          11.319608\n",
        "                           8          11.345926\n",
        "                           10         14.766418\n",
        "                           21         17.395707\n",
        "Assignment5    1           4          14.570892\n",
        "                           5          12.995134\n",
        "                           6          10.459328\n",
        "               2           4          13.061779\n",
        "                           5          14.285354\n",
        "                           6          13.069531\n",
        "                           7          36.321806\n",
        "               4           1          12.941071\n",
        "               5           1          18.793210\n",
        "                           2          16.813086\n",
        "                           3          27.161508\n",
        "                           4          10.471296\n",
        "Assignment6    1           1          13.723214\n",
        "Assignment7    1           4          13.296393\n",
        "               3           1          10.841727\n",
        "Assignment9    3           4          10.299405\n",
        "                           6          11.544667\n",
        "                           7          12.994697\n",
        "Combinatorics  5           1          18.200000\n",
        "Name: time, dtype: float64"
       ]
      }
     ],
     "prompt_number": 225
    },
    {
     "cell_type": "code",
     "collapsed": false,
     "input": [
      "grouped_by_user=B.groupby('user')\n",
      "Mean_by_student=grouped_by_user['time'].mean()\n",
      "users=B['user']\n",
      "users=users.drop_duplicates()\n",
      "users=list(users.values)"
     ],
     "language": "python",
     "metadata": {},
     "outputs": [],
     "prompt_number": 264
    },
    {
     "cell_type": "code",
     "collapsed": false,
     "input": [
      "!ls"
     ],
     "language": "python",
     "metadata": {},
     "outputs": [
      {
       "output_type": "stream",
       "stream": "stdout",
       "text": [
        "Behaviour Analysis (now in .py).ipynb Find Struggles.ipynb                  Process WebWork Logs.ipynb\r\n",
        "Create Plots.ipynb                    Parsing PG files.ipynb                SandBox.ipynb\r\n"
       ]
      }
     ],
     "prompt_number": 234
    },
    {
     "cell_type": "code",
     "collapsed": false,
     "input": [
      "logs_dir=os.environ['WWAH_LOGS']"
     ],
     "language": "python",
     "metadata": {},
     "outputs": [],
     "prompt_number": 237
    },
    {
     "cell_type": "code",
     "collapsed": false,
     "input": [
      "!ls $logs_dir"
     ],
     "language": "python",
     "metadata": {},
     "outputs": [
      {
       "output_type": "stream",
       "stream": "stdout",
       "text": [
        "Assignment3.1.pdf            answer_log13.txt             answer_log_assignment3.txt   answer_log_assignment8.txt   master_roster.csv\r\n",
        "Assignment3.pdf              answer_log14.txt             answer_log_assignment5.txt   jwho14.txt\r\n",
        "answer_log.2.1.txt           answer_log15.txt             answer_log_assignment6.txt   log.txt\r\n",
        "answer_log.2.2.txt           answer_log_assignment1_2.txt answer_log_assignment7.txt   log2.txt\r\n"
       ]
      }
     ],
     "prompt_number": 238
    },
    {
     "cell_type": "code",
     "collapsed": false,
     "input": [
      "!head -2 $logs_dir/master_roster.csv"
     ],
     "language": "python",
     "metadata": {},
     "outputs": [
      {
       "output_type": "stream",
       "stream": "stdout",
       "text": [
        "secret_number,CourseAvg,Grade,AssignmentAvg,AttendanceScore,Final,last,first,email,pid,clicker,group,on_moodle,on_webwork,on_blink,Assignment1,Assignment2,Assignment3,Assignment4,Assignment5,Assignment6,Assignment7,Assignment8,Assignment9,Assignment10,Assignment11,Assignment12,Assignment13,Assignment14,Assignment15,Assignment16,Assignment17,Assignment18,Assignment19,Assignment20,Assignment21,1001,1003,1005,1008,1010,1012,1015,1017,1019,1022,1024,1026,1029,1031,1102,1105,1107,1114,1116,1119,1121,1126,1128,1130,Attendance\r\n",
        "4275,100,A+,10,10,90,Alafate,Julaiti,jalafate,A98500851,#85E2197E,38,1,1,1,10,13,10,7,8,10,8,5,7,10,8,6,8,5,6,7,6,4,7,3,2,1,1,0,1,1,1,1,1,1,1,1,1,1,1,1,1,1,1,1,1,1,1,1,0,22\r\n"
       ]
      }
     ],
     "prompt_number": 240
    },
    {
     "cell_type": "code",
     "collapsed": false,
     "input": [
      "roster=pandas.read_csv(open(logs_dir+'/master_roster.csv','r'))"
     ],
     "language": "python",
     "metadata": {},
     "outputs": [],
     "prompt_number": 241
    },
    {
     "cell_type": "code",
     "collapsed": false,
     "input": [
      "pickle_dir=os.environ['WWAH_PICKLE']\n",
      "pickle.dump(roster,open(pickle_dir+'/roster.pkl','wb'))"
     ],
     "language": "python",
     "metadata": {},
     "outputs": [],
     "prompt_number": 243
    },
    {
     "cell_type": "code",
     "collapsed": false,
     "input": [
      "users2=list(roster['email'])"
     ],
     "language": "python",
     "metadata": {},
     "outputs": [],
     "prompt_number": 272
    },
    {
     "cell_type": "code",
     "collapsed": false,
     "input": [
      "for ID in users:\n",
      "    if not ID in users2:\n",
      "        print ID,'in users, but missing from users2'"
     ],
     "language": "python",
     "metadata": {},
     "outputs": [
      {
       "output_type": "stream",
       "stream": "stdout",
       "text": [
        "bbernald in users, but missing from users2\n",
        "deisenba in users, but missing from users2\n",
        "i1jones in users, but missing from users2\n",
        "jduarte in users, but missing from users2\n",
        "jin_wang in users, but missing from users2\n",
        "joliao in users, but missing from users2\n",
        "jsimbol in users, but missing from users2\n",
        "k3song in users, but missing from users2\n",
        "mcluong in users, but missing from users2\n",
        "melkherj in users, but missing from users2\n",
        "minesasecret in users, but missing from users2\n",
        "nadav.shiffman in users, but missing from users2\n",
        "rmkhan in users, but missing from users2\n",
        "ryliao in users, but missing from users2\n",
        "stdao in users, but missing from users2\n",
        "stt015 in users, but missing from users2\n",
        "wentao_liu in users, but missing from users2\n",
        "yfreund in users, but missing from users2\n",
        "yuncong in users, but missing from users2\n"
       ]
      }
     ],
     "prompt_number": 273
    },
    {
     "cell_type": "code",
     "collapsed": false,
     "input": [
      "for ID in users2:\n",
      "    if not ID in users:\n",
      "        print ID,'in users2, but missing from users'"
     ],
     "language": "python",
     "metadata": {},
     "outputs": [
      {
       "output_type": "stream",
       "stream": "stdout",
       "text": [
        "jjduarte in users2, but missing from users\n",
        "jiw086 in users2, but missing from users\n",
        "amosliu1992@gmail.com in users2, but missing from users\n",
        "evfung in users2, but missing from users\n"
       ]
      }
     ],
     "prompt_number": 274
    },
    {
     "cell_type": "code",
     "collapsed": false,
     "input": [],
     "language": "python",
     "metadata": {},
     "outputs": []
    }
   ],
   "metadata": {}
  }
 ]
}