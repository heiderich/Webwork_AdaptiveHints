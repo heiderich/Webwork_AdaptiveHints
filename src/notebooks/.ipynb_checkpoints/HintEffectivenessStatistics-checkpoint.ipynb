{
 "metadata": {
  "name": ""
 },
 "nbformat": 3,
 "nbformat_minor": 0,
 "worksheets": [
  {
   "cells": [
    {
     "cell_type": "code",
     "collapsed": false,
     "input": [
      "import random, os\n",
      "from numpy.linalg import lstsq\n",
      "from sklearn.linear_model import LogisticRegression\n",
      "import numpy as np\n",
      "from sklearn.cluster import KMeans\n",
      "from sklearn.decomposition import PCA\n",
      "import pandas as pd\n",
      "import pickle\n",
      "\n",
      "course_name='UCSD_CSE103'\n",
      "\n",
      "behavioral_statistics_path = '%s/%s_behavioral_statistics_past_answer.pkl'%(os.environ['WWAH_PICKLE'],course_name)\n",
      "f = pickle.load(open(behavioral_statistics_path,'rb'))\n",
      "df = f.values()[0]\n",
      "df"
     ],
     "language": "python",
     "metadata": {},
     "outputs": [
      {
       "output_type": "stream",
       "stream": "stderr",
       "text": [
        "/usr/local/lib/python2.7/dist-packages/pandas/core/config.py:570: DeprecationWarning: height has been deprecated.\n",
        "\n",
        "  warnings.warn(d.msg, DeprecationWarning)\n"
       ]
      },
      {
       "html": [
        "<pre>\n",
        "&lt;class 'pandas.core.frame.DataFrame'&gt;\n",
        "Int64Index: 121903 entries, 0 to 11\n",
        "Data columns (total 8 columns):\n",
        "assignment       121903  non-null values\n",
        "final_correct    121903  non-null values\n",
        "part_no          121903  non-null values\n",
        "problem_no       121903  non-null values\n",
        "start_time       121903  non-null values\n",
        "time             121903  non-null values\n",
        "tries            121903  non-null values\n",
        "user             121903  non-null values\n",
        "dtypes: float64(1), int64(5), object(2)\n",
        "</pre>"
       ],
       "metadata": {},
       "output_type": "pyout",
       "prompt_number": 1,
       "text": [
        "<class 'pandas.core.frame.DataFrame'>\n",
        "Int64Index: 121903 entries, 0 to 11\n",
        "Data columns (total 8 columns):\n",
        "assignment       121903  non-null values\n",
        "final_correct    121903  non-null values\n",
        "part_no          121903  non-null values\n",
        "problem_no       121903  non-null values\n",
        "start_time       121903  non-null values\n",
        "time             121903  non-null values\n",
        "tries            121903  non-null values\n",
        "user             121903  non-null values\n",
        "dtypes: float64(1), int64(5), object(2)"
       ]
      }
     ],
     "prompt_number": 1
    },
    {
     "cell_type": "markdown",
     "metadata": {},
     "source": [
      "### Remove Outliers ###\n",
      "* Remove users who have not attempted many parts, and parts not attempted by many users.  \n",
      "* Replace NaN in the sub-table with 0.  "
     ]
    },
    {
     "cell_type": "code",
     "collapsed": false,
     "input": [
      "user_cutoff_quantile = 0.2\n",
      "#count the number of tries cells that are not nan row-wise (users)\n",
      "# This is the number of attempted problem parts per user\n",
      "#Plot a histogram of number of number of attempted problem parts, and show the cutoff \n",
      "# for determining which users are \"inactive\"\n",
      "user_list=df.groupby('user')['tries'].count()\n",
      "user_list.sort()\n",
      "user_list.hist(bins=40, color='blue')\n",
      "# Get the height of the histogram\n",
      "hist_height = hist(user_list, bins=40, label='number of attempted parts per user')[0].max()\n",
      "user_cutoff = user_list.quantile(user_cutoff_quantile)\n",
      "vlines([user_cutoff],[0],[hist_height], color='red', label='cutoff at %.1f attempted parts'%user_cutoff)\n",
      "legend()\n",
      "# Show examples of active and inactive users\n",
      "inactive_users = user_list[user_list <= user_cutoff]\n",
      "active_users = user_list[user_list > user_cutoff]\n",
      "print '### Sample Inactive Users:'\n",
      "print random.sample(inactive_users.index, 10)\n",
      "print '### Sample Active Users:'\n",
      "print random.sample(active_users.index, 10)"
     ],
     "language": "python",
     "metadata": {},
     "outputs": [
      {
       "output_type": "stream",
       "stream": "stdout",
       "text": [
        "### Sample Inactive Users:\n",
        "['tyxie', 'zzhai', 'r1luong', 'scheaman', 'kwaite', 'wihuang', 'hetorosy', 'vmavram', 'ajudah', 'c7lewis']\n",
        "### Sample Active Users:\n",
        "['kmulakal', 'babney', 'mschwegl', 'ajjiang', 'mnyayapa', 'bcrussel', 'krespino', 'dstimm', 'akhosla', 'sjk044']\n"
       ]
      },
      {
       "metadata": {},
       "output_type": "display_data",
       "png": "[encoded data removed]",
       "text": [
        "<matplotlib.figure.Figure at 0x3ec8a50>"
       ]
      }
     ],
     "prompt_number": 2
    },
    {
     "cell_type": "code",
     "collapsed": false,
     "input": [
      "part_cutoff_quantile = 0.42\n",
      "#count the number of tries cells that are not nan column-wise (part)\n",
      "# This is the number of users who attempted the part\n",
      "#Plot a histogram of number of number of users who attempted parts, and show the cutoff\n",
      "# for determining which users are \"inactive\"\n",
      "part_list=df.groupby(['assignment','problem_no','part_no'])['tries'].count()\n",
      "part_list.sort()\n",
      "part_list.hist(bins=40, color='blue')\n",
      "# Get the height of the histogram\n",
      "hist_height = hist(part_list, bins=40, label='number of users who attempted part')[0].max()\n",
      "part_cutoff = part_list.quantile(part_cutoff_quantile)\n",
      "vlines([part_cutoff],[0],[hist_height], color='red', label='cutoff at %.1f users who attempted part'%part_cutoff)\n",
      "legend()\n",
      "junk_parts = part_list[part_list <= part_cutoff]\n",
      "attempted_parts = part_list[part_list > part_cutoff]\n",
      "print '### Sample Junk Parts:'\n",
      "print junk_parts.ix[random.sample(junk_parts.index,5)]\n",
      "print ''\n",
      "print '### Sample Attempted Parts:'\n",
      "print attempted_parts.ix[random.sample(attempted_parts.index,5)]\n",
      "print ''"
     ],
     "language": "python",
     "metadata": {},
     "outputs": [
      {
       "output_type": "stream",
       "stream": "stdout",
       "text": [
        "### Sample Junk Parts:\n",
        "assignment            problem_no  part_no\n",
        "Orientation           14          2           2\n",
        "FinalPractice         30          11         59\n",
        "Orientation           9           2           2\n",
        "FinalPractice         56          3          79\n",
        "experimentalProblems  8           4           1\n",
        "dtype: int64\n",
        "\n",
        "### Sample Attempted Parts:\n",
        "assignment          problem_no  part_no\n",
        "Assignment10.16.13  2           6          137\n",
        "Assignment10.25.13  3           10         165\n",
        "FinalPractice       10          2          139\n",
        "Assignment11.06.13  4           14         156\n",
        "Assignment10.23.13  6           2          167\n",
        "dtype: int64\n",
        "\n"
       ]
      },
      {
       "metadata": {},
       "output_type": "display_data",
       "png": "[encoded data removed]",
       "text": [
        "<matplotlib.figure.Figure at 0x44fef90>"
       ]
      }
     ],
     "prompt_number": 3
    },
    {
     "cell_type": "code",
     "collapsed": false,
     "input": [
      "# remove junk_parts and inactive_users from the data frame.\n",
      "dfr1=df[[(user in active_users) \n",
      "        for (user,assignment,problem_no,part_no) in df[['user','assignment','problem_no','part_no']].values]]\n",
      "dfr2=df[[(user in active_users and (assignment, problem_no,part_no) in attempted_parts) \n",
      "        for (user,assignment,problem_no,part_no) in df[['user','assignment','problem_no','part_no']].values]]\n",
      "print shape(df),shape(dfr1),shape(dfr2)\n",
      "#reorganize as a table.\n",
      "Table=dfr2.pivot_table(rows='user',cols=['assignment','problem_no','part_no'],values=['final_correct','tries','time'])\n",
      "Table=Table.reorder_levels([1,2,3,0], axis=1)\n",
      "Table=Table.sortlevel(axis=1,level=0)\n",
      "print shape(Table)\n",
      "Table.ix[0:10,0:20]"
     ],
     "language": "python",
     "metadata": {},
     "outputs": [
      {
       "output_type": "stream",
       "stream": "stdout",
       "text": [
        "(121903, 8) (113840, 8) (92159, 8)\n",
        "(164, 1980)"
       ]
      },
      {
       "output_type": "stream",
       "stream": "stderr",
       "text": [
        "/usr/local/lib/python2.7/dist-packages/pandas/core/config.py:570: DeprecationWarning: height has been deprecated.\n",
        "\n",
        "  warnings.warn(d.msg, DeprecationWarning)\n",
        "/usr/local/lib/python2.7/dist-packages/pandas/core/config.py:570: DeprecationWarning: height has been deprecated.\n",
        "\n",
        "  warnings.warn(d.msg, DeprecationWarning)\n",
        "/usr/local/lib/python2.7/dist-packages/pandas/core/config.py:570: DeprecationWarning: height has been deprecated.\n",
        "\n",
        "  warnings.warn(d.msg, DeprecationWarning)\n"
       ]
      },
      {
       "output_type": "stream",
       "stream": "stdout",
       "text": [
        "\n"
       ]
      },
      {
       "html": [
        "<div style=\"max-height:1000px;max-width:1500px;overflow:auto;\">\n",
        "<table border=\"1\" class=\"dataframe\">\n",
        "  <thead>\n",
        "    <tr>\n",
        "      <th>assignment</th>\n",
        "      <th colspan=\"20\" halign=\"left\">Assignment10.11.13</th>\n",
        "    </tr>\n",
        "    <tr>\n",
        "      <th>problem_no</th>\n",
        "      <th colspan=\"12\" halign=\"left\">1</th>\n",
        "      <th colspan=\"8\" halign=\"left\">2</th>\n",
        "    </tr>\n",
        "    <tr>\n",
        "      <th>part_no</th>\n",
        "      <th colspan=\"3\" halign=\"left\">1</th>\n",
        "      <th colspan=\"3\" halign=\"left\">2</th>\n",
        "      <th colspan=\"3\" halign=\"left\">3</th>\n",
        "      <th colspan=\"3\" halign=\"left\">4</th>\n",
        "      <th colspan=\"3\" halign=\"left\">1</th>\n",
        "      <th colspan=\"3\" halign=\"left\">2</th>\n",
        "      <th colspan=\"2\" halign=\"left\">3</th>\n",
        "    </tr>\n",
        "    <tr>\n",
        "      <th></th>\n",
        "      <th>final_correct</th>\n",
        "      <th>tries</th>\n",
        "      <th>time</th>\n",
        "      <th>final_correct</th>\n",
        "      <th>tries</th>\n",
        "      <th>time</th>\n",
        "      <th>final_correct</th>\n",
        "      <th>tries</th>\n",
        "      <th>time</th>\n",
        "      <th>final_correct</th>\n",
        "      <th>tries</th>\n",
        "      <th>time</th>\n",
        "      <th>final_correct</th>\n",
        "      <th>tries</th>\n",
        "      <th>time</th>\n",
        "      <th>final_correct</th>\n",
        "      <th>tries</th>\n",
        "      <th>time</th>\n",
        "      <th>final_correct</th>\n",
        "      <th>tries</th>\n",
        "    </tr>\n",
        "    <tr>\n",
        "      <th>user</th>\n",
        "      <th></th>\n",
        "      <th></th>\n",
        "      <th></th>\n",
        "      <th></th>\n",
        "      <th></th>\n",
        "      <th></th>\n",
        "      <th></th>\n",
        "      <th></th>\n",
        "      <th></th>\n",
        "      <th></th>\n",
        "      <th></th>\n",
        "      <th></th>\n",
        "      <th></th>\n",
        "      <th></th>\n",
        "      <th></th>\n",
        "      <th></th>\n",
        "      <th></th>\n",
        "      <th></th>\n",
        "      <th></th>\n",
        "      <th></th>\n",
        "    </tr>\n",
        "  </thead>\n",
        "  <tbody>\n",
        "    <tr>\n",
        "      <th>a4to</th>\n",
        "      <td>  1</td>\n",
        "      <td>  7</td>\n",
        "      <td> 13</td>\n",
        "      <td>  1</td>\n",
        "      <td> 16</td>\n",
        "      <td> 66</td>\n",
        "      <td>NaN</td>\n",
        "      <td>NaN</td>\n",
        "      <td>NaN</td>\n",
        "      <td>  1</td>\n",
        "      <td>  4</td>\n",
        "      <td>  0</td>\n",
        "      <td>  1</td>\n",
        "      <td>  6</td>\n",
        "      <td> 11</td>\n",
        "      <td>  1</td>\n",
        "      <td>  4</td>\n",
        "      <td> 11</td>\n",
        "      <td>  0</td>\n",
        "      <td>  1</td>\n",
        "    </tr>\n",
        "    <tr>\n",
        "      <th>a5taylor</th>\n",
        "      <td>  1</td>\n",
        "      <td>  1</td>\n",
        "      <td>  0</td>\n",
        "      <td>  1</td>\n",
        "      <td> 18</td>\n",
        "      <td>  4</td>\n",
        "      <td>  1</td>\n",
        "      <td>  2</td>\n",
        "      <td>  0</td>\n",
        "      <td>  1</td>\n",
        "      <td>  3</td>\n",
        "      <td>  0</td>\n",
        "      <td>  1</td>\n",
        "      <td> 49</td>\n",
        "      <td> 29</td>\n",
        "      <td>  1</td>\n",
        "      <td>  4</td>\n",
        "      <td>  0</td>\n",
        "      <td>  1</td>\n",
        "      <td>  2</td>\n",
        "    </tr>\n",
        "    <tr>\n",
        "      <th>a7luong</th>\n",
        "      <td>NaN</td>\n",
        "      <td>NaN</td>\n",
        "      <td>NaN</td>\n",
        "      <td>NaN</td>\n",
        "      <td>NaN</td>\n",
        "      <td>NaN</td>\n",
        "      <td>NaN</td>\n",
        "      <td>NaN</td>\n",
        "      <td>NaN</td>\n",
        "      <td>NaN</td>\n",
        "      <td>NaN</td>\n",
        "      <td>NaN</td>\n",
        "      <td>NaN</td>\n",
        "      <td>NaN</td>\n",
        "      <td>NaN</td>\n",
        "      <td>NaN</td>\n",
        "      <td>NaN</td>\n",
        "      <td>NaN</td>\n",
        "      <td>NaN</td>\n",
        "      <td>NaN</td>\n",
        "    </tr>\n",
        "    <tr>\n",
        "      <th>abw004</th>\n",
        "      <td>NaN</td>\n",
        "      <td>NaN</td>\n",
        "      <td>NaN</td>\n",
        "      <td>NaN</td>\n",
        "      <td>NaN</td>\n",
        "      <td>NaN</td>\n",
        "      <td>  1</td>\n",
        "      <td>  1</td>\n",
        "      <td>  0</td>\n",
        "      <td>  1</td>\n",
        "      <td>  1</td>\n",
        "      <td>  0</td>\n",
        "      <td>NaN</td>\n",
        "      <td>NaN</td>\n",
        "      <td>NaN</td>\n",
        "      <td>  1</td>\n",
        "      <td>  2</td>\n",
        "      <td>  0</td>\n",
        "      <td>  1</td>\n",
        "      <td>  3</td>\n",
        "    </tr>\n",
        "    <tr>\n",
        "      <th>actsang</th>\n",
        "      <td>NaN</td>\n",
        "      <td>NaN</td>\n",
        "      <td>NaN</td>\n",
        "      <td>  1</td>\n",
        "      <td> 60</td>\n",
        "      <td> 27</td>\n",
        "      <td>  1</td>\n",
        "      <td>  3</td>\n",
        "      <td>  0</td>\n",
        "      <td>  1</td>\n",
        "      <td>  5</td>\n",
        "      <td>  0</td>\n",
        "      <td>  1</td>\n",
        "      <td> 12</td>\n",
        "      <td>  6</td>\n",
        "      <td>  1</td>\n",
        "      <td>  3</td>\n",
        "      <td>  0</td>\n",
        "      <td>  1</td>\n",
        "      <td>  7</td>\n",
        "    </tr>\n",
        "    <tr>\n",
        "      <th>adfisher</th>\n",
        "      <td>  1</td>\n",
        "      <td>  4</td>\n",
        "      <td> 21</td>\n",
        "      <td>  1</td>\n",
        "      <td> 17</td>\n",
        "      <td> 20</td>\n",
        "      <td>  1</td>\n",
        "      <td>  2</td>\n",
        "      <td>  2</td>\n",
        "      <td>  1</td>\n",
        "      <td>  3</td>\n",
        "      <td>  1</td>\n",
        "      <td>  1</td>\n",
        "      <td> 17</td>\n",
        "      <td>  4</td>\n",
        "      <td>  1</td>\n",
        "      <td>  3</td>\n",
        "      <td>  0</td>\n",
        "      <td>  1</td>\n",
        "      <td>  3</td>\n",
        "    </tr>\n",
        "    <tr>\n",
        "      <th>aferbrac</th>\n",
        "      <td>NaN</td>\n",
        "      <td>NaN</td>\n",
        "      <td>NaN</td>\n",
        "      <td>  1</td>\n",
        "      <td> 16</td>\n",
        "      <td> 12</td>\n",
        "      <td>  1</td>\n",
        "      <td>  1</td>\n",
        "      <td>  0</td>\n",
        "      <td>  1</td>\n",
        "      <td>  2</td>\n",
        "      <td>  0</td>\n",
        "      <td>  1</td>\n",
        "      <td> 19</td>\n",
        "      <td>  6</td>\n",
        "      <td>  1</td>\n",
        "      <td>  3</td>\n",
        "      <td>  1</td>\n",
        "      <td>  1</td>\n",
        "      <td>  1</td>\n",
        "    </tr>\n",
        "    <tr>\n",
        "      <th>ahem</th>\n",
        "      <td>NaN</td>\n",
        "      <td>NaN</td>\n",
        "      <td>NaN</td>\n",
        "      <td>  1</td>\n",
        "      <td> 12</td>\n",
        "      <td> 29</td>\n",
        "      <td>  1</td>\n",
        "      <td>  2</td>\n",
        "      <td>  0</td>\n",
        "      <td>  1</td>\n",
        "      <td>  1</td>\n",
        "      <td>  0</td>\n",
        "      <td>  0</td>\n",
        "      <td> 10</td>\n",
        "      <td> 41</td>\n",
        "      <td>NaN</td>\n",
        "      <td>NaN</td>\n",
        "      <td>NaN</td>\n",
        "      <td>NaN</td>\n",
        "      <td>NaN</td>\n",
        "    </tr>\n",
        "    <tr>\n",
        "      <th>ajjiang</th>\n",
        "      <td>  1</td>\n",
        "      <td>  1</td>\n",
        "      <td>  0</td>\n",
        "      <td>  0</td>\n",
        "      <td> 11</td>\n",
        "      <td>  5</td>\n",
        "      <td>  1</td>\n",
        "      <td>  3</td>\n",
        "      <td>  1</td>\n",
        "      <td>  0</td>\n",
        "      <td>  1</td>\n",
        "      <td>  0</td>\n",
        "      <td>  1</td>\n",
        "      <td>  9</td>\n",
        "      <td>  1</td>\n",
        "      <td>  1</td>\n",
        "      <td>  4</td>\n",
        "      <td>  0</td>\n",
        "      <td>  1</td>\n",
        "      <td>  1</td>\n",
        "    </tr>\n",
        "    <tr>\n",
        "      <th>akhosla</th>\n",
        "      <td>NaN</td>\n",
        "      <td>NaN</td>\n",
        "      <td>NaN</td>\n",
        "      <td>  1</td>\n",
        "      <td> 23</td>\n",
        "      <td> 38</td>\n",
        "      <td>  1</td>\n",
        "      <td>  2</td>\n",
        "      <td>  0</td>\n",
        "      <td>  1</td>\n",
        "      <td> 10</td>\n",
        "      <td> 43</td>\n",
        "      <td>  1</td>\n",
        "      <td> 11</td>\n",
        "      <td>  1</td>\n",
        "      <td>  1</td>\n",
        "      <td>  7</td>\n",
        "      <td>  7</td>\n",
        "      <td>  1</td>\n",
        "      <td>  1</td>\n",
        "    </tr>\n",
        "  </tbody>\n",
        "</table>\n",
        "</div>"
       ],
       "metadata": {},
       "output_type": "pyout",
       "prompt_number": 4,
       "text": [
        "assignment  Assignment10.11.13                                           \\\n",
        "problem_no                   1                                            \n",
        "part_no                      1                           2                \n",
        "                 final_correct  tries  time  final_correct  tries  time   \n",
        "user                                                                      \n",
        "a4to                         1      7    13              1     16    66   \n",
        "a5taylor                     1      1     0              1     18     4   \n",
        "a7luong                    NaN    NaN   NaN            NaN    NaN   NaN   \n",
        "abw004                     NaN    NaN   NaN            NaN    NaN   NaN   \n",
        "actsang                    NaN    NaN   NaN              1     60    27   \n",
        "adfisher                     1      4    21              1     17    20   \n",
        "aferbrac                   NaN    NaN   NaN              1     16    12   \n",
        "ahem                       NaN    NaN   NaN              1     12    29   \n",
        "ajjiang                      1      1     0              0     11     5   \n",
        "akhosla                    NaN    NaN   NaN              1     23    38   \n",
        "\n",
        "assignment                                                          \\\n",
        "problem_no                                                           \n",
        "part_no                 3                           4                \n",
        "            final_correct  tries  time  final_correct  tries  time   \n",
        "user                                                                 \n",
        "a4to                  NaN    NaN   NaN              1      4     0   \n",
        "a5taylor                1      2     0              1      3     0   \n",
        "a7luong               NaN    NaN   NaN            NaN    NaN   NaN   \n",
        "abw004                  1      1     0              1      1     0   \n",
        "actsang                 1      3     0              1      5     0   \n",
        "adfisher                1      2     2              1      3     1   \n",
        "aferbrac                1      1     0              1      2     0   \n",
        "ahem                    1      2     0              1      1     0   \n",
        "ajjiang                 1      3     1              0      1     0   \n",
        "akhosla                 1      2     0              1     10    43   \n",
        "\n",
        "assignment                                                          \\\n",
        "problem_no              2                                            \n",
        "part_no                 1                           2                \n",
        "            final_correct  tries  time  final_correct  tries  time   \n",
        "user                                                                 \n",
        "a4to                    1      6    11              1      4    11   \n",
        "a5taylor                1     49    29              1      4     0   \n",
        "a7luong               NaN    NaN   NaN            NaN    NaN   NaN   \n",
        "abw004                NaN    NaN   NaN              1      2     0   \n",
        "actsang                 1     12     6              1      3     0   \n",
        "adfisher                1     17     4              1      3     0   \n",
        "aferbrac                1     19     6              1      3     1   \n",
        "ahem                    0     10    41            NaN    NaN   NaN   \n",
        "ajjiang                 1      9     1              1      4     0   \n",
        "akhosla                 1     11     1              1      7     7   \n",
        "\n",
        "assignment                        \n",
        "problem_no                        \n",
        "part_no                 3         \n",
        "            final_correct  tries  \n",
        "user                              \n",
        "a4to                    0      1  \n",
        "a5taylor                1      2  \n",
        "a7luong               NaN    NaN  \n",
        "abw004                  1      3  \n",
        "actsang                 1      7  \n",
        "adfisher                1      3  \n",
        "aferbrac                1      1  \n",
        "ahem                  NaN    NaN  \n",
        "ajjiang                 1      1  \n",
        "akhosla                 1      1  "
       ]
      }
     ],
     "prompt_number": 4
    },
    {
     "cell_type": "code",
     "collapsed": false,
     "input": [
      "print 'Original table size, (#users,#parts)='+str(shape(Table))\n",
      "#Table=Table.drop(inactive_users.index,axis=0)\n",
      "print 'After dropping users, (#users,#parts)='+str(shape(Table))\n",
      "Table=Table.drop(junk_parts.index,axis=1,level=3)\n",
      "print 'After dropping parts, (#users,#parts)='+str(shape(Table))"
     ],
     "language": "python",
     "metadata": {},
     "outputs": [
      {
       "output_type": "stream",
       "stream": "stdout",
       "text": [
        "Original table size, (#users,#parts)=(164, 1980)\n",
        "After dropping users, (#users,#parts)=(164, 1980)\n",
        "After dropping parts, (#users,#parts)=(164, 1980)\n"
       ]
      }
     ],
     "prompt_number": 5
    },
    {
     "cell_type": "markdown",
     "metadata": {},
     "source": [
      "Look at some basic statistics and identify outliers"
     ]
    },
    {
     "cell_type": "code",
     "collapsed": false,
     "input": [
      "s=shape(Table)\n",
      "sz=float(s[0]*s[1])\n",
      "count=Table.count().sum()\n",
      "print s,sz,count,float(sz-count)/sz\n",
      "Tf=Table.unstack()\n",
      "print Tf.mean(),Tf.var()\n",
      "Tf.hist(bins=100)\n",
      "print (Tf>20).sum()/sz, Table.unstack().max()"
     ],
     "language": "python",
     "metadata": {},
     "outputs": [
      {
       "output_type": "stream",
       "stream": "stdout",
       "text": [
        "(164, 1980) 324720.0 189554 0.416254003449\n",
        "inf nan\n",
        "0.583745996551"
       ]
      },
      {
       "output_type": "stream",
       "stream": "stdout",
       "text": [
        " inf\n"
       ]
      },
      {
       "metadata": {},
       "output_type": "display_data",
       "png": "[encoded data removed]",
       "text": [
        "<matplotlib.figure.Figure at 0x4745d10>"
       ]
      }
     ],
     "prompt_number": 32
    },
    {
     "cell_type": "code",
     "collapsed": false,
     "input": [
      "Table = Table.apply(log)\n",
      "Tf=Table.unstack()\n",
      "print Tf.mean(),Tf.var()\n",
      "Tf.hist(bins=100)"
     ],
     "language": "python",
     "metadata": {},
     "outputs": [
      {
       "output_type": "stream",
       "stream": "stdout",
       "text": [
        "-inf nan\n"
       ]
      },
      {
       "metadata": {},
       "output_type": "pyout",
       "prompt_number": 7,
       "text": [
        "<matplotlib.axes.AxesSubplot at 0x421cd10>"
       ]
      },
      {
       "metadata": {},
       "output_type": "display_data",
       "png": "[encoded data removed]",
       "text": [
        "<matplotlib.figure.Figure at 0x421ca50>"
       ]
      }
     ],
     "prompt_number": 7
    },
    {
     "cell_type": "code",
     "collapsed": false,
     "input": [
      "Mean=Tf.mean()\n",
      "Tf=Tf-Mean\n",
      "print Tf.mean(),Tf.var()\n",
      "Tf.hist(bins=100)\n",
      "Table=Table-Mean"
     ],
     "language": "python",
     "metadata": {},
     "outputs": [
      {
       "output_type": "stream",
       "stream": "stdout",
       "text": [
        "inf nan\n"
       ]
      },
      {
       "metadata": {},
       "output_type": "display_data",
       "png": "[encoded data removed]",
       "text": [
        "<matplotlib.figure.Figure at 0x473f9d0>"
       ]
      }
     ],
     "prompt_number": 8
    },
    {
     "cell_type": "markdown",
     "metadata": {},
     "source": [
      "### Perform Regression ###"
     ]
    },
    {
     "cell_type": "code",
     "collapsed": false,
     "input": [
      "mean_per_part=pd.DataFrame(Table.mean(axis=0),columns=['mean_per_part']).reset_index()\n",
      "mean_per_user=pd.DataFrame(Table.mean(axis=1),columns=['mean_per_user']).reset_index()\n",
      "RTf=pd.DataFrame(Tf,columns=['Y']).reset_index()\n",
      "\n",
      "RTf=pd.merge(RTf,mean_per_user,on=['user'])\n",
      "RTf=pd.merge(RTf,mean_per_part,on=['assignment','problem_no','part_no'])\n",
      "RTf=RTf.dropna();\n",
      "RTf['product']=RTf['mean_per_part']*RTf['mean_per_user']\n",
      "print RTf.head()"
     ],
     "language": "python",
     "metadata": {},
     "outputs": [
      {
       "output_type": "stream",
       "stream": "stdout",
       "text": [
        "           assignment  problem_no  part_no      level_3_x  user    Y  \\\n",
        "0  Assignment10.11.13           1        1  final_correct  a4to  inf   \n",
        "1  Assignment10.11.13           1        1  final_correct  a4to  inf   \n",
        "2  Assignment10.11.13           1        1  final_correct  a4to  inf   \n",
        "3  Assignment10.11.13           1        1          tries  a4to  inf   \n",
        "4  Assignment10.11.13           1        1          tries  a4to  inf   \n",
        "\n",
        "   mean_per_user      level_3_y  mean_per_part  product  \n",
        "0            inf  final_correct            inf      inf  \n",
        "1            inf          tries            inf      inf  \n",
        "2            inf           time            inf      inf  \n",
        "3            inf  final_correct            inf      inf  \n",
        "4            inf          tries            inf      inf  \n"
       ]
      },
      {
       "output_type": "stream",
       "stream": "stderr",
       "text": [
        "/usr/local/lib/python2.7/dist-packages/pandas/core/config.py:570: DeprecationWarning: height has been deprecated.\n",
        "\n",
        "  warnings.warn(d.msg, DeprecationWarning)\n",
        "/usr/local/lib/python2.7/dist-packages/pandas/core/config.py:570: DeprecationWarning: height has been deprecated.\n",
        "\n",
        "  warnings.warn(d.msg, DeprecationWarning)\n"
       ]
      }
     ],
     "prompt_number": 9
    },
    {
     "cell_type": "code",
     "collapsed": false,
     "input": [
      "print X.shape\n",
      "print Y.shape"
     ],
     "language": "python",
     "metadata": {},
     "outputs": [
      {
       "output_type": "stream",
       "stream": "stdout",
       "text": [
        "(563859, 3)\n",
        "(563859, 1)\n"
       ]
      }
     ],
     "prompt_number": 20
    },
    {
     "cell_type": "code",
     "collapsed": false,
     "input": [
      "X=RTf[['mean_per_user','mean_per_part','product']].values\n",
      "Y=RTf[['Y']]\n",
      "x, residuals, rank, s = lstsq(X,Y)\n",
      "print shape(X),shape(Y)"
     ],
     "language": "python",
     "metadata": {},
     "outputs": [
      {
       "ename": "LinAlgError",
       "evalue": "SVD did not converge in Linear Least Squares",
       "output_type": "pyerr",
       "traceback": [
        "\u001b[1;31m---------------------------------------------------------------------------\u001b[0m\n\u001b[1;31mLinAlgError\u001b[0m                               Traceback (most recent call last)",
        "\u001b[1;32m<ipython-input-10-66685b72a33d>\u001b[0m in \u001b[0;36m<module>\u001b[1;34m()\u001b[0m\n\u001b[0;32m      1\u001b[0m \u001b[0mX\u001b[0m\u001b[1;33m=\u001b[0m\u001b[0mRTf\u001b[0m\u001b[1;33m[\u001b[0m\u001b[1;33m[\u001b[0m\u001b[1;34m'mean_per_user'\u001b[0m\u001b[1;33m,\u001b[0m\u001b[1;34m'mean_per_part'\u001b[0m\u001b[1;33m,\u001b[0m\u001b[1;34m'product'\u001b[0m\u001b[1;33m]\u001b[0m\u001b[1;33m]\u001b[0m\u001b[1;33m.\u001b[0m\u001b[0mvalues\u001b[0m\u001b[1;33m\u001b[0m\u001b[0m\n\u001b[0;32m      2\u001b[0m \u001b[0mY\u001b[0m\u001b[1;33m=\u001b[0m\u001b[0mRTf\u001b[0m\u001b[1;33m[\u001b[0m\u001b[1;33m[\u001b[0m\u001b[1;34m'Y'\u001b[0m\u001b[1;33m]\u001b[0m\u001b[1;33m]\u001b[0m\u001b[1;33m\u001b[0m\u001b[0m\n\u001b[1;32m----> 3\u001b[1;33m \u001b[0mx\u001b[0m\u001b[1;33m,\u001b[0m \u001b[0mresiduals\u001b[0m\u001b[1;33m,\u001b[0m \u001b[0mrank\u001b[0m\u001b[1;33m,\u001b[0m \u001b[0ms\u001b[0m \u001b[1;33m=\u001b[0m \u001b[0mlstsq\u001b[0m\u001b[1;33m(\u001b[0m\u001b[0mX\u001b[0m\u001b[1;33m,\u001b[0m\u001b[0mY\u001b[0m\u001b[1;33m)\u001b[0m\u001b[1;33m\u001b[0m\u001b[0m\n\u001b[0m\u001b[0;32m      4\u001b[0m \u001b[1;32mprint\u001b[0m \u001b[0mshape\u001b[0m\u001b[1;33m(\u001b[0m\u001b[0mX\u001b[0m\u001b[1;33m)\u001b[0m\u001b[1;33m,\u001b[0m\u001b[0mshape\u001b[0m\u001b[1;33m(\u001b[0m\u001b[0mY\u001b[0m\u001b[1;33m)\u001b[0m\u001b[1;33m\u001b[0m\u001b[0m\n",
        "\u001b[1;32m/usr/local/lib/python2.7/dist-packages/numpy/linalg/linalg.pyc\u001b[0m in \u001b[0;36mlstsq\u001b[1;34m(a, b, rcond)\u001b[0m\n\u001b[0;32m   1842\u001b[0m                                  0, work, lwork, iwork, 0)\n\u001b[0;32m   1843\u001b[0m     \u001b[1;32mif\u001b[0m \u001b[0mresults\u001b[0m\u001b[1;33m[\u001b[0m\u001b[1;34m'info'\u001b[0m\u001b[1;33m]\u001b[0m \u001b[1;33m>\u001b[0m \u001b[1;36m0\u001b[0m\u001b[1;33m:\u001b[0m\u001b[1;33m\u001b[0m\u001b[0m\n\u001b[1;32m-> 1844\u001b[1;33m         \u001b[1;32mraise\u001b[0m \u001b[0mLinAlgError\u001b[0m\u001b[1;33m(\u001b[0m\u001b[1;34m'SVD did not converge in Linear Least Squares'\u001b[0m\u001b[1;33m)\u001b[0m\u001b[1;33m\u001b[0m\u001b[0m\n\u001b[0m\u001b[0;32m   1845\u001b[0m     \u001b[0mresids\u001b[0m \u001b[1;33m=\u001b[0m \u001b[0marray\u001b[0m\u001b[1;33m(\u001b[0m\u001b[1;33m[\u001b[0m\u001b[1;33m]\u001b[0m\u001b[1;33m,\u001b[0m \u001b[0mresult_real_t\u001b[0m\u001b[1;33m)\u001b[0m\u001b[1;33m\u001b[0m\u001b[0m\n\u001b[0;32m   1846\u001b[0m     \u001b[1;32mif\u001b[0m \u001b[0mis_1d\u001b[0m\u001b[1;33m:\u001b[0m\u001b[1;33m\u001b[0m\u001b[0m\n",
        "\u001b[1;31mLinAlgError\u001b[0m: SVD did not converge in Linear Least Squares"
       ]
      }
     ],
     "prompt_number": 10
    },
    {
     "cell_type": "code",
     "collapsed": false,
     "input": [
      "print residuals[0]/len(Y),x,s"
     ],
     "language": "python",
     "metadata": {},
     "outputs": [
      {
       "ename": "NameError",
       "evalue": "name 'residuals' is not defined",
       "output_type": "pyerr",
       "traceback": [
        "\u001b[1;31m---------------------------------------------------------------------------\u001b[0m\n\u001b[1;31mNameError\u001b[0m                                 Traceback (most recent call last)",
        "\u001b[1;32m<ipython-input-11-1290ecfe2f1c>\u001b[0m in \u001b[0;36m<module>\u001b[1;34m()\u001b[0m\n\u001b[1;32m----> 1\u001b[1;33m \u001b[1;32mprint\u001b[0m \u001b[0mresiduals\u001b[0m\u001b[1;33m[\u001b[0m\u001b[1;36m0\u001b[0m\u001b[1;33m]\u001b[0m\u001b[1;33m/\u001b[0m\u001b[0mlen\u001b[0m\u001b[1;33m(\u001b[0m\u001b[0mY\u001b[0m\u001b[1;33m)\u001b[0m\u001b[1;33m,\u001b[0m\u001b[0mx\u001b[0m\u001b[1;33m,\u001b[0m\u001b[0ms\u001b[0m\u001b[1;33m\u001b[0m\u001b[0m\n\u001b[0m",
        "\u001b[1;31mNameError\u001b[0m: name 'residuals' is not defined"
       ]
      }
     ],
     "prompt_number": 11
    },
    {
     "cell_type": "code",
     "collapsed": false,
     "input": [
      "print 'Parameters of least-square fit: '\n",
      "print '<user/part tries> = %.3f user, %.3f part, %.3f product, base rate: %.3f'% tuple(x.tolist())\n",
      "print 'Proportion reduction in variance: %.3f'%(residuals / (L[:,2]**2).sum())"
     ],
     "language": "python",
     "metadata": {},
     "outputs": [
      {
       "ename": "NameError",
       "evalue": "name 'x' is not defined",
       "output_type": "pyerr",
       "traceback": [
        "\u001b[1;31m---------------------------------------------------------------------------\u001b[0m\n\u001b[1;31mNameError\u001b[0m                                 Traceback (most recent call last)",
        "\u001b[1;32m<ipython-input-12-eae6381ec44e>\u001b[0m in \u001b[0;36m<module>\u001b[1;34m()\u001b[0m\n\u001b[0;32m      1\u001b[0m \u001b[1;32mprint\u001b[0m \u001b[1;34m'Parameters of least-square fit: '\u001b[0m\u001b[1;33m\u001b[0m\u001b[0m\n\u001b[1;32m----> 2\u001b[1;33m \u001b[1;32mprint\u001b[0m \u001b[1;34m'<user/part tries> = %.3f user, %.3f part, %.3f product, base rate: %.3f'\u001b[0m\u001b[1;33m%\u001b[0m \u001b[0mtuple\u001b[0m\u001b[1;33m(\u001b[0m\u001b[0mx\u001b[0m\u001b[1;33m.\u001b[0m\u001b[0mtolist\u001b[0m\u001b[1;33m(\u001b[0m\u001b[1;33m)\u001b[0m\u001b[1;33m)\u001b[0m\u001b[1;33m\u001b[0m\u001b[0m\n\u001b[0m\u001b[0;32m      3\u001b[0m \u001b[1;32mprint\u001b[0m \u001b[1;34m'Proportion reduction in variance: %.3f'\u001b[0m\u001b[1;33m%\u001b[0m\u001b[1;33m(\u001b[0m\u001b[0mresiduals\u001b[0m \u001b[1;33m/\u001b[0m \u001b[1;33m(\u001b[0m\u001b[0mL\u001b[0m\u001b[1;33m[\u001b[0m\u001b[1;33m:\u001b[0m\u001b[1;33m,\u001b[0m\u001b[1;36m2\u001b[0m\u001b[1;33m]\u001b[0m\u001b[1;33m**\u001b[0m\u001b[1;36m2\u001b[0m\u001b[1;33m)\u001b[0m\u001b[1;33m.\u001b[0m\u001b[0msum\u001b[0m\u001b[1;33m(\u001b[0m\u001b[1;33m)\u001b[0m\u001b[1;33m)\u001b[0m\u001b[1;33m\u001b[0m\u001b[0m\n",
        "\u001b[1;31mNameError\u001b[0m: name 'x' is not defined"
       ]
      },
      {
       "output_type": "stream",
       "stream": "stdout",
       "text": [
        "Parameters of least-square fit: \n"
       ]
      }
     ],
     "prompt_number": 12
    },
    {
     "cell_type": "code",
     "collapsed": false,
     "input": [
      "R = (Y - X.dot(x))\n",
      "Residuals = R.reshape(Table.shape)"
     ],
     "language": "python",
     "metadata": {},
     "outputs": [
      {
       "ename": "NameError",
       "evalue": "name 'x' is not defined",
       "output_type": "pyerr",
       "traceback": [
        "\u001b[1;31m---------------------------------------------------------------------------\u001b[0m\n\u001b[1;31mNameError\u001b[0m                                 Traceback (most recent call last)",
        "\u001b[1;32m<ipython-input-13-ac3bf1d83123>\u001b[0m in \u001b[0;36m<module>\u001b[1;34m()\u001b[0m\n\u001b[1;32m----> 1\u001b[1;33m \u001b[0mR\u001b[0m \u001b[1;33m=\u001b[0m \u001b[1;33m(\u001b[0m\u001b[0mY\u001b[0m \u001b[1;33m-\u001b[0m \u001b[0mX\u001b[0m\u001b[1;33m.\u001b[0m\u001b[0mdot\u001b[0m\u001b[1;33m(\u001b[0m\u001b[0mx\u001b[0m\u001b[1;33m)\u001b[0m\u001b[1;33m)\u001b[0m\u001b[1;33m\u001b[0m\u001b[0m\n\u001b[0m\u001b[0;32m      2\u001b[0m \u001b[0mResiduals\u001b[0m \u001b[1;33m=\u001b[0m \u001b[0mR\u001b[0m\u001b[1;33m.\u001b[0m\u001b[0mreshape\u001b[0m\u001b[1;33m(\u001b[0m\u001b[0mTable\u001b[0m\u001b[1;33m.\u001b[0m\u001b[0mshape\u001b[0m\u001b[1;33m)\u001b[0m\u001b[1;33m\u001b[0m\u001b[0m\n",
        "\u001b[1;31mNameError\u001b[0m: name 'x' is not defined"
       ]
      }
     ],
     "prompt_number": 13
    },
    {
     "cell_type": "code",
     "collapsed": false,
     "input": [
      "# Learn and score PCA/KMeans\n",
      "ks = np.array([1,2,3,4,5,10,20,25])\n",
      "kmeans_scores = []\n",
      "pca_scores = []\n",
      "U,S,V = svd(Residuals)\n",
      "for k in ks:\n",
      "    model = KMeans(n_clusters=k)\n",
      "    score = (model.fit_transform(Residuals).min(axis=1)**2).sum()\n",
      "    kmeans_scores.append(score)\n",
      "    S2 = S.copy()\n",
      "    S2[k:] = 0\n",
      "    D = np.concatenate([np.diag(S2), np.zeros(shape=(164,349-164))], axis=1)\n",
      "    Pred = np.dot(np.dot(U,D),V)\n",
      "    pca_scores.append(   ((Pred - Residuals)**2).sum().sum()   )\n",
      "\n",
      "kmeans_scores = np.array(kmeans_scores)\n",
      "print kmeans_scores\n",
      "pca_scores = np.array(pca_scores)\n",
      "\n",
      "total_residual_variance = (Residuals**2).sum().sum()\n",
      "normalized_ks = ks/float(Residuals.shape[0])\n",
      "\n",
      "# Compute variance ratio for KMeans\n",
      "kmeans_scores = 1 - (kmeans_scores / total_residual_variance)\n",
      "# Compute variance ratio for PCA\n",
      "pca_scores = 1 - (pca_scores / total_residual_variance)\n",
      "# Plot proportion of variance reduction vs. space compression\n",
      "plot(normalized_ks, kmeans_scores, label='kmeans')\n",
      "plot(normalized_ks,pca_scores, label='pca')\n",
      "plot(normalized_ks,(np.cumsum(S**2))[ks]/((S**2).sum()), label='pca singular values')\n",
      "#plot(normalized_ks, pca_scores)\n",
      "xlabel('Compression ratio')\n",
      "ylabel('Proportion of Variance Explained')\n",
      "legend()"
     ],
     "language": "python",
     "metadata": {},
     "outputs": [
      {
       "ename": "NameError",
       "evalue": "name 'Residuals' is not defined",
       "output_type": "pyerr",
       "traceback": [
        "\u001b[1;31m---------------------------------------------------------------------------\u001b[0m\n\u001b[1;31mNameError\u001b[0m                                 Traceback (most recent call last)",
        "\u001b[1;32m<ipython-input-14-cad193e3de67>\u001b[0m in \u001b[0;36m<module>\u001b[1;34m()\u001b[0m\n\u001b[0;32m      3\u001b[0m \u001b[0mkmeans_scores\u001b[0m \u001b[1;33m=\u001b[0m \u001b[1;33m[\u001b[0m\u001b[1;33m]\u001b[0m\u001b[1;33m\u001b[0m\u001b[0m\n\u001b[0;32m      4\u001b[0m \u001b[0mpca_scores\u001b[0m \u001b[1;33m=\u001b[0m \u001b[1;33m[\u001b[0m\u001b[1;33m]\u001b[0m\u001b[1;33m\u001b[0m\u001b[0m\n\u001b[1;32m----> 5\u001b[1;33m \u001b[0mU\u001b[0m\u001b[1;33m,\u001b[0m\u001b[0mS\u001b[0m\u001b[1;33m,\u001b[0m\u001b[0mV\u001b[0m \u001b[1;33m=\u001b[0m \u001b[0msvd\u001b[0m\u001b[1;33m(\u001b[0m\u001b[0mResiduals\u001b[0m\u001b[1;33m)\u001b[0m\u001b[1;33m\u001b[0m\u001b[0m\n\u001b[0m\u001b[0;32m      6\u001b[0m \u001b[1;32mfor\u001b[0m \u001b[0mk\u001b[0m \u001b[1;32min\u001b[0m \u001b[0mks\u001b[0m\u001b[1;33m:\u001b[0m\u001b[1;33m\u001b[0m\u001b[0m\n\u001b[0;32m      7\u001b[0m     \u001b[0mmodel\u001b[0m \u001b[1;33m=\u001b[0m \u001b[0mKMeans\u001b[0m\u001b[1;33m(\u001b[0m\u001b[0mn_clusters\u001b[0m\u001b[1;33m=\u001b[0m\u001b[0mk\u001b[0m\u001b[1;33m)\u001b[0m\u001b[1;33m\u001b[0m\u001b[0m\n",
        "\u001b[1;31mNameError\u001b[0m: name 'Residuals' is not defined"
       ]
      }
     ],
     "prompt_number": 14
    },
    {
     "cell_type": "code",
     "collapsed": false,
     "input": [
      "print sorted(Table.index[np.argsort(U[:,0])[-10:]])\n",
      "print sorted(Table.columns[np.argsort(U[0,:])[-10:]])"
     ],
     "language": "python",
     "metadata": {},
     "outputs": [
      {
       "ename": "NameError",
       "evalue": "name 'U' is not defined",
       "output_type": "pyerr",
       "traceback": [
        "\u001b[1;31m---------------------------------------------------------------------------\u001b[0m\n\u001b[1;31mNameError\u001b[0m                                 Traceback (most recent call last)",
        "\u001b[1;32m<ipython-input-15-9347a1a94b47>\u001b[0m in \u001b[0;36m<module>\u001b[1;34m()\u001b[0m\n\u001b[1;32m----> 1\u001b[1;33m \u001b[1;32mprint\u001b[0m \u001b[0msorted\u001b[0m\u001b[1;33m(\u001b[0m\u001b[0mTable\u001b[0m\u001b[1;33m.\u001b[0m\u001b[0mindex\u001b[0m\u001b[1;33m[\u001b[0m\u001b[0mnp\u001b[0m\u001b[1;33m.\u001b[0m\u001b[0margsort\u001b[0m\u001b[1;33m(\u001b[0m\u001b[0mU\u001b[0m\u001b[1;33m[\u001b[0m\u001b[1;33m:\u001b[0m\u001b[1;33m,\u001b[0m\u001b[1;36m0\u001b[0m\u001b[1;33m]\u001b[0m\u001b[1;33m)\u001b[0m\u001b[1;33m[\u001b[0m\u001b[1;33m-\u001b[0m\u001b[1;36m10\u001b[0m\u001b[1;33m:\u001b[0m\u001b[1;33m]\u001b[0m\u001b[1;33m]\u001b[0m\u001b[1;33m)\u001b[0m\u001b[1;33m\u001b[0m\u001b[0m\n\u001b[0m\u001b[0;32m      2\u001b[0m \u001b[1;32mprint\u001b[0m \u001b[0msorted\u001b[0m\u001b[1;33m(\u001b[0m\u001b[0mTable\u001b[0m\u001b[1;33m.\u001b[0m\u001b[0mcolumns\u001b[0m\u001b[1;33m[\u001b[0m\u001b[0mnp\u001b[0m\u001b[1;33m.\u001b[0m\u001b[0margsort\u001b[0m\u001b[1;33m(\u001b[0m\u001b[0mU\u001b[0m\u001b[1;33m[\u001b[0m\u001b[1;36m0\u001b[0m\u001b[1;33m,\u001b[0m\u001b[1;33m:\u001b[0m\u001b[1;33m]\u001b[0m\u001b[1;33m)\u001b[0m\u001b[1;33m[\u001b[0m\u001b[1;33m-\u001b[0m\u001b[1;36m10\u001b[0m\u001b[1;33m:\u001b[0m\u001b[1;33m]\u001b[0m\u001b[1;33m]\u001b[0m\u001b[1;33m)\u001b[0m\u001b[1;33m\u001b[0m\u001b[0m\n",
        "\u001b[1;31mNameError\u001b[0m: name 'U' is not defined"
       ]
      }
     ],
     "prompt_number": 15
    },
    {
     "cell_type": "code",
     "collapsed": false,
     "input": [
      "print sorted(Table.index[np.argsort(U[:,1])[-10:]])\n",
      "print sorted(Table.columns[np.argsort(U[1,:])[-10:]])"
     ],
     "language": "python",
     "metadata": {},
     "outputs": [
      {
       "ename": "NameError",
       "evalue": "name 'U' is not defined",
       "output_type": "pyerr",
       "traceback": [
        "\u001b[1;31m---------------------------------------------------------------------------\u001b[0m\n\u001b[1;31mNameError\u001b[0m                                 Traceback (most recent call last)",
        "\u001b[1;32m<ipython-input-16-18388d446d90>\u001b[0m in \u001b[0;36m<module>\u001b[1;34m()\u001b[0m\n\u001b[1;32m----> 1\u001b[1;33m \u001b[1;32mprint\u001b[0m \u001b[0msorted\u001b[0m\u001b[1;33m(\u001b[0m\u001b[0mTable\u001b[0m\u001b[1;33m.\u001b[0m\u001b[0mindex\u001b[0m\u001b[1;33m[\u001b[0m\u001b[0mnp\u001b[0m\u001b[1;33m.\u001b[0m\u001b[0margsort\u001b[0m\u001b[1;33m(\u001b[0m\u001b[0mU\u001b[0m\u001b[1;33m[\u001b[0m\u001b[1;33m:\u001b[0m\u001b[1;33m,\u001b[0m\u001b[1;36m1\u001b[0m\u001b[1;33m]\u001b[0m\u001b[1;33m)\u001b[0m\u001b[1;33m[\u001b[0m\u001b[1;33m-\u001b[0m\u001b[1;36m10\u001b[0m\u001b[1;33m:\u001b[0m\u001b[1;33m]\u001b[0m\u001b[1;33m]\u001b[0m\u001b[1;33m)\u001b[0m\u001b[1;33m\u001b[0m\u001b[0m\n\u001b[0m\u001b[0;32m      2\u001b[0m \u001b[1;32mprint\u001b[0m \u001b[0msorted\u001b[0m\u001b[1;33m(\u001b[0m\u001b[0mTable\u001b[0m\u001b[1;33m.\u001b[0m\u001b[0mcolumns\u001b[0m\u001b[1;33m[\u001b[0m\u001b[0mnp\u001b[0m\u001b[1;33m.\u001b[0m\u001b[0margsort\u001b[0m\u001b[1;33m(\u001b[0m\u001b[0mU\u001b[0m\u001b[1;33m[\u001b[0m\u001b[1;36m1\u001b[0m\u001b[1;33m,\u001b[0m\u001b[1;33m:\u001b[0m\u001b[1;33m]\u001b[0m\u001b[1;33m)\u001b[0m\u001b[1;33m[\u001b[0m\u001b[1;33m-\u001b[0m\u001b[1;36m10\u001b[0m\u001b[1;33m:\u001b[0m\u001b[1;33m]\u001b[0m\u001b[1;33m]\u001b[0m\u001b[1;33m)\u001b[0m\u001b[1;33m\u001b[0m\u001b[0m\n",
        "\u001b[1;31mNameError\u001b[0m: name 'U' is not defined"
       ]
      }
     ],
     "prompt_number": 16
    }
   ],
   "metadata": {}
  }
 ]
}