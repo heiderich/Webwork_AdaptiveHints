{
 "metadata": {
  "name": ""
 },
 "nbformat": 3,
 "nbformat_minor": 0,
 "worksheets": [
  {
   "cells": [
    {
     "cell_type": "markdown",
     "metadata": {},
     "source": [
      "# Prepare Data #"
     ]
    },
    {
     "cell_type": "markdown",
     "metadata": {},
     "source": [
      "### Import ###"
     ]
    },
    {
     "cell_type": "code",
     "collapsed": false,
     "input": [
      "import random, os,sys\n",
      "from hashlib import md5\n",
      "sys.path.append(os.environ['WWAH_SRC'])\n",
      "from student_behavior_analysis.cluster_exprs import cluster_expr_dataframe, preprocess_exprs\n",
      "from numpy.linalg import lstsq\n",
      "from sklearn.linear_model import LogisticRegression\n",
      "import numpy as np\n",
      "from sklearn.cluster import KMeans\n",
      "from sklearn.decomposition import PCA\n",
      "import pandas as pd\n",
      "import pickle\n",
      "from datetime import timedelta\n",
      "import random\n",
      "import matplotlib.pyplot as plt\n",
      "from scipy.stats import pearsonr"
     ],
     "language": "python",
     "metadata": {},
     "outputs": [],
     "prompt_number": 9
    },
    {
     "cell_type": "code",
     "collapsed": false,
     "input": [
      "def sample_df(df, samples):\n",
      "    ''' Samples rows of a dataframe '''\n",
      "    if len(df)<samples:\n",
      "        return df\n",
      "    else:\n",
      "        rows = random.sample(df.index, samples)\n",
      "        return df.ix[rows]\n",
      "    \n",
      "def md5_int(s):\n",
      "    ''' Return an md5 hash as an integer'''\n",
      "    h = md5(s).hexdigest()\n",
      "    return int(h, 16)\n",
      "\n",
      "def get_tries_left(dfu, if_incorrect=-1):\n",
      "    ''' Given a time-ordered pandas series of correct/incorrect attempts by a user, \n",
      "        return a series giving the number of tries remaining until that user gets the answer\n",
      "        correct.  -1 is returned if the user never gets the problem right '''\n",
      "    n = len(dfu) #number of tries\n",
      "    if not any(dfu): #user never gets correct answer:\n",
      "        tries_left = array([if_incorrect]*n) #return all 'if_incorrect'\n",
      "    else:\n",
      "        tries_until_correct = argmax(dfu)\n",
      "        tries_left = tries_until_correct - arange(n)\n",
      "        tries_left[tries_left < 0] = 0\n",
      "    return tries_left\n",
      "\n",
      "def get_prop_tries_left(dfu, if_incorrect=-1):\n",
      "    ''' Given a time-ordered pandas series of correct/incorrect attempts by a user, \n",
      "        return a series giving the number of tries remaining until that user gets the answer\n",
      "        correct.  -1 is returned if the user never gets the problem right '''\n",
      "    n = len(dfu) #number of tries\n",
      "    return get_tries_left(dfu, if_incorrect=if_incorrect)/float(n)"
     ],
     "language": "python",
     "metadata": {},
     "outputs": [],
     "prompt_number": 803
    },
    {
     "cell_type": "markdown",
     "metadata": {},
     "source": [
      "### Load Attempt Logs from pickle files ###\n",
      "\n",
      "behavioral = the *aggregate* number of tries and amount of time spent \n",
      "processed_logs = the log of answers made by each student.\n",
      "processed_assigned_hints = Table mapping hint id to the problem part with which it is associated.\n",
      "\n",
      "past_answer/realtime = collected only when student submits, realtime is any keystroke (through the javascript)\n",
      "\n",
      "-rw-------  1 yoavfreund  staff    7818619 Feb 25 10:12 UCSD_CSE103_behavioral_statistics_past_answer.pkl\n",
      "-rw-------  1 yoavfreund  staff    7444125 Feb 25 16:48 UCSD_CSE103_behavioral_statistics_realtime.pkl\n",
      "-rw-------  1 yoavfreund  staff     147982 Feb 25 16:45 UCSD_CSE103_processed_assigned_hints.pkl\n",
      "-rw-------  1 yoavfreund  staff  159678464 Feb 25 10:17 UCSD_CSE103_processed_logs_past_answer.pkl"
     ]
    },
    {
     "cell_type": "code",
     "collapsed": false,
     "input": [
      "course_name='UCSD_CSE103'\n",
      "\n",
      "# Load the table mapping <assigned hint id> to the problem-part-id of the hint\n",
      "assigned_hints_path = '%s/%s_processed_assigned_hints.pkl' \\\n",
      "    %(os.environ['WWAH_PICKLE'],course_name)\n",
      "with open(assigned_hints_path,'rb') as f:\n",
      "    assigned_hints = pickle.load(f).set_index('assigned_hint_id')\n",
      "\n",
      "# Load aggregate assignment/problem/part/user statistics into variable `agg`\n",
      "behavioral_statistics_path = '%s/%s_behavioral_statistics_realtime.pkl' \\\n",
      "    %(os.environ['WWAH_PICKLE'],course_name)\n",
      "with open(behavioral_statistics_path,'rb') as f:\n",
      "    agg = pickle.load(f)['BehaviourStatistics']\n",
      "\n",
      "# Load timestamped answer logs into variable `logs`\n",
      "processed_logs_path = '%s/%s_processed_logs_realtime.pkl' \\\n",
      "    %(os.environ['WWAH_PICKLE'],course_name)\n",
      "with open(processed_logs_path,'rb') as f:\n",
      "    logs = pickle.load(f)['FullRealtimeDataFrame']\n",
      "\n",
      "# Print loaded DataFrames\n",
      "print 'Aggregate behavior statistics:'\n",
      "print agg\n",
      "print '\\nFull answer log:'\n",
      "print logs"
     ],
     "language": "python",
     "metadata": {},
     "outputs": [
      {
       "output_type": "stream",
       "stream": "stdout",
       "text": [
        "Aggregate behavior statistics:\n",
        "<class 'pandas.core.frame.DataFrame'>\n",
        "Int64Index: 122703 entries, 0 to 11\n",
        "Data columns (total 8 columns):\n",
        "assignment       122703  non-null values\n",
        "final_correct    122703  non-null values\n",
        "part_no          122703  non-null values\n",
        "problem_no       122703  non-null values\n",
        "start_time       122703  non-null values\n",
        "time             122703  non-null values\n",
        "tries            122703  non-null values\n",
        "user             122703  non-null values\n",
        "dtypes: float64(1), int64(5), object(2)\n",
        "\n",
        "Full answer log:\n",
        "<class 'pandas.core.frame.DataFrame'>\n",
        "DatetimeIndex: 483389 entries, 2013-10-01 02:56:06 to 2013-12-20 01:27:21\n",
        "Data columns (total 8 columns):\n",
        "Assignment    483389  non-null values\n",
        "answer        483389  non-null values\n",
        "correct       483389  non-null values\n",
        "part_no       483389  non-null values\n",
        "problem_no    483389  non-null values\n",
        "time          483389  non-null values\n",
        "timestamp     483389  non-null values\n",
        "user          483389  non-null values\n",
        "dtypes: bool(1), datetime64[ns](1), int64(3), object(3)"
       ]
      },
      {
       "output_type": "stream",
       "stream": "stdout",
       "text": [
        "\n"
       ]
      },
      {
       "output_type": "stream",
       "stream": "stderr",
       "text": [
        "/usr/local/lib/python2.7/dist-packages/pandas/core/config.py:570: DeprecationWarning: height has been deprecated.\n",
        "\n",
        "  warnings.warn(d.msg, DeprecationWarning)\n",
        "/usr/local/lib/python2.7/dist-packages/pandas/core/config.py:570: DeprecationWarning: height has been deprecated.\n",
        "\n",
        "  warnings.warn(d.msg, DeprecationWarning)\n"
       ]
      }
     ],
     "prompt_number": 11
    },
    {
     "cell_type": "markdown",
     "metadata": {},
     "source": [
      "### Filter a Part ###\n",
      "Choose a part among the poker hand problem sets with a large number of tries.  \n",
      "Let 'df' be a DataFrame with attempts from only that problem part.  "
     ]
    },
    {
     "cell_type": "code",
     "collapsed": false,
     "input": [
      "# Get the problem \n",
      "index = -11\n",
      "\n",
      "# Find a problem part with lots of tries.  This means it's probably hard, and we have a lot of data for it.  \n",
      "poker_assignments = logs[(logs['Assignment'] == 'Assignment10.14.13') | \n",
      "                         (logs['Assignment'] == 'Assignment10.16.13') | \n",
      "                         (logs['Assignment'] == 'Assignment10.18.13')]\n",
      "parts = poker_assignments.groupby(['Assignment','problem_no','part_no']).size()\n",
      "# Sort parts by number of tries\n",
      "parts.sort()\n",
      "# Choose a part from the end- with a large number of tries\n",
      "assignment, problem, part = parts.index[index]\n",
      "# Get a dataframe, filtered by this problem part\n",
      "df_filtered = logs[(logs['Assignment'] == assignment) & (logs['problem_no'] == problem) & (logs['part_no'] == part)]\n",
      "print '%s problem %d part %d was difficult.  Students made %d attempts total' % \\\n",
      "    (assignment, problem, part, parts[index])"
     ],
     "language": "python",
     "metadata": {},
     "outputs": [
      {
       "output_type": "stream",
       "stream": "stdout",
       "text": [
        "Assignment10.18.13 problem 2 part 2 was difficult.  Students made 1472 attempts total\n"
       ]
      }
     ],
     "prompt_number": 804
    },
    {
     "cell_type": "markdown",
     "metadata": {},
     "source": [
      "# Compute/Evaluate Correct-Answer Distances #\n",
      "Cluster correct answer expressions.  Let $E = {e_1,...e_n}$ be the set of all expressions, each expression $e_i \\subseteq F$ a set of features of that expression.  Let $C \\subseteq E$ be the set of correct expressions, and $Q \\subseteq C$ be the centroids of a clustering of these correct answers.  \n",
      "\n",
      "Then we define the correctness distance for any $e \\in E$ as \n",
      "  $$d(e) = min_{c \\in Q}(d_{jaccard}(e,c)) = min_{c \\in Q} \\left( 1 - \\left( \\frac{e \\cap c}{e \\cup c} \\right) \\right)$$"
     ]
    },
    {
     "cell_type": "code",
     "collapsed": false,
     "input": [
      "def md5_int(s):\n",
      "    ''' Return an md5 hash as an integer'''\n",
      "    h = md5(s).hexdigest()\n",
      "    return int(h, 16)\n",
      "\n",
      "# Each row of X gives a bit vector for the math expression:\n",
      "#   1 means some feature is present in the expression\n",
      "X = preprocess_exprs(df['answer'])\n",
      "# Syntax errors are those expressions with no features\n",
      "df['syntax_err'] = (X.sum(axis=1) == 0)\n",
      "X = X[~df['syntax_err'],:]\n",
      "df = df[~df['syntax_err']]\n",
      "# For very simple expressions, distances break down\n",
      "too_simple = (X.sum(axis=1) <= 5)\n",
      "df = df[~too_simple]\n",
      "X = X[~too_simple,:]\n",
      "\n",
      "# break users into train/test split\n",
      "user_hash = df['user'].apply(lambda user:md5_int(user)%1000)\n",
      "is_train = (user_hash < 300)\n",
      "is_test = (user_hash >= 300)\n",
      "\n",
      "\n",
      "### Filter data for training set: dfc and Xc\n",
      "# Cluster correct answers into 'm' clusters\n",
      "m = 10 \n",
      "dfc = cluster_expr_dataframe(df[df['correct'] & is_train],m)\n",
      "# Compute distance from each expression to each correct centroid\n",
      "#    The distance to the closest correct centroid is the \"correctness distance\"\n",
      "Xc = X[df['correct'] & is_train]\n",
      "\n",
      "### Filter data for test set: df, X, n, and D\n",
      "df = df[is_test]\n",
      "X = X[is_test]\n",
      "n = X.shape[0]\n",
      "D = np.ones((n,m))\n",
      "\n",
      "for c in range(m):\n",
      "    if (dfc['expr_cluster'] == c).sum() == 0: #cluster is empty\n",
      "        D[:,c] = 1\n",
      "        continue\n",
      "    c_median = median(Xc[dfc['expr_cluster'] == c], axis=0)       \n",
      "    cluster_exprs = dfc[dfc['expr_cluster'] == c]['answer'].values\n",
      "    print 'Correct cluster %d has %2d attempts, example:  %s'%(c,len(cluster_exprs),random.choice(cluster_exprs))\n",
      "    num = (X*c_median).sum(axis=1)\n",
      "    den = ((X + c_median) > 0).sum(axis=1)\n",
      "    jaccard = num / den\n",
      "    D[:,c] = 1 - jaccard\n",
      "D = D.min(axis=1)\n",
      "df['distance_to_correct'] = D"
     ],
     "language": "python",
     "metadata": {},
     "outputs": [
      {
       "ename": "NameError",
       "evalue": "name 'df' is not defined",
       "output_type": "pyerr",
       "traceback": [
        "\u001b[1;31m---------------------------------------------------------------------------\u001b[0m\n\u001b[1;31mNameError\u001b[0m                                 Traceback (most recent call last)",
        "\u001b[1;32m<ipython-input-8-6ec9ba6cc5bd>\u001b[0m in \u001b[0;36m<module>\u001b[1;34m()\u001b[0m\n\u001b[0;32m      6\u001b[0m \u001b[1;31m# Each row of X gives a bit vector for the math expression:\u001b[0m\u001b[1;33m\u001b[0m\u001b[1;33m\u001b[0m\u001b[0m\n\u001b[0;32m      7\u001b[0m \u001b[1;31m#   1 means some feature is present in the expression\u001b[0m\u001b[1;33m\u001b[0m\u001b[1;33m\u001b[0m\u001b[0m\n\u001b[1;32m----> 8\u001b[1;33m \u001b[0mX\u001b[0m \u001b[1;33m=\u001b[0m \u001b[0mpreprocess_exprs\u001b[0m\u001b[1;33m(\u001b[0m\u001b[0mdf\u001b[0m\u001b[1;33m[\u001b[0m\u001b[1;34m'answer'\u001b[0m\u001b[1;33m]\u001b[0m\u001b[1;33m)\u001b[0m\u001b[1;33m\u001b[0m\u001b[0m\n\u001b[0m\u001b[0;32m      9\u001b[0m \u001b[1;31m# Syntax errors are those expressions with no features\u001b[0m\u001b[1;33m\u001b[0m\u001b[1;33m\u001b[0m\u001b[0m\n\u001b[0;32m     10\u001b[0m \u001b[0mdf\u001b[0m\u001b[1;33m[\u001b[0m\u001b[1;34m'syntax_err'\u001b[0m\u001b[1;33m]\u001b[0m \u001b[1;33m=\u001b[0m \u001b[1;33m(\u001b[0m\u001b[0mX\u001b[0m\u001b[1;33m.\u001b[0m\u001b[0msum\u001b[0m\u001b[1;33m(\u001b[0m\u001b[0maxis\u001b[0m\u001b[1;33m=\u001b[0m\u001b[1;36m1\u001b[0m\u001b[1;33m)\u001b[0m \u001b[1;33m==\u001b[0m \u001b[1;36m0\u001b[0m\u001b[1;33m)\u001b[0m\u001b[1;33m\u001b[0m\u001b[0m\n",
        "\u001b[1;31mNameError\u001b[0m: name 'df' is not defined"
       ]
      }
     ],
     "prompt_number": 8
    },
    {
     "cell_type": "code",
     "collapsed": false,
     "input": [
      "centroids = model.cluster_centers_\n",
      "centroids[centroids > 0.5] = 1\n",
      "centroids[centroids <= 0.5] = 0"
     ],
     "language": "python",
     "metadata": {},
     "outputs": [],
     "prompt_number": 42
    },
    {
     "cell_type": "markdown",
     "metadata": {},
     "source": [
      "### Anecdotally Evaluate Distance Function ###\n",
      "Choose a particular user who has made a lot of attempts at this problem part.  \n",
      "Show the distance to the correct answer as a function of #tries, along with the expressions answered.  "
     ]
    },
    {
     "cell_type": "markdown",
     "metadata": {},
     "source": [
      "index = -9\n",
      "\n",
      "* sjk044       7 -- 0\n",
      "* ercrawfo     8 -- no\n",
      "* ssko         9 -- 1\n",
      "* khchong     10 -- no\n",
      "* mschwegl    10 -- 4\n",
      "* lahuynh     12 -- no\n",
      "* jagustin    15 -- no\n",
      "* hshaikle    16 -- 5\n",
      "* binocenc    16 -- 1\n",
      "* whyao       20 -- 10\n",
      "\n"
     ]
    },
    {
     "cell_type": "code",
     "collapsed": false,
     "input": [
      "# Pick a user who has made a lot of attempts\n",
      "u = df.groupby('user').size()\n",
      "u.sort()\n",
      "user = random.choice(u.index[-20:])   # pick a random answer sequence from the k=10 longest ones\n",
      "dfu = df[(df['user'] == user)]\n",
      "\n",
      "# Plot the distance of this user's answer to the correct answer, over #tries\n",
      "title_str = \"user '%s' attempting %s/%d/%d\"%(user,assignment,problem,part)\n",
      "print title_str+'\\n'\n",
      "print dfu[['answer','correct','distance_to_correct']]\n",
      "xlabel('number of tries')\n",
      "ylabel('distance to correct answer')\n",
      "title(title_str)\n",
      "plot(dfu['distance_to_correct'])\n",
      "show()"
     ],
     "language": "python",
     "metadata": {},
     "outputs": [
      {
       "ename": "KeyError",
       "evalue": "\"['distance_to_correct'] not in index\"",
       "output_type": "pyerr",
       "traceback": [
        "\u001b[1;31m---------------------------------------------------------------------------\u001b[0m\n\u001b[1;31mKeyError\u001b[0m                                  Traceback (most recent call last)",
        "\u001b[1;32m<ipython-input-571-2bbb624c0da7>\u001b[0m in \u001b[0;36m<module>\u001b[1;34m()\u001b[0m\n\u001b[0;32m      8\u001b[0m \u001b[0mtitle_str\u001b[0m \u001b[1;33m=\u001b[0m \u001b[1;34m\"user '%s' attempting %s/%d/%d\"\u001b[0m\u001b[1;33m%\u001b[0m\u001b[1;33m(\u001b[0m\u001b[0muser\u001b[0m\u001b[1;33m,\u001b[0m\u001b[0massignment\u001b[0m\u001b[1;33m,\u001b[0m\u001b[0mproblem\u001b[0m\u001b[1;33m,\u001b[0m\u001b[0mpart\u001b[0m\u001b[1;33m)\u001b[0m\u001b[1;33m\u001b[0m\u001b[0m\n\u001b[0;32m      9\u001b[0m \u001b[1;32mprint\u001b[0m \u001b[0mtitle_str\u001b[0m\u001b[1;33m+\u001b[0m\u001b[1;34m'\\n'\u001b[0m\u001b[1;33m\u001b[0m\u001b[0m\n\u001b[1;32m---> 10\u001b[1;33m \u001b[1;32mprint\u001b[0m \u001b[0mdfu\u001b[0m\u001b[1;33m[\u001b[0m\u001b[1;33m[\u001b[0m\u001b[1;34m'answer'\u001b[0m\u001b[1;33m,\u001b[0m\u001b[1;34m'correct'\u001b[0m\u001b[1;33m,\u001b[0m\u001b[1;34m'distance_to_correct'\u001b[0m\u001b[1;33m]\u001b[0m\u001b[1;33m]\u001b[0m\u001b[1;33m\u001b[0m\u001b[0m\n\u001b[0m\u001b[0;32m     11\u001b[0m \u001b[0mxlabel\u001b[0m\u001b[1;33m(\u001b[0m\u001b[1;34m'number of tries'\u001b[0m\u001b[1;33m)\u001b[0m\u001b[1;33m\u001b[0m\u001b[0m\n\u001b[0;32m     12\u001b[0m \u001b[0mylabel\u001b[0m\u001b[1;33m(\u001b[0m\u001b[1;34m'distance to correct answer'\u001b[0m\u001b[1;33m)\u001b[0m\u001b[1;33m\u001b[0m\u001b[0m\n",
        "\u001b[1;32m/usr/local/lib/python2.7/dist-packages/pandas/core/frame.pyc\u001b[0m in \u001b[0;36m__getitem__\u001b[1;34m(self, key)\u001b[0m\n\u001b[0;32m   1993\u001b[0m         \u001b[1;32mif\u001b[0m \u001b[0misinstance\u001b[0m\u001b[1;33m(\u001b[0m\u001b[0mkey\u001b[0m\u001b[1;33m,\u001b[0m \u001b[1;33m(\u001b[0m\u001b[0mnp\u001b[0m\u001b[1;33m.\u001b[0m\u001b[0mndarray\u001b[0m\u001b[1;33m,\u001b[0m \u001b[0mlist\u001b[0m\u001b[1;33m)\u001b[0m\u001b[1;33m)\u001b[0m\u001b[1;33m:\u001b[0m\u001b[1;33m\u001b[0m\u001b[0m\n\u001b[0;32m   1994\u001b[0m             \u001b[1;31m# either boolean or fancy integer index\u001b[0m\u001b[1;33m\u001b[0m\u001b[1;33m\u001b[0m\u001b[0m\n\u001b[1;32m-> 1995\u001b[1;33m             \u001b[1;32mreturn\u001b[0m \u001b[0mself\u001b[0m\u001b[1;33m.\u001b[0m\u001b[0m_getitem_array\u001b[0m\u001b[1;33m(\u001b[0m\u001b[0mkey\u001b[0m\u001b[1;33m)\u001b[0m\u001b[1;33m\u001b[0m\u001b[0m\n\u001b[0m\u001b[0;32m   1996\u001b[0m         \u001b[1;32melif\u001b[0m \u001b[0misinstance\u001b[0m\u001b[1;33m(\u001b[0m\u001b[0mkey\u001b[0m\u001b[1;33m,\u001b[0m \u001b[0mDataFrame\u001b[0m\u001b[1;33m)\u001b[0m\u001b[1;33m:\u001b[0m\u001b[1;33m\u001b[0m\u001b[0m\n\u001b[0;32m   1997\u001b[0m             \u001b[1;32mreturn\u001b[0m \u001b[0mself\u001b[0m\u001b[1;33m.\u001b[0m\u001b[0m_getitem_frame\u001b[0m\u001b[1;33m(\u001b[0m\u001b[0mkey\u001b[0m\u001b[1;33m)\u001b[0m\u001b[1;33m\u001b[0m\u001b[0m\n",
        "\u001b[1;32m/usr/local/lib/python2.7/dist-packages/pandas/core/frame.pyc\u001b[0m in \u001b[0;36m_getitem_array\u001b[1;34m(self, key)\u001b[0m\n\u001b[0;32m   2029\u001b[0m             \u001b[1;32mreturn\u001b[0m \u001b[0mself\u001b[0m\u001b[1;33m.\u001b[0m\u001b[0mtake\u001b[0m\u001b[1;33m(\u001b[0m\u001b[0mindexer\u001b[0m\u001b[1;33m,\u001b[0m \u001b[0maxis\u001b[0m\u001b[1;33m=\u001b[0m\u001b[1;36m0\u001b[0m\u001b[1;33m,\u001b[0m \u001b[0mconvert\u001b[0m\u001b[1;33m=\u001b[0m\u001b[0mFalse\u001b[0m\u001b[1;33m)\u001b[0m\u001b[1;33m\u001b[0m\u001b[0m\n\u001b[0;32m   2030\u001b[0m         \u001b[1;32melse\u001b[0m\u001b[1;33m:\u001b[0m\u001b[1;33m\u001b[0m\u001b[0m\n\u001b[1;32m-> 2031\u001b[1;33m             \u001b[0mindexer\u001b[0m \u001b[1;33m=\u001b[0m \u001b[0mself\u001b[0m\u001b[1;33m.\u001b[0m\u001b[0mix\u001b[0m\u001b[1;33m.\u001b[0m\u001b[0m_convert_to_indexer\u001b[0m\u001b[1;33m(\u001b[0m\u001b[0mkey\u001b[0m\u001b[1;33m,\u001b[0m \u001b[0maxis\u001b[0m\u001b[1;33m=\u001b[0m\u001b[1;36m1\u001b[0m\u001b[1;33m)\u001b[0m\u001b[1;33m\u001b[0m\u001b[0m\n\u001b[0m\u001b[0;32m   2032\u001b[0m             \u001b[1;32mreturn\u001b[0m \u001b[0mself\u001b[0m\u001b[1;33m.\u001b[0m\u001b[0mtake\u001b[0m\u001b[1;33m(\u001b[0m\u001b[0mindexer\u001b[0m\u001b[1;33m,\u001b[0m \u001b[0maxis\u001b[0m\u001b[1;33m=\u001b[0m\u001b[1;36m1\u001b[0m\u001b[1;33m,\u001b[0m \u001b[0mconvert\u001b[0m\u001b[1;33m=\u001b[0m\u001b[0mTrue\u001b[0m\u001b[1;33m)\u001b[0m\u001b[1;33m\u001b[0m\u001b[0m\n\u001b[0;32m   2033\u001b[0m \u001b[1;33m\u001b[0m\u001b[0m\n",
        "\u001b[1;32m/usr/local/lib/python2.7/dist-packages/pandas/core/indexing.pyc\u001b[0m in \u001b[0;36m_convert_to_indexer\u001b[1;34m(self, obj, axis)\u001b[0m\n\u001b[0;32m    608\u001b[0m                 \u001b[0mmask\u001b[0m \u001b[1;33m=\u001b[0m \u001b[0mcheck\u001b[0m \u001b[1;33m==\u001b[0m \u001b[1;33m-\u001b[0m\u001b[1;36m1\u001b[0m\u001b[1;33m\u001b[0m\u001b[0m\n\u001b[0;32m    609\u001b[0m                 \u001b[1;32mif\u001b[0m \u001b[0mmask\u001b[0m\u001b[1;33m.\u001b[0m\u001b[0many\u001b[0m\u001b[1;33m(\u001b[0m\u001b[1;33m)\u001b[0m\u001b[1;33m:\u001b[0m\u001b[1;33m\u001b[0m\u001b[0m\n\u001b[1;32m--> 610\u001b[1;33m                     \u001b[1;32mraise\u001b[0m \u001b[0mKeyError\u001b[0m\u001b[1;33m(\u001b[0m\u001b[1;34m'%s not in index'\u001b[0m \u001b[1;33m%\u001b[0m \u001b[0mobjarr\u001b[0m\u001b[1;33m[\u001b[0m\u001b[0mmask\u001b[0m\u001b[1;33m]\u001b[0m\u001b[1;33m)\u001b[0m\u001b[1;33m\u001b[0m\u001b[0m\n\u001b[0m\u001b[0;32m    611\u001b[0m \u001b[1;33m\u001b[0m\u001b[0m\n\u001b[0;32m    612\u001b[0m                 \u001b[1;32mreturn\u001b[0m \u001b[0mindexer\u001b[0m\u001b[1;33m\u001b[0m\u001b[0m\n",
        "\u001b[1;31mKeyError\u001b[0m: \"['distance_to_correct'] not in index\""
       ]
      },
      {
       "output_type": "stream",
       "stream": "stdout",
       "text": [
        "user 'wihuang' attempting Assignment10.14.13/1/1\n",
        "\n"
       ]
      }
     ],
     "prompt_number": 571
    },
    {
     "cell_type": "markdown",
     "metadata": {},
     "source": [
      "### Correlate Distance Function with Number of Tries ###\n",
      "To show the \"distance to correct\" is a useful metric, we show the correlation of this method with \n",
      "the number of tries remaining, until the student gets the question correct.  \n",
      "We ignore cases where the student does not get the question correct.  "
     ]
    },
    {
     "cell_type": "code",
     "collapsed": false,
     "input": [
      "# Calculate the number of tries each user makes until getting the correct answer\n",
      "df['tries_left'] = df.groupby('user')['correct'].transform(get_tries_left)\n",
      "df['prop_tries_left'] = df.groupby('user')['correct'].transform(get_prop_tries_left)\n",
      "# In evaluating the performance of the distance function, we don't include cases where:\n",
      "#   - the student actually gets the answer right.  \n",
      "#       this is not useful information: we can directly check whether the answer is rightr\n",
      "#   - the student doesn't eventually get the answer right.  \n",
      "df2 = df[(~df['correct']) & (df['tries_left'] > 0)]\n",
      "\n",
      "# Correlate the distance function and number of tries\n",
      "r,p = pearsonr(df2['tries_left'], df2['distance_to_correct'])\n",
      "print 'The correlation between tries_left and distance has r-value %.3f and p-value %.2e'%(r,p)\n",
      "\n",
      "# Plot r-value distribution, assuming no relationship between tries and distance-to-correct\n",
      "rs = []\n",
      "for i in range(1000):\n",
      "    distance = sorted(df2['distance_to_correct'], key=lambda *args: random.random())\n",
      "    r,_ = pearsonr(df2['tries_left'], distance)\n",
      "    rs.append(r)\n",
      "hist(rs, bins=40)\n",
      "title('r-value distribution under null hypothesis: no correlation')\n",
      "show()\n",
      "\n",
      "# Plot this relationship\n",
      "a = df2[['tries_left','distance_to_correct']]\n",
      "a[a['tries_left'] <= 8].groupby('tries_left')['distance_to_correct'].mean().plot()\n",
      "ylabel('mean distance_to_correct')\n",
      "title('distance vs. tries left over student attempts')\n",
      "show()\n"
     ],
     "language": "python",
     "metadata": {},
     "outputs": [
      {
       "ename": "KeyError",
       "evalue": "u'no item named distance_to_correct'",
       "output_type": "pyerr",
       "traceback": [
        "\u001b[1;31m---------------------------------------------------------------------------\u001b[0m\n\u001b[1;31mKeyError\u001b[0m                                  Traceback (most recent call last)",
        "\u001b[1;32m<ipython-input-545-ec97e56beba5>\u001b[0m in \u001b[0;36m<module>\u001b[1;34m()\u001b[0m\n\u001b[0;32m     37\u001b[0m \u001b[1;33m\u001b[0m\u001b[0m\n\u001b[0;32m     38\u001b[0m \u001b[1;31m# Correlate the distance function and number of tries\u001b[0m\u001b[1;33m\u001b[0m\u001b[1;33m\u001b[0m\u001b[0m\n\u001b[1;32m---> 39\u001b[1;33m \u001b[0mr\u001b[0m\u001b[1;33m,\u001b[0m\u001b[0mp\u001b[0m \u001b[1;33m=\u001b[0m \u001b[0mpearsonr\u001b[0m\u001b[1;33m(\u001b[0m\u001b[0mdf2\u001b[0m\u001b[1;33m[\u001b[0m\u001b[1;34m'tries_left'\u001b[0m\u001b[1;33m]\u001b[0m\u001b[1;33m,\u001b[0m \u001b[0mdf2\u001b[0m\u001b[1;33m[\u001b[0m\u001b[1;34m'distance_to_correct'\u001b[0m\u001b[1;33m]\u001b[0m\u001b[1;33m)\u001b[0m\u001b[1;33m\u001b[0m\u001b[0m\n\u001b[0m\u001b[0;32m     40\u001b[0m \u001b[1;32mprint\u001b[0m \u001b[1;34m'The correlation between tries_left and distance has r-value %.3f and p-value %.2e'\u001b[0m\u001b[1;33m%\u001b[0m\u001b[1;33m(\u001b[0m\u001b[0mr\u001b[0m\u001b[1;33m,\u001b[0m\u001b[0mp\u001b[0m\u001b[1;33m)\u001b[0m\u001b[1;33m\u001b[0m\u001b[0m\n\u001b[0;32m     41\u001b[0m \u001b[1;33m\u001b[0m\u001b[0m\n",
        "\u001b[1;32m/usr/local/lib/python2.7/dist-packages/pandas/core/frame.pyc\u001b[0m in \u001b[0;36m__getitem__\u001b[1;34m(self, key)\u001b[0m\n\u001b[0;32m   2001\u001b[0m             \u001b[1;31m# get column\u001b[0m\u001b[1;33m\u001b[0m\u001b[1;33m\u001b[0m\u001b[0m\n\u001b[0;32m   2002\u001b[0m             \u001b[1;32mif\u001b[0m \u001b[0mself\u001b[0m\u001b[1;33m.\u001b[0m\u001b[0mcolumns\u001b[0m\u001b[1;33m.\u001b[0m\u001b[0mis_unique\u001b[0m\u001b[1;33m:\u001b[0m\u001b[1;33m\u001b[0m\u001b[0m\n\u001b[1;32m-> 2003\u001b[1;33m                 \u001b[1;32mreturn\u001b[0m \u001b[0mself\u001b[0m\u001b[1;33m.\u001b[0m\u001b[0m_get_item_cache\u001b[0m\u001b[1;33m(\u001b[0m\u001b[0mkey\u001b[0m\u001b[1;33m)\u001b[0m\u001b[1;33m\u001b[0m\u001b[0m\n\u001b[0m\u001b[0;32m   2004\u001b[0m \u001b[1;33m\u001b[0m\u001b[0m\n\u001b[0;32m   2005\u001b[0m             \u001b[1;31m# duplicate columns\u001b[0m\u001b[1;33m\u001b[0m\u001b[1;33m\u001b[0m\u001b[0m\n",
        "\u001b[1;32m/usr/local/lib/python2.7/dist-packages/pandas/core/generic.pyc\u001b[0m in \u001b[0;36m_get_item_cache\u001b[1;34m(self, item)\u001b[0m\n\u001b[0;32m    665\u001b[0m             \u001b[1;32mreturn\u001b[0m \u001b[0mcache\u001b[0m\u001b[1;33m[\u001b[0m\u001b[0mitem\u001b[0m\u001b[1;33m]\u001b[0m\u001b[1;33m\u001b[0m\u001b[0m\n\u001b[0;32m    666\u001b[0m         \u001b[1;32mexcept\u001b[0m \u001b[0mException\u001b[0m\u001b[1;33m:\u001b[0m\u001b[1;33m\u001b[0m\u001b[0m\n\u001b[1;32m--> 667\u001b[1;33m             \u001b[0mvalues\u001b[0m \u001b[1;33m=\u001b[0m \u001b[0mself\u001b[0m\u001b[1;33m.\u001b[0m\u001b[0m_data\u001b[0m\u001b[1;33m.\u001b[0m\u001b[0mget\u001b[0m\u001b[1;33m(\u001b[0m\u001b[0mitem\u001b[0m\u001b[1;33m)\u001b[0m\u001b[1;33m\u001b[0m\u001b[0m\n\u001b[0m\u001b[0;32m    668\u001b[0m             \u001b[0mres\u001b[0m \u001b[1;33m=\u001b[0m \u001b[0mself\u001b[0m\u001b[1;33m.\u001b[0m\u001b[0m_box_item_values\u001b[0m\u001b[1;33m(\u001b[0m\u001b[0mitem\u001b[0m\u001b[1;33m,\u001b[0m \u001b[0mvalues\u001b[0m\u001b[1;33m)\u001b[0m\u001b[1;33m\u001b[0m\u001b[0m\n\u001b[0;32m    669\u001b[0m             \u001b[0mcache\u001b[0m\u001b[1;33m[\u001b[0m\u001b[0mitem\u001b[0m\u001b[1;33m]\u001b[0m \u001b[1;33m=\u001b[0m \u001b[0mres\u001b[0m\u001b[1;33m\u001b[0m\u001b[0m\n",
        "\u001b[1;32m/usr/local/lib/python2.7/dist-packages/pandas/core/internals.pyc\u001b[0m in \u001b[0;36mget\u001b[1;34m(self, item)\u001b[0m\n\u001b[0;32m   1653\u001b[0m     \u001b[1;32mdef\u001b[0m \u001b[0mget\u001b[0m\u001b[1;33m(\u001b[0m\u001b[0mself\u001b[0m\u001b[1;33m,\u001b[0m \u001b[0mitem\u001b[0m\u001b[1;33m)\u001b[0m\u001b[1;33m:\u001b[0m\u001b[1;33m\u001b[0m\u001b[0m\n\u001b[0;32m   1654\u001b[0m         \u001b[1;32mif\u001b[0m \u001b[0mself\u001b[0m\u001b[1;33m.\u001b[0m\u001b[0mitems\u001b[0m\u001b[1;33m.\u001b[0m\u001b[0mis_unique\u001b[0m\u001b[1;33m:\u001b[0m\u001b[1;33m\u001b[0m\u001b[0m\n\u001b[1;32m-> 1655\u001b[1;33m             \u001b[0m_\u001b[0m\u001b[1;33m,\u001b[0m \u001b[0mblock\u001b[0m \u001b[1;33m=\u001b[0m \u001b[0mself\u001b[0m\u001b[1;33m.\u001b[0m\u001b[0m_find_block\u001b[0m\u001b[1;33m(\u001b[0m\u001b[0mitem\u001b[0m\u001b[1;33m)\u001b[0m\u001b[1;33m\u001b[0m\u001b[0m\n\u001b[0m\u001b[0;32m   1656\u001b[0m             \u001b[1;32mreturn\u001b[0m \u001b[0mblock\u001b[0m\u001b[1;33m.\u001b[0m\u001b[0mget\u001b[0m\u001b[1;33m(\u001b[0m\u001b[0mitem\u001b[0m\u001b[1;33m)\u001b[0m\u001b[1;33m\u001b[0m\u001b[0m\n\u001b[0;32m   1657\u001b[0m         \u001b[1;32melse\u001b[0m\u001b[1;33m:\u001b[0m\u001b[1;33m\u001b[0m\u001b[0m\n",
        "\u001b[1;32m/usr/local/lib/python2.7/dist-packages/pandas/core/internals.pyc\u001b[0m in \u001b[0;36m_find_block\u001b[1;34m(self, item)\u001b[0m\n\u001b[0;32m   1933\u001b[0m \u001b[1;33m\u001b[0m\u001b[0m\n\u001b[0;32m   1934\u001b[0m     \u001b[1;32mdef\u001b[0m \u001b[0m_find_block\u001b[0m\u001b[1;33m(\u001b[0m\u001b[0mself\u001b[0m\u001b[1;33m,\u001b[0m \u001b[0mitem\u001b[0m\u001b[1;33m)\u001b[0m\u001b[1;33m:\u001b[0m\u001b[1;33m\u001b[0m\u001b[0m\n\u001b[1;32m-> 1935\u001b[1;33m         \u001b[0mself\u001b[0m\u001b[1;33m.\u001b[0m\u001b[0m_check_have\u001b[0m\u001b[1;33m(\u001b[0m\u001b[0mitem\u001b[0m\u001b[1;33m)\u001b[0m\u001b[1;33m\u001b[0m\u001b[0m\n\u001b[0m\u001b[0;32m   1936\u001b[0m         \u001b[1;32mfor\u001b[0m \u001b[0mi\u001b[0m\u001b[1;33m,\u001b[0m \u001b[0mblock\u001b[0m \u001b[1;32min\u001b[0m \u001b[0menumerate\u001b[0m\u001b[1;33m(\u001b[0m\u001b[0mself\u001b[0m\u001b[1;33m.\u001b[0m\u001b[0mblocks\u001b[0m\u001b[1;33m)\u001b[0m\u001b[1;33m:\u001b[0m\u001b[1;33m\u001b[0m\u001b[0m\n\u001b[0;32m   1937\u001b[0m             \u001b[1;32mif\u001b[0m \u001b[0mitem\u001b[0m \u001b[1;32min\u001b[0m \u001b[0mblock\u001b[0m\u001b[1;33m:\u001b[0m\u001b[1;33m\u001b[0m\u001b[0m\n",
        "\u001b[1;32m/usr/local/lib/python2.7/dist-packages/pandas/core/internals.pyc\u001b[0m in \u001b[0;36m_check_have\u001b[1;34m(self, item)\u001b[0m\n\u001b[0;32m   1940\u001b[0m     \u001b[1;32mdef\u001b[0m \u001b[0m_check_have\u001b[0m\u001b[1;33m(\u001b[0m\u001b[0mself\u001b[0m\u001b[1;33m,\u001b[0m \u001b[0mitem\u001b[0m\u001b[1;33m)\u001b[0m\u001b[1;33m:\u001b[0m\u001b[1;33m\u001b[0m\u001b[0m\n\u001b[0;32m   1941\u001b[0m         \u001b[1;32mif\u001b[0m \u001b[0mitem\u001b[0m \u001b[1;32mnot\u001b[0m \u001b[1;32min\u001b[0m \u001b[0mself\u001b[0m\u001b[1;33m.\u001b[0m\u001b[0mitems\u001b[0m\u001b[1;33m:\u001b[0m\u001b[1;33m\u001b[0m\u001b[0m\n\u001b[1;32m-> 1942\u001b[1;33m             \u001b[1;32mraise\u001b[0m \u001b[0mKeyError\u001b[0m\u001b[1;33m(\u001b[0m\u001b[1;34m'no item named %s'\u001b[0m \u001b[1;33m%\u001b[0m \u001b[0mcom\u001b[0m\u001b[1;33m.\u001b[0m\u001b[0mpprint_thing\u001b[0m\u001b[1;33m(\u001b[0m\u001b[0mitem\u001b[0m\u001b[1;33m)\u001b[0m\u001b[1;33m)\u001b[0m\u001b[1;33m\u001b[0m\u001b[0m\n\u001b[0m\u001b[0;32m   1943\u001b[0m \u001b[1;33m\u001b[0m\u001b[0m\n\u001b[0;32m   1944\u001b[0m     \u001b[1;32mdef\u001b[0m \u001b[0mreindex_axis\u001b[0m\u001b[1;33m(\u001b[0m\u001b[0mself\u001b[0m\u001b[1;33m,\u001b[0m \u001b[0mnew_axis\u001b[0m\u001b[1;33m,\u001b[0m \u001b[0mmethod\u001b[0m\u001b[1;33m=\u001b[0m\u001b[0mNone\u001b[0m\u001b[1;33m,\u001b[0m \u001b[0maxis\u001b[0m\u001b[1;33m=\u001b[0m\u001b[1;36m0\u001b[0m\u001b[1;33m,\u001b[0m \u001b[0mcopy\u001b[0m\u001b[1;33m=\u001b[0m\u001b[0mTrue\u001b[0m\u001b[1;33m)\u001b[0m\u001b[1;33m:\u001b[0m\u001b[1;33m\u001b[0m\u001b[0m\n",
        "\u001b[1;31mKeyError\u001b[0m: u'no item named distance_to_correct'"
       ]
      }
     ],
     "prompt_number": 545
    },
    {
     "cell_type": "code",
     "collapsed": false,
     "input": [
      "hist(df['distance_to_correct'], bins=40)\n",
      "show()\n",
      "# dfi selects attempts that were close, not correct, \n",
      "# and where the student eventually got the answer right\n",
      "almost_right = (df['distance_to_correct'] > 0.2)\n",
      "dfi = df[(~df['correct']) & (df['tries_left'] >= 0)]\n",
      "dfc = cluster_expr_dataframe(dfi, 15)\n",
      "print dfc.groupby('expr_cluster').size()"
     ],
     "language": "python",
     "metadata": {},
     "outputs": [
      {
       "metadata": {},
       "output_type": "display_data",
       "png": "[encoded data removed]",
       "text": [
        "<matplotlib.figure.Figure at 0x1556ebd0>"
       ]
      },
      {
       "output_type": "stream",
       "stream": "stdout",
       "text": [
        "expr_cluster\n",
        "0               140\n",
        "1                99\n",
        "2                 8\n",
        "3                 9\n",
        "4                33\n",
        "5                 8\n",
        "6                 5\n",
        "7                 6\n",
        "8                 6\n",
        "9                 3\n",
        "10               10\n",
        "11                7\n",
        "12               11\n",
        "13               36\n",
        "14               22\n",
        "dtype: int64\n"
       ]
      }
     ],
     "prompt_number": 94
    },
    {
     "cell_type": "code",
     "collapsed": false,
     "input": [
      "dfi2 = dfi.sort('distance_to_correct')\n",
      "rolling_prop = pd.rolling_mean(dfi2['prop_tries_left'].values,40)\n",
      "plot(dfi2['distance_to_correct'], rolling_prop)"
     ],
     "language": "python",
     "metadata": {},
     "outputs": [
      {
       "metadata": {},
       "output_type": "pyout",
       "prompt_number": 95,
       "text": [
        "[<matplotlib.lines.Line2D at 0x6171810>]"
       ]
      },
      {
       "metadata": {},
       "output_type": "display_data",
       "png": "[encoded data removed]",
       "text": [
        "<matplotlib.figure.Figure at 0x17484fd0>"
       ]
      }
     ],
     "prompt_number": 95
    },
    {
     "cell_type": "code",
     "collapsed": false,
     "input": [
      "print dfi2['prop_tries_left'][:100].mean()\n",
      "print dfi2['prop_tries_left'][-100:].mean()"
     ],
     "language": "python",
     "metadata": {},
     "outputs": [
      {
       "output_type": "stream",
       "stream": "stdout",
       "text": [
        "0.349950190659\n",
        "0.48144505772\n"
       ]
      }
     ],
     "prompt_number": 97
    },
    {
     "cell_type": "code",
     "collapsed": false,
     "input": [
      "sample_df(dfi['prop_tries_left'],10)"
     ],
     "language": "python",
     "metadata": {},
     "outputs": [
      {
       "metadata": {},
       "output_type": "pyout",
       "prompt_number": 57,
       "text": [
        "2013-10-19 23:01:26    0.8333333\n",
        "2013-10-22 17:32:29       0.3125\n",
        "2013-10-23 10:09:48          0.2\n",
        "2013-10-18 21:31:20          0.2\n",
        "2013-10-22 18:32:11            0\n",
        "2013-10-19 04:12:08          0.5\n",
        "2013-10-21 01:22:05    0.3333333\n",
        "2013-10-19 20:52:26    0.6666667\n",
        "2013-10-21 01:51:10         0.75\n",
        "2013-10-21 06:06:57          0.5\n",
        "Name: prop_tries_left, dtype: object"
       ]
      }
     ],
     "prompt_number": 57
    },
    {
     "cell_type": "code",
     "collapsed": false,
     "input": [
      "dfi[['tries_left','prop_tries_left']].mean()"
     ],
     "language": "python",
     "metadata": {},
     "outputs": [
      {
       "metadata": {},
       "output_type": "pyout",
       "prompt_number": 66,
       "text": [
        "tries_left         3.890909\n",
        "prop_tries_left    0.445479\n",
        "dtype: float64"
       ]
      }
     ],
     "prompt_number": 66
    },
    {
     "cell_type": "code",
     "collapsed": false,
     "input": [
      "print dfi['prop_tries_left']\n",
      "dfi['prop_tries_left'].hist(bins=40)\n",
      "show()"
     ],
     "language": "python",
     "metadata": {},
     "outputs": [
      {
       "output_type": "stream",
       "stream": "stdout",
       "text": [
        "count     220.0\n",
        "unique     56.0\n",
        "top         0.5\n",
        "freq       28.0\n",
        "dtype: float64\n"
       ]
      },
      {
       "metadata": {},
       "output_type": "display_data",
       "png": "[encoded data removed]",
       "text": [
        "<matplotlib.figure.Figure at 0xb52b350>"
       ]
      }
     ],
     "prompt_number": 59
    },
    {
     "cell_type": "code",
     "collapsed": false,
     "input": [
      "len(dfc)"
     ],
     "language": "python",
     "metadata": {},
     "outputs": [
      {
       "metadata": {},
       "output_type": "pyout",
       "prompt_number": 10,
       "text": [
        "140"
       ]
      }
     ],
     "prompt_number": 10
    },
    {
     "cell_type": "code",
     "collapsed": false,
     "input": [
      "def sample_cluster(df2, c):\n",
      "    return sample_df(df2[df2['expr_cluster'] == c][['answer','user']], 10)\n",
      "\n",
      "\n",
      "for i in range(15):\n",
      "    print '\\n\\n'+'#'*20; print sample_cluster(dfc,i)\n"
     ],
     "language": "python",
     "metadata": {},
     "outputs": [
      {
       "output_type": "stream",
       "stream": "stdout",
       "text": [
        "\n",
        "\n",
        "####################\n",
        "                              answer     user\n",
        "2013-10-20 21:32:31     2(9)+2(16)+2   jay043\n",
        "2013-10-21 04:11:48     9(2)+16(3)+2   jal179\n",
        "2013-10-21 04:12:20       9(2)+16(3)   jal179\n",
        "2013-10-21 04:45:18       9(2)+16(3)   jal179\n",
        "2013-10-22 05:59:52     9(1) + 16(2)  b7chung\n",
        "2013-10-22 06:01:07     9(1) + 16(2)  b7chung\n",
        "2013-12-03 22:48:35  9(2) + 16(2) +2  e6hwang\n",
        "\n",
        "\n",
        "####################\n",
        "                               answer      user\n",
        "2013-10-19 20:49:11         2*3+4*3+2    jgg007\n",
        "2013-10-22 01:27:08       3*2+4*2 + 2  hshaikle\n",
        "2013-10-22 01:25:39         3*2+4*2+2  hshaikle\n",
        "2013-10-22 01:52:13         3*2+4*2+2  hshaikle\n",
        "2013-10-19 05:28:42  3*4*2 + 4*4*2 +2      ssko\n",
        "2013-10-22 01:26:05       3*2+4*2 + 2  hshaikle\n",
        "2013-10-22 01:52:10           3*2+2+2  hshaikle\n",
        "2013-10-21 00:45:55         3*2+4*3+2  ercrawfo\n",
        "2013-10-22 01:28:22         3*2+4*2+2  hshaikle\n",
        "2013-10-19 20:49:00         2*3+4*3+2    jgg007\n",
        "\n",
        "\n",
        "####################\n",
        "                                      answer      user\n",
        "2013-10-23 10:09:53            3^2*2+4^2*2+4   khchong\n",
        "2013-10-22 17:56:22            3^2*2+4^2*2+2  binocenc\n",
        "2013-10-21 03:27:57            3^2*2+4^2*2+2   lahuynh\n",
        "2013-10-18 21:31:36      (3^2*(2)+4^2*(2))+2  mschwegl\n",
        "2013-10-23 10:09:48            3^2*2+4^2*2+2   khchong\n",
        "2013-10-18 21:31:04        3^2*(1)+4^2*(3)+2  mschwegl\n",
        "2013-10-22 18:32:01    ((3^2)*2)+((4^2)*2)+2  binocenc\n",
        "2013-10-20 04:23:58  (3**2)*2 + (4**2)*2 + 2      a4to\n",
        "2013-10-21 03:27:36   (3**2)*2 + (4**2)*2 +2   wihuang\n",
        "2013-10-21 03:26:01   (3**2)*2 + (4**2)*2 +2   wihuang"
       ]
      },
      {
       "output_type": "stream",
       "stream": "stderr",
       "text": [
        "/usr/local/lib/python2.7/dist-packages/pandas/core/config.py:570: DeprecationWarning: height has been deprecated.\n",
        "\n",
        "  warnings.warn(d.msg, DeprecationWarning)\n",
        "/usr/local/lib/python2.7/dist-packages/pandas/core/config.py:570: DeprecationWarning: height has been deprecated.\n",
        "\n",
        "  warnings.warn(d.msg, DeprecationWarning)\n",
        "/usr/local/lib/python2.7/dist-packages/pandas/core/config.py:570: DeprecationWarning: height has been deprecated.\n",
        "\n",
        "  warnings.warn(d.msg, DeprecationWarning)\n",
        "/usr/local/lib/python2.7/dist-packages/pandas/core/config.py:570: DeprecationWarning: height has been deprecated.\n",
        "\n",
        "  warnings.warn(d.msg, DeprecationWarning)\n"
       ]
      },
      {
       "output_type": "stream",
       "stream": "stdout",
       "text": [
        "\n",
        "\n",
        "\n",
        "####################\n",
        "                             answer      user\n",
        "2013-10-17 23:18:53          9+16*2  melkherj\n",
        "2013-10-17 23:19:22          9+16*2  melkherj\n",
        "2013-10-19 04:13:17         9*2+4*2    twc006\n",
        "2013-10-20 00:02:21        9*2 + 16    clemon\n",
        "2013-10-20 01:28:27  2 * 8 + 2 * 16  ptraynor\n",
        "2013-10-20 08:06:19       9*2 + 4*2     whyao\n",
        "2013-10-21 02:29:23      9*4 + 16*4    jml018\n",
        "2013-10-21 03:29:35        9*2+16*4     d3ung\n",
        "2013-10-22 02:02:09       9 + 16(2)  hshaikle\n",
        "\n",
        "\n",
        "####################\n",
        "                      answer      user\n",
        "2013-10-21 05:28:07    18+34   ekuribe\n",
        "2013-10-20 20:14:53    34+18    sjk044\n",
        "2013-10-20 04:18:39    18+16    t10lee\n",
        "2013-10-20 07:35:54     2*16     whyao\n",
        "2013-10-19 00:10:44    18+16   actsang\n",
        "2013-10-21 17:36:06     9+32    kaw023\n",
        "2013-10-20 21:07:48    18+34    sjk044\n",
        "2013-10-19 04:11:45     9+32    twc006\n",
        "2013-10-20 21:08:27    18+36    sjk044\n",
        "2013-10-20 21:58:06  18 + 50  vivenkat\n",
        "\n",
        "\n",
        "####################\n",
        "                             answer      user\n",
        "2013-10-18 21:34:15     9*2+16*2 +2  ylemberg\n",
        "2013-10-21 18:27:12  9*2 + 16*2 + 2   jwschow\n",
        "2013-10-20 05:36:24   9*2 + 16*2 +2  tgtruong\n",
        "2013-10-21 07:54:48   12 + 16*2 + 2      ssko\n",
        "2013-10-21 07:55:53  9*2 + 16*2 + 2      ssko\n",
        "2013-10-20 05:35:48   9*2 + 16*2 +2  tgtruong\n",
        "2013-10-21 07:55:02  9*2 + 16*2 + 2      ssko\n",
        "2013-10-20 04:24:58  9*2 + 16*2 + 4      a4to\n",
        "2013-10-22 17:32:29      9*2+16*2+2  binocenc\n",
        "2013-10-21 03:29:51      9*2+16*2+2     d3ung"
       ]
      },
      {
       "output_type": "stream",
       "stream": "stderr",
       "text": [
        "/usr/local/lib/python2.7/dist-packages/pandas/core/config.py:570: DeprecationWarning: height has been deprecated.\n",
        "\n",
        "  warnings.warn(d.msg, DeprecationWarning)\n",
        "/usr/local/lib/python2.7/dist-packages/pandas/core/config.py:570: DeprecationWarning: height has been deprecated.\n",
        "\n",
        "  warnings.warn(d.msg, DeprecationWarning)\n",
        "/usr/local/lib/python2.7/dist-packages/pandas/core/config.py:570: DeprecationWarning: height has been deprecated.\n",
        "\n",
        "  warnings.warn(d.msg, DeprecationWarning)\n",
        "/usr/local/lib/python2.7/dist-packages/pandas/core/config.py:570: DeprecationWarning: height has been deprecated.\n",
        "\n",
        "  warnings.warn(d.msg, DeprecationWarning)\n"
       ]
      },
      {
       "output_type": "stream",
       "stream": "stdout",
       "text": [
        "\n",
        "\n",
        "\n",
        "####################\n",
        "                              answer      user\n",
        "2013-10-19 23:01:26      3(2)+4(2)+2  tgtruong\n",
        "2013-10-21 05:10:22        1(2)+9(2)   asraman\n",
        "2013-10-21 06:06:57        3(2)+4(2)  aschilli\n",
        "2013-10-21 21:02:35  3(2)+4(2) +2+ 2    jcl068\n",
        "2013-10-21 00:44:55        3(2)+4(2)    jcl068\n",
        "2013-10-18 21:53:34  3(2) + 4(2) + 2     halou\n",
        "2013-10-21 00:45:10  3(2)+4(2) +2+ 2    jcl068\n",
        "2013-10-21 04:14:22        9*16(3+4)    jal179\n",
        "2013-10-20 05:10:20      3(2)+4(2)+2  tgtruong\n",
        "2013-10-21 04:14:27      (9*16)(3+4)    jal179\n",
        "\n",
        "\n",
        "####################\n",
        "                            answer      user\n",
        "2013-10-19 07:59:03        2^3+2^4     rtien\n",
        "2013-10-20 01:15:42      2^3 + 2^4  ptraynor\n",
        "2013-10-20 01:16:04      2^3 + 2^4  ptraynor\n",
        "2013-10-21 05:27:43  (3^2) + (4^2)  jagustin\n",
        "\n",
        "\n",
        "####################\n",
        "                                answer      user\n",
        "2013-10-18 21:30:56        3^2*(1)+4^2  mschwegl\n",
        "2013-10-18 21:31:01    3^2*(1)+4^2*(3)  mschwegl\n",
        "2013-10-18 23:27:33        3**2*2+4**2    epauls\n",
        "2013-10-21 00:47:08          3^2*2+4^2  ercrawfo\n",
        "2013-10-21 03:25:53  (3**2)*2 + (4**2)   wihuang"
       ]
      },
      {
       "output_type": "stream",
       "stream": "stderr",
       "text": [
        "/usr/local/lib/python2.7/dist-packages/pandas/core/config.py:570: DeprecationWarning: height has been deprecated.\n",
        "\n",
        "  warnings.warn(d.msg, DeprecationWarning)\n",
        "/usr/local/lib/python2.7/dist-packages/pandas/core/config.py:570: DeprecationWarning: height has been deprecated.\n",
        "\n",
        "  warnings.warn(d.msg, DeprecationWarning)\n",
        "/usr/local/lib/python2.7/dist-packages/pandas/core/config.py:570: DeprecationWarning: height has been deprecated.\n",
        "\n",
        "  warnings.warn(d.msg, DeprecationWarning)\n",
        "/usr/local/lib/python2.7/dist-packages/pandas/core/config.py:570: DeprecationWarning: height has been deprecated.\n",
        "\n",
        "  warnings.warn(d.msg, DeprecationWarning)\n"
       ]
      },
      {
       "output_type": "stream",
       "stream": "stdout",
       "text": [
        "\n",
        "\n",
        "\n",
        "####################\n",
        "                          answer      user\n",
        "2013-10-21 15:11:34      18+32+2   spitkin\n",
        "2013-10-19 22:17:46      18+32+2  jacontre\n",
        "2013-10-21 04:22:06  18 + 32 + 2   mtakano\n",
        "2013-10-20 19:20:56      18+32+2    miy014\n",
        "2013-10-21 01:54:32  18 + 16 + 2    abw004\n",
        "2013-10-21 06:50:26      18+32+2   pbozdog\n",
        "2013-10-21 04:55:52  18 + 32 + 2    edr007\n",
        "2013-10-20 22:14:39      18+48+2    yuz222\n",
        "2013-10-22 03:28:55      18+32+2  rmaloney\n",
        "2013-10-21 01:54:43  18 + 32 + 2    abw004\n",
        "\n",
        "\n",
        "####################\n",
        "                          answer      user\n",
        "2013-10-20 09:20:58      3*2+4*2  a5taylor\n",
        "2013-10-19 20:48:52      2*3+4*3    jgg007\n",
        "2013-10-19 05:23:02    3*2*2 + 4      ssko\n",
        "2013-10-20 08:03:35    3*2 + 4*2     whyao\n",
        "2013-10-22 01:27:28      3*2+4*2  hshaikle\n",
        "2013-10-19 05:23:04  3*2*2 + 4*2      ssko\n",
        "2013-10-22 01:25:58      3*2+4*2  hshaikle\n",
        "2013-10-20 09:20:17      3*2+4*2  a5taylor\n",
        "2013-10-21 01:12:24        3+4*3    w1love\n",
        "2013-10-21 00:46:27      3*2+4*2  ercrawfo\n",
        "\n",
        "\n",
        "####################\n",
        "                               answer     user\n",
        "2013-10-21 02:24:12  3^2 * 4^2 *2 * 2   jml018\n",
        "2013-10-23 10:08:17       3^2(1)+4(2)  khchong\n",
        "2013-10-23 10:08:21    3^2(1)+4(2)3+2  khchong\n",
        "2013-10-23 10:08:36    3^2(2)+4(2)3+2  khchong"
       ]
      },
      {
       "output_type": "stream",
       "stream": "stdout",
       "text": [
        "\n",
        "\n",
        "\n",
        "####################\n",
        "                                        answer      user\n",
        "2013-10-20 18:50:40               3^2(2) + 4^2  ptraynor\n",
        "2013-10-21 02:24:05                 3^2 * 4^2     jml018\n",
        "2013-10-21 03:45:44   3^2(var(x)) + 4^(var(y))     halou\n",
        "2013-10-21 05:27:49             (3^2)2 + (4^2)  jagustin\n",
        "2013-10-23 10:08:13                   3^2(1)+4   khchong\n",
        "2013-10-23 10:08:42                3^2(2)+42+2   khchong\n",
        "2013-10-23 10:08:51              3^2(2)+4^22+2   khchong\n",
        "\n",
        "\n",
        "####################\n",
        "                               answer     user\n",
        "2013-10-21 17:42:23     3*3*1 + 16*3   c7lewis\n",
        "2013-10-21 17:42:26  3*3*1 + 16*3 + 2  c7lewis\n",
        "2013-10-21 17:44:34  3*3*2 + 16*2 + 2  c7lewis\n",
        "2013-10-21 17:45:05  3*3*2 + 16*2 + 2  c7lewis\n",
        "\n",
        "\n",
        "####################\n",
        "                                  answer      user\n",
        "2013-10-18 21:30:07        (3*1)+(4*3)+2  mschwegl\n",
        "2013-10-20 21:34:47  [3(1)]^2+[4(3)]^2+2    jay043\n",
        "2013-10-21 00:45:50            3*1+4*3+2  ercrawfo\n",
        "2013-10-22 01:25:24            3*1+4*2+2  hshaikle\n"
       ]
      },
      {
       "output_type": "stream",
       "stream": "stderr",
       "text": [
        "/usr/local/lib/python2.7/dist-packages/pandas/core/config.py:570: DeprecationWarning: height has been deprecated.\n",
        "\n",
        "  warnings.warn(d.msg, DeprecationWarning)\n",
        "/usr/local/lib/python2.7/dist-packages/pandas/core/config.py:570: DeprecationWarning: height has been deprecated.\n",
        "\n",
        "  warnings.warn(d.msg, DeprecationWarning)\n",
        "/usr/local/lib/python2.7/dist-packages/pandas/core/config.py:570: DeprecationWarning: height has been deprecated.\n",
        "\n",
        "  warnings.warn(d.msg, DeprecationWarning)\n"
       ]
      }
     ],
     "prompt_number": 24
    },
    {
     "cell_type": "code",
     "collapsed": false,
     "input": [
      "def get_cluster_distances(df, cluster_filter, k):\n",
      "    ''' cluster df[cluster_filter] expressions.  \n",
      "        Return an n X k numpy array D, n = len(df)\n",
      "        D[i,j] gives the distance from df[i] to cluster j '''\n",
      "    model = KMeans(n_clusters=k)\n",
      "    model.fit(X[cluster_filter])\n",
      "\n",
      "    Xc = model.cluster_centers_\n",
      "    Xc[Xc <= 0.5] = 0\n",
      "    Xc[Xc > 0.5] = 1\n",
      "\n",
      "    n,_ = X.shape\n",
      "    D = zeros((n,k))\n",
      "    for j,c in enumerate(Xc):\n",
      "        # D[i,j] is jaccard distance from example i\n",
      "        # to cluster centroid j\n",
      "        num = (X*c).sum(axis=1)\n",
      "        den = ((X + c) > 0).sum(axis=1)\n",
      "        jaccard = num / den\n",
      "        D[:,j] = 1 - jaccard\n",
      "    return D"
     ],
     "language": "python",
     "metadata": {},
     "outputs": [],
     "prompt_number": 695
    },
    {
     "cell_type": "code",
     "collapsed": false,
     "input": [
      "(preprocess_exprs(df_filtered['answer']).sum(axis=1) == 0).sum()"
     ],
     "language": "python",
     "metadata": {},
     "outputs": [
      {
       "metadata": {},
       "output_type": "pyout",
       "prompt_number": 725,
       "text": [
        "276"
       ]
      }
     ],
     "prompt_number": 725
    },
    {
     "cell_type": "code",
     "collapsed": false,
     "input": [
      "df = df_filtered.copy()\n",
      "# Each row of X gives a bit vector for the math expression:\n",
      "#   1 means some feature is present in the expression\n",
      "X = preprocess_exprs(df['answer'])\n",
      "# Syntax errors are those expressions with no features\n",
      "df['syntax_err'] = (X.sum(axis=1) == 0)\n",
      "X = X[~df['syntax_err'],:]\n",
      "df = df[~df['syntax_err']]\n",
      "# For very simple expressions, distances break down\n",
      "too_simple = (X.sum(axis=1) <= 3)\n",
      "df = df[~too_simple]\n",
      "X = X[~too_simple,:]\n",
      "\n",
      "# break users into train/test split\n",
      "user_hash = df['user'].apply(lambda user:md5_int(user)%1000)\n",
      "is_train = (user_hash < 300)\n",
      "is_test = (user_hash >= 300)\n",
      "\n",
      "df['tries_left'] = df.groupby('user')['correct'].transform(get_tries_left)\n",
      "df['prop_tries_left'] = df.groupby('user')['correct'].transform(get_prop_tries_left)\n",
      "\n",
      "k = 12\n",
      "cluster_filter = df['correct'] & is_train\n",
      "\n",
      "D_correct = get_cluster_distances(df, cluster_filter, k)\n",
      "df['correct_distance'] = D_correct.min(axis=1) \n",
      "\n",
      "almost_correct_threshold = percentile(df['correct_distance'],30)\n",
      "almost_correct_filter = (~df['correct']) & (df['correct_distance'] <= almost_correct_threshold)\n",
      "D = get_cluster_distances(df, is_test & almost_correct_filter, k)\n",
      "df['incorrect_cluster'] = argmin(D,axis=1)"
     ],
     "language": "python",
     "metadata": {},
     "outputs": [],
     "prompt_number": 805
    },
    {
     "cell_type": "code",
     "collapsed": false,
     "input": [
      "df[almost_correct_filter & (df['prop_tries_left'] >= 0)]['prop_tries_left'].hist(bins=40)\n",
      "title('proportion of attempts remaining until correct\\n among attempts with distance close to correct')\n",
      "show()"
     ],
     "language": "python",
     "metadata": {},
     "outputs": [
      {
       "metadata": {},
       "output_type": "display_data",
       "png": "[encoded data removed]",
       "text": [
        "<matplotlib.figure.Figure at 0x13980b90>"
       ]
      }
     ],
     "prompt_number": 881
    },
    {
     "cell_type": "markdown",
     "metadata": {},
     "source": [
      "problem -9\n",
      "\n",
      "clusters 0,2,8\n",
      "\n",
      " 'jal179'\n",
      " 'czelazo'\n",
      " 'hshaikle'\n",
      " 'ssko'\n",
      " \n",
      " \n",
      " problem -11\n",
      " \n",
      " "
     ]
    },
    {
     "cell_type": "code",
     "collapsed": false,
     "input": [
      "user"
     ],
     "language": "python",
     "metadata": {},
     "outputs": [
      {
       "metadata": {},
       "output_type": "pyout",
       "prompt_number": 793,
       "text": [
        "'ssko'"
       ]
      }
     ],
     "prompt_number": 793
    },
    {
     "cell_type": "code",
     "collapsed": false,
     "input": [
      "# Pick a user who has made a lot of attempts\n",
      "u = df.groupby('user').size()\n",
      "u.sort()\n",
      "user = random.choice(u.index[-20:])   # pick a random answer sequence from the k=10 longest ones\n",
      "dfu = df[(df['user'] == user)]\n",
      "Du = D[(df['user'] == user),:]\n",
      "Dminu = df['correct_distance'][(df['user'] == user)]\n",
      "\n",
      "import pprint\n",
      "for i,(_,d) in enumerate(dfu.iterrows()):\n",
      "    print '%2d %d'%(i,d['correct']),d['answer']\n",
      "\n",
      "plot(Dminu, linewidth=2.0, label='min', color='black', linestyle=':')\n",
      "import matplotlib.cm as cm\n",
      "for i in range(k):\n",
      "    color = cm.hsv(i/float(k), 1)\n",
      "    plot(Du[:,i],label=str(i), c=color)\n",
      "\n",
      "legend(bbox_to_anchor=(1.3, 1.0))\n",
      "show()"
     ],
     "language": "python",
     "metadata": {},
     "outputs": [
      {
       "output_type": "stream",
       "stream": "stdout",
       "text": [
        " 0 0 (1 - 1/9)\n",
        " 1 0 (1 - 1/9)^2\n",
        " 2 0 (1/9)^2\n",
        " 3 0 (1/9)^2\n",
        " 4 0 1 - (1/9)^2\n",
        " 5 0 1 - (1/9)^2\n",
        " 6 0 (13 -1/9)^2\n",
        " 7 0 1 - (1/9)\n",
        " 8 0 1 - ((1/9)^2)\n",
        " 9 0 9 - ((1/9)^2)\n",
        "10 0 9 - ((1/9)^2)\n",
        "11 0  - ((1/9)^2)\n",
        "12 0 1 - ((1/9)^2)\n",
        "13 0 1/2 - ((1/9)^2)\n",
        "14 0 (1) - ((1/9)^2)\n",
        "15 0 (1)^2 - ((1/9)^2)\n",
        "16 0  - ((1/9)^2)\n",
        "17 1 1/9 - ((1/9)^2)\n",
        "18 1 1/9 - ((1/9)^2)\n"
       ]
      },
      {
       "metadata": {},
       "output_type": "display_data",
       "png": "[encoded data removed]",
       "text": [
        "<matplotlib.figure.Figure at 0xbf84150>"
       ]
      }
     ],
     "prompt_number": 819
    },
    {
     "cell_type": "code",
     "collapsed": false,
     "input": [
      "dfu[['user','answer']]"
     ],
     "language": "python",
     "metadata": {},
     "outputs": [
      {
       "output_type": "stream",
       "stream": "stderr",
       "text": [
        "/usr/local/lib/python2.7/dist-packages/pandas/core/config.py:570: DeprecationWarning: height has been deprecated.\n",
        "\n",
        "  warnings.warn(d.msg, DeprecationWarning)\n",
        "/usr/local/lib/python2.7/dist-packages/pandas/core/config.py:570: DeprecationWarning: height has been deprecated.\n",
        "\n",
        "  warnings.warn(d.msg, DeprecationWarning)\n"
       ]
      },
      {
       "html": [
        "<div style=\"max-height:1000px;max-width:1500px;overflow:auto;\">\n",
        "<table border=\"1\" class=\"dataframe\">\n",
        "  <thead>\n",
        "    <tr style=\"text-align: right;\">\n",
        "      <th></th>\n",
        "      <th>user</th>\n",
        "      <th>answer</th>\n",
        "    </tr>\n",
        "  </thead>\n",
        "  <tbody>\n",
        "    <tr>\n",
        "      <th>2013-10-19 21:54:37</th>\n",
        "      <td> avaradha</td>\n",
        "      <td>         (1 - 1/9)</td>\n",
        "    </tr>\n",
        "    <tr>\n",
        "      <th>2013-10-19 21:54:40</th>\n",
        "      <td> avaradha</td>\n",
        "      <td>       (1 - 1/9)^2</td>\n",
        "    </tr>\n",
        "    <tr>\n",
        "      <th>2013-10-19 21:54:54</th>\n",
        "      <td> avaradha</td>\n",
        "      <td>           (1/9)^2</td>\n",
        "    </tr>\n",
        "    <tr>\n",
        "      <th>2013-10-19 22:02:47</th>\n",
        "      <td> avaradha</td>\n",
        "      <td>           (1/9)^2</td>\n",
        "    </tr>\n",
        "    <tr>\n",
        "      <th>2013-10-19 22:02:51</th>\n",
        "      <td> avaradha</td>\n",
        "      <td>       1 - (1/9)^2</td>\n",
        "    </tr>\n",
        "    <tr>\n",
        "      <th>2013-10-19 22:03:04</th>\n",
        "      <td> avaradha</td>\n",
        "      <td>       1 - (1/9)^2</td>\n",
        "    </tr>\n",
        "    <tr>\n",
        "      <th>2013-10-19 22:03:17</th>\n",
        "      <td> avaradha</td>\n",
        "      <td>       (13 -1/9)^2</td>\n",
        "    </tr>\n",
        "    <tr>\n",
        "      <th>2013-10-20 02:04:05</th>\n",
        "      <td> avaradha</td>\n",
        "      <td>         1 - (1/9)</td>\n",
        "    </tr>\n",
        "    <tr>\n",
        "      <th>2013-10-20 02:04:13</th>\n",
        "      <td> avaradha</td>\n",
        "      <td>     1 - ((1/9)^2)</td>\n",
        "    </tr>\n",
        "    <tr>\n",
        "      <th>2013-10-20 02:05:25</th>\n",
        "      <td> avaradha</td>\n",
        "      <td>     9 - ((1/9)^2)</td>\n",
        "    </tr>\n",
        "    <tr>\n",
        "      <th>2013-10-20 02:05:39</th>\n",
        "      <td> avaradha</td>\n",
        "      <td>     9 - ((1/9)^2)</td>\n",
        "    </tr>\n",
        "    <tr>\n",
        "      <th>2013-10-20 02:06:26</th>\n",
        "      <td> avaradha</td>\n",
        "      <td>       - ((1/9)^2)</td>\n",
        "    </tr>\n",
        "    <tr>\n",
        "      <th>2013-10-20 02:06:43</th>\n",
        "      <td> avaradha</td>\n",
        "      <td>     1 - ((1/9)^2)</td>\n",
        "    </tr>\n",
        "    <tr>\n",
        "      <th>2013-10-20 02:07:01</th>\n",
        "      <td> avaradha</td>\n",
        "      <td>   1/2 - ((1/9)^2)</td>\n",
        "    </tr>\n",
        "    <tr>\n",
        "      <th>2013-10-20 02:10:24</th>\n",
        "      <td> avaradha</td>\n",
        "      <td>   (1) - ((1/9)^2)</td>\n",
        "    </tr>\n",
        "    <tr>\n",
        "      <th>2013-10-20 02:10:28</th>\n",
        "      <td> avaradha</td>\n",
        "      <td> (1)^2 - ((1/9)^2)</td>\n",
        "    </tr>\n",
        "    <tr>\n",
        "      <th>2013-10-20 02:12:05</th>\n",
        "      <td> avaradha</td>\n",
        "      <td>       - ((1/9)^2)</td>\n",
        "    </tr>\n",
        "    <tr>\n",
        "      <th>2013-10-20 02:12:10</th>\n",
        "      <td> avaradha</td>\n",
        "      <td>   1/9 - ((1/9)^2)</td>\n",
        "    </tr>\n",
        "    <tr>\n",
        "      <th>2013-10-20 05:07:31</th>\n",
        "      <td> avaradha</td>\n",
        "      <td>   1/9 - ((1/9)^2)</td>\n",
        "    </tr>\n",
        "  </tbody>\n",
        "</table>\n",
        "</div>"
       ],
       "metadata": {},
       "output_type": "pyout",
       "prompt_number": 882,
       "text": [
        "                         user             answer\n",
        "2013-10-19 21:54:37  avaradha          (1 - 1/9)\n",
        "2013-10-19 21:54:40  avaradha        (1 - 1/9)^2\n",
        "2013-10-19 21:54:54  avaradha            (1/9)^2\n",
        "2013-10-19 22:02:47  avaradha            (1/9)^2\n",
        "2013-10-19 22:02:51  avaradha        1 - (1/9)^2\n",
        "2013-10-19 22:03:04  avaradha        1 - (1/9)^2\n",
        "2013-10-19 22:03:17  avaradha        (13 -1/9)^2\n",
        "2013-10-20 02:04:05  avaradha          1 - (1/9)\n",
        "2013-10-20 02:04:13  avaradha      1 - ((1/9)^2)\n",
        "2013-10-20 02:05:25  avaradha      9 - ((1/9)^2)\n",
        "2013-10-20 02:05:39  avaradha      9 - ((1/9)^2)\n",
        "2013-10-20 02:06:26  avaradha        - ((1/9)^2)\n",
        "2013-10-20 02:06:43  avaradha      1 - ((1/9)^2)\n",
        "2013-10-20 02:07:01  avaradha    1/2 - ((1/9)^2)\n",
        "2013-10-20 02:10:24  avaradha    (1) - ((1/9)^2)\n",
        "2013-10-20 02:10:28  avaradha  (1)^2 - ((1/9)^2)\n",
        "2013-10-20 02:12:05  avaradha        - ((1/9)^2)\n",
        "2013-10-20 02:12:10  avaradha    1/9 - ((1/9)^2)\n",
        "2013-10-20 05:07:31  avaradha    1/9 - ((1/9)^2)"
       ]
      }
     ],
     "prompt_number": 882
    },
    {
     "cell_type": "code",
     "collapsed": false,
     "input": [
      "c = 1\n",
      "print '%d examples in cluster %d'%(sum(df['incorrect_cluster'] == c), c)\n",
      "print sample_df(df[df['incorrect_cluster'] == c],40)[['answer','user']]"
     ],
     "language": "python",
     "metadata": {},
     "outputs": [
      {
       "output_type": "stream",
       "stream": "stdout",
       "text": [
        "161 examples in cluster 1\n",
        "                                            answer      user\n",
        "2013-12-05 00:25:37                  1/5 - (1/5)^2    jen022\n",
        "2013-10-20 21:01:45                    ((.9)^2)/14    jwk020\n",
        "2013-10-19 20:12:03                    (1^2)-(1.5)  dmariano\n",
        "2013-10-21 06:59:07  ((1-(1/9))^2) + ((0-(1/9))^2)   pbozdog\n",
        "2013-10-21 13:41:56                (4/5)^2-(1/5)^2    jen022\n",
        "2013-10-19 23:57:42                      -(1/9)**2    twc006\n",
        "2013-12-08 07:57:29                  1/5-((1/5)^2)    awchar\n",
        "2013-10-21 08:09:41                  (1/6)-(1/6)^2    dcchou\n",
        "2013-10-23 04:48:06              E[X^2] - (E[X])^2    awchar\n",
        "2013-10-21 06:58:56      ((1-(1/9))^2) + (0-(1/9))   pbozdog\n",
        "2013-10-23 00:20:42                  (1/6)-(1/6)^2   czelazo\n",
        "2013-10-20 00:10:14                        (1/6)^2   actsang\n",
        "2013-10-21 14:04:07                        (3/5)^2    jen022\n",
        "2013-10-21 03:21:43                      1-(1/9)^2    jay043\n",
        "2013-10-21 00:37:27                (8/9)^2-(1/9)^2    jay043\n",
        "2013-10-21 07:01:54              (1/9)^2 + (1/9)^2   pbozdog\n",
        "2013-10-20 02:24:58                    1/9-(1/9)^2  dmozlows\n",
        "2013-10-21 04:46:19                       (1/9 )^2   lahuynh\n",
        "2013-10-21 04:52:12                  1/9 - (1/9)^2   lahuynh\n",
        "2013-10-21 15:37:12                1/([9/5-1/5]^2)   spitkin\n",
        "2013-10-20 00:50:25                        (1/9)^2  mschwegl\n",
        "2013-10-21 18:25:07                      (1-1/9)^2  aschilli\n",
        "2013-10-20 02:06:43                  1 - ((1/9)^2)  avaradha\n",
        "2013-10-21 04:09:09                        (1/9)^2    cjy008\n",
        "2013-10-19 02:02:17                      (1/140)^2    fplatt\n",
        "2013-10-21 06:58:40                  ((1-(1/9))^2)   pbozdog\n",
        "2013-10-21 04:50:08                  1/9 - (1/9)^2   lahuynh\n",
        "2013-10-20 00:42:30                      1-(1/9)^2  mhogetve\n",
        "2013-10-23 00:19:21                  (1/6)-(1/6)^2   czelazo\n",
        "2013-10-20 00:22:52                   (1)-(1/9)**2    twc006\n",
        "2013-10-21 04:06:08                        (1/9)^2    cjy008\n",
        "2013-10-22 01:15:37                      (1-1/6)^2   czelazo\n",
        "2013-10-21 18:25:21                      (1-1/9)^2  aschilli\n",
        "2013-10-22 01:09:17                      ((1/6)^2)   czelazo\n",
        "2013-10-21 08:09:01                        (1/6)^2    dcchou\n",
        "2013-10-23 00:23:55                  (1/6)-(1/6)^2   czelazo\n",
        "2013-10-20 17:08:42                (8/9)^2+(1/9)^2    z3zeng\n",
        "2013-10-20 05:33:15                       (1/9)^13    cjy008\n",
        "2013-10-21 03:02:50                      (1-1/6)^2    juc030\n",
        "2013-10-23 05:15:00                  1/5-((1/5)^2)    awchar\n"
       ]
      },
      {
       "output_type": "stream",
       "stream": "stderr",
       "text": [
        "/usr/local/lib/python2.7/dist-packages/pandas/core/config.py:570: DeprecationWarning: height has been deprecated.\n",
        "\n",
        "  warnings.warn(d.msg, DeprecationWarning)\n"
       ]
      }
     ],
     "prompt_number": 820
    },
    {
     "cell_type": "markdown",
     "metadata": {},
     "source": [
      "### Naive Bayes, Log-Ratio and Ranking Features ###\n",
      "* We're trying a different method of computing the distance to the correct answer, and to cluster centroids.  \n",
      "* We compute the distance to correct using naive bayes.  \n",
      "* We can rank features from most to least discriminative based on the regularized log-ratio of correct-incorrect counts\n",
      "* Filtering out positive/negatively discriminative features helps illustrate the reason a student might not be correct"
     ]
    },
    {
     "cell_type": "code",
     "collapsed": false,
     "input": [
      "regularization = 2\n",
      "c = X[df['correct'],:].sum(axis=0) + regularization\n",
      "ic = X[~df['correct'],:].sum(axis=0) + regularization\n",
      "\n",
      "phi = c/(c+ic) #phi in naive bayes\n",
      "df['correct_distance'] = (X*log(phi) + (1-X)*log(1-phi)).sum(axis=1)\n",
      "\n",
      "logratio = log((c/ic))\n",
      "#hist(logratio, bins=40)\n",
      "#show()\n",
      "\n",
      "#negative = (logratio <  -0.7)\n",
      "#positive = (logratio > 1.0)\n",
      "\n",
      "print argsort(logratio)[:100]"
     ],
     "language": "python",
     "metadata": {},
     "outputs": [
      {
       "output_type": "stream",
       "stream": "stdout",
       "text": [
        "[  18  207  269  270  281  272  282  284  273  274  684  473  739    7  315\n",
        "  402  316  320  474  285  318   17  286  319  502  503  766  551  990  764\n",
        "  759  738  756  755  754  753   16  737  757  758  760  927  508  507  870\n",
        "  673  784  682  761  785  786  837  839  765  787  516  505  506  504  510\n",
        "  321  517  515 1055  683  523  525  529  275  518  519  521  509  522  843\n",
        "  520  871  569 1056  762  403  538  791  539  545  550  528  744  987  985\n",
        "  984  939  605  881  625  624  819  607  588  405]\n"
       ]
      }
     ],
     "prompt_number": 898
    },
    {
     "cell_type": "code",
     "collapsed": false,
     "input": [
      "# We can judge how similar two features are by examining the overlap in where\n",
      "# they are 1 vs. 0\n",
      "def intesect_min_ratio(u,v):\n",
      "    num = (u & v).sum()\n",
      "    #Since we use the min instead of union, a subfeature has intersect ratio of 1\n",
      "    den = min(u.sum(), v.sum()) \n",
      "    return num / float(den)\n",
      "\n",
      "i = 538\n",
      "print intesect_min_ratio(X[:,269] == 1, X[:,i] == 1)\n",
      "print X[:,i].sum()"
     ],
     "language": "python",
     "metadata": {},
     "outputs": [
      {
       "output_type": "stream",
       "stream": "stdout",
       "text": [
        "1.0\n",
        "15.0\n"
       ]
      }
     ],
     "prompt_number": 941
    },
    {
     "cell_type": "code",
     "collapsed": false,
     "input": [
      "# Feature 25 gives mostly correct answers, but here we show how feature 119 corrupts\n",
      "# these correct answers.  Students that are almost right, but making the error as in 119\n",
      "#   should be given \n",
      "#sample_df(df[(X[:,i] == 1) & (~df['correct'])][['answer','correct','user']], 10) #df['Y'] == 9\n",
      "#argmax(ic*(c == 0))\n",
      "sample_df(df[(X[:,i] == 1)]['answer'],10)"
     ],
     "language": "python",
     "metadata": {},
     "outputs": [
      {
       "metadata": {},
       "output_type": "pyout",
       "prompt_number": 942,
       "text": [
        "2013-10-20 08:06:51    ((1+2^2+3^2+4^2+5^2+6^2+7^2+8^2+9^2+10^2)/(1/1...\n",
        "2013-10-21 02:26:43    (1-1/8)^2 +( 2-1/8)^2 + (3 - 1/8)^2 + (4 - 1/8...\n",
        "2013-10-20 08:08:54    ((1+2^2+3^2+4^2+5^2+6^2+7^2+8^2+9^2+10^2)/(1/1...\n",
        "2013-10-20 08:07:19    ((1+2^2+3^2+4^2+5^2+6^2+7^2+8^2+9^2+10^2+11^2+...\n",
        "2013-10-20 08:05:53    ((1+2^2+3^2+4^2+5^2+6^2+7^2+8^2+9^2+10^2)-(1/1...\n",
        "2013-10-20 08:09:05    ((1+2^2+3^2+4^2+5^2+6^2+7^2+8^2+9^2)/(1/10))-(...\n",
        "2013-10-20 08:08:21    ((1+2^2+3^2+4^2+5^2+6^2+7^2+8^2+9^2+10^2+11^2+...\n",
        "2013-10-20 08:08:37    ((1+2^2+3^2+4^2+5^2+6^2+7^2+8^2+9^2+10^2+11^2+...\n",
        "2013-10-20 08:06:02    ((1+2^2+3^2+4^2+5^2+6^2+7^2+8^2+9^2+10^2)/(1/1...\n",
        "2013-10-20 08:07:53    ((1+2^2+3^2+4^2+5^2+6^2+7^2+8^2+9^2+10^2+11^2+...\n",
        "Name: answer, dtype: object"
       ]
      }
     ],
     "prompt_number": 942
    },
    {
     "cell_type": "code",
     "collapsed": false,
     "input": [],
     "language": "python",
     "metadata": {},
     "outputs": []
    }
   ],
   "metadata": {}
  }
 ]
}