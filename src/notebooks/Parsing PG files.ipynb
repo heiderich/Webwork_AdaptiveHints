{
 "metadata": {
  "name": "Parsing PG files"
 },
 "nbformat": 3,
 "nbformat_minor": 0,
 "worksheets": [
  {
   "cells": [
    {
     "cell_type": "code",
     "collapsed": false,
     "input": [
      "%pwd"
     ],
     "language": "python",
     "metadata": {},
     "outputs": [
      {
       "output_type": "pyout",
       "prompt_number": 1,
       "text": [
        "u'/Users/yoavfreund/projects/Webwork.Improvement.Project/Demo_for_utube/src/notebooks'"
       ]
      }
     ],
     "prompt_number": 1
    },
    {
     "cell_type": "code",
     "collapsed": false,
     "input": [
      "%cd ../../data/course_webwork_data/\n",
      "!ls *.def"
     ],
     "language": "python",
     "metadata": {},
     "outputs": [
      {
       "output_type": "stream",
       "stream": "stdout",
       "text": [
        "/Users/yoavfreund/projects/Webwork.Improvement.Project/Demo_for_utube/data/course_webwork_data\n"
       ]
      },
      {
       "output_type": "stream",
       "stream": "stdout",
       "text": [
        "set0.def                      setAssignment21.def           setConditionalProbability.def setTest2.def\r\n",
        "setAssignment1.def            setAssignment3.def            setDemo.def                   setTestPreparation.def\r\n",
        "setAssignment10.def           setAssignment4.def            setDiscrete_Probability.def   setTestPreparationCB.def\r\n",
        "setAssignment11.def           setAssignment5.def            setHypothesisTesting.def      setTestPreparationCP.def\r\n",
        "setAssignment13.def           setAssignment5Problems.def    setImprovedCompound.def       setTestPreparationDP.def\r\n",
        "setAssignment14.def           setAssignment6.def            setIncrementalQuestions.def   setTestPreparationRA.def\r\n",
        "setAssignment15.def           setAssignment7.def            setMAAtutorial.def            setTestPreparationRV.def\r\n",
        "setAssignment17.def           setAssignment8.def            setOrientation.def            setTestPreparationST.def\r\n",
        "setAssignment18.def           setAssignment9.def            setPGML.def                   setmelkherj.def\r\n",
        "setAssignment19.def           setCDF.def                    setProbability.def            setmulti-Step_questions.def\r\n",
        "setAssignment2.def            setCLT.def                    setRandomVariables.def        setnadav-Assignment4.def\r\n",
        "setAssignment20.def           setCombinatorics.def          setTest1.def\r\n"
       ]
      }
     ],
     "prompt_number": 2
    },
    {
     "cell_type": "code",
     "collapsed": false,
     "input": [
      "import re,os,pandas,pickle\n",
      "from glob import glob\n",
      "from copy import deepcopy\n",
      "\n",
      "frame={'line':[],'start':[],'end':[],'match':[]}\n",
      "def find_question_windows(lines):\n",
      "    matches=deepcopy(frame)\n",
      "    for i in range(len(lines)):\n",
      "        line=lines[i]\n",
      "        for match in re.finditer(r'\\[_*\\]\\{.*?\\}',line):\n",
      "            #print 'line',i,':',line\n",
      "            #print 'matches:',match.start(),match.end(),match.group(0)\n",
      "            matches['line'].append(i)\n",
      "            matches['start'].append(match.start())\n",
      "            matches['end'].append(match.end())\n",
      "            matches['match'].append(match.group(0))\n",
      "    return matches\n",
      "            \n",
      "BeginEndPairs=[{'begin':'TEXT(PGML::Format','end':'END_PGML','type':'pgml'},\\\n",
      "               {'begin':'BEGIN_PGML','end':'END_PGML','type':'pgml'}]\n",
      "Table={'Assignment':[], 'problem':[], 'text':[]}\n",
      "def_files=glob('setAssignment?.def')\n",
      "for ass_no in range(len(def_files)):\n",
      "    assignment=def_files[ass_no]\n",
      "    file=open(assignment,'r')\n",
      "    lines=file.readlines()\n",
      "    start=False; pg_list=[]\n",
      "    for line in lines:\n",
      "        if start:\n",
      "            e=line.split(',')\n",
      "            if len(e)>1:\n",
      "                pg_list.append(e[0])\n",
      "        else:\n",
      "            if line.find('problemList')>-1:\n",
      "                start=True\n",
      "            \n",
      "    for problem in range(len(pg_list)):\n",
      "        file=pg_list[problem]\n",
      "        if not os.path.exists(file):\n",
      "            print 'ERROR: did not find file \"%s\" associated with \"%s\" problem: %d'\\\n",
      "                    % (file,pg_list[ass_no],problem+1)\n",
      "        else:\n",
      "            print 'Processing file ',file, ' in ',assignment\n",
      "\n",
      "        pg_file=open(pg_list[problem],'r')\n",
      "        lines=pg_file.readlines()\n",
      "        pgml_blocks=[]\n",
      "        TEXT=False\n",
      "        format_i=-1\n",
      "        for line in lines:\n",
      "            if not TEXT:      # Look for start of text\n",
      "                if format_i ==-1:    # find the type of begin/end that is used in this file\n",
      "                    for ii in range(len(BeginEndPairs)):\n",
      "                        if line.find(BeginEndPairs[ii]['begin'])>-1:\n",
      "                            format_i=ii\n",
      "                            current_block=[]\n",
      "                            TEXT = True\n",
      "                            break\n",
      "                else:\n",
      "                    if line.find(BeginEndPairs[format_i]['begin'])>-1:   #look for start of known type\n",
      "                        current_block=[]\n",
      "                        TEXT=True\n",
      "            else:\n",
      "                if line.find(BeginEndPairs[format_i]['end'])>-1:     # Look for end\n",
      "                    QB=find_question_windows(current_block)\n",
      "                    pgml_blocks.append({'block':current_block,'question_boxes':QB})\n",
      "                    TEXT=False\n",
      "                else:\n",
      "                    current_block.append(line)     #regular text line\n",
      "                    \n",
      "        Table['Assignment'].append(assignment)\n",
      "        Table['problem'].append(problem+1)\n",
      "        Table['text'].append(pgml_blocks)\n",
      "        print 'found ',len(pgml_blocks),'of sizes',[len(b['block']) for b in pgml_blocks]\n",
      "\n",
      "print 'starting pickle'\n",
      "pickle.dump({'ProblemTexts':Table},\\\n",
      "            open('problemTexts.pkl','wb'),\\\n",
      "            protocol=pickle.HIGHEST_PROTOCOL)\n",
      "print 'finished pickle'\n"
     ],
     "language": "python",
     "metadata": {},
     "outputs": [
      {
       "output_type": "stream",
       "stream": "stdout",
       "text": [
        "Processing file "
       ]
      },
      {
       "output_type": "stream",
       "stream": "stdout",
       "text": [
        " setCombinatorics/BasicSets.pg  in  setAssignment1.def\n",
        "found  3 of sizes [34, 50, 29]\n",
        "Processing file  yuncong_class0/q2.pg  in  setAssignment1.def\n",
        "found  2 of sizes [10, 6]\n",
        "Processing file  setCombinatorics/BasicSets1.pg  in  setAssignment1.def\n",
        "found  2 of sizes [23, 3]\n",
        "Processing file  setCombinatorics/ClassSize.pg  in  setAssignment1.def\n",
        "found  1 of sizes [17]\n",
        "Processing file  setCombinatorics/UniformDist.pg  in  setAssignment1.def\n",
        "found  1 of sizes [28]\n",
        "Processing file  yuncong_class0/q4.pg  in  setAssignment1.def\n",
        "found  2 of sizes [7, 4]\n",
        "Processing file  setCombinatorics/UniformDist1.pg  in  setAssignment1.def\n",
        "found "
       ]
      },
      {
       "output_type": "stream",
       "stream": "stdout",
       "text": [
        " 2 of sizes [12, 2]\n",
        "Processing file  setCombinatorics/Tuples.pg  in  setAssignment2.def\n",
        "found  1 of sizes [51]\n",
        "Processing file  setCombinatorics/withoutReplacementExplanation.pg  in  setAssignment2.def\n",
        "found  1 of sizes [50]\n",
        "Processing file  setCombinatorics/BinomialCoeffExplanation.pg  in  setAssignment2.def\n",
        "found  1 of sizes [31]\n",
        "Processing file  setCombinatorics/Cards1.pg  in  setAssignment2.def\n",
        "found  1 of sizes [10]\n",
        "Processing file  setCombinatorics/ChoosingCandies.pg  in  setAssignment2.def\n",
        "found  1 of sizes [28]\n",
        "Processing file  setCombinatorics/DiscreteProb1.pg  in  setAssignment2.def\n",
        "found  1 of sizes [36]\n",
        "Processing file  setCombinatorics/Envelopes1.pg  in  setAssignment2.def\n",
        "found  1 of sizes [59]\n",
        "Processing file  setCombinatorics/PigeonHole.pg  in  setAssignment2.def\n",
        "found  0 of sizes []\n",
        "Processing file  setCombinatorics/UniformDist1.pg  in  setAssignment2.def\n",
        "found  2 of sizes [12, 2]\n",
        "Processing file  setCombinatorics/UniformDist2.pg  in  setAssignment2.def\n",
        "found  1 of sizes [16]\n",
        "Processing file  yuncong_class0/q1.pg  in  setAssignment2.def\n",
        "found  2 of sizes [5, 3]\n",
        "Processing file  yuncong_class0/q5.pg  in  setAssignment2.def\n",
        "found  2 of sizes [5, 3]\n",
        "Processing file  yuncong_class0/q6.pg  in  setAssignment2.def\n",
        "found  2 of sizes [15, 3]\n",
        "Processing file "
       ]
      },
      {
       "output_type": "stream",
       "stream": "stdout",
       "text": [
        " yuncong_assignment1/q4.pg  in  setAssignment3.def\n",
        "found  1 of sizes [134]\n",
        "Processing file  yuncong_assignment1/q1.pg  in  setAssignment3.def\n",
        "found  2 of sizes [18, 15]\n",
        "Processing file  yuncong_assignment1/q2.pg  in  setAssignment3.def\n",
        "found  2 of sizes [21, 18]\n",
        "Processing file  yuncong_assignment1/q3.pg  in  setAssignment3.def\n",
        "found  2 of sizes [19, 16]\n",
        "Processing file  setProbability/coinProblems.pg  in  setAssignment3.def\n",
        "found  2 of sizes [10, 6]\n",
        "Processing file "
       ]
      },
      {
       "output_type": "stream",
       "stream": "stdout",
       "text": [
        " setnadav-Assignment4/rollThreeDice.pg  in  setAssignment4.def\n",
        "found  1 of sizes [12]\n",
        "Processing file  local/setnadav-Assignment4/rollEnDice_revised.pg  in  setAssignment4.def\n",
        "found "
       ]
      },
      {
       "output_type": "stream",
       "stream": "stdout",
       "text": [
        " 1 of sizes [27]\n",
        "Processing file  setnadav-Assignment4/socks.pg  in  setAssignment4.def\n",
        "found  1 of sizes [21]\n",
        "Processing file  setnadav-Assignment4/tenCoins.pg  in  setAssignment4.def\n",
        "found  1 of sizes [12]\n",
        "Processing file  setProbability/RooksChess.pg  in  setAssignment4.def\n",
        "found  1 of sizes [20]\n",
        "Processing file  setProbability/DartDartboard.pg  in  setAssignment4.def\n",
        "found  1 of sizes [18]\n",
        "Processing file  setProbability/BirthdayParadox.pg  in  setAssignment4.def\n",
        "found  1 of sizes [32]\n",
        "Processing file  setAssignment5/Notes2_2_1.pg  in  setAssignment5.def\n",
        "found  2 of sizes [24, 24]\n",
        "Processing file  setAssignment5/Notes2_2_2.pg  in  setAssignment5.def\n",
        "found  2 of sizes [36, 27]\n",
        "Processing file  setAssignment5/Notes2_2_3.pg  in  setAssignment5.def\n",
        "found  2 of sizes [36, 19]\n",
        "Processing file  setAssignment5/Notes2_2_4.pg  in  setAssignment5.def\n",
        "found  2 of sizes [5, 12]\n",
        "Processing file  setAssignment5/Notes2_2_5.pg  in  setAssignment5.def\n",
        "found  2 of sizes [23, 27]\n",
        "Processing file  setAssignment5/solvedProblem2_4.pg  in  setAssignment5.def\n",
        "found  1 of sizes [22]\n",
        "Processing file  setAssignment5/solvedProblem2_6.pg  in  setAssignment5.def\n",
        "found  1 of sizes [14]\n",
        "Processing file  setAssignment5/solvedProblem2_12.pg  in  setAssignment5.def\n",
        "found  1 of sizes [18]\n",
        "Processing file "
       ]
      },
      {
       "output_type": "stream",
       "stream": "stdout",
       "text": [
        " setAssignment6/ConditionalProbability.pg  in  setAssignment6.def\n",
        "found  3 of sizes [13, 9, 3]\n",
        "Processing file  setAssignment6/PregnancyTest.pg  in  setAssignment6.def\n",
        "found  2 of sizes [20, 2]\n",
        "Processing file  setAssignment6/RollsOfDie.pg  in  setAssignment6.def\n",
        "found  2 of sizes [34, 2]\n",
        "Processing file  setAssignment6/InvisibleOrFly.pg  in  setAssignment6.def\n",
        "found  2 of sizes [17, 2]\n",
        "Processing file  setAssignment6/SummationRule.pg  in  setAssignment6.def\n",
        "found  2 of sizes [20, 2]\n",
        "Processing file  setAssignment6/MontyHallProblem.pg  in  setAssignment6.def\n",
        "found  2 of sizes [25, 2]\n",
        "Processing file  setAssignment6/BayesBurglary.pg  in  setAssignment6.def\n",
        "found  2 of sizes [37, 2]\n",
        "Processing file  setAssignment6/BayesPrisoners.pg  in  setAssignment6.def\n",
        "found  2 of sizes [45, 2]\n",
        "Processing file  setAssignment6/Independence_1.pg  in  setAssignment6.def\n",
        "found  2 of sizes [18, 2]\n",
        "Processing file  setAssignment6/Independence_2.pg  in  setAssignment6.def\n",
        "found  2 of sizes [8, 25]\n",
        "Processing file "
       ]
      },
      {
       "output_type": "stream",
       "stream": "stdout",
       "text": [
        " setAssignment7/Notes_3_1.pg  in  setAssignment7.def\n",
        "found  1 of sizes [72]\n",
        "Processing file  setAssignment7/Notes_3_2_1.pg  in  setAssignment7.def\n",
        "found  2 of sizes [57, 3]\n",
        "Processing file  setAssignment7/Notes_3_2_2.pg  in  setAssignment7.def\n",
        "found  1 of sizes [77]\n",
        "Processing file  setAssignment7/Notes_3_2_3.pg  in  setAssignment7.def\n",
        "found  1 of sizes [23]\n",
        "Processing file  setAssignment7/probs_42.pg  in  setAssignment7.def\n",
        "found  2 of sizes [35, 8]\n",
        "Processing file  setAssignment7/probs_47.pg  in  setAssignment7.def\n",
        "found  2 of sizes [33, 19]\n",
        "Processing file  setAssignment7/probs_43.pg  in  setAssignment7.def\n",
        "found  2 of sizes [24, 13]\n",
        "Processing file  setAssignment7/probs_45.pg  in  setAssignment7.def\n",
        "found  2 of sizes [8, 46]\n",
        "Processing file  setAssignment8/Problem57.pg  in  setAssignment8.def\n",
        "found "
       ]
      },
      {
       "output_type": "stream",
       "stream": "stdout",
       "text": [
        " 1 of sizes [17]\n",
        "Processing file  setAssignment8/Problem58.pg  in  setAssignment8.def\n",
        "found  1 of sizes [13]\n",
        "Processing file  setAssignment8/Problem59.pg  in  setAssignment8.def\n",
        "found  1 of sizes [14]\n",
        "Processing file  setAssignment8/Notes3_3_0.pg  in  setAssignment8.def\n",
        "found  1 of sizes [50]\n",
        "Processing file  setAssignment8/Notes3_3_1.pg  in  setAssignment8.def\n",
        "found  1 of sizes [35]\n",
        "Processing file  setAssignment9/Notes3_3_2.pg  in  setAssignment9.def\n",
        "found  1 of sizes [44]\n",
        "Processing file  setAssignment9/Notes3_3_3.pg  in  setAssignment9.def\n",
        "found  1 of sizes [29]\n",
        "Processing file  setAssignment9/probs77.pg  in  setAssignment9.def\n",
        "found  2 of sizes [65, 3]\n",
        "Processing file  setAssignment9/Notes3_4.pg  in  setAssignment9.def\n",
        "found  3 of sizes [28, 9, 3]\n",
        "Processing file  setAssignment9/Notes3_5_1.pg  in  setAssignment9.def\n",
        "found  3 of sizes [10, 53, 3]\n",
        "Processing file  setAssignment9/Notes3_5_2.pg  in  setAssignment9.def\n",
        "found  4 of sizes [10, 34, 14, 3]\n",
        "Processing file  setAssignment9/Notes3_5_3.pg  in  setAssignment9.def\n",
        "found  3 of sizes [5, 40, 3]\n",
        "starting pickle\n",
        "finished pickle"
       ]
      },
      {
       "output_type": "stream",
       "stream": "stdout",
       "text": [
        "\n"
       ]
      },
      {
       "output_type": "stream",
       "stream": "stderr",
       "text": [
        "/Library/Frameworks/Python.framework/Versions/Current/lib/python2.7/site-packages/matplotlib-1.1.0-py2.7-macosx-10.6-intel.egg/pytz/__init__.py:35: UserWarning: Module dateutil was already imported from /Library/Frameworks/Python.framework/Versions/Current/lib/python2.7/site-packages/matplotlib-1.1.0-py2.7-macosx-10.6-intel.egg/dateutil/__init__.pyc, but /opt/local/Library/Frameworks/Python.framework/Versions/2.7/lib/python2.7/site-packages is being added to sys.path\n",
        "  from pkg_resources import resource_stream\n"
       ]
      }
     ],
     "prompt_number": 3
    },
    {
     "cell_type": "code",
     "collapsed": false,
     "input": [
      "Table.keys()"
     ],
     "language": "python",
     "metadata": {},
     "outputs": [
      {
       "output_type": "pyout",
       "prompt_number": 4,
       "text": [
        "['Assignment', 'problem', 'text']"
       ]
      }
     ],
     "prompt_number": 4
    },
    {
     "cell_type": "code",
     "collapsed": false,
     "input": [
      "from termcolor import colored, cprint\n",
      "f=open('colortest.txt','wb')\n",
      "line='nothing special HELLO WORLD nothing special'\n",
      "print len(line)\n",
      "cline=line[:10]+colored(line[10:20],'red',attrs=['reverse', 'blink'])+line[20:]\n",
      "print len(cline)\n",
      "print >>f,cline\n",
      "f.close()"
     ],
     "language": "python",
     "metadata": {},
     "outputs": [
      {
       "output_type": "stream",
       "stream": "stdout",
       "text": [
        "43\n",
        "60\n"
       ]
      }
     ],
     "prompt_number": 5
    },
    {
     "cell_type": "code",
     "collapsed": false,
     "input": [
      "part=1\n",
      "s0=0\n",
      "newtext=[]\n",
      "for match in re.finditer(r'\\[_*\\]\\{.*?\\}',Text):\n",
      "    pre=Text[s0:match.start()]\n",
      "    box=match.group(1)\n",
      "    ##use sub to replace the ___ with str(part_no) and use two colors for the [__] and for the {...} parts\n",
      "    ##Then output as a block of text and append to cpgml.\n",
      "    submatch=re.match(r'(\\[_*\\])(\\{.*?\\})',box)\n",
      "    print submatch.groups()\n",
      "    highlight=colored(('[%3d]' % part),'red',attrs=['reverse'])\\\n",
      "              +colored(submatch.group(1),'green')\n",
      "    newtext.append(pre+highlight)\n",
      "    part+=1\n",
      "    s0=match.end()\n",
      "           \n",
      "f=open('colortest.txt','w')\n",
      "for block in newtext:\n",
      "    print >>f,block\n",
      "    print >>f,'\\n===================================================================='\n",
      "f.close()"
     ],
     "language": "python",
     "metadata": {},
     "outputs": [
      {
       "output_type": "stream",
       "stream": "stdout",
       "text": [
        "('[______]', '{Set(3,5,7,9)}')\n"
       ]
      }
     ],
     "prompt_number": 19
    },
    {
     "cell_type": "code",
     "collapsed": false,
     "input": [
      "f=open('colortest.txt','wb')\n",
      "block=Table['text'][0][0]\n",
      "lines=block['block']\n",
      "QB=block['question_boxes']\n",
      "for i in range(len(lines)):\n",
      "    line=lines[i]\n",
      "    L=QB['line']  # the lines containing the questions\n",
      "    hits=[j for j in range(len(L)) if L[j]==i]\n",
      "    if len(hits)>0:\n",
      "        # partition the line into alternating 'question'/'not-question' pieces\n",
      "        cline=\"\"; s0=0\n",
      "        for j in hits:\n",
      "            start=QB['start'][j]; end=QB['end'][j]\n",
      "            cline+=line[s0:start]\n",
      "            cline+=colored(line[start:end],'red',attrs=['reverse'])\n",
      "            s0=end\n",
      "        cline+=line[s0:]\n",
      "        line=cline\n",
      "    print >>f,line,\n",
      "f.close()"
     ],
     "language": "python",
     "metadata": {},
     "outputs": [],
     "prompt_number": 9
    },
    {
     "cell_type": "code",
     "collapsed": false,
     "input": [
      "Text=''\n",
      "for line in lines: Text+=line\n",
      "print Text"
     ],
     "language": "python",
     "metadata": {},
     "outputs": [
      {
       "output_type": "stream",
       "stream": "stdout",
       "text": [
        "*(Part 1/3)*\n",
        "\n",
        "##Mathematical Preliminaries##\n",
        "\n",
        "Probability theory is about sets. In the first lesson you encountered\n",
        "the set of possible outcomes of flipping two coins which contains four\n",
        "elements. If we use [`H`] to denote \"Heads\" and [`T`] to denote\n",
        "\"Tails\" then the set of possible outcomes, also known as the \n",
        "_outcome space_ contains four elements: [`\\{(H,H),(H,T),(T,H),(T,T)\\}`]. We say\n",
        "that the outcome space is the set of four _tuples_ . As the\n",
        "concepts of \"set\" and \"tuple\" will be used many times throughout\n",
        "the course, we take some pains to define these concepts and the\n",
        "associated notation, in a somewhat formal mathematical way.\n",
        "\n",
        "#### Sets ####\n",
        "*Sets* are collections of _elements_ . \n",
        "We will mostly consider sets of numbers, but elements can be most anything.\n",
        "\n",
        "A set can be specified by listing its elements between braces, as in\n",
        "\n",
        "o The possible outcomes of the roll of a six sided die: [`A= \\{1,2,3,4,5,6\\}`]\n",
        "o The positive integers: [`\\mathbb{Z}^+= \\{1,2,\\ldots\\}`]\n",
        "o The possible outcomes of the flip of a coin: [`C= \\{ H,T \\}`]\n",
        "\n",
        "We say that [`5`] is an element of [`A`] and denote it by [`5 \\in A`]. Sets\n",
        "are _unordered_ collections, in other words [`\\{1,2,3,4,5,6\\} =\n",
        "\\{5,2,1,3,4,6\\}`]. The number of times an element can appear in a set\n",
        "is either 0 or 1, *an element  cannot appear multiple times \n",
        "in the set*. For that there is a different construct called *bags* which we shall not use in this course.\n",
        "\n",
        "Write the set of odd numbers that are larger than 2 and smaller than 10 ? (Separate the elements using Commas and surround the list with braces as in the examples above.)\n",
        "\n",
        "Answer = [______]{Set(3,5,7,9)}\n",
        "\n",
        "\n"
       ]
      }
     ],
     "prompt_number": 13
    },
    {
     "cell_type": "code",
     "collapsed": false,
     "input": [
      "QB=block['question_boxes']\n",
      "lines=block['block']\n",
      "text=''\n",
      "for line in lines: text += line\n",
      "print text"
     ],
     "language": "python",
     "metadata": {},
     "outputs": [
      {
       "ename": "NameError",
       "evalue": "name 'block' is not defined",
       "output_type": "pyerr",
       "traceback": [
        "\u001b[0;31m---------------------------------------------------------------------------\u001b[0m\n\u001b[0;31mNameError\u001b[0m                                 Traceback (most recent call last)",
        "\u001b[0;32m<ipython-input-7-652851dacfef>\u001b[0m in \u001b[0;36m<module>\u001b[0;34m()\u001b[0m\n\u001b[0;32m----> 1\u001b[0;31m \u001b[0mQB\u001b[0m\u001b[0;34m=\u001b[0m\u001b[0mblock\u001b[0m\u001b[0;34m[\u001b[0m\u001b[0;34m'question_boxes'\u001b[0m\u001b[0;34m]\u001b[0m\u001b[0;34m\u001b[0m\u001b[0m\n\u001b[0m\u001b[1;32m      2\u001b[0m \u001b[0mlines\u001b[0m\u001b[0;34m=\u001b[0m\u001b[0mblock\u001b[0m\u001b[0;34m[\u001b[0m\u001b[0;34m'block'\u001b[0m\u001b[0;34m]\u001b[0m\u001b[0;34m\u001b[0m\u001b[0m\n\u001b[1;32m      3\u001b[0m \u001b[0mtext\u001b[0m\u001b[0;34m=\u001b[0m\u001b[0;34m''\u001b[0m\u001b[0;34m\u001b[0m\u001b[0m\n\u001b[1;32m      4\u001b[0m \u001b[0;32mfor\u001b[0m \u001b[0mline\u001b[0m \u001b[0;32min\u001b[0m \u001b[0mlines\u001b[0m\u001b[0;34m:\u001b[0m \u001b[0mtext\u001b[0m \u001b[0;34m+=\u001b[0m \u001b[0mline\u001b[0m\u001b[0;34m\u001b[0m\u001b[0m\n\u001b[1;32m      5\u001b[0m \u001b[0;32mprint\u001b[0m \u001b[0mtext\u001b[0m\u001b[0;34m\u001b[0m\u001b[0m\n",
        "\u001b[0;31mNameError\u001b[0m: name 'block' is not defined"
       ]
      }
     ],
     "prompt_number": 7
    },
    {
     "cell_type": "code",
     "collapsed": false,
     "input": [
      "import sys\n",
      "from termcolor import colored, cprint\n",
      "text = colored('Hello, World!', 'red', attrs=['reverse', 'blink'])\n",
      "print(text)"
     ],
     "language": "python",
     "metadata": {},
     "outputs": [
      {
       "ename": "ImportError",
       "evalue": "No module named termcolor",
       "output_type": "pyerr",
       "traceback": [
        "\u001b[0;31m---------------------------------------------------------------------------\u001b[0m\n\u001b[0;31mImportError\u001b[0m                               Traceback (most recent call last)",
        "\u001b[0;32m<ipython-input-121-931ea1a3c3da>\u001b[0m in \u001b[0;36m<module>\u001b[0;34m()\u001b[0m\n\u001b[1;32m      1\u001b[0m \u001b[0;32mimport\u001b[0m \u001b[0msys\u001b[0m\u001b[0;34m\u001b[0m\u001b[0m\n\u001b[0;32m----> 2\u001b[0;31m \u001b[0;32mfrom\u001b[0m \u001b[0mtermcolor\u001b[0m \u001b[0;32mimport\u001b[0m \u001b[0mcolored\u001b[0m\u001b[0;34m,\u001b[0m \u001b[0mcprint\u001b[0m\u001b[0;34m\u001b[0m\u001b[0m\n\u001b[0m\u001b[1;32m      3\u001b[0m \u001b[0mtext\u001b[0m \u001b[0;34m=\u001b[0m \u001b[0mcolored\u001b[0m\u001b[0;34m(\u001b[0m\u001b[0;34m'Hello, World!'\u001b[0m\u001b[0;34m,\u001b[0m \u001b[0;34m'red'\u001b[0m\u001b[0;34m,\u001b[0m \u001b[0mattrs\u001b[0m\u001b[0;34m=\u001b[0m\u001b[0;34m[\u001b[0m\u001b[0;34m'reverse'\u001b[0m\u001b[0;34m,\u001b[0m \u001b[0;34m'blink'\u001b[0m\u001b[0;34m]\u001b[0m\u001b[0;34m)\u001b[0m\u001b[0;34m\u001b[0m\u001b[0m\n\u001b[1;32m      4\u001b[0m \u001b[0;32mprint\u001b[0m\u001b[0;34m(\u001b[0m\u001b[0mtext\u001b[0m\u001b[0;34m)\u001b[0m\u001b[0;34m\u001b[0m\u001b[0m\n",
        "\u001b[0;31mImportError\u001b[0m: No module named termcolor"
       ]
      }
     ],
     "prompt_number": 121
    },
    {
     "cell_type": "code",
     "collapsed": false,
     "input": [
      "!pwd"
     ],
     "language": "python",
     "metadata": {},
     "outputs": [
      {
       "output_type": "stream",
       "stream": "stdout",
       "text": [
        "/Users/yoavfreund/projects/Webwork.Improvement.Project/Demo_for_utube/data/course_webwork_data\r\n"
       ]
      }
     ],
     "prompt_number": 18
    },
    {
     "cell_type": "code",
     "collapsed": false,
     "input": [],
     "language": "python",
     "metadata": {},
     "outputs": []
    }
   ],
   "metadata": {}
  }
 ]
}