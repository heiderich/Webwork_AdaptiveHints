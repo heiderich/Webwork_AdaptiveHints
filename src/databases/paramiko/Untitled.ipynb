{
 "cells": [
  {
   "cell_type": "code",
   "execution_count": null,
   "metadata": {
    "collapsed": true
   },
   "outputs": [],
   "source": [
    "# %load forward.py\n",
    "#!/usr/bin/env python\n",
    "\n",
    "# Copyright (C) 2003-2007  Robey Pointer <robeypointer@gmail.com>\n",
    "#\n",
    "# This file is part of paramiko.\n",
    "#\n",
    "# Paramiko is free software; you can redistribute it and/or modify it under the\n",
    "# terms of the GNU Lesser General Public License as published by the Free\n",
    "# Software Foundation; either version 2.1 of the License, or (at your option)\n",
    "# any later version.\n",
    "#\n",
    "# Paramiko is distributed in the hope that it will be useful, but WITHOUT ANY\n",
    "# WARRANTY; without even the implied warranty of MERCHANTABILITY or FITNESS FOR\n",
    "# A PARTICULAR PURPOSE.  See the GNU Lesser General Public License for more\n",
    "# details.\n",
    "#\n",
    "# You should have received a copy of the GNU Lesser General Public License\n",
    "# along with Paramiko; if not, write to the Free Software Foundation, Inc.,\n",
    "# 59 Temple Place, Suite 330, Boston, MA  02111-1307  USA.\n",
    "\n",
    "\"\"\"\n",
    "Sample script showing how to do local port forwarding over paramiko.\n",
    "\n",
    "This script connects to the requested SSH server and sets up local port\n",
    "forwarding (the openssh -L option) from a local port through a tunneled\n",
    "connection to a destination reachable from the SSH server machine.\n",
    "\"\"\"\n",
    "\n",
    "import getpass\n",
    "import os\n",
    "import socket\n",
    "import select\n",
    "try:\n",
    "    import SocketServer\n",
    "except ImportError:\n",
    "    import socketserver as SocketServer\n",
    "\n",
    "import sys\n",
    "from optparse import OptionParser\n",
    "\n",
    "import paramiko\n",
    "\n",
    "SSH_PORT = 22\n",
    "DEFAULT_PORT = 4000\n",
    "\n",
    "g_verbose = True\n",
    "\n",
    "\n",
    "class ForwardServer (SocketServer.ThreadingTCPServer):\n",
    "    daemon_threads = True\n",
    "    allow_reuse_address = True\n",
    "    \n",
    "\n",
    "class Handler (SocketServer.BaseRequestHandler):\n",
    "\n",
    "    def handle(self):\n",
    "        try:\n",
    "            chan = self.ssh_transport.open_channel('direct-tcpip',\n",
    "                                                   (self.chain_host, self.chain_port),\n",
    "                                                   self.request.getpeername())\n",
    "        except Exception as e:\n",
    "            verbose('Incoming request to %s:%d failed: %s' % (self.chain_host,\n",
    "                                                              self.chain_port,\n",
    "                                                              repr(e)))\n",
    "            return\n",
    "        if chan is None:\n",
    "            verbose('Incoming request to %s:%d was rejected by the SSH server.' %\n",
    "                    (self.chain_host, self.chain_port))\n",
    "            return\n",
    "\n",
    "        verbose('Connected!  Tunnel open %r -> %r -> %r' % (self.request.getpeername(),\n",
    "                                                            chan.getpeername(), (self.chain_host, self.chain_port)))\n",
    "        while True:\n",
    "            r, w, x = select.select([self.request, chan], [], [])\n",
    "            if self.request in r:\n",
    "                data = self.request.recv(1024)\n",
    "                if len(data) == 0:\n",
    "                    break\n",
    "                chan.send(data)\n",
    "            if chan in r:\n",
    "                data = chan.recv(1024)\n",
    "                if len(data) == 0:\n",
    "                    break\n",
    "                self.request.send(data)\n",
    "                \n",
    "        peername = self.request.getpeername()\n",
    "        chan.close()\n",
    "        self.request.close()\n",
    "        verbose('Tunnel closed from %r' % (peername,))\n",
    "\n",
    "\n",
    "def forward_tunnel(local_port, remote_host, remote_port, transport):\n",
    "    # this is a little convoluted, but lets me configure things for the Handler\n",
    "    # object.  (SocketServer doesn't give Handlers any way to access the outer\n",
    "    # server normally.)\n",
    "    class SubHander (Handler):\n",
    "        chain_host = remote_host\n",
    "        chain_port = remote_port\n",
    "        ssh_transport = transport\n",
    "    ForwardServer(('', local_port), SubHander).serve_forever()\n",
    "\n",
    "\n",
    "def verbose(s):\n",
    "    if g_verbose:\n",
    "        print(s)\n",
    "\n",
    "\n",
    "HELP = \"\"\"\\\n",
    "Set up a forward tunnel across an SSH server, using paramiko. A local port\n",
    "(given with -p) is forwarded across an SSH session to an address:port from\n",
    "the SSH server. This is similar to the openssh -L option.\n",
    "\"\"\"\n",
    "\n",
    "\n",
    "def get_host_port(spec, default_port):\n",
    "    \"parse 'hostname:22' into a host and port, with the port optional\"\n",
    "    args = (spec.split(':', 1) + [default_port])[:2]\n",
    "    args[1] = int(args[1])\n",
    "    return args[0], args[1]\n",
    "\n",
    "\n",
    "def parse_options():\n",
    "    global g_verbose\n",
    "    \n",
    "    parser = OptionParser(usage='usage: %prog [options] <ssh-server>[:<server-port>]',\n",
    "                          version='%prog 1.0', description=HELP)\n",
    "    parser.add_option('-q', '--quiet', action='store_false', dest='verbose', default=True,\n",
    "                      help='squelch all informational output')\n",
    "    parser.add_option('-p', '--local-port', action='store', type='int', dest='port',\n",
    "                      default=DEFAULT_PORT,\n",
    "                      help='local port to forward (default: %d)' % DEFAULT_PORT)\n",
    "    parser.add_option('-u', '--user', action='store', type='string', dest='user',\n",
    "                      default=getpass.getuser(),\n",
    "                      help='username for SSH authentication (default: %s)' % getpass.getuser())\n",
    "    parser.add_option('-K', '--key', action='store', type='string', dest='keyfile',\n",
    "                      default=None,\n",
    "                      help='private key file to use for SSH authentication')\n",
    "    parser.add_option('', '--no-key', action='store_false', dest='look_for_keys', default=True,\n",
    "                      help='don\\'t look for or use a private key file')\n",
    "    parser.add_option('-P', '--password', action='store_true', dest='readpass', default=False,\n",
    "                      help='read password (for key or password auth) from stdin')\n",
    "    parser.add_option('-r', '--remote', action='store', type='string', dest='remote', default=None, metavar='host:port',\n",
    "                      help='remote host and port to forward to')\n",
    "    options, args = parser.parse_args()\n",
    "\n",
    "    if len(args) != 1:\n",
    "        parser.error('Incorrect number of arguments.')\n",
    "    if options.remote is None:\n",
    "        parser.error('Remote address required (-r).')\n",
    "    \n",
    "    g_verbose = options.verbose\n",
    "    server_host, server_port = get_host_port(args[0], SSH_PORT)\n",
    "    remote_host, remote_port = get_host_port(options.remote, SSH_PORT)\n",
    "    return options, (server_host, server_port), (remote_host, remote_port)\n",
    "\n",
    "\n",
    "def main():\n",
    "    options, server, remote = parse_options()\n",
    "    \n",
    "    password = None\n",
    "    if options.readpass:\n",
    "        password = getpass.getpass('Enter SSH password: ')\n",
    "    \n",
    "    client = paramiko.SSHClient()\n",
    "    client.load_system_host_keys()\n",
    "    client.set_missing_host_key_policy(paramiko.WarningPolicy())\n",
    "\n",
    "    verbose('Connecting to ssh host %s:%d ...' % (server[0], server[1]))\n",
    "    try:\n",
    "        client.connect(server[0], server[1], username=options.user, key_filename=options.keyfile,\n",
    "                       look_for_keys=options.look_for_keys, password=password)\n",
    "    except Exception as e:\n",
    "        print('*** Failed to connect to %s:%d: %r' % (server[0], server[1], e))\n",
    "        sys.exit(1)\n",
    "\n",
    "    verbose('Now forwarding port %d to %s:%d ...' % (options.port, remote[0], remote[1]))\n",
    "\n",
    "    try:\n",
    "        forward_tunnel(options.port, remote[0], remote[1], client.get_transport())\n",
    "    except KeyboardInterrupt:\n",
    "        print('C-c: Port forwarding stopped.')\n",
    "        sys.exit(0)\n",
    "\n",
    "\n",
    "if __name__ == '__main__':\n",
    "    main()\n",
    "\n"
   ]
  },
  {
   "cell_type": "code",
   "execution_count": null,
   "metadata": {
    "collapsed": true
   },
   "outputs": [],
   "source": [
    "sys.path"
   ]
  },
  {
   "cell_type": "code",
   "execution_count": 1,
   "metadata": {
    "collapsed": true
   },
   "outputs": [],
   "source": [
    "import sys"
   ]
  },
  {
   "cell_type": "code",
   "execution_count": 2,
   "metadata": {
    "collapsed": false
   },
   "outputs": [
    {
     "data": {
      "text/plain": [
       "['',\n",
       " '/anaconda/lib/python2.7/site-packages/cssselect-0.9.1-py2.7.egg',\n",
       " '/anaconda/lib/python2.7/site-packages/pyOpenSSL-0.14-py2.7.egg',\n",
       " '/anaconda/lib/python2.7/site-packages/queuelib-1.2.2-py2.7.egg',\n",
       " '/anaconda/lib/python2.7/site-packages/w3lib-1.8.0-py2.7.egg',\n",
       " '/anaconda/lib/python2.7/site-packages/dirbot-1.0-py2.7.egg',\n",
       " '/anaconda/lib/python2.7/site-packages/xhtml2pdf-0.0.6-py2.7.egg',\n",
       " '/anaconda/lib/python2.7/site-packages/reportlab-3.1.8-py2.7-macosx-10.5-x86_64.egg',\n",
       " '/anaconda/lib/python2.7/site-packages/Pillow-2.5.3-py2.7-macosx-10.5-x86_64.egg',\n",
       " '/anaconda/lib/python2.7/site-packages/PyPDF2-1.23-py2.7.egg',\n",
       " '/anaconda/lib/python2.7/site-packages/html5lib-1.0b3-py2.7.egg',\n",
       " '/anaconda/lib/python2.7/site-packages/webkit2png-0.8.2-py2.7.egg',\n",
       " '/Users/yoavfreund/anaconda/lib/python2.7/site-packages/s3cmd-1.5.2-py2.7.egg',\n",
       " '/Users/yoavfreund/anaconda/lib/python2.7/site-packages/python_magic-0.4.6-py2.7.egg',\n",
       " '/anaconda/lib/python2.7/site-packages',\n",
       " '/Users/yoavfreund/python_packages',\n",
       " '/Library/Frameworks/Python.framework/Versions/Current/bin/python',\n",
       " '/Users/yoavfreund/projects/Webwork.Improvement.Project/Demo_for_utube/src',\n",
       " '/opt/local/Library/Frameworks/Python.framework/Versions/2.7/lib/python2.7/site-packages',\n",
       " '/usr/bin/anaconda/lib/python2.7/site-packages',\n",
       " '/anaconda/lib/python2.7/site-packages/PIL',\n",
       " '/anaconda/lib/python2.7/site-packages/runipy-0.1.0-py2.7.egg',\n",
       " '/anaconda/lib/python2.7/site-packages/setuptools-14.3-py2.7.egg',\n",
       " '/usr/bin/anaconda/lib/python2.7/site-packages/PIL',\n",
       " '/usr/bin/anaconda/lib/python2.7/site-packages/setuptools-0.6c11-py2.7.egg-info',\n",
       " '/Users/yoavfreund/anaconda/lib/python27.zip',\n",
       " '/Users/yoavfreund/anaconda/lib/python2.7',\n",
       " '/Users/yoavfreund/anaconda/lib/python2.7/plat-darwin',\n",
       " '/Users/yoavfreund/anaconda/lib/python2.7/plat-mac',\n",
       " '/Users/yoavfreund/anaconda/lib/python2.7/plat-mac/lib-scriptpackages',\n",
       " '/Users/yoavfreund/anaconda/lib/python2.7/lib-tk',\n",
       " '/Users/yoavfreund/anaconda/lib/python2.7/lib-old',\n",
       " '/Users/yoavfreund/anaconda/lib/python2.7/lib-dynload',\n",
       " '/Users/yoavfreund/.local/lib/python2.7/site-packages',\n",
       " '/Users/yoavfreund/anaconda/lib/python2.7/site-packages',\n",
       " '/Users/yoavfreund/anaconda/lib/python2.7/site-packages/PIL',\n",
       " '/Users/yoavfreund/anaconda/lib/python2.7/site-packages/Sphinx-1.2.3-py2.7.egg',\n",
       " '/Users/yoavfreund/anaconda/lib/python2.7/site-packages/setuptools-15.2-py2.7.egg',\n",
       " '/Library/Frameworks/Python.framework/Versions/Current/bin/python',\n",
       " '/Users/yoavfreund/projects/Webwork.Improvement.Project/Demo_for_utube/src',\n",
       " '/opt/local/Library/Frameworks/Python.framework/Versions/2.7/lib/python2.7/site-packages',\n",
       " '/anaconda/lib/python2.7/site-packages/IPython/extensions']"
      ]
     },
     "execution_count": 2,
     "metadata": {},
     "output_type": "execute_result"
    }
   ],
   "source": [
    "sys.path"
   ]
  },
  {
   "cell_type": "code",
   "execution_count": 3,
   "metadata": {
    "collapsed": false
   },
   "outputs": [
    {
     "data": {
      "text/plain": [
       "u'/Users/yoavfreund/projects/Webwork.Improvement.Project/AdaptiveHints/src/databases/paramiko'"
      ]
     },
     "execution_count": 3,
     "metadata": {},
     "output_type": "execute_result"
    }
   ],
   "source": [
    "%pwd"
   ]
  },
  {
   "cell_type": "code",
   "execution_count": 4,
   "metadata": {
    "collapsed": false
   },
   "outputs": [
    {
     "name": "stdout",
     "output_type": "stream",
     "text": [
      "/Users/yoavfreund/projects/Webwork.Improvement.Project/AdaptiveHints\n"
     ]
    }
   ],
   "source": [
    "%cd ../../.."
   ]
  },
  {
   "cell_type": "code",
   "execution_count": 9,
   "metadata": {
    "collapsed": false
   },
   "outputs": [
    {
     "name": "stdout",
     "output_type": "stream",
     "text": [
      "/Users/yoavfreund/projects/Webwork.Improvement.Project/AdaptiveHints/src\n"
     ]
    }
   ],
   "source": [
    "%cd src/"
   ]
  },
  {
   "cell_type": "code",
   "execution_count": 14,
   "metadata": {
    "collapsed": false
   },
   "outputs": [
    {
     "name": "stdout",
     "output_type": "stream",
     "text": [
      "parsetrees\n",
      "parsetrees/expr_parser\n",
      "parsetrees/expr_parser/.ipynb_checkpoints\n",
      "parsetrees/oneoffs\n",
      "parsetrees/oneoffs/session_attempt_times\n",
      "parsetrees/tests\n",
      "parsetrees/zhang_shasha\n",
      "parsetrees/zhang_shasha/zss\n",
      "servers\n",
      "servers/init-scripts\n",
      "servers/nagios-plugins\n",
      "servers/rest_server\n",
      "servers/rest_server/filter\n",
      "servers/rest_server/filter_helpers\n",
      "servers/rest_server/filter_lab\n",
      "servers/rest_server/filter_lab/.ipynb_checkpoints\n",
      "servers/rest_server/filters\n",
      "servers/rest_server/scripts\n",
      "servers/sockjs_server\n"
     ]
    }
   ],
   "source": [
    "from os import walk\n",
    "for dir in ['parsetrees', 'servers']:\n",
    "    for item in walk(dir):\n",
    "        print item[0]\n",
    "        initfile=item[0]+'/__init__.py'\n",
    "        !touch $initfile\n"
   ]
  },
  {
   "cell_type": "code",
   "execution_count": null,
   "metadata": {
    "collapsed": true
   },
   "outputs": [],
   "source": []
  }
 ],
 "metadata": {
  "kernelspec": {
   "display_name": "Python 2",
   "language": "python",
   "name": "python2"
  },
  "language_info": {
   "codemirror_mode": {
    "name": "ipython",
    "version": 2
   },
   "file_extension": ".py",
   "mimetype": "text/x-python",
   "name": "python",
   "nbconvert_exporter": "python",
   "pygments_lexer": "ipython2",
   "version": "2.7.9"
  }
 },
 "nbformat": 4,
 "nbformat_minor": 0
}
