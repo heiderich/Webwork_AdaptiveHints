{
 "metadata": {
  "name": "Process WebWork Logs"
 },
 "nbformat": 3,
 "nbformat_minor": 0,
 "worksheets": [
  {
   "cells": [
    {
     "cell_type": "code",
     "collapsed": false,
     "input": [
      "root_dir='/Users/yoavfreund/projects/Webwork.Improvement.Project/Demo_for_utube'\n",
      "log_dir=root_dir+'/data/cse103_original_data/WebWork/logs'"
     ],
     "language": "python",
     "metadata": {},
     "outputs": [],
     "prompt_number": 20
    },
    {
     "cell_type": "code",
     "collapsed": false,
     "input": [
      "%cd $log_dir\n",
      "#import glob\n",
      "#for filename in glob.glob('*'):\n",
      "#    if filename.find('.txt')==-1:\n",
      "#        newname=filename+'.txt'\n",
      "#        !mv $filename $newname\n",
      "!head log.txt"
     ],
     "language": "python",
     "metadata": {},
     "outputs": [
      {
       "output_type": "stream",
       "stream": "stdout",
       "text": [
        "/Users/yoavfreund/projects/Webwork.Improvement.Project/Demo_for_utube/data/cse103_original_data/WebWork/logs\n"
       ]
      },
      {
       "output_type": "stream",
       "stream": "stdout",
       "text": [
        "[Mon Oct 01 13:27:18 2012] |minesasecret|Assignment2|5|111\t1349112438\t8\t10\t17!/(9!8!)\t\r\n",
        "[Mon Oct 01 19:14:15 2012] |dasyu|Assignment2|5|110\t1349133255\t5\t10\t10!/(5!*5!)\t\r\n",
        "[Mon Oct 01 19:16:17 2012] |dasyu|Assignment2|5|110\t1349133377\t5\t10\t10!/(5!(10-5)!)\t\r\n",
        "[Mon Oct 01 19:20:21 2012] |jtotman|Assignment2|5|110\t1349133621\t10\t12\t12!/10!2!\t\r\n",
        "[Mon Oct 01 19:20:32 2012] |jtotman|Assignment2|5|110\t1349133632\t10\t12\t12!/(10!2!)\t\r\n",
        "[Mon Oct 01 19:22:55 2012] |dasyu|Assignment2|5|110\t1349133775\t5\t10\t10!/(5!)\t\r\n",
        "[Mon Oct 01 19:24:43 2012] |jtotman|Assignment2|5|110\t1349133883\t10\t12\t12!/(10*2!)\t\r\n",
        "[Mon Oct 01 19:24:53 2012] |jtotman|Assignment2|5|110\t1349133893\t10\t12\t12!/(10!*2)\t\r\n",
        "[Mon Oct 01 19:26:25 2012] |jtotman|Assignment2|5|110\t1349133985\t10\t12\t12!/(10!*2!)\t\r\n",
        "[Mon Oct 01 19:27:09 2012] |jtotman|Assignment2|5|110\t1349134029\t10\t12\t11!/(10!*2!)\t\r\n"
       ]
      }
     ],
     "prompt_number": 24
    },
    {
     "cell_type": "code",
     "collapsed": false,
     "input": [
      "import pandas, glob, sys\n",
      "from string import strip\n",
      "\n",
      "DataFrame=pandas.DataFrame()\n",
      "Table={'string_time':[],'user':[],'Assignment':[],'problem_no':[],'correctness':[],'time':[],'answers':[]}\n",
      "filenames=glob.glob('*.txt')\n",
      "for filename in filenames:\n",
      "    lines=0\n",
      "    bad_lines=0\n",
      "    file=open(filename,'r')\n",
      "    for line in file.readlines():\n",
      "        lines +=1\n",
      "        try:\n",
      "            line_parts= line.split('|',4)\n",
      "            answer_parts =line_parts[4].split('\\t')\n",
      "            line_parts=[strip(p) for p in line_parts]\n",
      "            if len(line_parts)<5 or len(answer_parts)<3:\n",
      "                print 'bad line:',line\n",
      "                raise Exception('missing elements in line')\n",
      "            answer_parts=[strip(p) for p in answer_parts]\n",
      "            # convert the elements that need to formatted\n",
      "            line_parts[3]=int(line_parts[3])     # problem_no\n",
      "            correctness=answer_parts[0]\n",
      "            answer_parts[1]=int(answer_parts[1]) # time\n",
      "            answers=tuple([strip(a) for a in answer_parts[2:]])\n",
      "            # everything looks ok, add to table each part to the table\n",
      "            Table['string_time'].append(line_parts[0])\n",
      "            Table['user'].append(line_parts[1])\n",
      "            Table['Assignment'].append(line_parts[2])\n",
      "            Table['problem_no'].append(line_parts[3])\n",
      "            Table['correctness'].append(correctness)\n",
      "            Table['time'].append(answer_parts[1])\n",
      "            Table['answers'].append(answers)\n",
      "        except Exception:\n",
      "            bad_lines +=1\n",
      "            sys.stdout.write('bad line:'+line)\n",
      "            \n",
      "    tmp=pandas.DataFrame(Table)\n",
      "    DataFrame=DataFrame.append(tmp)\n",
      "    print '%s: read %d lines, out of which %d were bad' % (filename,lines,bad_lines)"
     ],
     "language": "python",
     "metadata": {},
     "outputs": [
      {
       "output_type": "stream",
       "stream": "stdout",
       "text": [
        "answer_log.2.1.txt: read 5724 lines, out of which 0 were bad\n",
        "answer_log.2.2.txt: read 7124 lines, out of which 0 were bad"
       ]
      },
      {
       "output_type": "stream",
       "stream": "stdout",
       "text": [
        "\n",
        "answer_log13.txt: read 3563 lines, out of which 0 were bad"
       ]
      },
      {
       "output_type": "stream",
       "stream": "stdout",
       "text": [
        "\n",
        "bad line:\t\n"
       ]
      },
      {
       "output_type": "stream",
       "stream": "stdout",
       "text": [
        "answer_log14.txt: read 28536 lines, out of which 1 were bad\n",
        "bad line:\t\n"
       ]
      },
      {
       "output_type": "stream",
       "stream": "stdout",
       "text": [
        "answer_log15.txt: read 29150 lines, out of which 1 were bad\n",
        "bad line:\n"
       ]
      },
      {
       "output_type": "stream",
       "stream": "stdout",
       "text": [
        "bad line:\n",
        "answer_log_assignment1_2.txt: read 9199 lines, out of which 2 were bad"
       ]
      },
      {
       "output_type": "stream",
       "stream": "stdout",
       "text": [
        "\n",
        "answer_log_assignment3.txt: read 10268 lines, out of which 0 were bad"
       ]
      },
      {
       "output_type": "stream",
       "stream": "stdout",
       "text": [
        "\n",
        "bad line:\t\n"
       ]
      },
      {
       "output_type": "stream",
       "stream": "stdout",
       "text": [
        "answer_log_assignment5.txt: read 11661 lines, out of which 1 were bad\n",
        "bad line:\t\n"
       ]
      },
      {
       "output_type": "stream",
       "stream": "stdout",
       "text": [
        "answer_log_assignment6.txt: read 20723 lines, out of which 1 were bad\n",
        "bad line:\t\n"
       ]
      },
      {
       "output_type": "stream",
       "stream": "stdout",
       "text": [
        "answer_log_assignment7.txt: read 24921 lines, out of which 1 were bad\n",
        "bad line:\t\n"
       ]
      },
      {
       "output_type": "stream",
       "stream": "stdout",
       "text": [
        "answer_log_assignment8.txt: read 27599 lines, out of which 1 were bad\n",
        "jwho14.txt: read 115 lines, out of which 0 were bad"
       ]
      },
      {
       "output_type": "stream",
       "stream": "stdout",
       "text": [
        "\n",
        "log.txt: read 633 lines, out of which 0 were bad"
       ]
      },
      {
       "output_type": "stream",
       "stream": "stdout",
       "text": [
        "\n",
        "log2.txt: read 633 lines, out of which 0 were bad"
       ]
      },
      {
       "output_type": "stream",
       "stream": "stdout",
       "text": [
        "\n"
       ]
      }
     ],
     "prompt_number": 75
    },
    {
     "cell_type": "code",
     "collapsed": false,
     "input": [
      "# drop duplicates\n",
      "DataFrame=DataFrame.sort(['time'])\n",
      "DedupFrame=DataFrame.drop_duplicates(cols=['string_time','user'])\n",
      "DedupFrame"
     ],
     "language": "python",
     "metadata": {},
     "outputs": [
      {
       "html": [
        "<pre>\n",
        "&ltclass 'pandas.core.frame.DataFrame'&gt\n",
        "Int64Index: 46170 entries, 0 to 74094\n",
        "Data columns (total 7 columns):\n",
        "Assignment     46170  non-null values\n",
        "answers        46170  non-null values\n",
        "correctness    46170  non-null values\n",
        "problem_no     46170  non-null values\n",
        "string_time    46170  non-null values\n",
        "time           46170  non-null values\n",
        "user           46170  non-null values\n",
        "dtypes: int64(2), object(5)\n",
        "</pre>"
       ],
       "output_type": "pyout",
       "prompt_number": 76,
       "text": [
        "<class 'pandas.core.frame.DataFrame'>\n",
        "Int64Index: 46170 entries, 0 to 74094\n",
        "Data columns (total 7 columns):\n",
        "Assignment     46170  non-null values\n",
        "answers        46170  non-null values\n",
        "correctness    46170  non-null values\n",
        "problem_no     46170  non-null values\n",
        "string_time    46170  non-null values\n",
        "time           46170  non-null values\n",
        "user           46170  non-null values\n",
        "dtypes: int64(2), object(5)"
       ]
      }
     ],
     "prompt_number": 76
    },
    {
     "cell_type": "markdown",
     "metadata": {},
     "source": [
      "Subtracting off the time of the 200'th entry, which corresponds to the start of the quarter."
     ]
    },
    {
     "cell_type": "code",
     "collapsed": false,
     "input": [
      "start=200\n",
      "DedupFrame.ix[:,'time'] -= DedupFrame.ix[start,'time']\n",
      "plot(DedupFrame.ix[start:,'time'])"
     ],
     "language": "python",
     "metadata": {},
     "outputs": [
      {
       "output_type": "pyout",
       "prompt_number": 77,
       "text": [
        "[<matplotlib.lines.Line2D at 0x10738b950>]"
       ]
      },
      {
       "output_type": "display_data",
       "png": "[encoded data removed]"
      }
     ],
     "prompt_number": 77
    },
    {
     "cell_type": "code",
     "collapsed": false,
     "input": [
      "DedupFrame.ix[198:202,['string_time','time']]"
     ],
     "language": "python",
     "metadata": {},
     "outputs": [
      {
       "html": [
        "<div style=\"max-height:1000px;max-width:1500px;overflow:auto;\">\n",
        "<table border=\"1\" class=\"dataframe\">\n",
        "  <thead>\n",
        "    <tr style=\"text-align: right;\">\n",
        "      <th></th>\n",
        "      <th>string_time</th>\n",
        "      <th>time</th>\n",
        "    </tr>\n",
        "  </thead>\n",
        "  <tbody>\n",
        "    <tr>\n",
        "      <th>198</th>\n",
        "      <td> [Fri Sep 28 19:15:24 2012]</td>\n",
        "      <td>-55</td>\n",
        "    </tr>\n",
        "    <tr>\n",
        "      <th>199</th>\n",
        "      <td> [Fri Sep 28 19:16:00 2012]</td>\n",
        "      <td>-19</td>\n",
        "    </tr>\n",
        "    <tr>\n",
        "      <th>200</th>\n",
        "      <td> [Fri Sep 28 19:16:19 2012]</td>\n",
        "      <td>  0</td>\n",
        "    </tr>\n",
        "    <tr>\n",
        "      <th>201</th>\n",
        "      <td> [Fri Sep 28 19:16:34 2012]</td>\n",
        "      <td> 15</td>\n",
        "    </tr>\n",
        "    <tr>\n",
        "      <th>202</th>\n",
        "      <td> [Fri Sep 28 19:16:49 2012]</td>\n",
        "      <td> 30</td>\n",
        "    </tr>\n",
        "  </tbody>\n",
        "</table>\n",
        "</div>"
       ],
       "output_type": "pyout",
       "prompt_number": 78,
       "text": [
        "                    string_time  time\n",
        "198  [Fri Sep 28 19:15:24 2012]   -55\n",
        "199  [Fri Sep 28 19:16:00 2012]   -19\n",
        "200  [Fri Sep 28 19:16:19 2012]     0\n",
        "201  [Fri Sep 28 19:16:34 2012]    15\n",
        "202  [Fri Sep 28 19:16:49 2012]    30"
       ]
      }
     ],
     "prompt_number": 78
    },
    {
     "cell_type": "code",
     "collapsed": false,
     "input": [
      "DedupFrame"
     ],
     "language": "python",
     "metadata": {},
     "outputs": [
      {
       "html": [
        "<pre>\n",
        "&ltclass 'pandas.core.frame.DataFrame'&gt\n",
        "Int64Index: 46170 entries, 0 to 74094\n",
        "Data columns (total 7 columns):\n",
        "Assignment     46170  non-null values\n",
        "answers        46170  non-null values\n",
        "correctness    46170  non-null values\n",
        "problem_no     46170  non-null values\n",
        "string_time    46170  non-null values\n",
        "time           46170  non-null values\n",
        "user           46170  non-null values\n",
        "dtypes: float64(1), int64(1), object(5)\n",
        "</pre>"
       ],
       "output_type": "pyout",
       "prompt_number": 79,
       "text": [
        "<class 'pandas.core.frame.DataFrame'>\n",
        "Int64Index: 46170 entries, 0 to 74094\n",
        "Data columns (total 7 columns):\n",
        "Assignment     46170  non-null values\n",
        "answers        46170  non-null values\n",
        "correctness    46170  non-null values\n",
        "problem_no     46170  non-null values\n",
        "string_time    46170  non-null values\n",
        "time           46170  non-null values\n",
        "user           46170  non-null values\n",
        "dtypes: float64(1), int64(1), object(5)"
       ]
      }
     ],
     "prompt_number": 79
    },
    {
     "cell_type": "markdown",
     "metadata": {},
     "source": [
      "During the quarter there was one entry every 35 seconds on average.\n",
      "\n",
      "Now we break up the logs into users and sessions."
     ]
    },
    {
     "cell_type": "code",
     "collapsed": false,
     "input": [
      "G=dict(list(DedupFrame.groupby(['user','Assignment'])))"
     ],
     "language": "python",
     "metadata": {},
     "outputs": [],
     "prompt_number": 80
    },
    {
     "cell_type": "markdown",
     "metadata": {},
     "source": [
      "#problem in logs\n",
      "There seems to be a problem in the logs for agsolomo,Assignment3. As you can see below, the \"correct\" bit changes without the answer changing, and does not change while the answer changes. Maybe this is because of an unfortunate \n",
      "mangling of the log files themselves?\n",
      "\n",
      "Problem corrected: the bug was that I removed empty answers, which messed up the numbering."
     ]
    },
    {
     "cell_type": "code",
     "collapsed": false,
     "input": [
      "Ga=G[('agsolomo','Assignment3')]\n",
      "problem_no=Ga['problem_no'].values\n",
      "[i for i in range(len(Ga.index)) if problem_no[i]==1]\n",
      "answers=list(Ga[['correctness','answers','string_time']].values)\n",
      "for i in range(47,54):\n",
      "    C,A,time=answers[i]\n",
      "    print i,len(C),len(A),time, C[44],A[44]"
     ],
     "language": "python",
     "metadata": {},
     "outputs": [
      {
       "output_type": "stream",
       "stream": "stdout",
       "text": [
        "47 49 50 [Fri Oct 05 15:04:47 2012] 0 52 / (52!/(47!*5!))\n",
        "48 49 50 [Fri Oct 05 15:05:18 2012] 0 52 / (52!/(47!*5!))\n",
        "49 49 50 [Fri Oct 05 15:09:04 2012] 1 40 / (52!/(47!*5!))\n",
        "50 49 50 [Fri Oct 05 15:11:36 2012] 1 40 / (52!/(47!*5!))\n",
        "51 49 50 [Fri Oct 05 15:13:27 2012] 1 40 / (52!/(47!*5!))\n",
        "52 49 50 [Fri Oct 05 15:16:13 2012] 1 40 / (52!/(47!*5!))\n",
        "53 49 50 [Fri Oct 05 15:17:02 2012] 1 40 / (52!/(47!*5!))\n"
       ]
      }
     ],
     "prompt_number": 82
    },
    {
     "cell_type": "code",
     "collapsed": false,
     "input": [
      "lines= !grep agsolomo *.txt | grep Assignment3 | grep 'Fri Oct 05 15'\n",
      "lines[0]"
     ],
     "language": "python",
     "metadata": {},
     "outputs": [
      {
       "output_type": "pyout",
       "prompt_number": 87,
       "text": [
        "'answer_log_assignment3.txt:[Fri Oct 05 15:01:20 2012] |agsolomo|Assignment3|1|1111111111111111111100010000011111111111110001111\\t1349463680\\t(52!/(47!*5!))\\t13\\t(4!/(2!*2!))\\t(12!/(3!*9!))\\t(4!/(3!*1!)) * (4!/(3!*1!)) * (4!/(3!*1!))\\t(13!/(12!*1!)) * (4!/(2!*2!)) * (12!/(9!*3!)) * (4!/(3!*1!)) * (4!/(3!*1!)) * (4!/(3!*1!))\\t((13!/(12!*1!)) * (4!/(2!*2!)) * (12!/(9!*3!)) * (4!/(3!*1!)) * (4!/(3!*1!)) * (4!/(3!*1!)))/ (52!/(47!*5!))\\t(13!/(11!*2!))\\t11\\t(4!/(2!*2!)) * (4!/(2!*2!))\\t(4!/(3!*1))\\t(13!/(11!*2!!)) * (4!/(2!*2!)) * (4!/(2!*2!)) * (11!/(10!*1!)) * (4!/(3!*1!))\\t((13!/(11!*2!!)) * (4!/(2!*2!)) * (4!/(2!*2!)) * (11!/(10!*1!)) * (4!/(3!*1!))) / (52!/(47!*5!))\\t13\\t(12!/(10!*2!))\\t4\\t(4!/(3!*1!)) * (4!/(3!*1!)) \\t((13!/(12!*1!)) *(4!/(3!*1!))) * ((12!/(10!*2!)) * (4!/(3!*1!)) * (4!/(3!*1!)))\\t(((13!/(12!*1!)) *(4!/(3!*1!))) * ((12!/(10!*2!)) * (4!/(3!*1!)) * (4!/(3!*1!))))/(52!/(47!*5!))\\t10\\t\\t\\t\\t4\\t13\\t\\t\\t\\t\\t13\\t12\\t4\\t(4!/(2!*2!))\\t(13!/(12!*1!)) * 4 * (12!/(11!*1!)) * (4!/(2!*2!))\\t((13!/(12!*1!)) * 4 * (12!/(11!*1!)) * (4!/(2!*2!))) / (52!/(47!*5!))\\t13\\t12\\t1\\t4!/(3!*1)\\t(13!/(12!*1!)) * 1 * (12!/(11!*1)) * (4!/(3!*1!))\\t((13!/(12!*1!)) * 1 * (12!/(11!*1)) * (4!/(3!*1!)))/ (52!/(47!*5!))\\t4\\t13\\t52\\t52 / (52!/(47!*5!))\\t4\\t1\\t4\\t4/ (52!/(47!*5!))\\t'"
       ]
      }
     ],
     "prompt_number": 87
    },
    {
     "cell_type": "code",
     "collapsed": false,
     "input": [],
     "language": "python",
     "metadata": {},
     "outputs": [],
     "prompt_number": 87
    },
    {
     "cell_type": "code",
     "collapsed": false,
     "input": [
      "i=0\n",
      "l=len(lines)\n",
      "string_time=[0]*l; Answers=[0]*l; correctness=[0]*l\n",
      "for line in lines:\n",
      "    string_time[i],user,assignment,no,Answer=line.split('|')\n",
      "    SplitAnswer=Answer.split('\\t')\n",
      "    correctness[i]=SplitAnswer[0]\n",
      "    Answers[i]=SplitAnswer[1:]\n",
      "    print i,string_time[i],correctness[i][44],Answers[i][44]\n",
      "    i+=1\n"
     ],
     "language": "python",
     "metadata": {},
     "outputs": [
      {
       "output_type": "stream",
       "stream": "stdout",
       "text": [
        "0 answer_log_assignment3.txt:[Fri Oct 05 15:01:20 2012]  0 52\n",
        "1 answer_log_assignment3.txt:[Fri Oct 05 15:03:42 2012]  0 52\n",
        "2 answer_log_assignment3.txt:[Fri Oct 05 15:04:47 2012]  0 52\n",
        "3 answer_log_assignment3.txt:[Fri Oct 05 15:05:18 2012]  0 52\n",
        "4 answer_log_assignment3.txt:[Fri Oct 05 15:09:04 2012]  1 40\n",
        "5 answer_log_assignment3.txt:[Fri Oct 05 15:11:36 2012]  1 40\n",
        "6 answer_log_assignment3.txt:[Fri Oct 05 15:13:27 2012]  1 40\n",
        "7 answer_log_assignment3.txt:[Fri Oct 05 15:16:13 2012]  1 40\n",
        "8 answer_log_assignment3.txt:[Fri Oct 05 15:17:02 2012]  1 40\n"
       ]
      }
     ],
     "prompt_number": 88
    },
    {
     "cell_type": "code",
     "collapsed": false,
     "input": [
      "count=0\n",
      "replicated=['Assignment','problem_no','string_time','time','user']\n",
      "new=['correct','answer','part_no']\n",
      "all_vars=replicated+new\n",
      "CE={}\n",
      "for v in all_vars: CE[v]=[]\n",
      "    \n",
      "for (Index,row) in DedupFrame.iterrows():\n",
      "    template=dict(row[replicated])\n",
      "    answers=row['answers']\n",
      "    correctness=row['correctness']\n",
      "    no_of_parts=min(len(answers),len(correctness))\n",
      "    # create, in E, a row for each of the question parts.\n",
      "    E={'correct':[0]*no_of_parts,\\\n",
      "       'answer':[0]*no_of_parts,\\\n",
      "       'part_no':range(1,no_of_parts+1)\\\n",
      "       }\n",
      "    for k in template.keys():\n",
      "        E[k]=[template[k]]*no_of_parts\n",
      "    for i in range(no_of_parts):\n",
      "        E['correct'][i]=correctness[i]\n",
      "        E['answer'][i]=answers[i]\n",
      "    for v in all_vars:\n",
      "        CE[v]+=E[v]\n",
      "    count+=1\n",
      "    if count % 10000==0: print count,len(CE['user'])\n",
      "ExpandedFrame=pandas.DataFrame(CE)\n",
      "ExpandedFrame"
     ],
     "language": "python",
     "metadata": {},
     "outputs": [
      {
       "output_type": "stream",
       "stream": "stdout",
       "text": [
        "10000 62998\n",
        "20000"
       ]
      },
      {
       "output_type": "stream",
       "stream": "stdout",
       "text": [
        " 321260\n",
        "30000"
       ]
      },
      {
       "output_type": "stream",
       "stream": "stdout",
       "text": [
        " 381483\n",
        "40000"
       ]
      },
      {
       "output_type": "stream",
       "stream": "stdout",
       "text": [
        " 424441\n"
       ]
      },
      {
       "html": [
        "<pre>\n",
        "&ltclass 'pandas.core.frame.DataFrame'&gt\n",
        "Int64Index: 458417 entries, 0 to 458416\n",
        "Data columns (total 8 columns):\n",
        "Assignment     458417  non-null values\n",
        "answer         458417  non-null values\n",
        "correct        458417  non-null values\n",
        "part_no        458417  non-null values\n",
        "problem_no     458417  non-null values\n",
        "string_time    458417  non-null values\n",
        "time           458417  non-null values\n",
        "user           458417  non-null values\n",
        "dtypes: float64(1), int64(2), object(5)\n",
        "</pre>"
       ],
       "output_type": "pyout",
       "prompt_number": 89,
       "text": [
        "<class 'pandas.core.frame.DataFrame'>\n",
        "Int64Index: 458417 entries, 0 to 458416\n",
        "Data columns (total 8 columns):\n",
        "Assignment     458417  non-null values\n",
        "answer         458417  non-null values\n",
        "correct        458417  non-null values\n",
        "part_no        458417  non-null values\n",
        "problem_no     458417  non-null values\n",
        "string_time    458417  non-null values\n",
        "time           458417  non-null values\n",
        "user           458417  non-null values\n",
        "dtypes: float64(1), int64(2), object(5)"
       ]
      }
     ],
     "prompt_number": 89
    },
    {
     "cell_type": "code",
     "collapsed": false,
     "input": [
      "print ExpandedFrame.head(10)"
     ],
     "language": "python",
     "metadata": {},
     "outputs": [
      {
       "output_type": "stream",
       "stream": "stdout",
       "text": [
        "             Assignment   answer correct  part_no  problem_no  \\\n",
        "0  Discrete_Probability     365!       0        1          56   \n",
        "1  Discrete_Probability     0.96       1        1          56   \n",
        "2  Discrete_Probability   1-0.04       1        1          56   \n",
        "3  Discrete_Probability  170/243       1        1          54   \n",
        "4  Discrete_Probability                0        2          54   \n",
        "5  Discrete_Probability                0        3          54   \n",
        "6  Discrete_Probability                0        4          54   \n",
        "7  Discrete_Probability                0        5          54   \n",
        "8  Discrete_Probability                0        6          54   \n",
        "9  Discrete_Probability  170/243       1        1          54   \n",
        "\n",
        "                  string_time     time     user  \n",
        "0  [Mon Jul 23 00:14:31 2012] -5857308  yfreund  \n",
        "1  [Mon Jul 23 00:23:32 2012] -5856767  yfreund  \n",
        "2  [Mon Jul 23 00:23:51 2012] -5856748  yfreund  \n",
        "3  [Mon Jul 23 00:25:16 2012] -5856663  yfreund  \n",
        "4  [Mon Jul 23 00:25:16 2012] -5856663  yfreund  \n",
        "5  [Mon Jul 23 00:25:16 2012] -5856663  yfreund  \n",
        "6  [Mon Jul 23 00:25:16 2012] -5856663  yfreund  \n",
        "7  [Mon Jul 23 00:25:16 2012] -5856663  yfreund  \n",
        "8  [Mon Jul 23 00:25:16 2012] -5856663  yfreund  \n",
        "9  [Mon Jul 23 00:27:13 2012] -5856546  yfreund  \n"
       ]
      }
     ],
     "prompt_number": 90
    },
    {
     "cell_type": "code",
     "collapsed": false,
     "input": [
      "G=dict(list(ExpandedFrame.groupby(['user','Assignment'])))"
     ],
     "language": "python",
     "metadata": {},
     "outputs": [],
     "prompt_number": 91
    },
    {
     "cell_type": "code",
     "collapsed": false,
     "input": [
      "import pandas\n",
      "import pickle\n",
      "print \"finding the problems and parts in each assignment\"\n",
      "ALL=pandas.DataFrame()\n",
      "for g in G.keys():\n",
      "    block=G[g]\n",
      "    Q=block[['Assignment','problem_no','part_no']]\n",
      "    ALL=ALL.append(Q)\n",
      "ALL=ALL.drop_duplicates()\n",
      "ALL=ALL.sort(['Assignment','problem_no','part_no'])\n",
      "Indexes=ALL.groupby(ALL['Assignment'])\n",
      "\n",
      "print \"creating a dictionary that maps from ['Assignment','problem_no','part_no'] to counter\"\n",
      "D=dict(list(Indexes))\n",
      "C_dict={}   # A mapping from assignment,problem_no,part_no to counter\n",
      "for k in D.keys():\n",
      "    l=len(D[k])\n",
      "    D[k]['counter']=range(1,l+1)\n",
      "    List=D[k][['Assignment','problem_no','part_no','counter']].values\n",
      "    for (Assignment,problem_no,part_no,counter) in List:\n",
      "        key='%s,%d,%d' % (Assignment,problem_no,part_no)\n",
      "        C_dict[key]=counter\n",
      "\n",
      "pickle.dump(C_dict,open('C_dict.pkl','wb'))\n",
      "\n",
      "print \"Define a new column called 'counter' \"\n",
      "def map2counter(r):\n",
      "    key='%s,%d,%d' % tuple(r[['Assignment','problem_no','part_no']].values)\n",
      "    return C_dict[key]\n",
      "for g in G.keys():\n",
      "    G[g]['counter']=G[g].apply(map2counter,1)\n",
      "\n",
      "pickle.dump(G,open('ProcessedEntries.pkl','wb'))"
     ],
     "language": "python",
     "metadata": {},
     "outputs": [
      {
       "output_type": "stream",
       "stream": "stdout",
       "text": [
        "finding the problems and parts in each assignment\n",
        "creating a dictionary that maps from ['Assignment','problem_no','part_no'] to counter"
       ]
      },
      {
       "output_type": "stream",
       "stream": "stdout",
       "text": [
        "\n",
        "Define a new column called 'counter' "
       ]
      },
      {
       "output_type": "stream",
       "stream": "stdout",
       "text": [
        "\n"
       ]
      }
     ],
     "prompt_number": 94
    },
    {
     "cell_type": "code",
     "collapsed": false,
     "input": [],
     "language": "python",
     "metadata": {},
     "outputs": []
    }
   ],
   "metadata": {}
  }
 ]
}