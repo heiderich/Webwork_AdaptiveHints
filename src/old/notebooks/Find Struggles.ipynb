{
 "metadata": {
  "name": "Find Struggles"
 },
 "nbformat": 3,
 "nbformat_minor": 0,
 "worksheets": [
  {
   "cells": [
    {
     "cell_type": "code",
     "collapsed": false,
     "input": [
      "import os,pickle\n",
      "pickle_dir=os.environ['WWAH_PICKLE']\n",
      "\n",
      "BT = pickle.load(open(pickle_dir+'/BehavioralStatistics.pkl','rb'))\n",
      "B=BT['BehaviourStatistics']\n",
      "\n",
      "TT=pickle.load(open(pickle_dir+'/problemTexts.pkl','rb'))\n",
      "Texts=TT['ProblemTexts']\n",
      "\n",
      "LT=pickle.load(open(pickle_dir+'/ProcessedLogs.pkl','rb'))\n",
      "G=LT['GroupedDataFrame']\n",
      "g=G[('xiz080', 'Assignment4')]\n",
      "\n",
      "mean_times=B['time'].groupby([B['assignment'],B['part']]).mean()\n",
      "mean_tries=B['tries'].groupby([B['assignment'],B['part']]).mean()\n",
      "print mean_times[mean_times>10]"
     ],
     "language": "python",
     "metadata": {},
     "outputs": [],
     "prompt_number": 95
    },
    {
     "cell_type": "markdown",
     "metadata": {},
     "source": [
      "## Clearly Assignment5, part13 was one of the hardest problems in the quarter.\n",
      "\n",
      "We now want to find the text for this problem and examples of students that struggled with it"
     ]
    },
    {
     "cell_type": "code",
     "collapsed": false,
     "input": [
      "assignment='Assignment5'\n",
      "student='jmc001'\n",
      "problem=2\n",
      "part=7"
     ],
     "language": "python",
     "metadata": {},
     "outputs": [],
     "prompt_number": 210
    },
    {
     "cell_type": "code",
     "collapsed": false,
     "input": [
      "def extract_history(assignment='Assignment5', problem=2, part=7, student='jmc001'):\n",
      "    frame=G[(student,assignment)]\n",
      "\n",
      "    frame=frame[frame['problem_no']==problem]\n",
      "    frame=frame[frame['part_no']<=part]\n",
      "    frame=frame[frame['answer_state']=='!=']\n",
      "    frame=frame.sort(columns=['part_no','time'])\n",
      "    frame['time']=(frame['time']-frame['time'].values[0])/60.0\n",
      "    triplets=frame[['part_no','time','correct','answer']]\n",
      "    if len(triplets)==0:\n",
      "        return None\n",
      "    else:\n",
      "        return triplets\n",
      "    \n",
      "T=extract_history()\n",
      "parts=T.groupby('part_no')\n",
      "l=len(parts)"
     ],
     "language": "python",
     "metadata": {},
     "outputs": [],
     "prompt_number": 276
    },
    {
     "cell_type": "code",
     "collapsed": false,
     "input": [
      "i=0\n",
      "summary=[]   # text representing answer attempts\n",
      "attempts=[]  # number of attempts for this part\n",
      "time_length=[]  # length of time spent on this part\n",
      "SorF=['failure','sucess']\n",
      "final_correct=[] # indicates if the final attempt is correct\n",
      "for g in parts:\n",
      "    att_no=len(g[1])\n",
      "    attempts.append(att_no)\n",
      "    gt=g[1]['time'].values\n",
      "    time_length.append(gt[-1]-gt[0])\n",
      "    fin=SorF[int(g[1]['correct'].values[-1])]\n",
      "    final_correct.append(fin)\n",
      "    a_i=0; text='** All but last attempt\\n'\n",
      "    for row in g[1].iterrows():\n",
      "        line=(' %2d:'%a_i)+('\\t%3d\\t%4.1f\\t%s\\t%s' % tuple(row[1].values)+'\\n')\n",
      "        if  a_i==att_no-1:\n",
      "            line ='** '+line\n",
      "        text+=line\n",
      "        a_i+=1\n",
      "    summary.append(text)\n",
      "    i+=1\n",
      "for s in summary:\n",
      "    print s\n"
     ],
     "language": "python",
     "metadata": {},
     "outputs": [
      {
       "output_type": "stream",
       "stream": "stdout",
       "text": [
        "** All but last attempt\n",
        "  0:\t  1\t 0.0\t0\t1-(1/n)\n",
        "  1:\t  1\t 0.1\t0\tn-1\n",
        "  2:\t  1\t 0.2\t1\t1\n",
        "  3:\t  1\t 0.3\t0\tn\n",
        "  4:\t  1\t 1.1\t0\t0\n",
        "  5:\t  1\t 2.9\t0\t100\n",
        "  6:\t  1\t11.2\t0\tn-1\n",
        "  7:\t  1\t11.3\t1\t1\n",
        "  8:\t  1\t15.3\t0\tn-1\n",
        "**   9:\t  1\t15.4\t1\t1\n",
        "\n",
        "** All but last attempt\n",
        "  0:\t  2\t 9.0\t0\tm-1\n",
        "  1:\t  2\t 9.9\t0\tn-1/m\n",
        "  2:\t  2\t10.5\t0\t1-(2/n)\n",
        "  3:\t  2\t22.1\t0\tn-1\n",
        "**   4:\t  2\t22.9\t1\t1-(1/n)\n",
        "\n",
        "** All but last attempt\n",
        "  0:\t  3\t27.9\t0\t1-(1/n)\n",
        "  1:\t  3\t28.1\t0\t1-(3/n)\n",
        "**   2:\t  3\t28.1\t1\t1-(2/n)\n",
        "\n",
        "** All but last attempt\n",
        "  0:\t  4\t34.8\t0\t1-(n-1/n)\n",
        "  1:\t  4\t34.9\t0\t1-((n-1)/n)\n",
        "  2:\t  4\t38.0\t0\tn!\n",
        "  3:\t  4\t38.7\t0\t1/n\n",
        "  4:\t  4\t44.1\t0\t1-n!\n",
        "  5:\t  4\t44.5\t0\tn!/(k!(n-k!))\n",
        "  6:\t  4\t47.9\t0\t(n-1)/n\n",
        "  7:\t  4\t49.1\t0\t1-n!/n^n\n",
        "  8:\t  4\t49.2\t0\t1-n!/n\n",
        "  9:\t  4\t51.5\t0\t1-(k/n)\n",
        " 10:\t  4\t51.9\t0\t1/(n-k)\n",
        " 11:\t  4\t60.8\t0\tk/n!\n",
        " 12:\t  4\t61.2\t0\t(k-1)/n\n",
        " 13:\t  4\t65.5\t0\t1-(k-1/n)\n",
        "**  14:\t  4\t65.7\t1\t1-((k-1)/n)\n",
        "\n",
        "** All but last attempt\n",
        "  0:\t  5\t11.2\t0\t1/2^(n/2)\n",
        "**   1:\t  5\t38.0\t1\tn!/n^n\n",
        "\n",
        "** All but last attempt\n",
        "  0:\t  6\t67.7\t0\te^((k-1)/n)\n",
        "  1:\t  6\t70.4\t0\t1-((k-1)/n)\n",
        "**   2:\t  6\t70.4\t1\te^(-(k-1)/n)\n",
        "\n",
        "** All but last attempt\n",
        "  0:\t  7\t67.7\t0\tn!/n^n\n",
        "  1:\t  7\t70.4\t0\te^(-(k/n))\n",
        "  2:\t  7\t70.7\t0\te^(-(k!/n^n))\n",
        "  3:\t  7\t70.8\t0\te^(k!/n^n)\n",
        "  4:\t  7\t72.5\t0\te^(k^n)\n",
        "  5:\t  7\t73.7\t0\te^(n!/n^n)\n",
        "  6:\t  7\t76.2\t0\te^(n!/k!(n-k)!)\n",
        "  7:\t  7\t76.4\t0\te^(n!/(k!(n-k!))\n",
        "  8:\t  7\t76.5\t0\te^(n!/(k!(n-k!)))\n",
        "  9:\t  7\t81.4\t0\t1/k^(k/2)\n",
        " 10:\t  7\t81.7\t0\tk^(k/2)\n",
        " 11:\t  7\t82.4\t0\t1/ek^k\n",
        " 12:\t  7\t82.7\t0\t1/(e(k^k))\n",
        " 13:\t  7\t83.6\t0\t(1-(1/n))^n-k\n",
        " 14:\t  7\t83.8\t0\t(1-(1/n))^(n-k)\n",
        " 15:\t  7\t84.4\t0\t1/n^k\n",
        " 16:\t  7\t84.5\t0\t1/n^2\n",
        " 17:\t  7\t87.1\t0\t[e^(-(k-1)/n)]*(n!/n^n)\n",
        " 18:\t  7\t87.6\t0\t[e^(-(k-1)/n)]*[1-((k-1)/n)]\n",
        " 19:\t  7\t88.8\t0\t[e^(-(k-1)/n)]*e^k\n",
        " 20:\t  7\t94.1\t0\t(-(k-1)/n)*[n!/n^n]\n",
        " 21:\t  7\t94.4\t0\te^{(-(k-1)/n)*[n!/n^n]}\n",
        " 22:\t  7\t99.1\t0\t[e^(n!/n^n)]*[e^(-(k-1)/n)]\n",
        " 23:\t  7\t110.2\t0\t[(ne/k)^k]*(1/n)^k\n",
        " 24:\t  7\t111.3\t0\t[(e/k)^k]*1/(1-(e/k))\n",
        " 25:\t  7\t111.6\t0\t[(e/k)^k]*[1/(1-(e/k))]\n",
        " 26:\t  7\t113.7\t0\te^(-[m(m-1)]/2n)\n",
        " 27:\t  7\t121.3\t0\t[1-((k-1)/n)]*[n!/n^n]\n",
        " 28:\t  7\t121.5\t0\te^[1-((k-1)/n)]*[n!/n^n]\n",
        "**  29:\t  7\t121.7\t0\te^{[1-((k-1)/n)]*[n!/n^n]}\n",
        "\n"
       ]
      }
     ],
     "prompt_number": 342
    },
    {
     "cell_type": "code",
     "collapsed": false,
     "input": [
      "import pandas\n",
      "FT=Texts\n",
      "FT.keys()"
     ],
     "language": "python",
     "metadata": {},
     "outputs": [
      {
       "output_type": "pyout",
       "prompt_number": 289,
       "text": [
        "Index([Assignment, problem, text], dtype=object)"
       ]
      }
     ],
     "prompt_number": 289
    },
    {
     "cell_type": "code",
     "collapsed": false,
     "input": [
      "FT[['Assignment','problem']].head()"
     ],
     "language": "python",
     "metadata": {},
     "outputs": [
      {
       "html": [
        "<div style=\"max-height:1000px;max-width:1500px;overflow:auto;\">\n",
        "<table border=\"1\" class=\"dataframe\">\n",
        "  <thead>\n",
        "    <tr style=\"text-align: right;\">\n",
        "      <th></th>\n",
        "      <th>Assignment</th>\n",
        "      <th>problem</th>\n",
        "    </tr>\n",
        "  </thead>\n",
        "  <tbody>\n",
        "    <tr>\n",
        "      <th>0</th>\n",
        "      <td> Assignment1</td>\n",
        "      <td> 1</td>\n",
        "    </tr>\n",
        "    <tr>\n",
        "      <th>1</th>\n",
        "      <td> Assignment1</td>\n",
        "      <td> 2</td>\n",
        "    </tr>\n",
        "    <tr>\n",
        "      <th>2</th>\n",
        "      <td> Assignment1</td>\n",
        "      <td> 3</td>\n",
        "    </tr>\n",
        "    <tr>\n",
        "      <th>3</th>\n",
        "      <td> Assignment1</td>\n",
        "      <td> 4</td>\n",
        "    </tr>\n",
        "    <tr>\n",
        "      <th>4</th>\n",
        "      <td> Assignment1</td>\n",
        "      <td> 5</td>\n",
        "    </tr>\n",
        "  </tbody>\n",
        "</table>\n",
        "</div>"
       ],
       "output_type": "pyout",
       "prompt_number": 280,
       "text": [
        "    Assignment  problem\n",
        "0  Assignment1        1\n",
        "1  Assignment1        2\n",
        "2  Assignment1        3\n",
        "3  Assignment1        4\n",
        "4  Assignment1        5"
       ]
      }
     ],
     "prompt_number": 280
    },
    {
     "cell_type": "code",
     "collapsed": false,
     "input": [
      "selector=(FT['Assignment']==assignment) & (FT['problem']==problem)\n",
      "texts=FT.ix[selector,'text'].values[0]\n",
      "len(texts)"
     ],
     "language": "python",
     "metadata": {},
     "outputs": [
      {
       "output_type": "pyout",
       "prompt_number": 299,
       "text": [
        "8"
       ]
      }
     ],
     "prompt_number": 299
    },
    {
     "cell_type": "code",
     "collapsed": false,
     "input": [
      "filename='.'.join((assignment,str(problem),str(part),student,'org'))\n",
      "filename"
     ],
     "language": "python",
     "metadata": {},
     "outputs": [
      {
       "output_type": "pyout",
       "prompt_number": 349,
       "text": [
        "'Assignment5.2.7.jmc001.org'"
       ]
      }
     ],
     "prompt_number": 349
    },
    {
     "cell_type": "code",
     "collapsed": false,
     "input": [
      "#output_dir=os.environ['WWAH_OUTPUT']\n",
      "output_dir='/Users/yoavfreund/projects/Webwork.Improvement.Project/Demo_for_utube/data/OutputFiles'\n",
      "f=open(output_dir+'/'+filename,'wb')\n",
      "for i in range(l):\n",
      "    print >>f,texts[i]\n",
      "    print >>f,('* Answers of student %s. %2d attempts lasting %3.1f minutes, ending in %s'\\\n",
      "              % (student,attempts[i],time_length[i],final_correct[i]))\n",
      "    print >>f,summary[i]\n",
      "f.close()\n",
      "    "
     ],
     "language": "python",
     "metadata": {},
     "outputs": [],
     "prompt_number": 350
    },
    {
     "cell_type": "code",
     "collapsed": false,
     "input": [],
     "language": "python",
     "metadata": {},
     "outputs": []
    }
   ],
   "metadata": {}
  }
 ]
}