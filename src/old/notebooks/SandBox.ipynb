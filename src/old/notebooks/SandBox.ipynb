{
 "metadata": {
  "name": "SandBox"
 },
 "nbformat": 3,
 "nbformat_minor": 0,
 "worksheets": [
  {
   "cells": [
    {
     "cell_type": "code",
     "collapsed": false,
     "input": [
      "%load ../python/reportStruggles.py"
     ],
     "language": "python",
     "metadata": {},
     "outputs": [],
     "prompt_number": 99
    },
    {
     "cell_type": "code",
     "collapsed": false,
     "input": [
      "import os,pandas,pickle,sys\n",
      "\n",
      "class reportStruggles:\n",
      "\n",
      "    def __init__(self):\n",
      "        pickle_dir=os.environ['WWAH_PICKLE']\n",
      "\n",
      "        def load_pickle(pickle_file):\n",
      "            print 'reading ',pickle_file\n",
      "            sys.stdout.flush()\n",
      "            return pickle.load(open(pickle_dir+pickle_file,'rb'))\n",
      "\n",
      "        self.BT = load_pickle('/BehavioralStatistics.pkl')\n",
      "        self.B=self.BT['BehaviourStatistics']\n",
      "\n",
      "        self.TT= load_pickle('/problemTexts.pkl')\n",
      "        self.Texts=self.TT['ProblemTexts']\n",
      "\n",
      "        self.LT = load_pickle('/ProcessedLogs.pkl')\n",
      "        self.G=self.LT['GroupedDataFrame']\n",
      "\n",
      "        print 'done reading pickle files'\n",
      "\n",
      "    def find_struggles(self):\n",
      "        B=self.B\n",
      "        grouped=B.groupby(['assignment','problem_no','part_no'])\n",
      "        mean_times=grouped['time'].mean()\n",
      "        mean_tries=grouped['tries'].mean()\n",
      "        return (mean_times, mean_tries)\n",
      "\n",
      "    def extract_history(self,assignment, problem, part, student):\n",
      "        frame=self.G[(student,assignment)]\n",
      "\n",
      "        frame=frame[frame['problem_no']==problem]\n",
      "        frame=frame[frame['part_no']<=part]\n",
      "        frame=frame[frame['answer_state']=='!=']\n",
      "        frame=frame.sort(columns=['part_no','time'])\n",
      "        frame['time']=(frame['time']-frame['time'].values[0])/60.0\n",
      "        triplets=frame[['part_no','time','correct','answer']]\n",
      "        if len(triplets)==0:\n",
      "            return None\n",
      "        else:\n",
      "            return triplets\n",
      "    \n",
      "    def generate_report(self,assignment, problem, part, student):\n",
      "        \"\"\"Generate a report for a particular (user,assignment) pair.  The\n",
      "        report consists of the PG text up to each question box,\n",
      "        followed by the list of attempts to answer made by the\n",
      "        student.  The output is a sequence of multi-line strings the\n",
      "        are meant to be printed and then viewed in emac in org-mode\n",
      "\n",
      "        \"\"\"\n",
      "        T=extract_history(self,assignment, problem, part, student)\n",
      "        parts=T.groupby('part_no')\n",
      "\n",
      "        if parts==None:\n",
      "            return None\n",
      "\n",
      "        # extract the relevant parts of the student's log\n",
      "        i=0\n",
      "        summary=[]   # text representing answer attempts\n",
      "        attempts=[]  # number of attempts for this part\n",
      "        time_length=[]  # length of time spent on this part\n",
      "        SorF=['failure','success']\n",
      "        final_correct=[] # indicates if the final attempt is correct\n",
      "        for g in parts:\n",
      "            att_no=len(g[1])\n",
      "            attempts.append(att_no)\n",
      "            gt=g[1]['time'].values\n",
      "            time_length.append(gt[-1]-gt[0])\n",
      "            fin=SorF[int(g[1]['correct'].values[-1])]\n",
      "            final_correct.append(fin)\n",
      "            a_i=0; text='** All but last attempt\\n'\n",
      "            for row in g[1].iterrows():\n",
      "                line=(' %2d:'%a_i)+('\\t%3d\\t%4.1f\\t%s\\t%s' % tuple(row[1].values)+'\\n')\n",
      "                if  a_i==att_no-1:\n",
      "                    line ='** '+line # make last line easily accessible in org-mode\n",
      "                text+=line\n",
      "                a_i+=1\n",
      "            summary.append(text)\n",
      "            i+=1\n",
      "    \n",
      "        # extract the relevant problem texts\n",
      "        FT=self.Texts\n",
      "        selector=(FT['Assignment']==assignment) & (FT['problem']==problem)\n",
      "        texts=FT.ix[selector,'text'].values[0]\n",
      "\n",
      "        # combine logs and problem texts and output to a file\n",
      "        output_dir=os.environ['WWAH_OUTPUT']\n",
      "        filename='.'.join((assignment,str(problem),str(part),student,'org'))\n",
      "        f=open(output_dir+'/'+filename,'wb')\n",
      "        for i in range(len(texts)):\n",
      "            print >>f,texts[i]\n",
      "            print >>f,('* Answers of student %s. %2d attempts lasting %3.1f minutes, ending in %s'\\\n",
      "                      % (student,attempts[i],time_length[i],final_correct[i]))\n",
      "            print >>f,summary[i]\n",
      "        f.close()\n"
     ],
     "language": "python",
     "metadata": {},
     "outputs": [
      {
       "output_type": "stream",
       "stream": "stderr",
       "text": [
        "/Library/Frameworks/Python.framework/Versions/Current/lib/python2.7/site-packages/matplotlib-1.1.0-py2.7-macosx-10.6-intel.egg/pytz/__init__.py:35: UserWarning: Module dateutil was already imported from /Library/Frameworks/Python.framework/Versions/Current/lib/python2.7/site-packages/matplotlib-1.1.0-py2.7-macosx-10.6-intel.egg/dateutil/__init__.pyc, but /opt/local/Library/Frameworks/Python.framework/Versions/2.7/lib/python2.7/site-packages is being added to sys.path\n",
        "  from pkg_resources import resource_stream\n"
       ]
      }
     ],
     "prompt_number": 2
    },
    {
     "cell_type": "code",
     "collapsed": false,
     "input": [
      "R=reportStruggles()"
     ],
     "language": "python",
     "metadata": {},
     "outputs": [
      {
       "output_type": "stream",
       "stream": "stdout",
       "text": [
        "reading  /BehavioralStatistics.pkl\n"
       ]
      },
      {
       "output_type": "stream",
       "stream": "stdout",
       "text": [
        "reading  /problemTexts.pkl\n"
       ]
      },
      {
       "output_type": "stream",
       "stream": "stdout",
       "text": [
        "reading  /ProcessedLogs.pkl\n"
       ]
      },
      {
       "output_type": "stream",
       "stream": "stdout",
       "text": [
        "done reading pickle files\n"
       ]
      }
     ],
     "prompt_number": 3
    },
    {
     "cell_type": "code",
     "collapsed": true,
     "input": [
      "(time,tries)=R.find_struggles()"
     ],
     "language": "python",
     "metadata": {},
     "outputs": [],
     "prompt_number": 4
    },
    {
     "cell_type": "code",
     "collapsed": false,
     "input": [
      "B=R.B"
     ],
     "language": "python",
     "metadata": {},
     "outputs": [],
     "prompt_number": 5
    },
    {
     "cell_type": "code",
     "collapsed": false,
     "input": [
      "grouped_by_assignment=B.groupby(['assignment','problem_no','part_no'])"
     ],
     "language": "python",
     "metadata": {},
     "outputs": [],
     "prompt_number": 6
    },
    {
     "cell_type": "code",
     "collapsed": false,
     "input": [
      "B.keys()"
     ],
     "language": "python",
     "metadata": {},
     "outputs": [
      {
       "output_type": "pyout",
       "prompt_number": 7,
       "text": [
        "Index([assignment, final_correct, part_no, problem_no, start_time, time, tries, user], dtype=object)"
       ]
      }
     ],
     "prompt_number": 7
    },
    {
     "cell_type": "code",
     "collapsed": false,
     "input": [
      "def GP(x):\n",
      "    return float(sum(x>10))/len(x)\n",
      "def PP(*args):\n",
      "    print type(*args), len(*args)\n",
      "    print ','.join(*args)\n",
      "    sys.exit()"
     ],
     "language": "python",
     "metadata": {},
     "outputs": [],
     "prompt_number": 8
    },
    {
     "cell_type": "code",
     "collapsed": false,
     "input": [
      "GA=grouped_by_assignment\n",
      "Mean_by_problem=GA['time'].mean() #quantile(0.75)\n",
      "print Mean_by_problem.order().tail(50)"
     ],
     "language": "python",
     "metadata": {},
     "outputs": [
      {
       "output_type": "stream",
       "stream": "stdout",
       "text": [
        "assignment            problem_no  part_no\n",
        "Assignment8           1           6           7.233088\n",
        "Assignment2           7           5           7.271693\n",
        "Assignment5           3           1           7.331522\n",
        "Assignment8           1           5           7.363580\n",
        "Assignment3           5           2           7.442926\n",
        "                      1           26          7.659615\n",
        "                      3           7           7.742782\n",
        "Assignment4           5           1           7.900583\n",
        "Assignment6           5           1           7.932238\n",
        "Assignment9           3           1           8.178947\n",
        "Assignment3           3           6           8.542248\n",
        "Assignment5           3           2           8.612530\n",
        "Assignment7           8           1           8.634606\n",
        "Assignment5           1           2           8.835082\n",
        "                                  3           8.901418\n",
        "Assignment3           1           27          8.925065\n",
        "Discrete_Probability  56          1           9.016667\n",
        "Assignment9           3           8           9.028571\n",
        "Assignment7           3           2           9.451010\n",
        "Assignment3           1           2           9.793056\n",
        "                                  3          10.087089\n",
        "Assignment9           3           4          10.299405\n",
        "Assignment5           1           6          10.459328\n",
        "                      5           4          10.471296\n",
        "Assignment7           3           1          10.841727\n",
        "Assignment3           1           6          11.319608\n",
        "                                  8          11.345926\n",
        "                                  5          11.518127\n",
        "Assignment2           1           1          11.526499\n",
        "Assignment9           3           6          11.544667\n",
        "Assignment3           1           4          11.553810\n",
        "Assignment5           4           1          12.941071\n",
        "Assignment9           3           7          12.994697\n",
        "Assignment5           1           5          12.995134\n",
        "                      2           4          13.061779\n",
        "                                  6          13.069531\n",
        "Assignment7           1           4          13.296393\n",
        "Assignment2           7           4          13.673756\n",
        "Assignment6           1           1          13.723214\n",
        "Assignment2           7           3          14.064748\n",
        "Assignment5           2           5          14.285354\n",
        "                      1           4          14.570892\n",
        "Assignment3           1           10         14.766418\n",
        "Assignment5           5           2          16.813086\n",
        "Assignment2           5           3          17.052206\n",
        "Assignment3           1           21         17.395707\n",
        "Combinatorics         5           1          18.200000\n",
        "Assignment5           5           1          18.793210\n",
        "                                  3          27.161508\n",
        "                      2           7          36.321806\n",
        "Name: time, dtype: float64\n"
       ]
      }
     ],
     "prompt_number": 9
    },
    {
     "cell_type": "code",
     "collapsed": false,
     "input": [
      "Mean_by_user.index"
     ],
     "language": "python",
     "metadata": {},
     "outputs": [
      {
       "output_type": "pyout",
       "prompt_number": 107,
       "text": [
        "Index([a8lin, abagalac, acng, agsolomo, aitani, alc012, alighter, amchandl, ann045, apinpin, aprocopi, asamra, avarnau, avsubram, bbernald, bcw004, bdwoodwa, bellis, bfiola, boshu, bpalguta, brenfrew, btsui, c1cortez, c2chang, cbrew, cshao, cstyles, ctngo, cww006, dal039, dasyu, dbriggs, dbutt, dcc003, ddrabik, deisenba, dhw002, ding, djdawson, dloza, dsp007, dwithana, dyzhang, e4wong, e5herrer, ecunning, edchiou, egustafs, ejy001, ell010, erphu, esk021, etanuwid, fakbari, fmchao, fpaek, h3peng, hal010, hayin, hel012, hyk053, i1jones, j2pearso, j7chiu, j8ngo, j8wong, jalafate, jay048, jbuoncri, jduarte, jeyuen, jfranke, jhan, jin_wang, jjaguirr, jmaskiew, jmc001, joliao, jparmar, jperng, jsamarin, jsheikh, jsimbol, jtotman, jwh014, jzw005, k2nam, k3song, kbhatt, kjmeans, kkhom, kkoa, krwilson, ksso, kstock, lhmun, lpickett, mcl018, mcluong, melkherj, minesasecret, mirhee, mscheife, mskalra, mstepani, mzluo, n5ma, nadav.shiffman, ndjohnso, niwang, nmore, pcs001, pew007, pkohsuwa, pmhua, ralarson, rcshaw, rmanafia, rmkhan, rpimente, rquinlan, rrallo, rscastro, ryliao, s2mahdav, schuong, shauss, spagenko, stdao, stt015, sus005, tbui, tchi, tgates, tlang, tlopez, tmiyano, tsgray, ttko, tyl015, vdasari, vqdo, w1kwan, w1qin, w7lau, wentao_liu, wiyuen, wriazati, xic049, xil056, xiz080, yfreund, ymurase, ymwong, yogienko, yuncong, yuwon, zih001, ziyu, zmwilson, zzhai], dtype=object)"
       ]
      }
     ],
     "prompt_number": 107
    },
    {
     "cell_type": "code",
     "collapsed": false,
     "input": [
      "Combined.keys()"
     ],
     "language": "python",
     "metadata": {},
     "outputs": [
      {
       "output_type": "pyout",
       "prompt_number": 116,
       "text": [
        "Index([key_0, time, email, AssignmentAvg, AttendanceScore, Final, CourseAvg], dtype=object)"
       ]
      }
     ],
     "prompt_number": 116
    },
    {
     "cell_type": "code",
     "collapsed": false,
     "input": [
      "grouped_by_user=B.groupby('user')\n",
      "Mean_by_user=pandas.DataFrame(grouped_by_user['time'].mean())\n",
      "Combined=pandas.merge(Mean_by_user,roster_core,left_on=Mean_by_user.index,right_on=roster_core['email'],how='right')\n",
      "#Combined=Combined.sort('user',ascending=False)\n",
      "Combined.ix[:,['email','AssignmentAvg','Final','time']]"
     ],
     "language": "python",
     "metadata": {},
     "outputs": [
      {
       "html": [
        "<pre>\n",
        "&ltclass 'pandas.core.frame.DataFrame'&gt\n",
        "Int64Index: 139 entries, 0 to 138\n",
        "Data columns (total 4 columns):\n",
        "email            139  non-null values\n",
        "AssignmentAvg    139  non-null values\n",
        "Final            139  non-null values\n",
        "time             139  non-null values\n",
        "dtypes: float64(3), object(1)\n",
        "</pre>"
       ],
       "output_type": "pyout",
       "prompt_number": 119,
       "text": [
        "<class 'pandas.core.frame.DataFrame'>\n",
        "Int64Index: 139 entries, 0 to 138\n",
        "Data columns (total 4 columns):\n",
        "email            139  non-null values\n",
        "AssignmentAvg    139  non-null values\n",
        "Final            139  non-null values\n",
        "time             139  non-null values\n",
        "dtypes: float64(3), object(1)"
       ]
      }
     ],
     "prompt_number": 119
    },
    {
     "cell_type": "code",
     "collapsed": false,
     "input": [
      "logs_dir=os.environ['WWAH_LOGS']\n",
      "!ls $logs_dir\n",
      "!head -2 $logs_dir/master_roster.csv"
     ],
     "language": "python",
     "metadata": {},
     "outputs": [],
     "prompt_number": 13
    },
    {
     "cell_type": "code",
     "collapsed": false,
     "input": [
      "roster=pandas.read_csv(open(logs_dir+'/master_roster.csv','r'))"
     ],
     "language": "python",
     "metadata": {},
     "outputs": [],
     "prompt_number": 16
    },
    {
     "cell_type": "code",
     "collapsed": false,
     "input": [
      "users_roster=set(roster['email'])"
     ],
     "language": "python",
     "metadata": {},
     "outputs": [],
     "prompt_number": 18
    },
    {
     "cell_type": "code",
     "collapsed": false,
     "input": [
      "users_logs=set(B['user'])"
     ],
     "language": "python",
     "metadata": {},
     "outputs": [],
     "prompt_number": 19
    },
    {
     "cell_type": "code",
     "collapsed": false,
     "input": [
      "users_logs-users_roster"
     ],
     "language": "python",
     "metadata": {},
     "outputs": [
      {
       "output_type": "pyout",
       "prompt_number": 22,
       "text": [
        "set(['minesasecret',\n",
        "     'i1jones',\n",
        "     'deisenba',\n",
        "     'yuncong',\n",
        "     'jsimbol',\n",
        "     'k3song',\n",
        "     'stt015',\n",
        "     'bbernald',\n",
        "     'rmkhan',\n",
        "     'stdao',\n",
        "     'jduarte',\n",
        "     'melkherj',\n",
        "     'joliao',\n",
        "     'ryliao',\n",
        "     'mcluong',\n",
        "     'jin_wang',\n",
        "     'nadav.shiffman',\n",
        "     'yfreund',\n",
        "     'wentao_liu'])"
       ]
      }
     ],
     "prompt_number": 22
    },
    {
     "cell_type": "code",
     "collapsed": false,
     "input": [
      "users_roster-users_logs"
     ],
     "language": "python",
     "metadata": {},
     "outputs": [
      {
       "output_type": "pyout",
       "prompt_number": 24,
       "text": [
        "set(['jjduarte', 'evfung', 'jiw086', 'amosliu1992@gmail.com'])"
       ]
      }
     ],
     "prompt_number": 24
    },
    {
     "cell_type": "markdown",
     "metadata": {},
     "source": [
      "### Correcting ID mismatches\n",
      "\n",
      "There are 4 students in the roster that don't appear in the logs. Three of them used different ID's when registering to the\n",
      "class and when registering to WebWork. The fourth *jiw086* seems to not have done any work for the class, and I decided to drop him from the statistics.\n",
      "\n",
      "The names that are in webwork and not in the roster are teachers, TAs, Tutors and others. None of them is a student in the class."
     ]
    },
    {
     "cell_type": "code",
     "collapsed": false,
     "input": [
      "Map={'jjduarte':'jduarte','amosliu1992@gmail.com':'wentao_liu','jiw086':'jin_wang'}"
     ],
     "language": "python",
     "metadata": {},
     "outputs": [],
     "prompt_number": 44
    },
    {
     "cell_type": "code",
     "collapsed": false,
     "input": [
      "roster[roster['email']=='evfung'][['first','last','on_webwork','clicker','Final','AssignmentAvg','CourseAvg']]"
     ],
     "language": "python",
     "metadata": {},
     "outputs": [
      {
       "html": [
        "<div style=\"max-height:1000px;max-width:1500px;overflow:auto;\">\n",
        "<table border=\"1\" class=\"dataframe\">\n",
        "  <thead>\n",
        "    <tr style=\"text-align: right;\">\n",
        "      <th></th>\n",
        "      <th>first</th>\n",
        "      <th>last</th>\n",
        "      <th>on_webwork</th>\n",
        "      <th>clicker</th>\n",
        "      <th>Final</th>\n",
        "      <th>AssignmentAvg</th>\n",
        "      <th>CourseAvg</th>\n",
        "    </tr>\n",
        "  </thead>\n",
        "  <tbody>\n",
        "    <tr>\n",
        "      <th>145</th>\n",
        "      <td> Eric Vincent</td>\n",
        "      <td> Fung</td>\n",
        "      <td> 0</td>\n",
        "      <td> NaN</td>\n",
        "      <td>NaN</td>\n",
        "      <td> 0</td>\n",
        "      <td>NaN</td>\n",
        "    </tr>\n",
        "  </tbody>\n",
        "</table>\n",
        "</div>"
       ],
       "output_type": "pyout",
       "prompt_number": 35,
       "text": [
        "            first  last  on_webwork clicker  Final  AssignmentAvg  CourseAvg\n",
        "145  Eric Vincent  Fung           0     NaN    NaN              0        NaN"
       ]
      }
     ],
     "prompt_number": 35
    },
    {
     "cell_type": "code",
     "collapsed": false,
     "input": [
      "roster[roster['email']=='jiw08'][['first','last','on_webwork','clicker']]"
     ],
     "language": "python",
     "metadata": {},
     "outputs": [
      {
       "html": [
        "<div style=\"max-height:1000px;max-width:1500px;overflow:auto;\">\n",
        "<table border=\"1\" class=\"dataframe\">\n",
        "  <thead>\n",
        "    <tr style=\"text-align: right;\">\n",
        "      <th></th>\n",
        "      <th>first</th>\n",
        "      <th>last</th>\n",
        "      <th>on_webwork</th>\n",
        "      <th>clicker</th>\n",
        "    </tr>\n",
        "  </thead>\n",
        "  <tbody>\n",
        "    <tr>\n",
        "      <th>68</th>\n",
        "      <td> Jin</td>\n",
        "      <td> Wang</td>\n",
        "      <td> 0</td>\n",
        "      <td> #21B46FFA</td>\n",
        "    </tr>\n",
        "  </tbody>\n",
        "</table>\n",
        "</div>"
       ],
       "output_type": "pyout",
       "prompt_number": 32,
       "text": [
        "   first  last  on_webwork    clicker\n",
        "68   Jin  Wang           0  #21B46FFA"
       ]
      }
     ],
     "prompt_number": 32
    },
    {
     "cell_type": "code",
     "collapsed": false,
     "input": [
      "for i,row in roster.iterrows():\n",
      "    # print row\n",
      "    email=row['email']\n",
      "    if email in Map.keys():\n",
      "        print email\n",
      "        roster.ix[i,'email']=Map[email]"
     ],
     "language": "python",
     "metadata": {},
     "outputs": [],
     "prompt_number": 50
    },
    {
     "cell_type": "code",
     "collapsed": false,
     "input": [
      "for i,row in "
     ],
     "language": "python",
     "metadata": {},
     "outputs": [
      {
       "output_type": "pyout",
       "prompt_number": 45,
       "text": [
        "['jjduarte', 'jiw086', 'amosliu1992@gmail.com']"
       ]
      }
     ],
     "prompt_number": 45
    },
    {
     "cell_type": "code",
     "collapsed": false,
     "input": [
      "roster_keys=roster.keys()"
     ],
     "language": "python",
     "metadata": {},
     "outputs": [],
     "prompt_number": 52
    },
    {
     "cell_type": "code",
     "collapsed": false,
     "input": [
      "roster_keys"
     ],
     "language": "python",
     "metadata": {},
     "outputs": [
      {
       "output_type": "pyout",
       "prompt_number": 61,
       "text": [
        "Index([secret_number, CourseAvg, Grade, AssignmentAvg, AttendanceScore, Final, last, first, email, pid, clicker, group, on_moodle, on_webwork, on_blink, Assignment1, Assignment2, Assignment3, Assignment4, Assignment5, Assignment6, Assignment7, Assignment8, Assignment9, Assignment10, Assignment11, Assignment12, Assignment13, Assignment14, Assignment15, Assignment16, Assignment17, Assignment18, Assignment19, Assignment20, Assignment21, 1001, 1003, 1005, 1008, 1010, 1012, 1015, 1017, 1019, 1022, 1024, 1026, 1029, 1031, 1102, 1105, 1107, 1114, 1116, 1119, 1121, 1126, 1128, 1130, Attendance], dtype=object)"
       ]
      }
     ],
     "prompt_number": 61
    },
    {
     "cell_type": "code",
     "collapsed": false,
     "input": [
      "roster_keep=['email','AssignmentAvg','AttendanceScore','Final','CourseAvg']\n",
      "roster_core=roster[roster_keep]\n",
      "roster_core=roster_core.sort('CourseAvg',ascending=False)\n",
      "roster_core=roster_core[isnan(roster_core['Final'])==False]\n",
      "len(roster_core)"
     ],
     "language": "python",
     "metadata": {},
     "outputs": [
      {
       "output_type": "pyout",
       "prompt_number": 92,
       "text": [
        "139"
       ]
      }
     ],
     "prompt_number": 92
    },
    {
     "cell_type": "code",
     "collapsed": false,
     "input": [
      "pickle_dir=os.environ['WWAH_PICKLE']\n",
      "pickle.dump(roster_core,open(pickle_dir+'/roster.pkl','wb'))"
     ],
     "language": "python",
     "metadata": {},
     "outputs": [],
     "prompt_number": 93
    },
    {
     "cell_type": "code",
     "collapsed": false,
     "input": [
      "isNaN(A)"
     ],
     "language": "python",
     "metadata": {},
     "outputs": [
      {
       "ename": "NameError",
       "evalue": "name 'isNaN' is not defined",
       "output_type": "pyerr",
       "traceback": [
        "\u001b[0;31m---------------------------------------------------------------------------\u001b[0m\n\u001b[0;31mNameError\u001b[0m                                 Traceback (most recent call last)",
        "\u001b[0;32m<ipython-input-73-0d1bdaf2309d>\u001b[0m in \u001b[0;36m<module>\u001b[0;34m()\u001b[0m\n\u001b[0;32m----> 1\u001b[0;31m \u001b[0misNaN\u001b[0m\u001b[0;34m(\u001b[0m\u001b[0mA\u001b[0m\u001b[0;34m)\u001b[0m\u001b[0;34m\u001b[0m\u001b[0m\n\u001b[0m",
        "\u001b[0;31mNameError\u001b[0m: name 'isNaN' is not defined"
       ]
      }
     ],
     "prompt_number": 73
    },
    {
     "cell_type": "code",
     "collapsed": false,
     "input": [
      "isnan(A)"
     ],
     "language": "python",
     "metadata": {},
     "outputs": [
      {
       "ename": "NameError",
       "evalue": "name 'A' is not defined",
       "output_type": "pyerr",
       "traceback": [
        "\u001b[0;31m---------------------------------------------------------------------------\u001b[0m\n\u001b[0;31mNameError\u001b[0m                                 Traceback (most recent call last)",
        "\u001b[0;32m<ipython-input-74-b36abcddefbb>\u001b[0m in \u001b[0;36m<module>\u001b[0;34m()\u001b[0m\n\u001b[0;32m----> 1\u001b[0;31m \u001b[0misnan\u001b[0m\u001b[0;34m(\u001b[0m\u001b[0mA\u001b[0m\u001b[0;34m)\u001b[0m\u001b[0;34m\u001b[0m\u001b[0m\n\u001b[0m",
        "\u001b[0;31mNameError\u001b[0m: name 'A' is not defined"
       ]
      }
     ],
     "prompt_number": 74
    },
    {
     "cell_type": "code",
     "collapsed": false,
     "input": [],
     "language": "python",
     "metadata": {},
     "outputs": []
    }
   ],
   "metadata": {}
  }
 ]
}