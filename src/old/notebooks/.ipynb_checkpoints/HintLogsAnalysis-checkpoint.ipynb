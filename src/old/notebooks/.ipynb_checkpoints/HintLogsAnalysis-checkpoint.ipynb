{
 "metadata": {
  "name": ""
 },
 "nbformat": 3,
 "nbformat_minor": 0,
 "worksheets": [
  {
   "cells": [
    {
     "cell_type": "code",
     "collapsed": false,
     "input": [
      "import random, os\n",
      "from numpy.linalg import lstsq\n",
      "from scipy.stats.contingency import margins\n",
      "from sklearn.linear_model import LogisticRegression\n",
      "import numpy as np\n",
      "from sklearn.cluster import KMeans\n",
      "from sklearn.decomposition import PCA\n",
      "import pandas as pd\n",
      "import pickle\n",
      "\n",
      "pickle_dir=os.environ['WWAH_PICKLE']\n",
      "\n",
      "f = pickle.load(open(pickle_dir+'/BehavioralStatistics.pkl','rb'))\n",
      "df = f.values()[0]\n",
      "df"
     ],
     "language": "python",
     "metadata": {},
     "outputs": [
      {
       "output_type": "stream",
       "stream": "stderr",
       "text": [
        "//anaconda/python.app/Contents/lib/python2.7/site-packages/pandas/core/config.py:570: DeprecationWarning: height has been deprecated.\n",
        "\n",
        "  warnings.warn(d.msg, DeprecationWarning)\n"
       ]
      },
      {
       "html": [
        "<pre>\n",
        "&lt;class 'pandas.core.frame.DataFrame'&gt;\n",
        "Int64Index: 57232 entries, 0 to 11\n",
        "Data columns (total 8 columns):\n",
        "assignment       57232  non-null values\n",
        "final_correct    57232  non-null values\n",
        "part_no          57232  non-null values\n",
        "problem_no       57232  non-null values\n",
        "start_time       57232  non-null values\n",
        "time             57232  non-null values\n",
        "tries            57232  non-null values\n",
        "user             57232  non-null values\n",
        "dtypes: float64(2), int64(4), object(2)\n",
        "</pre>"
       ],
       "metadata": {},
       "output_type": "pyout",
       "prompt_number": 1,
       "text": [
        "<class 'pandas.core.frame.DataFrame'>\n",
        "Int64Index: 57232 entries, 0 to 11\n",
        "Data columns (total 8 columns):\n",
        "assignment       57232  non-null values\n",
        "final_correct    57232  non-null values\n",
        "part_no          57232  non-null values\n",
        "problem_no       57232  non-null values\n",
        "start_time       57232  non-null values\n",
        "time             57232  non-null values\n",
        "tries            57232  non-null values\n",
        "user             57232  non-null values\n",
        "dtypes: float64(2), int64(4), object(2)"
       ]
      }
     ],
     "prompt_number": 1
    },
    {
     "cell_type": "code",
     "collapsed": false,
     "input": [
      "Table=df.pivot_table(rows='user',cols=['assignment','problem_no','part_no'],values=['final_correct','tries','time'])\n",
      "Table=Table.reorder_levels([1,2,3,0], axis=1)\n",
      "Table=Table.sortlevel(axis=1,level=0)\n",
      "Table.ix[0:10,0:20]"
     ],
     "language": "python",
     "metadata": {},
     "outputs": [
      {
       "output_type": "stream",
       "stream": "stderr",
       "text": [
        "//anaconda/python.app/Contents/lib/python2.7/site-packages/pandas/core/config.py:570: DeprecationWarning: height has been deprecated.\n",
        "\n",
        "  warnings.warn(d.msg, DeprecationWarning)\n",
        "//anaconda/python.app/Contents/lib/python2.7/site-packages/pandas/core/config.py:570: DeprecationWarning: height has been deprecated.\n",
        "\n",
        "  warnings.warn(d.msg, DeprecationWarning)\n",
        "//anaconda/python.app/Contents/lib/python2.7/site-packages/pandas/core/config.py:570: DeprecationWarning: height has been deprecated.\n",
        "\n",
        "  warnings.warn(d.msg, DeprecationWarning)\n"
       ]
      },
      {
       "html": [
        "<div style=\"max-height:1000px;max-width:1500px;overflow:auto;\">\n",
        "<table border=\"1\" class=\"dataframe\">\n",
        "  <thead>\n",
        "    <tr>\n",
        "      <th>assignment</th>\n",
        "      <th colspan=\"20\" halign=\"left\">Assignment1</th>\n",
        "    </tr>\n",
        "    <tr>\n",
        "      <th>problem_no</th>\n",
        "      <th colspan=\"3\" halign=\"left\">1</th>\n",
        "      <th colspan=\"9\" halign=\"left\">2</th>\n",
        "      <th colspan=\"8\" halign=\"left\">3</th>\n",
        "    </tr>\n",
        "    <tr>\n",
        "      <th>part_no</th>\n",
        "      <th colspan=\"3\" halign=\"left\">1</th>\n",
        "      <th colspan=\"3\" halign=\"left\">1</th>\n",
        "      <th colspan=\"3\" halign=\"left\">2</th>\n",
        "      <th colspan=\"3\" halign=\"left\">3</th>\n",
        "      <th colspan=\"3\" halign=\"left\">1</th>\n",
        "      <th colspan=\"3\" halign=\"left\">2</th>\n",
        "      <th colspan=\"2\" halign=\"left\">3</th>\n",
        "    </tr>\n",
        "    <tr>\n",
        "      <th></th>\n",
        "      <th>final_correct</th>\n",
        "      <th>tries</th>\n",
        "      <th>time</th>\n",
        "      <th>final_correct</th>\n",
        "      <th>tries</th>\n",
        "      <th>time</th>\n",
        "      <th>final_correct</th>\n",
        "      <th>tries</th>\n",
        "      <th>time</th>\n",
        "      <th>final_correct</th>\n",
        "      <th>tries</th>\n",
        "      <th>time</th>\n",
        "      <th>final_correct</th>\n",
        "      <th>tries</th>\n",
        "      <th>time</th>\n",
        "      <th>final_correct</th>\n",
        "      <th>tries</th>\n",
        "      <th>time</th>\n",
        "      <th>final_correct</th>\n",
        "      <th>tries</th>\n",
        "    </tr>\n",
        "    <tr>\n",
        "      <th>user</th>\n",
        "      <th></th>\n",
        "      <th></th>\n",
        "      <th></th>\n",
        "      <th></th>\n",
        "      <th></th>\n",
        "      <th></th>\n",
        "      <th></th>\n",
        "      <th></th>\n",
        "      <th></th>\n",
        "      <th></th>\n",
        "      <th></th>\n",
        "      <th></th>\n",
        "      <th></th>\n",
        "      <th></th>\n",
        "      <th></th>\n",
        "      <th></th>\n",
        "      <th></th>\n",
        "      <th></th>\n",
        "      <th></th>\n",
        "      <th></th>\n",
        "    </tr>\n",
        "  </thead>\n",
        "  <tbody>\n",
        "    <tr>\n",
        "      <th>a4to</th>\n",
        "      <td>NaN</td>\n",
        "      <td>NaN</td>\n",
        "      <td>NaN</td>\n",
        "      <td>  0</td>\n",
        "      <td>  1</td>\n",
        "      <td>  0</td>\n",
        "      <td>  0</td>\n",
        "      <td>  2</td>\n",
        "      <td>  0</td>\n",
        "      <td>  0</td>\n",
        "      <td>  2</td>\n",
        "      <td>  0</td>\n",
        "      <td>  1</td>\n",
        "      <td>  4</td>\n",
        "      <td>  0</td>\n",
        "      <td>  1</td>\n",
        "      <td>  1</td>\n",
        "      <td>  0</td>\n",
        "      <td>  0</td>\n",
        "      <td>  4</td>\n",
        "    </tr>\n",
        "    <tr>\n",
        "      <th>a5taylor</th>\n",
        "      <td>NaN</td>\n",
        "      <td>NaN</td>\n",
        "      <td>NaN</td>\n",
        "      <td>NaN</td>\n",
        "      <td>NaN</td>\n",
        "      <td>NaN</td>\n",
        "      <td>NaN</td>\n",
        "      <td>NaN</td>\n",
        "      <td>NaN</td>\n",
        "      <td>NaN</td>\n",
        "      <td>NaN</td>\n",
        "      <td>NaN</td>\n",
        "      <td>NaN</td>\n",
        "      <td>NaN</td>\n",
        "      <td>NaN</td>\n",
        "      <td>NaN</td>\n",
        "      <td>NaN</td>\n",
        "      <td>NaN</td>\n",
        "      <td>NaN</td>\n",
        "      <td>NaN</td>\n",
        "    </tr>\n",
        "    <tr>\n",
        "      <th>a7luong</th>\n",
        "      <td>NaN</td>\n",
        "      <td>NaN</td>\n",
        "      <td>NaN</td>\n",
        "      <td>NaN</td>\n",
        "      <td>NaN</td>\n",
        "      <td>NaN</td>\n",
        "      <td>NaN</td>\n",
        "      <td>NaN</td>\n",
        "      <td>NaN</td>\n",
        "      <td>NaN</td>\n",
        "      <td>NaN</td>\n",
        "      <td>NaN</td>\n",
        "      <td>NaN</td>\n",
        "      <td>NaN</td>\n",
        "      <td>NaN</td>\n",
        "      <td>NaN</td>\n",
        "      <td>NaN</td>\n",
        "      <td>NaN</td>\n",
        "      <td>NaN</td>\n",
        "      <td>NaN</td>\n",
        "    </tr>\n",
        "    <tr>\n",
        "      <th>abw004</th>\n",
        "      <td>NaN</td>\n",
        "      <td>NaN</td>\n",
        "      <td>NaN</td>\n",
        "      <td>NaN</td>\n",
        "      <td>NaN</td>\n",
        "      <td>NaN</td>\n",
        "      <td>NaN</td>\n",
        "      <td>NaN</td>\n",
        "      <td>NaN</td>\n",
        "      <td>NaN</td>\n",
        "      <td>NaN</td>\n",
        "      <td>NaN</td>\n",
        "      <td>NaN</td>\n",
        "      <td>NaN</td>\n",
        "      <td>NaN</td>\n",
        "      <td>NaN</td>\n",
        "      <td>NaN</td>\n",
        "      <td>NaN</td>\n",
        "      <td>NaN</td>\n",
        "      <td>NaN</td>\n",
        "    </tr>\n",
        "    <tr>\n",
        "      <th>actsang</th>\n",
        "      <td>NaN</td>\n",
        "      <td>NaN</td>\n",
        "      <td>NaN</td>\n",
        "      <td>  0</td>\n",
        "      <td>  1</td>\n",
        "      <td>  0</td>\n",
        "      <td>  0</td>\n",
        "      <td>  1</td>\n",
        "      <td>  0</td>\n",
        "      <td>  0</td>\n",
        "      <td>  1</td>\n",
        "      <td>  0</td>\n",
        "      <td>  1</td>\n",
        "      <td>  1</td>\n",
        "      <td>  0</td>\n",
        "      <td>  1</td>\n",
        "      <td>  1</td>\n",
        "      <td>  0</td>\n",
        "      <td>  1</td>\n",
        "      <td>  1</td>\n",
        "    </tr>\n",
        "    <tr>\n",
        "      <th>adfisher</th>\n",
        "      <td>NaN</td>\n",
        "      <td>NaN</td>\n",
        "      <td>NaN</td>\n",
        "      <td>NaN</td>\n",
        "      <td>NaN</td>\n",
        "      <td>NaN</td>\n",
        "      <td>NaN</td>\n",
        "      <td>NaN</td>\n",
        "      <td>NaN</td>\n",
        "      <td>NaN</td>\n",
        "      <td>NaN</td>\n",
        "      <td>NaN</td>\n",
        "      <td>NaN</td>\n",
        "      <td>NaN</td>\n",
        "      <td>NaN</td>\n",
        "      <td>NaN</td>\n",
        "      <td>NaN</td>\n",
        "      <td>NaN</td>\n",
        "      <td>NaN</td>\n",
        "      <td>NaN</td>\n",
        "    </tr>\n",
        "    <tr>\n",
        "      <th>aferbrac</th>\n",
        "      <td>NaN</td>\n",
        "      <td>NaN</td>\n",
        "      <td>NaN</td>\n",
        "      <td>NaN</td>\n",
        "      <td>NaN</td>\n",
        "      <td>NaN</td>\n",
        "      <td>NaN</td>\n",
        "      <td>NaN</td>\n",
        "      <td>NaN</td>\n",
        "      <td>NaN</td>\n",
        "      <td>NaN</td>\n",
        "      <td>NaN</td>\n",
        "      <td>NaN</td>\n",
        "      <td>NaN</td>\n",
        "      <td>NaN</td>\n",
        "      <td>NaN</td>\n",
        "      <td>NaN</td>\n",
        "      <td>NaN</td>\n",
        "      <td>NaN</td>\n",
        "      <td>NaN</td>\n",
        "    </tr>\n",
        "    <tr>\n",
        "      <th>ahem</th>\n",
        "      <td>NaN</td>\n",
        "      <td>NaN</td>\n",
        "      <td>NaN</td>\n",
        "      <td>NaN</td>\n",
        "      <td>NaN</td>\n",
        "      <td>NaN</td>\n",
        "      <td>NaN</td>\n",
        "      <td>NaN</td>\n",
        "      <td>NaN</td>\n",
        "      <td>NaN</td>\n",
        "      <td>NaN</td>\n",
        "      <td>NaN</td>\n",
        "      <td>NaN</td>\n",
        "      <td>NaN</td>\n",
        "      <td>NaN</td>\n",
        "      <td>NaN</td>\n",
        "      <td>NaN</td>\n",
        "      <td>NaN</td>\n",
        "      <td>NaN</td>\n",
        "      <td>NaN</td>\n",
        "    </tr>\n",
        "    <tr>\n",
        "      <th>ajjiang</th>\n",
        "      <td>NaN</td>\n",
        "      <td>NaN</td>\n",
        "      <td>NaN</td>\n",
        "      <td>NaN</td>\n",
        "      <td>NaN</td>\n",
        "      <td>NaN</td>\n",
        "      <td>NaN</td>\n",
        "      <td>NaN</td>\n",
        "      <td>NaN</td>\n",
        "      <td>NaN</td>\n",
        "      <td>NaN</td>\n",
        "      <td>NaN</td>\n",
        "      <td>NaN</td>\n",
        "      <td>NaN</td>\n",
        "      <td>NaN</td>\n",
        "      <td>NaN</td>\n",
        "      <td>NaN</td>\n",
        "      <td>NaN</td>\n",
        "      <td>NaN</td>\n",
        "      <td>NaN</td>\n",
        "    </tr>\n",
        "    <tr>\n",
        "      <th>ajudah</th>\n",
        "      <td>NaN</td>\n",
        "      <td>NaN</td>\n",
        "      <td>NaN</td>\n",
        "      <td>NaN</td>\n",
        "      <td>NaN</td>\n",
        "      <td>NaN</td>\n",
        "      <td>NaN</td>\n",
        "      <td>NaN</td>\n",
        "      <td>NaN</td>\n",
        "      <td>NaN</td>\n",
        "      <td>NaN</td>\n",
        "      <td>NaN</td>\n",
        "      <td>NaN</td>\n",
        "      <td>NaN</td>\n",
        "      <td>NaN</td>\n",
        "      <td>NaN</td>\n",
        "      <td>NaN</td>\n",
        "      <td>NaN</td>\n",
        "      <td>NaN</td>\n",
        "      <td>NaN</td>\n",
        "    </tr>\n",
        "  </tbody>\n",
        "</table>\n",
        "</div>"
       ],
       "metadata": {},
       "output_type": "pyout",
       "prompt_number": 2,
       "text": [
        "assignment    Assignment1                                           \\\n",
        "problem_no              1                           2                \n",
        "part_no                 1                           1                \n",
        "            final_correct  tries  time  final_correct  tries  time   \n",
        "user                                                                 \n",
        "a4to                  NaN    NaN   NaN              0      1     0   \n",
        "a5taylor              NaN    NaN   NaN            NaN    NaN   NaN   \n",
        "a7luong               NaN    NaN   NaN            NaN    NaN   NaN   \n",
        "abw004                NaN    NaN   NaN            NaN    NaN   NaN   \n",
        "actsang               NaN    NaN   NaN              0      1     0   \n",
        "adfisher              NaN    NaN   NaN            NaN    NaN   NaN   \n",
        "aferbrac              NaN    NaN   NaN            NaN    NaN   NaN   \n",
        "ahem                  NaN    NaN   NaN            NaN    NaN   NaN   \n",
        "ajjiang               NaN    NaN   NaN            NaN    NaN   NaN   \n",
        "ajudah                NaN    NaN   NaN            NaN    NaN   NaN   \n",
        "\n",
        "assignment                                                          \\\n",
        "problem_no                                                           \n",
        "part_no                 2                           3                \n",
        "            final_correct  tries  time  final_correct  tries  time   \n",
        "user                                                                 \n",
        "a4to                    0      2     0              0      2     0   \n",
        "a5taylor              NaN    NaN   NaN            NaN    NaN   NaN   \n",
        "a7luong               NaN    NaN   NaN            NaN    NaN   NaN   \n",
        "abw004                NaN    NaN   NaN            NaN    NaN   NaN   \n",
        "actsang                 0      1     0              0      1     0   \n",
        "adfisher              NaN    NaN   NaN            NaN    NaN   NaN   \n",
        "aferbrac              NaN    NaN   NaN            NaN    NaN   NaN   \n",
        "ahem                  NaN    NaN   NaN            NaN    NaN   NaN   \n",
        "ajjiang               NaN    NaN   NaN            NaN    NaN   NaN   \n",
        "ajudah                NaN    NaN   NaN            NaN    NaN   NaN   \n",
        "\n",
        "assignment                                                          \\\n",
        "problem_no              3                                            \n",
        "part_no                 1                           2                \n",
        "            final_correct  tries  time  final_correct  tries  time   \n",
        "user                                                                 \n",
        "a4to                    1      4     0              1      1     0   \n",
        "a5taylor              NaN    NaN   NaN            NaN    NaN   NaN   \n",
        "a7luong               NaN    NaN   NaN            NaN    NaN   NaN   \n",
        "abw004                NaN    NaN   NaN            NaN    NaN   NaN   \n",
        "actsang                 1      1     0              1      1     0   \n",
        "adfisher              NaN    NaN   NaN            NaN    NaN   NaN   \n",
        "aferbrac              NaN    NaN   NaN            NaN    NaN   NaN   \n",
        "ahem                  NaN    NaN   NaN            NaN    NaN   NaN   \n",
        "ajjiang               NaN    NaN   NaN            NaN    NaN   NaN   \n",
        "ajudah                NaN    NaN   NaN            NaN    NaN   NaN   \n",
        "\n",
        "assignment                        \n",
        "problem_no                        \n",
        "part_no                 3         \n",
        "            final_correct  tries  \n",
        "user                              \n",
        "a4to                    0      4  \n",
        "a5taylor              NaN    NaN  \n",
        "a7luong               NaN    NaN  \n",
        "abw004                NaN    NaN  \n",
        "actsang                 1      1  \n",
        "adfisher              NaN    NaN  \n",
        "aferbrac              NaN    NaN  \n",
        "ahem                  NaN    NaN  \n",
        "ajjiang               NaN    NaN  \n",
        "ajudah                NaN    NaN  "
       ]
      }
     ],
     "prompt_number": 2
    },
    {
     "cell_type": "markdown",
     "metadata": {},
     "source": [
      "### Remove Outliers ###\n",
      "* Remove users who have not attempted many parts, and parts not attempted by many users.  \n",
      "* Replace NaN in the sub-table with 0.  "
     ]
    },
    {
     "cell_type": "code",
     "collapsed": false,
     "input": [
      "user_cutoff_quantile = 0.2\n",
      "#count the number of tries cells that are not nan row-wise (users)\n",
      "# This is the number of attempted problem parts per user\n",
      "#Plot a histogram of number of number of attempted problem parts, and show the cutoff \n",
      "# for determining which users are \"inactive\"\n",
      "user_list=df.groupby('user')['tries'].count()\n",
      "user_list.sort()\n",
      "user_list.hist(bins=40, color='blue')\n",
      "# Get the height of the histogram\n",
      "hist_height = hist(user_list, bins=40, label='number of attempted parts per user')[0].max()\n",
      "user_cutoff = user_list.quantile(user_cutoff_quantile)\n",
      "vlines([user_cutoff],[0],[hist_height], color='red', label='cutoff at %.1f attempted parts'%user_cutoff)\n",
      "legend()\n",
      "# Show examples of active and inactive users\n",
      "inactive_users = user_list[user_list <= user_cutoff]\n",
      "active_users = user_list[user_list > user_cutoff]\n",
      "print '### Sample Inactive Users:'\n",
      "print random.sample(inactive_users.index, 10)\n",
      "print '### Sample Active Users:'\n",
      "print random.sample(active_users.index, 10)"
     ],
     "language": "python",
     "metadata": {},
     "outputs": [
      {
       "output_type": "stream",
       "stream": "stdout",
       "text": [
        "### Sample Inactive Users:\n",
        "['shquach', 'abw004', 'jdake', 'dnl001', 'zzhai', 'kbhatt', 'mlrothen', 'mfhill', 'adfisher', 'thk002']\n",
        "### Sample Active Users:\n",
        "['rtien', 'dmozlows', 'z3zeng', 'dcpeters', 'jmkwan', 'jalo', 'miy014', 'rsmalik', 'ehk006', 'ayl051']\n"
       ]
      },
      {
       "metadata": {},
       "output_type": "display_data",
       "png": "[encoded data removed]",
       "text": [
        "<matplotlib.figure.Figure at 0x10b307350>"
       ]
      }
     ],
     "prompt_number": 3
    },
    {
     "cell_type": "code",
     "collapsed": false,
     "input": [
      "part_cutoff_quantile = 0.42\n",
      "#count the number of tries cells that are not nan column-wise (part)\n",
      "# This is the number of users who attempted the part\n",
      "#Plot a histogram of number of number of users who attempted parts, and show the cutoff\n",
      "# for determining which users are \"inactive\"\n",
      "part_list=df.groupby(['assignment','problem_no','part_no'])['tries'].count()\n",
      "part_list.sort()\n",
      "part_list.hist(bins=40, color='blue')\n",
      "# Get the height of the histogram\n",
      "hist_height = hist(part_list, bins=40, label='number of users who attempted part')[0].max()\n",
      "part_cutoff = part_list.quantile(part_cutoff_quantile)\n",
      "vlines([part_cutoff],[0],[hist_height], color='red', label='cutoff at %.1f users who attempted part'%part_cutoff)\n",
      "legend()\n",
      "junk_parts = part_list[part_list <= part_cutoff]\n",
      "attempted_parts = part_list[part_list > part_cutoff]\n",
      "print '### Sample Junk Parts:'\n",
      "print junk_parts.ix[random.sample(junk_parts.index,5)]\n",
      "print ''\n",
      "print '### Sample Attempted Parts:'\n",
      "print attempted_parts.ix[random.sample(attempted_parts.index,5)]\n",
      "print ''"
     ],
     "language": "python",
     "metadata": {},
     "outputs": [
      {
       "output_type": "stream",
       "stream": "stdout",
       "text": [
        "### Sample Junk Parts:\n",
        "assignment            problem_no  part_no\n",
        "Assignment10.18.13    4           206        1\n",
        "Orientation           3           2          4\n",
        "Assignment10.18.13    7           185        1\n",
        "experimentalProblems  1           1          2\n",
        "Orientation           12          3          2\n",
        "dtype: int64\n",
        "\n",
        "### Sample Attempted Parts:\n",
        "assignment          problem_no  part_no\n",
        "Assignment2         7           3          173\n",
        "Assignment10.14.13  6           1          168\n",
        "Assignment10.16.13  5           1          170\n",
        "Assignment10.11.13  6           1          171\n",
        "Assignment10.23.13  2           3          164\n",
        "dtype: int64\n",
        "\n"
       ]
      },
      {
       "metadata": {},
       "output_type": "display_data",
       "png": "[encoded data removed]",
       "text": [
        "<matplotlib.figure.Figure at 0x10ad4fa10>"
       ]
      }
     ],
     "prompt_number": 4
    },
    {
     "cell_type": "code",
     "collapsed": false,
     "input": [
      "# remove junk_parts and inactive_users from the data frame.\n",
      "dfr1=df[[(user in active_users) \n",
      "        for (user,assignment,problem_no,part_no) in df[['user','assignment','problem_no','part_no']].values]]\n",
      "dfr2=df[[(user in active_users and (assignment, problem_no,part_no) in attempted_parts) \n",
      "        for (user,assignment,problem_no,part_no) in df[['user','assignment','problem_no','part_no']].values]]\n",
      "print shape(df),shape(dfr1),shape(dfr2)\n"
     ],
     "language": "python",
     "metadata": {},
     "outputs": [
      {
       "output_type": "stream",
       "stream": "stdout",
       "text": [
        "(57232, 8) (52335, 8) (51735, 8)\n"
       ]
      }
     ],
     "prompt_number": 49
    },
    {
     "cell_type": "code",
     "collapsed": false,
     "input": [
      "print 'Original table size, (#users,#parts)='+str(shape(Table))\n",
      "#Table=Table.drop(inactive_users.index,axis=0)\n",
      "print 'After dropping users, (#users,#parts)='+str(shape(Table))\n",
      "Table=Table.drop(junk_parts.index,axis=1,level=3)\n",
      "print 'After dropping parts, (#users,#parts)='+str(shape(Table))"
     ],
     "language": "python",
     "metadata": {},
     "outputs": [
      {
       "output_type": "stream",
       "stream": "stdout",
       "text": [
        "Original table size, (#users,#parts)=(164, 1908)\n",
        "After dropping users, (#users,#parts)=(164, 1908)\n",
        "After dropping parts, (#users,#parts)=(164, 1908)\n"
       ]
      }
     ],
     "prompt_number": 10
    },
    {
     "cell_type": "markdown",
     "metadata": {},
     "source": [
      "Look at some basic statistics and identify outliers"
     ]
    },
    {
     "cell_type": "code",
     "collapsed": false,
     "input": [
      "'ggg' in inactive_users"
     ],
     "language": "python",
     "metadata": {},
     "outputs": [
      {
       "metadata": {},
       "output_type": "pyout",
       "prompt_number": 17,
       "text": [
        "False"
       ]
      }
     ],
     "prompt_number": 17
    },
    {
     "cell_type": "code",
     "collapsed": false,
     "input": [
      "s=shape(Table)\n",
      "sz=s[0]*s[1]+0.0\n",
      "count=Table.count().sum()\n",
      "print s,sz,count,(0.0+sz-count)/sz\n",
      "Tf=Table.unstack()\n",
      "print Tf.mean(),Tf.var()\n",
      "Tf.hist(bins=100)\n",
      "print (Tf>20).sum()/sz, Table.unstack().max()"
     ],
     "language": "python",
     "metadata": {},
     "outputs": [
      {
       "output_type": "stream",
       "stream": "stdout",
       "text": [
        "(164, 237) 38868.0 36686 0.0561387259442\n",
        "3.82434716241 33.7145452669\n",
        "0.0188329731399"
       ]
      },
      {
       "output_type": "stream",
       "stream": "stdout",
       "text": [
        " 212.0\n"
       ]
      },
      {
       "metadata": {},
       "output_type": "display_data",
       "png": "[encoded data removed]",
       "text": [
        "<matplotlib.figure.Figure at 0x10b3b7350>"
       ]
      }
     ],
     "prompt_number": 29
    },
    {
     "cell_type": "code",
     "collapsed": false,
     "input": [
      "Table = Table.apply(log)\n",
      "Tf=Table.unstack()\n",
      "print Tf.mean(),Tf.var()\n",
      "Tf.hist(bins=100)"
     ],
     "language": "python",
     "metadata": {},
     "outputs": [
      {
       "output_type": "stream",
       "stream": "stdout",
       "text": [
        "0.850590695571 0.786529856118\n"
       ]
      },
      {
       "metadata": {},
       "output_type": "pyout",
       "prompt_number": 30,
       "text": [
        "<matplotlib.axes.AxesSubplot at 0x10ad773d0>"
       ]
      },
      {
       "metadata": {},
       "output_type": "display_data",
       "png": "[encoded data removed]",
       "text": [
        "<matplotlib.figure.Figure at 0x10b1b38d0>"
       ]
      }
     ],
     "prompt_number": 30
    },
    {
     "cell_type": "code",
     "collapsed": false,
     "input": [
      "Mean=Tf.mean()\n",
      "Tf=Tf-Mean\n",
      "print Tf.mean(),Tf.var()\n",
      "Tf.hist(bins=100)\n",
      "Table=Table-Mean"
     ],
     "language": "python",
     "metadata": {},
     "outputs": [
      {
       "output_type": "stream",
       "stream": "stdout",
       "text": [
        "1.82775048738e-13 0.786529856119\n"
       ]
      },
      {
       "metadata": {},
       "output_type": "display_data",
       "png": "[encoded data removed]",
       "text": [
        "<matplotlib.figure.Figure at 0x10b679d10>"
       ]
      }
     ],
     "prompt_number": 31
    },
    {
     "cell_type": "markdown",
     "metadata": {},
     "source": [
      "### Perform Regression ###"
     ]
    },
    {
     "cell_type": "code",
     "collapsed": false,
     "input": [
      "mean_per_part=pd.DataFrame(Table.mean(axis=0),columns=['mean_per_part']).reset_index()\n",
      "mean_per_user=pd.DataFrame(Table.mean(axis=1),columns=['mean_per_user']).reset_index()\n",
      "RTf=pd.DataFrame(Tf,columns=['Y']).reset_index()\n",
      "\n",
      "RTf=pd.merge(RTf,mean_per_user,on=['user'])\n",
      "RTf=pd.merge(RTf,mean_per_part,on=['assignment','problem_no','part_no'])\n",
      "RTf=RTf.dropna();\n",
      "RTf['product']=RTf['mean_per_part']*RTf['mean_per_user']\n",
      "print RTf.head()"
     ],
     "language": "python",
     "metadata": {},
     "outputs": [
      {
       "output_type": "stream",
       "stream": "stdout",
       "text": [
        "           assignment  problem_no  part_no      user         Y  mean_per_user  \\\n",
        "0  Assignment10.11.13           1        1      a4to  1.095319       0.241453   \n",
        "1  Assignment10.11.13           1        1  a5taylor -0.157444      -0.038938   \n",
        "3  Assignment10.11.13           1        1   actsang -0.850591      -0.024419   \n",
        "4  Assignment10.11.13           1        1  aferbrac -0.850591      -0.211147   \n",
        "5  Assignment10.11.13           1        1      ahem -0.850591      -0.202087   \n",
        "\n",
        "   mean_per_part   product  \n",
        "0       0.806005  0.194612  \n",
        "1       0.806005 -0.031384  \n",
        "3       0.806005 -0.019681  \n",
        "4       0.806005 -0.170185  \n",
        "5       0.806005 -0.162883  \n"
       ]
      },
      {
       "output_type": "stream",
       "stream": "stderr",
       "text": [
        "//anaconda/python.app/Contents/lib/python2.7/site-packages/pandas/core/config.py:570: DeprecationWarning: height has been deprecated.\n",
        "\n",
        "  warnings.warn(d.msg, DeprecationWarning)\n",
        "//anaconda/python.app/Contents/lib/python2.7/site-packages/pandas/core/config.py:570: DeprecationWarning: height has been deprecated.\n",
        "\n",
        "  warnings.warn(d.msg, DeprecationWarning)\n"
       ]
      }
     ],
     "prompt_number": 49
    },
    {
     "cell_type": "code",
     "collapsed": false,
     "input": [
      "X=RTf[['mean_per_user','mean_per_part','product']].values\n",
      "Y=RTf[['Y']]\n",
      "x, residuals, rank, s = lstsq(X,Y)\n",
      "print shape(X),shape(Y)"
     ],
     "language": "python",
     "metadata": {},
     "outputs": [
      {
       "output_type": "stream",
       "stream": "stdout",
       "text": [
        "(36686, 3) (36686, 1)\n"
       ]
      }
     ],
     "prompt_number": 50
    },
    {
     "cell_type": "code",
     "collapsed": false,
     "input": [
      "print residuals[0]/len(Y),x,s"
     ],
     "language": "python",
     "metadata": {},
     "outputs": [
      {
       "output_type": "stream",
       "stream": "stdout",
       "text": [
        "0.455575948993 [[ 0.99637913]\n",
        " [ 0.99890417]\n",
        " [ 0.91284913]] [ 102.31315836   36.87559719   19.71663866]\n"
       ]
      }
     ],
     "prompt_number": 51
    },
    {
     "cell_type": "code",
     "collapsed": false,
     "input": [
      "print 'Parameters of least-square fit: '\n",
      "print '<user/part tries> = %.3f user, %.3f part, %.3f product, base rate: %.3f'% tuple(x.tolist())\n",
      "print 'Proportion reduction in variance: %.3f'%(residuals / (L[:,2]**2).sum())"
     ],
     "language": "python",
     "metadata": {},
     "outputs": [
      {
       "ename": "TypeError",
       "evalue": "float argument required, not list",
       "output_type": "pyerr",
       "traceback": [
        "\u001b[0;31m---------------------------------------------------------------------------\u001b[0m\n\u001b[0;31mTypeError\u001b[0m                                 Traceback (most recent call last)",
        "\u001b[0;32m<ipython-input-52-eae6381ec44e>\u001b[0m in \u001b[0;36m<module>\u001b[0;34m()\u001b[0m\n\u001b[1;32m      1\u001b[0m \u001b[0;32mprint\u001b[0m \u001b[0;34m'Parameters of least-square fit: '\u001b[0m\u001b[0;34m\u001b[0m\u001b[0m\n\u001b[0;32m----> 2\u001b[0;31m \u001b[0;32mprint\u001b[0m \u001b[0;34m'<user/part tries> = %.3f user, %.3f part, %.3f product, base rate: %.3f'\u001b[0m\u001b[0;34m%\u001b[0m \u001b[0mtuple\u001b[0m\u001b[0;34m(\u001b[0m\u001b[0mx\u001b[0m\u001b[0;34m.\u001b[0m\u001b[0mtolist\u001b[0m\u001b[0;34m(\u001b[0m\u001b[0;34m)\u001b[0m\u001b[0;34m)\u001b[0m\u001b[0;34m\u001b[0m\u001b[0m\n\u001b[0m\u001b[1;32m      3\u001b[0m \u001b[0;32mprint\u001b[0m \u001b[0;34m'Proportion reduction in variance: %.3f'\u001b[0m\u001b[0;34m%\u001b[0m\u001b[0;34m(\u001b[0m\u001b[0mresiduals\u001b[0m \u001b[0;34m/\u001b[0m \u001b[0;34m(\u001b[0m\u001b[0mL\u001b[0m\u001b[0;34m[\u001b[0m\u001b[0;34m:\u001b[0m\u001b[0;34m,\u001b[0m\u001b[0;36m2\u001b[0m\u001b[0;34m]\u001b[0m\u001b[0;34m**\u001b[0m\u001b[0;36m2\u001b[0m\u001b[0;34m)\u001b[0m\u001b[0;34m.\u001b[0m\u001b[0msum\u001b[0m\u001b[0;34m(\u001b[0m\u001b[0;34m)\u001b[0m\u001b[0;34m)\u001b[0m\u001b[0;34m\u001b[0m\u001b[0m\n",
        "\u001b[0;31mTypeError\u001b[0m: float argument required, not list"
       ]
      },
      {
       "output_type": "stream",
       "stream": "stdout",
       "text": [
        "Parameters of least-square fit: \n"
       ]
      }
     ],
     "prompt_number": 52
    },
    {
     "cell_type": "code",
     "collapsed": false,
     "input": [
      "R = (Y - X.dot(x))\n",
      "Residuals = R.reshape(Table.shape)"
     ],
     "language": "python",
     "metadata": {},
     "outputs": [],
     "prompt_number": 21
    },
    {
     "cell_type": "code",
     "collapsed": false,
     "input": [
      "# Learn and score PCA/KMeans\n",
      "ks = np.array([1,2,3,4,5,10,20,25])\n",
      "kmeans_scores = []\n",
      "pca_scores = []\n",
      "U,S,V = svd(Residuals)\n",
      "for k in ks:\n",
      "    model = KMeans(n_clusters=k)\n",
      "    score = (model.fit_transform(Residuals).min(axis=1)**2).sum()\n",
      "    kmeans_scores.append(score)\n",
      "    S2 = S.copy()\n",
      "    S2[k:] = 0\n",
      "    D = np.concatenate([np.diag(S2), np.zeros(shape=(164,349-164))], axis=1)\n",
      "    Pred = np.dot(np.dot(U,D),V)\n",
      "    pca_scores.append(   ((Pred - Residuals)**2).sum().sum()   )\n",
      "\n",
      "kmeans_scores = np.array(kmeans_scores)\n",
      "print kmeans_scores\n",
      "pca_scores = np.array(pca_scores)\n",
      "\n",
      "total_residual_variance = (Residuals**2).sum().sum()\n",
      "normalized_ks = ks/float(Residuals.shape[0])\n",
      "\n",
      "# Compute variance ratio for KMeans\n",
      "kmeans_scores = 1 - (kmeans_scores / total_residual_variance)\n",
      "# Compute variance ratio for PCA\n",
      "pca_scores = 1 - (pca_scores / total_residual_variance)\n",
      "# Plot proportion of variance reduction vs. space compression\n",
      "plot(normalized_ks, kmeans_scores, label='kmeans')\n",
      "plot(normalized_ks,pca_scores, label='pca')\n",
      "plot(normalized_ks,(np.cumsum(S**2))[ks]/((S**2).sum()), label='pca singular values')\n",
      "#plot(normalized_ks, pca_scores)\n",
      "xlabel('Compression ratio')\n",
      "ylabel('Proportion of Variance Explained')\n",
      "legend()"
     ],
     "language": "python",
     "metadata": {},
     "outputs": [
      {
       "ename": "ValueError",
       "evalue": "matrices are not aligned",
       "output_type": "pyerr",
       "traceback": [
        "\u001b[0;31m---------------------------------------------------------------------------\u001b[0m\n\u001b[0;31mValueError\u001b[0m                                Traceback (most recent call last)",
        "\u001b[0;32m<ipython-input-22-cad193e3de67>\u001b[0m in \u001b[0;36m<module>\u001b[0;34m()\u001b[0m\n\u001b[1;32m     11\u001b[0m     \u001b[0mS2\u001b[0m\u001b[0;34m[\u001b[0m\u001b[0mk\u001b[0m\u001b[0;34m:\u001b[0m\u001b[0;34m]\u001b[0m \u001b[0;34m=\u001b[0m \u001b[0;36m0\u001b[0m\u001b[0;34m\u001b[0m\u001b[0m\n\u001b[1;32m     12\u001b[0m     \u001b[0mD\u001b[0m \u001b[0;34m=\u001b[0m \u001b[0mnp\u001b[0m\u001b[0;34m.\u001b[0m\u001b[0mconcatenate\u001b[0m\u001b[0;34m(\u001b[0m\u001b[0;34m[\u001b[0m\u001b[0mnp\u001b[0m\u001b[0;34m.\u001b[0m\u001b[0mdiag\u001b[0m\u001b[0;34m(\u001b[0m\u001b[0mS2\u001b[0m\u001b[0;34m)\u001b[0m\u001b[0;34m,\u001b[0m \u001b[0mnp\u001b[0m\u001b[0;34m.\u001b[0m\u001b[0mzeros\u001b[0m\u001b[0;34m(\u001b[0m\u001b[0mshape\u001b[0m\u001b[0;34m=\u001b[0m\u001b[0;34m(\u001b[0m\u001b[0;36m164\u001b[0m\u001b[0;34m,\u001b[0m\u001b[0;36m349\u001b[0m\u001b[0;34m-\u001b[0m\u001b[0;36m164\u001b[0m\u001b[0;34m)\u001b[0m\u001b[0;34m)\u001b[0m\u001b[0;34m]\u001b[0m\u001b[0;34m,\u001b[0m \u001b[0maxis\u001b[0m\u001b[0;34m=\u001b[0m\u001b[0;36m1\u001b[0m\u001b[0;34m)\u001b[0m\u001b[0;34m\u001b[0m\u001b[0m\n\u001b[0;32m---> 13\u001b[0;31m     \u001b[0mPred\u001b[0m \u001b[0;34m=\u001b[0m \u001b[0mnp\u001b[0m\u001b[0;34m.\u001b[0m\u001b[0mdot\u001b[0m\u001b[0;34m(\u001b[0m\u001b[0mnp\u001b[0m\u001b[0;34m.\u001b[0m\u001b[0mdot\u001b[0m\u001b[0;34m(\u001b[0m\u001b[0mU\u001b[0m\u001b[0;34m,\u001b[0m\u001b[0mD\u001b[0m\u001b[0;34m)\u001b[0m\u001b[0;34m,\u001b[0m\u001b[0mV\u001b[0m\u001b[0;34m)\u001b[0m\u001b[0;34m\u001b[0m\u001b[0m\n\u001b[0m\u001b[1;32m     14\u001b[0m     \u001b[0mpca_scores\u001b[0m\u001b[0;34m.\u001b[0m\u001b[0mappend\u001b[0m\u001b[0;34m(\u001b[0m   \u001b[0;34m(\u001b[0m\u001b[0;34m(\u001b[0m\u001b[0mPred\u001b[0m \u001b[0;34m-\u001b[0m \u001b[0mResiduals\u001b[0m\u001b[0;34m)\u001b[0m\u001b[0;34m**\u001b[0m\u001b[0;36m2\u001b[0m\u001b[0;34m)\u001b[0m\u001b[0;34m.\u001b[0m\u001b[0msum\u001b[0m\u001b[0;34m(\u001b[0m\u001b[0;34m)\u001b[0m\u001b[0;34m.\u001b[0m\u001b[0msum\u001b[0m\u001b[0;34m(\u001b[0m\u001b[0;34m)\u001b[0m   \u001b[0;34m)\u001b[0m\u001b[0;34m\u001b[0m\u001b[0m\n\u001b[1;32m     15\u001b[0m \u001b[0;34m\u001b[0m\u001b[0m\n",
        "\u001b[0;31mValueError\u001b[0m: matrices are not aligned"
       ]
      }
     ],
     "prompt_number": 22
    },
    {
     "cell_type": "code",
     "collapsed": false,
     "input": [
      "print sorted(Table.index[np.argsort(U[:,0])[-10:]])\n",
      "print sorted(Table.columns[np.argsort(U[0,:])[-10:]])"
     ],
     "language": "python",
     "metadata": {},
     "outputs": [
      {
       "output_type": "stream",
       "stream": "stdout",
       "text": [
        "['clemon', 'dcchou', 'hshaikle', 'jagustin', 'jpw007', 'khchong', 'mabid', 'ppbalist', 'rtien', 'suliu']\n",
        "[('Assignment10.11.13', 3L, 3L), ('Assignment10.11.13', 4L, 2L), ('Assignment10.11.13', 5L, 2L), ('Assignment10.14.13', 2L, 2L), ('Assignment10.14.13', 4L, 2L), ('Assignment10.14.13', 5L, 10L), ('Assignment10.14.13', 5L, 12L), ('Assignment10.14.13', 7L, 2L), ('Assignment10.16.13', 4L, 1L), ('Assignment10.18.13', 1L, 2L)]\n"
       ]
      }
     ],
     "prompt_number": 498
    },
    {
     "cell_type": "code",
     "collapsed": false,
     "input": [
      "print sorted(Table.index[np.argsort(U[:,1])[-10:]])\n",
      "print sorted(Table.columns[np.argsort(U[1,:])[-10:]])"
     ],
     "language": "python",
     "metadata": {},
     "outputs": [
      {
       "output_type": "stream",
       "stream": "stdout",
       "text": [
        "['clemon', 'e6hwang', 'esnover', 'jagustin', 'jchin', 'jogong', 'jpw007', 'rtien', 'suliu', 'xil039']\n",
        "[('Assignment10.14.13', 1L, 4L), ('Assignment10.14.13', 4L, 1L), ('Assignment10.14.13', 7L, 3L), ('Assignment10.18.13', 1L, 1L), ('Assignment10.18.13', 2L, 1L), ('Assignment10.18.13', 2L, 6L), ('Assignment10.18.13', 4L, 2L), ('Assignment10.23.13', 1L, 2L), ('Assignment10.23.13', 2L, 1L), ('Assignment10.23.13', 3L, 1L)]\n"
       ]
      }
     ],
     "prompt_number": 499
    },
    {
     "cell_type": "code",
     "collapsed": false,
     "input": [],
     "language": "python",
     "metadata": {},
     "outputs": []
    }
   ],
   "metadata": {}
  }
 ]
}