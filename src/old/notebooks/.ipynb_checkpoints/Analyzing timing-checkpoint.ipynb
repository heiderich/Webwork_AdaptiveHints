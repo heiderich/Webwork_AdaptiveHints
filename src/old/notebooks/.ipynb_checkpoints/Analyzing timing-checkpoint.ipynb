{
 "metadata": {
  "name": ""
 },
 "nbformat": 3,
 "nbformat_minor": 0,
 "worksheets": [
  {
   "cells": [
    {
     "cell_type": "markdown",
     "metadata": {},
     "source": [
      "# Prepare Data #"
     ]
    },
    {
     "cell_type": "markdown",
     "metadata": {},
     "source": [
      "### Import ###"
     ]
    },
    {
     "cell_type": "code",
     "collapsed": false,
     "input": [
      "import random, os,sys\n",
      "from hashlib import md5\n",
      "sys.path.append(os.environ['WWAH_SRC'])\n",
      "from student_behavior_analysis.cluster_exprs import cluster_expr_dataframe, preprocess_exprs\n",
      "from numpy.linalg import lstsqtsq\n",
      "from sklearn.linear_model import LogisticRegression\n",
      "import numpy as np\n",
      "from sklearn.cluster import KMeans\n",
      "from sklearn.decomposition import PCA\n",
      "import pandas as pd\n",
      "import pickle\n",
      "from datetime import timedelta\n",
      "import random\n",
      "import matplotlib.pyplot as plt\n",
      "from scipy.stats import pearsonr"
     ],
     "language": "python",
     "metadata": {},
     "outputs": [],
     "prompt_number": 1
    },
    {
     "cell_type": "code",
     "collapsed": false,
     "input": [
      "def sample_df(df, samples):\n",
      "    ''' Samples rows of a dataframe '''\n",
      "    if len(df)<samples:\n",
      "        return df\n",
      "    else:\n",
      "        rows = random.sample(df.index, samples)\n",
      "        return df.ix[rows]"
     ],
     "language": "python",
     "metadata": {},
     "outputs": [],
     "prompt_number": 2
    },
    {
     "cell_type": "markdown",
     "metadata": {},
     "source": [
      "### Load Attempt Logs from pickle files ###\n",
      "\n",
      "behaveioral = the *aggregate* number of tries and amount of time spent \n",
      "processed_logs = the log of answers made by each student.\n",
      "processed_assigned_hints = Table mapping hint id to the problem part with which it is associated.\n",
      "\n",
      "past_answer/realtime = collected only when student submits, realtime is any keystroke (through the javascript)\n",
      "\n",
      "-rw-------  1 yoavfreund  staff    7818619 Feb 25 10:12 UCSD_CSE103_behavioral_statistics_past_answer.pkl\n",
      "-rw-------  1 yoavfreund  staff    7444125 Feb 25 16:48 UCSD_CSE103_behavioral_statistics_realtime.pkl\n",
      "-rw-------  1 yoavfreund  staff     147982 Feb 25 16:45 UCSD_CSE103_processed_assigned_hints.pkl\n",
      "-rw-------  1 yoavfreund  staff  159678464 Feb 25 10:17 UCSD_CSE103_processed_logs_past_answer.pkl"
     ]
    },
    {
     "cell_type": "code",
     "collapsed": false,
     "input": [
      "ls -l /Users/yoavfreund/Google\\ Drive/PickleFiles/"
     ],
     "language": "python",
     "metadata": {},
     "outputs": [
      {
       "output_type": "stream",
       "stream": "stdout",
       "text": [
        "total 518288\r\n",
        "-rw-r--r--@ 1 yoavfreund  503            0 Feb 25 19:34 Icon?\r\n",
        "-rw-------  1 yoavfreund  staff    7818619 Feb 25 13:12 UCSD_CSE103_behavioral_statistics_past_answer.pkl\r\n",
        "-rw-------  1 yoavfreund  staff    7444125 Feb 25 19:48 UCSD_CSE103_behavioral_statistics_realtime.pkl\r\n",
        "-rw-------  1 yoavfreund  staff     147982 Feb 25 19:45 UCSD_CSE103_processed_assigned_hints.pkl\r\n",
        "-rw-------  1 yoavfreund  staff  159678464 Feb 25 13:17 UCSD_CSE103_processed_logs_past_answer.pkl\r\n",
        "-rw-------  1 yoavfreund  staff   89815186 Feb 25 19:51 UCSD_CSE103_processed_logs_realtime.pkl\r\n"
       ]
      }
     ],
     "prompt_number": 3
    },
    {
     "cell_type": "code",
     "collapsed": false,
     "input": [
      "course_name='UCSD_CSE103'\n",
      "\n",
      "# Load the table mapping <assigned hint id> to the problem-part-id of the hint\n",
      "assigned_hints_path = '%s/%s_processed_assigned_hints.pkl' \\\n",
      "    %(os.environ['WWAH_PICKLE'],course_name)\n",
      "with open(assigned_hints_path,'rb') as f:\n",
      "    assigned_hints = pickle.load(f).set_index('assigned_hint_id')\n",
      "\n",
      "# Load aggregate assignment/problem/part/user statistics into variable `agg`\n",
      "behavioral_statistics_path = '%s/%s_behavioral_statistics_realtime.pkl' \\\n",
      "    %(os.environ['WWAH_PICKLE'],course_name)\n",
      "with open(behavioral_statistics_path,'rb') as f:\n",
      "    agg = pickle.load(f)['BehaviourStatistics']\n",
      "\n",
      "# Load timestamped answer logs into variable `logs`\n",
      "processed_logs_path = '%s/%s_processed_logs_realtime.pkl' \\\n",
      "    %(os.environ['WWAH_PICKLE'],course_name)\n",
      "with open(processed_logs_path,'rb') as f:\n",
      "    logs = pickle.load(f)['FullRealtimeDataFrame']\n",
      "\n",
      "# Print loaded DataFrames\n",
      "print 'Aggregate behavior statistics:'\n",
      "print agg\n",
      "print '\\nFull answer log:'\n",
      "print logs"
     ],
     "language": "python",
     "metadata": {},
     "outputs": [
      {
       "output_type": "stream",
       "stream": "stdout",
       "text": [
        "Aggregate behavior statistics:\n",
        "<class 'pandas.core.frame.DataFrame'>\n",
        "Int64Index: 122703 entries, 0 to 11\n",
        "Data columns (total 8 columns):\n",
        "assignment       122703  non-null values\n",
        "final_correct    122703  non-null values\n",
        "part_no          122703  non-null values\n",
        "problem_no       122703  non-null values\n",
        "start_time       122703  non-null values\n",
        "time             122703  non-null values\n",
        "tries            122703  non-null values\n",
        "user             122703  non-null values\n",
        "dtypes: float64(1), int64(5), object(2)\n",
        "\n",
        "Full answer log:\n",
        "<class 'pandas.core.frame.DataFrame'>\n",
        "DatetimeIndex: 483389 entries, 2013-10-01 02:56:06 to 2013-12-20 01:27:21\n",
        "Data columns (total 8 columns):\n",
        "Assignment    483389  non-null values\n",
        "answer        483389  non-null values\n",
        "correct       483389  non-null values\n",
        "part_no       483389  non-null values\n",
        "problem_no    483389  non-null values\n",
        "time          483389  non-null values\n",
        "timestamp     483389  non-null values\n",
        "user          483389  non-null values\n",
        "dtypes: bool(1), datetime64[ns](1), int64(3), object(3)"
       ]
      },
      {
       "output_type": "stream",
       "stream": "stdout",
       "text": [
        "\n"
       ]
      },
      {
       "output_type": "stream",
       "stream": "stderr",
       "text": [
        "//anaconda/lib/python2.7/site-packages/pandas/core/config.py:570: DeprecationWarning: height has been deprecated.\n",
        "\n",
        "  warnings.warn(d.msg, DeprecationWarning)\n",
        "//anaconda/lib/python2.7/site-packages/pandas/core/config.py:570: DeprecationWarning: height has been deprecated.\n",
        "\n",
        "  warnings.warn(d.msg, DeprecationWarning)\n"
       ]
      }
     ],
     "prompt_number": 4
    },
    {
     "cell_type": "code",
     "collapsed": false,
     "input": [
      "def diff(S):\n",
      "    A=S.values\n",
      "    D=A[1:]-A[:-1]\n",
      "    D=array([d if d<600 else np.nan for d in D])\n",
      "    return D"
     ],
     "language": "python",
     "metadata": {},
     "outputs": [],
     "prompt_number": 9
    },
    {
     "cell_type": "code",
     "collapsed": false,
     "input": [
      "PerUser=logs.groupby('user')['time'].apply(diff)\n",
      "PerUser[:3]"
     ],
     "language": "python",
     "metadata": {},
     "outputs": [
      {
       "metadata": {},
       "output_type": "pyout",
       "prompt_number": 10,
       "text": [
        "user\n",
        "a4to        [7.0, 7.0, 68.0, 17.0, 6.0, nan, 10.0, 27.0, 9...\n",
        "a5taylor    [235.0, 469.0, 2.0, 134.0, 5.0, 5.0, 12.0, 8.0...\n",
        "a7luong     [25.0, 4.0, 9.0, 5.0, 4.0, 11.0, 19.0, 14.0, 2...\n",
        "dtype: object"
       ]
      }
     ],
     "prompt_number": 10
    },
    {
     "cell_type": "code",
     "collapsed": false,
     "input": [
      "for user in PerUser.index:\n",
      "    print user,pd.Series(PerUser[user]).mean()"
     ],
     "language": "python",
     "metadata": {},
     "outputs": [
      {
       "output_type": "stream",
       "stream": "stdout",
       "text": [
        "a4to 33.6787815126\n",
        "a5taylor 31.0085441998\n",
        "a7luong 30.0889842632\n",
        "abw004 33.1303976058\n",
        "actsang 27.4610917538\n",
        "adfisher 35.9870786517\n",
        "aferbrac 30.9137839276\n",
        "ahem 57.7539384846\n",
        "ajjiang 23.9463294263\n",
        "ajudah 37.2189841799\n",
        "akhosla 28.0429069456\n",
        "alt020 38.3915929204\n",
        "altam 34.1502538071\n",
        "amahrous 46.0\n",
        "anarsian 30.5288411117\n",
        "aplin 34.0034810127\n",
        "apmodi 32.1510695187\n",
        "ascherme 30.2012578616\n",
        "aschilli 32.1802041722\n",
        "asraman 39.0019577134\n",
        "atjaiswa 22.082297615\n",
        "avaradha 34.8850475367\n",
        "awchar 26.5569511847\n",
        "ayl051 30.4947407964\n",
        "b7chung 35.3713118475\n",
        "babney 35.2171697374\n",
        "bbarmeye 37.3223577236\n",
        "bbatenga 63.1611374408\n",
        "bbatra 28.9137931034\n",
        "bcrussel 21.367333552\n",
        "bhc002 29.4508393285\n",
        "binocenc 45.8313106796\n",
        "blcollin 26.5620394931\n",
        "bqly 32.8677521843\n",
        "byoung 27.5411124547\n",
        "c7lewis 52.2108508015\n",
        "c7liao 30.656146789\n",
        "calmajos 25.7823790408\n",
        "cgnichol 31.8689116055\n",
        "chl218 36.8512215207\n",
        "cjy008 33.5906913073\n",
        "clemon 34.2835919445\n",
        "cthio 31.4901812689\n",
        "cweller 25.950310559\n",
        "cyl054 24.4906986358\n",
        "czelazo 34.87256691\n",
        "d3ung 37.0493942218\n",
        "d8kwon 30.1518926689\n",
        "dbrim 36.4390537289\n",
        "dcchou 32.9394119394\n",
        "dckao 27.0769603098\n",
        "dcpeters 25.7315960912\n",
        "deisenba 49.9221357063\n",
        "dhyee 46.7602941176\n",
        "dis003 31.3708877873\n",
        "dleroy 39.7240468101\n",
        "dmariano 26.9472527473\n",
        "dmozlows 28.7029081295\n",
        "dnl001 38.8696969697\n",
        "dpoplaws 29.8048914537\n",
        "dstimm 24.9465098634\n",
        "e6hwang 39.6044928523\n",
        "edr007 28.3388272583\n",
        "ehk006 38.1133195663\n",
        "eksteven 36.9807228916\n",
        "ekuribe 41.4533710133\n",
        "epauls 26.3346153846\n",
        "ercrawfo 27.8993603412\n",
        "esnover 35.4452745611\n",
        "fake 26.0\n",
        "fozhao 36.9449838188\n",
        "fplatt 24.4315749235\n",
        "gew002 29.634519259\n",
        "h2fung 41.8552412646\n",
        "h3yin 31.5844393593\n",
        "halou 31.0693400167\n",
        "hetorosy 36.6898175397\n",
        "hhsiung 48.2484581498\n",
        "hmai 25.441722973\n",
        "holi 29.2013848817\n",
        "hshaikle 26.8398533007\n",
        "hyc046 30.6648631445\n",
        "j7kelly 37.7747440273\n",
        "j8sandov 30.2151462995\n",
        "jacontre 27.1477707006\n",
        "jagustin 25.734011239\n",
        "jal179 37.0497318381\n",
        "jal198 26.3122458202\n",
        "jalo 30.6435474702\n",
        "jaw044 30.9993359894\n",
        "jay043 44.5216012683\n",
        "jbkong 28.171641791\n",
        "jchin 32.5634920635\n",
        "jcl068 29.3503591381\n",
        "jdake 30.6609775019\n",
        "jen022 37.7659820654\n",
        "jfield 33.7747276688\n",
        "jfranke 33.9822580645\n",
        "jgg007 28.8039315803\n",
        "jhk058 50.5737641105\n",
        "jiw066 26.6804123711\n",
        "jkdey 35.1425485961\n",
        "jmercuri 42.1539030707\n",
        "jmkwan 30.5301944729\n",
        "jml018 31.1236749117\n",
        "jogong 36.6941612604\n",
        "jol133 40.4070891515\n",
        "joliao 33.8783902012\n",
        "jpw007 36.5137372977\n",
        "jtc003 34.2931034483\n",
        "jtoenyes 36.351543943\n",
        "juc030 29.3930552206\n",
        "jwalrath 15.393442623\n",
        "jwk020 40.6786813187\n",
        "jwschow 25.122244489\n",
        "kaw023 32.5382327952\n",
        "kbhatt 43.6361702128\n",
        "kegu 40.186449444\n",
        "khchong 36.4732214229\n",
        "kkw009 44.9408229311\n",
        "klkataya 18.1038461538\n",
        "kmt011 28.2003810734\n",
        "kmulakal 45.8574953732\n",
        "kparkins 37.4642349597\n",
        "krespino 33.7083901774\n",
        "kseligso 27.1941590049\n",
        "kwaite 20.71875\n",
        "lahuynh 30.6101407084\n",
        "lclarici 29.4188647394\n",
        "mabid 33.2708724203\n",
        "mcluong 24.1849246231\n",
        "melkherj 27.154954955\n",
        "metsai 19.9710610932\n",
        "mfhill 25.0595238095\n",
        "mgunarat 40.3426208098\n",
        "mhc002 35.2984293194\n",
        "mhogetve 43.8401184308\n",
        "miw034 29.540623261\n",
        "miy014 31.0460959548\n",
        "mjyoon 29.8166519043\n",
        "mlrothen 42.6204656199\n",
        "mnyayapa 29.4608433735\n",
        "mrobinet 29.526169265\n",
        "mschwegl 25.2401234568\n",
        "mtakano 41.0986460348\n",
        "mvanek 33.2088644264\n",
        "n1liu 30.6715741789\n",
        "nrashink 62.1946764092\n",
        "p2mai 49.7554522703\n",
        "pbozdog 25.8800892359\n",
        "pjia 47.3935091278\n",
        "ppbalist 37.2521032782\n",
        "ptraynor 35.2437753329\n",
        "r1hull 45.8499758804\n",
        "r1luong 38.0588235294\n",
        "r5tong 27.5947506562\n",
        "rchaloux 26.1663316583\n",
        "rcshaw 38.4257518797\n",
        "rmaloney 35.8653295129\n",
        "rqiu 30.9685681024\n",
        "rsmalik 42.8402991641\n",
        "rtien 23.3883725956\n",
        "s2ghosh 32.976744186\n",
        "sagustaf 37.6700282372\n",
        "scheaman 33.1390728477\n",
        "shquach 32.0595065312\n",
        "sjk044 33.5818594104\n",
        "smahbod 46.0215182307\n",
        "smorlan 30.8181470138\n",
        "spitkin 22.1926739927\n",
        "ssampang 36.5746268657\n",
        "ssko 24.6445373758\n",
        "ssoni 17.9243027888\n",
        "suliu 36.6930781215\n",
        "t10lee 33.3433829287\n",
        "tcampbel 23.5512021371\n",
        "tgtruong 36.9049469965\n",
        "thk002 26.4605263158\n",
        "thvo 33.7056634973\n",
        "tiw005 29.6483030005\n",
        "tiz012 32.0378999689\n",
        "tochiai 38.4698666667\n",
        "trtucker 25.0005128205\n",
        "twc006 30.5840236686\n",
        "tyxie 32.6688710439\n",
        "valeong 39.199047619\n",
        "vivenkat 41.3107173725\n",
        "vmavram 30.0746268657\n",
        "w1love 33.2819439974\n",
        "whyao 34.6324379463\n",
        "wihuang 38.3814147018\n",
        "x9xu 27.324500768\n",
        "xil039 36.1624020888\n",
        "xiwen 44.1075630252\n",
        "xiz082 26.1674975075\n",
        "yfreund 29.9818181818\n",
        "yiahmed 35.1551449506\n",
        "ylemberg 32.1744966443\n",
        "yoav.student 108.333333333\n",
        "yochang 39.5604155276\n",
        "yuncong 37.8522167488\n",
        "yuz222 27.1155327343\n",
        "z3zeng 30.4794856093\n",
        "zowu 28.1674774149\n",
        "zzhai 19.2891566265\n"
       ]
      }
     ],
     "prompt_number": 15
    },
    {
     "cell_type": "code",
     "collapsed": false,
     "input": [
      "S = pd.Series(range(10)).values"
     ],
     "language": "python",
     "metadata": {},
     "outputs": [],
     "prompt_number": 29
    },
    {
     "cell_type": "code",
     "collapsed": false,
     "input": [
      "diff(S)"
     ],
     "language": "python",
     "metadata": {},
     "outputs": [
      {
       "metadata": {},
       "output_type": "pyout",
       "prompt_number": 34,
       "text": [
        "array([1, 1, 1, 1, 1, 1, 1, 1, 1])"
       ]
      }
     ],
     "prompt_number": 34
    },
    {
     "cell_type": "code",
     "collapsed": false,
     "input": [
      "na"
     ],
     "language": "python",
     "metadata": {},
     "outputs": [
      {
       "ename": "NameError",
       "evalue": "name 'na' is not defined",
       "output_type": "pyerr",
       "traceback": [
        "\u001b[0;31m---------------------------------------------------------------------------\u001b[0m\n\u001b[0;31mNameError\u001b[0m                                 Traceback (most recent call last)",
        "\u001b[0;32m<ipython-input-33-51bb9b62d9be>\u001b[0m in \u001b[0;36m<module>\u001b[0;34m()\u001b[0m\n\u001b[0;32m----> 1\u001b[0;31m \u001b[0mna\u001b[0m\u001b[0;34m\u001b[0m\u001b[0m\n\u001b[0m",
        "\u001b[0;31mNameError\u001b[0m: name 'na' is not defined"
       ]
      }
     ],
     "prompt_number": 33
    },
    {
     "cell_type": "code",
     "collapsed": false,
     "input": [
      "0/0"
     ],
     "language": "python",
     "metadata": {},
     "outputs": [
      {
       "ename": "ZeroDivisionError",
       "evalue": "integer division or modulo by zero",
       "output_type": "pyerr",
       "traceback": [
        "\u001b[0;31m---------------------------------------------------------------------------\u001b[0m\n\u001b[0;31mZeroDivisionError\u001b[0m                         Traceback (most recent call last)",
        "\u001b[0;32m<ipython-input-53-6549dea6d1ae>\u001b[0m in \u001b[0;36m<module>\u001b[0;34m()\u001b[0m\n\u001b[0;32m----> 1\u001b[0;31m \u001b[0;36m0\u001b[0m\u001b[0;34m/\u001b[0m\u001b[0;36m0\u001b[0m\u001b[0;34m\u001b[0m\u001b[0m\n\u001b[0m",
        "\u001b[0;31mZeroDivisionError\u001b[0m: integer division or modulo by zero"
       ]
      }
     ],
     "prompt_number": 53
    },
    {
     "cell_type": "code",
     "collapsed": false,
     "input": [],
     "language": "python",
     "metadata": {},
     "outputs": []
    }
   ],
   "metadata": {}
  }
 ]
}