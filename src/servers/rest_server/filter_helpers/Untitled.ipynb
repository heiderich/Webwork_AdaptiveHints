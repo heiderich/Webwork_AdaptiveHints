{
 "cells": [
  {
   "cell_type": "code",
   "execution_count": 1,
   "metadata": {
    "collapsed": false
   },
   "outputs": [],
   "source": [
    "import sys\n",
    "sys.path.append('../../..')"
   ]
  },
  {
   "cell_type": "code",
   "execution_count": 2,
   "metadata": {
    "collapsed": false
   },
   "outputs": [],
   "source": [
    "import FindMatchingSubexpressions"
   ]
  },
  {
   "cell_type": "code",
   "execution_count": 4,
   "metadata": {
    "collapsed": false
   },
   "outputs": [
    {
     "data": {
      "text/plain": [
       "['',\n",
       " '/anaconda/lib/python2.7/site-packages/cssselect-0.9.1-py2.7.egg',\n",
       " '/anaconda/lib/python2.7/site-packages/pyOpenSSL-0.14-py2.7.egg',\n",
       " '/anaconda/lib/python2.7/site-packages/queuelib-1.2.2-py2.7.egg',\n",
       " '/anaconda/lib/python2.7/site-packages/w3lib-1.8.0-py2.7.egg',\n",
       " '/anaconda/lib/python2.7/site-packages/dirbot-1.0-py2.7.egg',\n",
       " '/anaconda/lib/python2.7/site-packages/xhtml2pdf-0.0.6-py2.7.egg',\n",
       " '/anaconda/lib/python2.7/site-packages/reportlab-3.1.8-py2.7-macosx-10.5-x86_64.egg',\n",
       " '/anaconda/lib/python2.7/site-packages/Pillow-2.5.3-py2.7-macosx-10.5-x86_64.egg',\n",
       " '/anaconda/lib/python2.7/site-packages/PyPDF2-1.23-py2.7.egg',\n",
       " '/anaconda/lib/python2.7/site-packages/html5lib-1.0b3-py2.7.egg',\n",
       " '/anaconda/lib/python2.7/site-packages/webkit2png-0.8.2-py2.7.egg',\n",
       " '/Users/yoavfreund/anaconda/lib/python2.7/site-packages/s3cmd-1.5.2-py2.7.egg',\n",
       " '/Users/yoavfreund/anaconda/lib/python2.7/site-packages/python_magic-0.4.6-py2.7.egg',\n",
       " '/Users/yoavfreund/anaconda/lib/python2.7/site-packages/importchecker-1.1-py2.7.egg',\n",
       " '/anaconda/lib/python2.7/site-packages',\n",
       " '/Users/yoavfreund/python_packages',\n",
       " '/Library/Frameworks/Python.framework/Versions/Current/bin/python',\n",
       " '/Users/yoavfreund/projects/Webwork.Improvement.Project/Demo_for_utube/src',\n",
       " '/opt/local/Library/Frameworks/Python.framework/Versions/2.7/lib/python2.7/site-packages',\n",
       " '/usr/bin/anaconda/lib/python2.7/site-packages',\n",
       " '/anaconda/lib/python2.7/site-packages/PIL',\n",
       " '/anaconda/lib/python2.7/site-packages/runipy-0.1.0-py2.7.egg',\n",
       " '/anaconda/lib/python2.7/site-packages/setuptools-14.3-py2.7.egg',\n",
       " '/usr/bin/anaconda/lib/python2.7/site-packages/PIL',\n",
       " '/usr/bin/anaconda/lib/python2.7/site-packages/setuptools-0.6c11-py2.7.egg-info',\n",
       " '/Users/yoavfreund/anaconda/lib/python27.zip',\n",
       " '/Users/yoavfreund/anaconda/lib/python2.7',\n",
       " '/Users/yoavfreund/anaconda/lib/python2.7/plat-darwin',\n",
       " '/Users/yoavfreund/anaconda/lib/python2.7/plat-mac',\n",
       " '/Users/yoavfreund/anaconda/lib/python2.7/plat-mac/lib-scriptpackages',\n",
       " '/Users/yoavfreund/anaconda/lib/python2.7/lib-tk',\n",
       " '/Users/yoavfreund/anaconda/lib/python2.7/lib-old',\n",
       " '/Users/yoavfreund/anaconda/lib/python2.7/lib-dynload',\n",
       " '/Users/yoavfreund/.local/lib/python2.7/site-packages',\n",
       " '/Users/yoavfreund/anaconda/lib/python2.7/site-packages',\n",
       " '/Users/yoavfreund/anaconda/lib/python2.7/site-packages/PIL',\n",
       " '/Users/yoavfreund/anaconda/lib/python2.7/site-packages/Sphinx-1.2.3-py2.7.egg',\n",
       " '/Users/yoavfreund/anaconda/lib/python2.7/site-packages/setuptools-15.2-py2.7.egg',\n",
       " '/Library/Frameworks/Python.framework/Versions/Current/bin/python',\n",
       " '/Users/yoavfreund/projects/Webwork.Improvement.Project/Demo_for_utube/src',\n",
       " '/opt/local/Library/Frameworks/Python.framework/Versions/2.7/lib/python2.7/site-packages',\n",
       " '/anaconda/lib/python2.7/site-packages/IPython/extensions']"
      ]
     },
     "execution_count": 4,
     "metadata": {},
     "output_type": "execute_result"
    }
   ],
   "source": [
    "import sys\n",
    "sys.path"
   ]
  },
  {
   "cell_type": "code",
   "execution_count": 3,
   "metadata": {
    "collapsed": false
   },
   "outputs": [
    {
     "data": {
      "text/plain": [
       "'None'"
      ]
     },
     "execution_count": 3,
     "metadata": {},
     "output_type": "execute_result"
    }
   ],
   "source": [
    "str(None)"
   ]
  },
  {
   "cell_type": "code",
   "execution_count": null,
   "metadata": {
    "collapsed": true
   },
   "outputs": [],
   "source": []
  }
 ],
 "metadata": {
  "kernelspec": {
   "display_name": "Python 2",
   "language": "python",
   "name": "python2"
  },
  "language_info": {
   "codemirror_mode": {
    "name": "ipython",
    "version": 2
   },
   "file_extension": ".py",
   "mimetype": "text/x-python",
   "name": "python",
   "nbconvert_exporter": "python",
   "pygments_lexer": "ipython2",
   "version": "2.7.9"
  }
 },
 "nbformat": 4,
 "nbformat_minor": 0
}
