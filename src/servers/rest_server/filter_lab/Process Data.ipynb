{
 "cells": [
  {
   "cell_type": "code",
   "execution_count": 1,
   "metadata": {
    "collapsed": false
   },
   "outputs": [
    {
     "name": "stdout",
     "output_type": "stream",
     "text": [
      "total 2408\r\n",
      "-rw-r-----@ 1 yoavfreund  503     77444 Sep 22 16:28 CSE103_Fall14_Week2_problem13_part1.txt\r\n",
      "-rw-r-----@ 1 yoavfreund  503    196948 Sep 22 16:28 CSE103_Fall14_Week2_problem13_part2.txt\r\n",
      "-rw-r-----@ 1 yoavfreund  503    246614 Sep 22 16:29 CSE103_Fall14_Week2_problem13_part3.txt\r\n",
      "-rw-r-----@ 1 yoavfreund  503    282073 Sep 22 16:29 CSE103_Fall14_Week2_problem13_part4.txt\r\n",
      "-rw-r-----@ 1 yoavfreund  503    177009 Sep 22 16:30 CSE103_Fall14_Week2_problem13_part5.txt\r\n",
      "-rw-r--r--  1 yoavfreund  staff   33019 Sep 22 09:27 Function pointers and multiprocess communication.ipynb\r\n",
      "-rw-r--r--  1 yoavfreund  staff    5761 Sep 22 09:27 Load Libraries.ipynb\r\n",
      "-rw-r--r--  1 yoavfreund  staff    2878 Sep 17 12:57 Problem2.3.json\r\n",
      "-rw-r--r--  1 yoavfreund  staff   65469 Sep 17 12:57 Problem8Attempts.json\r\n",
      "-rw-r--r--  1 yoavfreund  staff   46568 Sep 22 09:27 Process Data.ipynb\r\n",
      "-rw-r--r--  1 yoavfreund  staff   23921 Sep 22 09:27 Week3.Prob8.Part1.json\r\n",
      "-rw-r--r--  1 yoavfreund  staff   36459 Sep 17 12:57 attempts.txt\r\n",
      "-rw-r--r--  1 yoavfreund  staff    1644 Sep 22 09:27 insulating_exec.py\r\n",
      "-rw-r--r--  1 yoavfreund  staff     195 Sep 22 09:27 redirect.py\r\n",
      "-rw-r--r--  1 yoavfreund  staff     619 Sep 22 09:27 timeouterror.py\r\n",
      "-rw-r--r--  1 yoavfreund  staff     699 Sep 22 09:27 tmp\r\n"
     ]
    }
   ],
   "source": [
    "!ls -l\n",
    "import json"
   ]
  },
  {
   "cell_type": "code",
   "execution_count": 182,
   "metadata": {
    "collapsed": false
   },
   "outputs": [
    {
     "name": "stdout",
     "output_type": "stream",
     "text": [
      "/Users/yoavfreund/projects/Webwork.Improvement.Project/AdaptiveHints/src/servers/rest_server/filter_helpers\n"
     ]
    }
   ],
   "source": [
    "\n",
    "%cd ../filter_helpers/"
   ]
  },
  {
   "cell_type": "code",
   "execution_count": 183,
   "metadata": {
    "collapsed": false
   },
   "outputs": [
    {
     "name": "stdout",
     "output_type": "stream",
     "text": [
      "Writing classify_final_value.py\n"
     ]
    }
   ],
   "source": [
    "%%writefile classify_final_value.py\n",
    "def classify_final_value(attempt_flat,answer_flat):\n",
    "    \"\"\" Written by Yoav Freund, Sat Sep 19 17:09:48 PDT 2015\n",
    "    classifies the final value as: correct,parse_error,int, not_int\n",
    "    \"\"\"\n",
    "    \n",
    "    att_final_value=attempt_flat[0]['val']\n",
    "    ans_final_value=answer_flat[0]['val']\n",
    "    \n",
    "    if att_final_value==ans_final_value:\n",
    "        return 'correct'\n",
    "    if isinf(att_final_value):\n",
    "        return \"inf\"\n",
    "    if int(att_final_value)!=att_final_value:\n",
    "        return \"not int\"\n",
    "    else:\n",
    "        return \"int\""
   ]
  },
  {
   "cell_type": "code",
   "execution_count": 184,
   "metadata": {
    "collapsed": false
   },
   "outputs": [
    {
     "name": "stdout",
     "output_type": "stream",
     "text": [
      "Writing answer_is_not_expression.py\n"
     ]
    }
   ],
   "source": [
    "%%writefile answer_is_not_expression.py        \n",
    "def answer_is_not_expression(answer_string, parse_tree, eval_tree, correct_string, correct_tree, correct_eval, user_vars):\n",
    "    if len(att_eval_tree)==1:\n",
    "        return \"Please enter an expression, not just final numerical result\"\n",
    "    else:\n",
    "        return \"\""
   ]
  },
  {
   "cell_type": "code",
   "execution_count": 97,
   "metadata": {
    "collapsed": false
   },
   "outputs": [],
   "source": [
    "def check_81(attempt,att_parse_tree,att_eval_tree,answer,answer_parse_tree,answer_eval_tree,variables):\n",
    "\n",
    "    attempt_class=classify_final_value(att_eval_tree,answer_eval_tree)\n",
    "    if  attempt_class=='correct':\n",
    "        return 'correct answer'\n",
    "    if attempt_class=='int':\n",
    "        return 'Can the answer be an integer number? [_____]{n}'\n",
    "    \n",
    "    hint=answer_is_not_expression(attempt,att_parse_tree,att_eval_tree,answer,answer_parse_tree,answer_eval_tree,variables)\n",
    "    if  len(hint)!=0: \n",
    "        return hint\n",
    "\n",
    "    return None"
   ]
  },
  {
   "cell_type": "code",
   "execution_count": 17,
   "metadata": {
    "collapsed": false
   },
   "outputs": [
    {
     "name": "stdout",
     "output_type": "stream",
     "text": [
      "/Users/yoavfreund/projects/Webwork.Improvement.Project/AdaptiveHints/src/servers/rest_server/filter_helpers\n"
     ]
    }
   ],
   "source": [
    "cd ../filter_helpers/"
   ]
  },
  {
   "cell_type": "code",
   "execution_count": 185,
   "metadata": {
    "collapsed": false
   },
   "outputs": [
    {
     "name": "stdout",
     "output_type": "stream",
     "text": [
      "Writing flatten.py\n"
     ]
    }
   ],
   "source": [
    "%%writefile flatten.py\n",
    "from numbers import Number\n",
    "def flatten(L):\n",
    "    if type(L)!=list:\n",
    "        #print 'not list'\n",
    "        return None\n",
    "    elif len(L)==1 and isinstance(L[0],Number):\n",
    "        #print 'list of one number'\n",
    "        return [{'val':L[0]}]\n",
    "    elif len(L)==3 and type(L[0])==unicode:\n",
    "        if not isinstance(L[1],Number):\n",
    "            print \"expected number, but got %s, in %s\"%(str(L[1]),str(L))\n",
    "            return None\n",
    "        if type(L[2])==list:\n",
    "            if len(L[2])==2:\n",
    "                if type(L[2][0])==int and type(L[2][1])==int:\n",
    "                    return [{'val':L[1],'location':L[2]}]\n",
    "        print \"expected a tuple of the form (operation,value,[start,end])\"\n",
    "        print \"instead got \"+str(L)\n",
    "        return None\n",
    "    else:\n",
    "        #print 'general list'\n",
    "        answer=[]\n",
    "        for item in L:\n",
    "            fitem=flatten(item)\n",
    "            if fitem==None:\n",
    "                return None\n",
    "            answer = answer+fitem\n",
    "        return answer"
   ]
  },
  {
   "cell_type": "code",
   "execution_count": 186,
   "metadata": {
    "collapsed": false
   },
   "outputs": [
    {
     "name": "stdout",
     "output_type": "stream",
     "text": [
      "Writing find_common.py\n"
     ]
    }
   ],
   "source": [
    "%%writefile find_common.py\n",
    "def find_range(item,flat_tree):\n",
    "    for entry in flat_tree:\n",
    "        if item==entry['val']:\n",
    "            return entry['location']\n",
    "    return None\n",
    "    \n",
    "def find_common(attempt,att_flat,answer,ans_flat):\n",
    "    \"Find sub-expressions common to the attempt and the answer\"\n",
    "\n",
    "    att_set=[x['val'] for x in att_flat if x.has_key('val')]\n",
    "    answer_set=[x['val'] for x in ans_flat if x.has_key('val')]\n",
    "\n",
    "    intersection=[x for x in set(att_set) & set(answer_set) if (int(x)!=x) or x>100]\n",
    "    \n",
    "    if len(intersection)==0:\n",
    "        return None\n",
    " \n",
    "    print 'common subexpressions=',str(intersection)\n",
    "    #print 'attempt=%s, att_eval_tree=%s\\n variables=%s,answer=%s,answer_eval_tree=%s'\\\n",
    "    #    %(attempt,str(att_eval_tree),str(variables),answer,str(answer_eval_tree))\n",
    "\n",
    "    for item in intersection:\n",
    "        att_range=find_range(item,att_flat)\n",
    "        ans_range=find_range(item,ans_flat)\n",
    "        print \"attempt subexpression %s is equivalent to answer subexpression %s\"\\\n",
    "        %(attempt[att_range[0]:att_range[1]+2],answer[ans_range[0]:ans_range[1]+2])\n",
    " \n",
    "        "
   ]
  },
  {
   "cell_type": "code",
   "execution_count": 187,
   "metadata": {
    "collapsed": false
   },
   "outputs": [
    {
     "name": "stdout",
     "output_type": "stream",
     "text": [
      "Writing substit.py\n"
     ]
    }
   ],
   "source": [
    "%%writefile substit.py\n",
    "from string import replace\n",
    "def substit(string,variables):\n",
    "    for var in variables.keys():\n",
    "        val=str(variables[var])\n",
    "        string=string.replace(var,val)\n",
    "    return string"
   ]
  },
  {
   "cell_type": "code",
   "execution_count": 195,
   "metadata": {
    "collapsed": false,
    "scrolled": false
   },
   "outputs": [
    {
     "name": "stdout",
     "output_type": "stream",
     "text": [
      "answer= ($coins!/(6!($coins-6)!))/2^$coins\n",
      "\n",
      "Eval tree== None or parsing error ------------------------------\n",
      "[u'462/2^10', [[u'/', [0, 6]], 462, [[u'^', [4, 6]], 2, 10]], [[u'/', 0.451171875, [0, 6]], [462.0], [[u'^', 1024.0, [4, 6]], [2.0], [10.0]]], u'', None, 0, {u'$coins': 11.0}]\n"
     ]
    }
   ],
   "source": [
    "#%%writefile main.py\n",
    "file=open('CSE103_Fall14_Week2_problem13_part5.txt','r');\n",
    "ID=file.readline()\n",
    "answer=file.readline()\n",
    "print 'answer=',answer\n",
    "count =0\n",
    "for line in file.readlines():\n",
    "    count+=1\n",
    "    if count>10: break\n",
    "    params=json.loads(line);\n",
    "    attempt,att_parse_tree,att_eval_tree,answer,answer_parse_tree,answer_eval_tree,variables = params\n",
    "    #print 'answer before substitution',answer\n",
    "    answer=substit(answer,variables)\n",
    "    #print 'answer after substitution',answer\n",
    "    attempt_flat=flatten(att_eval_tree)\n",
    "    answer_flat =flatten(answer_eval_tree)\n",
    "    #print attempt_flat\n",
    "    #print answer_flat\n",
    "    if attempt_flat==None or answer_flat==None:\n",
    "        print 'Eval tree== None or parsing error ------------------------------'\n",
    "        print str(params)\n",
    "        break\n",
    "\n",
    "    Class=classify_final_value(attempt_flat,answer_flat)\n",
    "    if Class=='correct' or Class=='int':\n",
    "        print Class\n",
    "        continue\n",
    "\n",
    "    #print \"attempt={:<40} answer={:<40}\".format(attempt,answer)\n",
    "    hint= find_common(attempt,attempt_flat,answer,answer_flat)\n",
    "    "
   ]
  },
  {
   "cell_type": "code",
   "execution_count": 153,
   "metadata": {
    "collapsed": false
   },
   "outputs": [
    {
     "data": {
      "text/plain": [
       "'this   that                                               and the other            \\n'"
      ]
     },
     "execution_count": 153,
     "metadata": {},
     "output_type": "execute_result"
    }
   ],
   "source": [
    "\"{:<7}{:<51}{:<25}\\n\".format('this', 'that', 'and the other')"
   ]
  },
  {
   "cell_type": "code",
   "execution_count": 193,
   "metadata": {
    "collapsed": false
   },
   "outputs": [
    {
     "name": "stdout",
     "output_type": "stream",
     "text": [
      "/Users/yoavfreund/projects/Webwork.Improvement.Project/AdaptiveHints/src/servers/rest_server/filter_lab\n"
     ]
    }
   ],
   "source": [
    "%cd filter_lab"
   ]
  },
  {
   "cell_type": "code",
   "execution_count": 9,
   "metadata": {
    "collapsed": false
   },
   "outputs": [
    {
     "ename": "SyntaxError",
     "evalue": "invalid syntax (<ipython-input-9-56d3901bedac>, line 1)",
     "output_type": "error",
     "traceback": [
      "\u001b[0;36m  File \u001b[0;32m\"<ipython-input-9-56d3901bedac>\"\u001b[0;36m, line \u001b[0;32m1\u001b[0m\n\u001b[0;31m    defined X\u001b[0m\n\u001b[0m            ^\u001b[0m\n\u001b[0;31mSyntaxError\u001b[0m\u001b[0;31m:\u001b[0m invalid syntax\n"
     ]
    }
   ],
   "source": [
    "defined X"
   ]
  },
  {
   "cell_type": "code",
   "execution_count": 43,
   "metadata": {
    "collapsed": false
   },
   "outputs": [
    {
     "data": {
      "text/plain": [
       "True"
      ]
     },
     "execution_count": 43,
     "metadata": {},
     "output_type": "execute_result"
    }
   ],
   "source": [
    "from numpy import isinf,isn\n",
    "isinf(float('inf'))"
   ]
  },
  {
   "cell_type": "code",
   "execution_count": 83,
   "metadata": {
    "collapsed": false
   },
   "outputs": [],
   "source": [
    "import numbers"
   ]
  },
  {
   "cell_type": "code",
   "execution_count": 88,
   "metadata": {
    "collapsed": false
   },
   "outputs": [
    {
     "data": {
      "text/plain": [
       "False"
      ]
     },
     "execution_count": 88,
     "metadata": {},
     "output_type": "execute_result"
    }
   ],
   "source": [
    "isinstance('10',numbers.Number)"
   ]
  },
  {
   "cell_type": "code",
   "execution_count": 92,
   "metadata": {
    "collapsed": false
   },
   "outputs": [
    {
     "data": {
      "text/plain": [
       "False"
      ]
     },
     "execution_count": 92,
     "metadata": {},
     "output_type": "execute_result"
    }
   ],
   "source": [
    "'abs'=='abd'"
   ]
  },
  {
   "cell_type": "code",
   "execution_count": 106,
   "metadata": {
    "collapsed": false
   },
   "outputs": [
    {
     "data": {
      "text/plain": [
       "u''"
      ]
     },
     "execution_count": 106,
     "metadata": {},
     "output_type": "execute_result"
    }
   ],
   "source": [
    "answer"
   ]
  },
  {
   "cell_type": "code",
   "execution_count": 107,
   "metadata": {
    "collapsed": false
   },
   "outputs": [
    {
     "data": {
      "text/plain": [
       "True"
      ]
     },
     "execution_count": 107,
     "metadata": {},
     "output_type": "execute_result"
    }
   ],
   "source": [
    "X=None\n",
    "X==None"
   ]
  },
  {
   "cell_type": "code",
   "execution_count": null,
   "metadata": {
    "collapsed": true
   },
   "outputs": [],
   "source": []
  }
 ],
 "metadata": {
  "kernelspec": {
   "display_name": "Python 2",
   "language": "python",
   "name": "python2"
  },
  "language_info": {
   "codemirror_mode": {
    "name": "ipython",
    "version": 2
   },
   "file_extension": ".py",
   "mimetype": "text/x-python",
   "name": "python",
   "nbconvert_exporter": "python",
   "pygments_lexer": "ipython2",
   "version": "2.7.9"
  }
 },
 "nbformat": 4,
 "nbformat_minor": 0
}
