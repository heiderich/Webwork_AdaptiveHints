{
 "cells": [
  {
   "cell_type": "code",
   "execution_count": 2,
   "metadata": {
    "collapsed": false
   },
   "outputs": [
    {
     "name": "stdout",
     "output_type": "stream",
     "text": [
      "Problem8Attempts.json Process Data.ipynb    attempts.txt\r\n"
     ]
    }
   ],
   "source": [
    "!ls\n",
    "import json"
   ]
  },
  {
   "cell_type": "code",
   "execution_count": 33,
   "metadata": {
    "collapsed": true
   },
   "outputs": [],
   "source": [
    "def answer_should_be_int(att_eval_tree):\n",
    "    if len(att_eval_tree)==1:\n",
    "        final_value=att_eval_tree[0]\n",
    "    elif len(att_eval_tree)>1:\n",
    "        final_value=att_eval_tree[0][1]\n",
    "    else:\n",
    "        final_value=0\n",
    "    if int(final_value)!=final_value:\n",
    "        return \"Can the answer to this question be a fractional number?(y,n)  [__]{'n'}\"\n",
    "    else:\n",
    "        return \"\"\n",
    "        \n",
    "def answer_is_not_expression(att_eval_tree):\n",
    "    if len(att_eval_tree)==1:\n",
    "        return \"Please enter an expression, not just final numerical result\"\n",
    "    else:\n",
    "        return \"\""
   ]
  },
  {
   "cell_type": "code",
   "execution_count": 34,
   "metadata": {
    "collapsed": true
   },
   "outputs": [],
   "source": [
    "def check_81(params):\n",
    "    attempt,att_parse_tree,att_eval_tree,d1,d2,d3,variables = params\n",
    "\n",
    "    hint=answer_should_be_int(att_eval_tree)\n",
    "    if  len(hint)!=0: \n",
    "        return hint\n",
    "    \n",
    "    hint=answer_is_not_expression(att_eval_tree)\n",
    "    if  len(hint)!=0: \n",
    "        return hint\n",
    "\n",
    "    return None"
   ]
  },
  {
   "cell_type": "code",
   "execution_count": 36,
   "metadata": {
    "collapsed": false
   },
   "outputs": [
    {
     "name": "stdout",
     "output_type": "stream",
     "text": [
      "answer= 26**$n2-25**$n2\n",
      "6^2-5^2 26**$n2-25**$n2 {u'$n2': 5.0}\n",
      "6*2-1 26**$n2-25**$n2 {u'$n2': 6.0}\n",
      "6^2-5^2 26**$n2-25**$n2 {u'$n2': 3.0}\n",
      "6^2-5^2 26**$n2-25**$n2 {u'$n2': 3.0}\n",
      "3*26*26 26**$n2-25**$n2 {u'$n2': 3.0}\n",
      "(26*26*26) - (25*25*25) 26**$n2-25**$n2 {u'$n2': 3.0}\n",
      "2! 26**$n2-25**$n2 {u'$n2': 6.0}\n",
      "6! 26**$n2-25**$n2 {u'$n2': 6.0}\n",
      "6!/2! 26**$n2-25**$n2 {u'$n2': 6.0}\n",
      "6+6+1 26**$n2-25**$n2 {u'$n2': 3.0}\n",
      "5+5+1 26**$n2-25**$n2 {u'$n2': 3.0}\n",
      "6^2-3 26**$n2-25**$n2 {u'$n2': 4.0}\n",
      "6^2 26**$n2-25**$n2 {u'$n2': 4.0}\n",
      "6^2-6^1 26**$n2-25**$n2 {u'$n2': 4.0}\n",
      "6^2-5^2 26**$n2-25**$n2 {u'$n2': 4.0}\n",
      "36-12 26**$n2-25**$n2 {u'$n2': 5.0}\n",
      "30+30+1 26**$n2-25**$n2 {u'$n2': 6.0}\n",
      "C(6,2) 26**$n2-25**$n2 {u'$n2': 3.0}\n",
      "36 - 2 26**$n2-25**$n2 {u'$n2': 3.0}\n",
      "36 - 3 26**$n2-25**$n2 {u'$n2': 3.0}\n",
      "36 - 4 26**$n2-25**$n2 {u'$n2': 3.0}\n",
      "36-5 26**$n2-25**$n2 {u'$n2': 3.0}\n",
      "36-6 26**$n2-25**$n2 {u'$n2': 3.0}\n",
      "36-7 26**$n2-25**$n2 {u'$n2': 3.0}\n",
      "36-8 26**$n2-25**$n2 {u'$n2': 3.0}\n",
      "36-16 26**$n2-25**$n2 {u'$n2': 3.0}\n",
      "36-10 26**$n2-25**$n2 {u'$n2': 3.0}\n",
      "6! 26**$n2-25**$n2 {u'$n2': 6.0}\n",
      "26^3-25^3 26**$n2-25**$n2 {u'$n2': 3.0}\n",
      "2*6+1 26**$n2-25**$n2 {u'$n2': 6.0}\n",
      "2*6 26**$n2-25**$n2 {u'$n2': 6.0}\n",
      "2*6-1 26**$n2-25**$n2 {u'$n2': 6.0}\n",
      "6+6+1 26**$n2-25**$n2 {u'$n2': 5.0}\n",
      "5+5+1 26**$n2-25**$n2 {u'$n2': 5.0}\n",
      "6!/1! 26**$n2-25**$n2 {u'$n2': 3.0}\n",
      "36/9 26**$n2-25**$n2 {u'$n2': 3.0}\n",
      "6!/3! 26**$n2-25**$n2 {u'$n2': 3.0}\n",
      "3! 26**$n2-25**$n2 {u'$n2': 3.0}\n",
      "6^2 - 5^2 26**$n2-25**$n2 {u'$n2': 5.0}\n",
      "12+1 26**$n2-25**$n2 {u'$n2': 4.0}\n",
      "12+12+1 26**$n2-25**$n2 {u'$n2': 4.0}\n",
      "12!/(2!*10!) 26**$n2-25**$n2 {u'$n2': 5.0}\n",
      "(6!/5!)^2 26**$n2-25**$n2 {u'$n2': 5.0}\n",
      "12!/11! 26**$n2-25**$n2 {u'$n2': 5.0}\n",
      "6^2 - 5^2 26**$n2-25**$n2 {u'$n2': 5.0}\n",
      "12-1 26**$n2-25**$n2 {u'$n2': 5.0}\n",
      "6^2 - 5^2 26**$n2-25**$n2 {u'$n2': 6.0}\n",
      "6*5 26**$n2-25**$n2 {u'$n2': 6.0}\n",
      "C(36,2) 26**$n2-25**$n2 {u'$n2': 6.0}\n",
      "C(36,1) 26**$n2-25**$n2 {u'$n2': 6.0}\n",
      "6*6-5*5 26**$n2-25**$n2 {u'$n2': 6.0}\n",
      "36-25 26**$n2-25**$n2 {u'$n2': 3.0}\n",
      "6^2-5^2 26**$n2-25**$n2 {u'$n2': 6.0}\n",
      "6*6 -  5*6 26**$n2-25**$n2 {u'$n2': 4.0}\n",
      "6^6 - 5^6 26**$n2-25**$n2 {u'$n2': 4.0}\n",
      "6! 26**$n2-25**$n2 {u'$n2': 6.0}\n",
      "36 - 2 26**$n2-25**$n2 {u'$n2': 4.0}\n",
      "36 - 25 26**$n2-25**$n2 {u'$n2': 4.0}\n",
      "(6*6)-(5*5) 26**$n2-25**$n2 {u'$n2': 3.0}\n",
      "2^2 26**$n2-25**$n2 {u'$n2': 4.0}\n",
      "12! 26**$n2-25**$n2 {u'$n2': 5.0}\n",
      "6! 26**$n2-25**$n2 {u'$n2': 5.0}\n",
      "(6*6) - (5*5) 26**$n2-25**$n2 {u'$n2': 5.0}\n",
      "6*2*6-1 26**$n2-25**$n2 {u'$n2': 3.0}\n",
      "6*2-1 26**$n2-25**$n2 {u'$n2': 3.0}\n",
      "2*6+1 26**$n2-25**$n2 {u'$n2': 3.0}\n",
      "36-25 26**$n2-25**$n2 {u'$n2': 3.0}\n",
      "36-25 26**$n2-25**$n2 {u'$n2': 3.0}\n",
      "6 + 6 + 1 26**$n2-25**$n2 {u'$n2': 3.0}\n",
      "6^2 - 5^2 26**$n2-25**$n2 {u'$n2': 3.0}\n",
      "(6*6)-(5*5) 26**$n2-25**$n2 {u'$n2': 3.0}\n",
      "C(6,1)*C(6,1) 26**$n2-25**$n2 {u'$n2': 3.0}\n",
      "3*C(6,1) 26**$n2-25**$n2 {u'$n2': 3.0}\n",
      "6!6! 26**$n2-25**$n2 {u'$n2': 3.0}\n",
      "6!/1 26**$n2-25**$n2 {u'$n2': 3.0}\n",
      "6!^2 26**$n2-25**$n2 {u'$n2': 3.0}\n",
      "6!+6! - 1 26**$n2-25**$n2 {u'$n2': 3.0}\n",
      "6!6! - 1 26**$n2-25**$n2 {u'$n2': 3.0}\n",
      "12!/(10!*2!) 26**$n2-25**$n2 {u'$n2': 5.0}\n",
      "26^4 - 25^4 26**$n2-25**$n2 {u'$n2': 4.0}\n",
      "12!/(11!*1!) 26**$n2-25**$n2 {u'$n2': 5.0}\n",
      "6*6 - 5*5 26**$n2-25**$n2 {u'$n2': 4.0}\n",
      "2*(6!) 26**$n2-25**$n2 {u'$n2': 3.0}\n",
      "36-25 26**$n2-25**$n2 {u'$n2': 6.0}\n",
      "C(26,2) 26**$n2-25**$n2 {u'$n2': 3.0}\n",
      "36-25 26**$n2-25**$n2 {u'$n2': 3.0}\n",
      "(6*6)-(5*5) 26**$n2-25**$n2 {u'$n2': 4.0}\n",
      "C(2,1)*6 26**$n2-25**$n2 {u'$n2': 4.0}\n",
      "C(2,1) 26**$n2-25**$n2 {u'$n2': 4.0}\n",
      "6*6 26**$n2-25**$n2 {u'$n2': 4.0}\n",
      "36-25 26**$n2-25**$n2 {u'$n2': 6.0}\n",
      "C(6,1)*2 26**$n2-25**$n2 {u'$n2': 5.0}\n",
      "36-25 26**$n2-25**$n2 {u'$n2': 6.0}\n",
      "6^2 26**$n2-25**$n2 {u'$n2': 5.0}\n",
      "26^6-25^6 26**$n2-25**$n2 {u'$n2': 6.0}\n",
      "C(2,1) 26**$n2-25**$n2 {u'$n2': 6.0}\n",
      "(6^2)-(5^2) 26**$n2-25**$n2 {u'$n2': 5.0}\n",
      "C(2,1)*C(6,1) 26**$n2-25**$n2 {u'$n2': 6.0}\n",
      "6*6-5*5 26**$n2-25**$n2 {u'$n2': 6.0}\n",
      "26^6-(25^6) 26**$n2-25**$n2 {u'$n2': 6.0}\n",
      "36*2-(25*2) 26**$n2-25**$n2 {u'$n2': 6.0}\n",
      "(2*(5*1))+2 26**$n2-25**$n2 {u'$n2': 6.0}\n",
      "6*6-5*5 26**$n2-25**$n2 {u'$n2': 6.0}\n",
      "26^6-25^6 26**$n2-25**$n2 {u'$n2': 6.0}\n",
      "6^2-5^2 26**$n2-25**$n2 {u'$n2': 5.0}\n",
      "C(6,1)*C(6,1) 26**$n2-25**$n2 {u'$n2': 5.0}\n",
      "C(6,2) 26**$n2-25**$n2 {u'$n2': 5.0}\n",
      "6*6 - 5*5 26**$n2-25**$n2 {u'$n2': 6.0}\n",
      "C(12,2) + C(12,1) 26**$n2-25**$n2 {u'$n2': 5.0}\n",
      "6+6-1 26**$n2-25**$n2 {u'$n2': 5.0}\n",
      "(36)-(25) 26**$n2-25**$n2 {u'$n2': 4.0}\n",
      "6*6 - 5*5 26**$n2-25**$n2 {u'$n2': 6.0}\n",
      "2*C(12,2) 26**$n2-25**$n2 {u'$n2': 5.0}\n",
      "C(6,1)*C(6,1)/2 26**$n2-25**$n2 {u'$n2': 5.0}\n",
      "36/2 26**$n2-25**$n2 {u'$n2': 5.0}\n",
      "6*6 - 5*5 26**$n2-25**$n2 {u'$n2': 5.0}\n",
      "6*6-5*5 26**$n2-25**$n2 {u'$n2': 3.0}\n",
      "6^2 26**$n2-25**$n2 {u'$n2': 6.0}\n",
      "6^3 26**$n2-25**$n2 {u'$n2': 6.0}\n",
      "6*3 26**$n2-25**$n2 {u'$n2': 6.0}\n",
      "6^2 - 5^2 26**$n2-25**$n2 {u'$n2': 5.0}\n"
     ]
    }
   ],
   "source": [
    "file=open('Problem8Attempts.json','r');\n",
    "answer=json.loads(file.readline())['answer']\n",
    "print 'answer=',answer\n",
    "for line in file.readlines():\n",
    "    params=json.loads(line);\n",
    "    attempt,att_parse_tree,att_eval_tree,d1,d2,d3,variables = params\n",
    "    hint=check_81(params)\n",
    "    \n",
    "    #if hint !=None:\n",
    "    #    print attempt,hint\n",
    "    \n",
    "    if hint==None:\n",
    "        print attempt,answer,variables"
   ]
  },
  {
   "cell_type": "code",
   "execution_count": null,
   "metadata": {
    "collapsed": true
   },
   "outputs": [],
   "source": []
  }
 ],
 "metadata": {
  "kernelspec": {
   "display_name": "Python 2",
   "language": "python",
   "name": "python2"
  },
  "language_info": {
   "codemirror_mode": {
    "name": "ipython",
    "version": 2
   },
   "file_extension": ".py",
   "mimetype": "text/x-python",
   "name": "python",
   "nbconvert_exporter": "python",
   "pygments_lexer": "ipython2",
   "version": "2.7.9"
  }
 },
 "nbformat": 4,
 "nbformat_minor": 0
}
