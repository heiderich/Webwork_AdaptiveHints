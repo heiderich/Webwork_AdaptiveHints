{
 "cells": [
  {
   "cell_type": "code",
   "execution_count": 1,
   "metadata": {
    "collapsed": false
   },
   "outputs": [
    {
     "name": "stdout",
     "output_type": "stream",
     "text": [
      "total 2408\r\n",
      "-rw-r-----@ 1 yoavfreund  503     77444 Sep 22 16:28 CSE103_Fall14_Week2_problem13_part1.txt\r\n",
      "-rw-r-----@ 1 yoavfreund  503    196948 Sep 22 16:28 CSE103_Fall14_Week2_problem13_part2.txt\r\n",
      "-rw-r-----@ 1 yoavfreund  503    246614 Sep 22 16:29 CSE103_Fall14_Week2_problem13_part3.txt\r\n",
      "-rw-r-----@ 1 yoavfreund  503    282073 Sep 22 16:29 CSE103_Fall14_Week2_problem13_part4.txt\r\n",
      "-rw-r-----@ 1 yoavfreund  503    177009 Sep 22 16:30 CSE103_Fall14_Week2_problem13_part5.txt\r\n",
      "-rw-r--r--  1 yoavfreund  staff   33019 Sep 22 09:27 Function pointers and multiprocess communication.ipynb\r\n",
      "-rw-r--r--  1 yoavfreund  staff    5761 Sep 22 09:27 Load Libraries.ipynb\r\n",
      "-rw-r--r--  1 yoavfreund  staff    2878 Sep 17 12:57 Problem2.3.json\r\n",
      "-rw-r--r--  1 yoavfreund  staff   65469 Sep 17 12:57 Problem8Attempts.json\r\n",
      "-rw-r--r--  1 yoavfreund  staff   46568 Sep 22 09:27 Process Data.ipynb\r\n",
      "-rw-r--r--  1 yoavfreund  staff   23921 Sep 22 09:27 Week3.Prob8.Part1.json\r\n",
      "-rw-r--r--  1 yoavfreund  staff   36459 Sep 17 12:57 attempts.txt\r\n",
      "-rw-r--r--  1 yoavfreund  staff    1644 Sep 22 09:27 insulating_exec.py\r\n",
      "-rw-r--r--  1 yoavfreund  staff     195 Sep 22 09:27 redirect.py\r\n",
      "-rw-r--r--  1 yoavfreund  staff     619 Sep 22 09:27 timeouterror.py\r\n",
      "-rw-r--r--  1 yoavfreund  staff     699 Sep 22 09:27 tmp\r\n"
     ]
    }
   ],
   "source": [
    "!ls -l\n",
    "import json"
   ]
  },
  {
   "cell_type": "code",
   "execution_count": 11,
   "metadata": {
    "collapsed": false
   },
   "outputs": [
    {
     "name": "stdout",
     "output_type": "stream",
     "text": [
      "/Users/yoavfreund/projects/Webwork.Improvement.Project/AdaptiveHints/src/servers/rest_server/filters\n"
     ]
    }
   ],
   "source": [
    "%cd ../filters"
   ]
  },
  {
   "cell_type": "code",
   "execution_count": 102,
   "metadata": {
    "collapsed": false
   },
   "outputs": [],
   "source": [
    "#%%writefile answer_should_be_int.py\n",
    "from numpy import isinf\n",
    "from numbers import Number\n",
    "\n",
    "def extract_final_value(eval_tree):\n",
    "    \"\"\" Written by Yoav Freund, Wed Sep 23 12:24:34 PDT 2015\n",
    "    Extract th final value at the root of an evaluation tree \"\"\"\n",
    "    bad_parse=False\n",
    "    if isinstance(eval_tree,Number):\n",
    "        final_value=eval_tree\n",
    "    elif len(eval_tree)==1:\n",
    "        final_value=eval_tree[0]\n",
    "    elif len(eval_tree)>1:\n",
    "        final_value=eval_tree[0][1]\n",
    "    else:\n",
    "        final_value='parse_error:'+str(eval_tree)\n",
    "        bad_parse=True\n",
    "    \n",
    "    if not bad_parse:\n",
    "        if not isinstance(final_value,Number):\n",
    "            final_value='Final_value is not a number:'+str(final_value)\n",
    "        \n",
    "    return final_value\n",
    "        \n",
    "def classify_final_value(att_eval_tree,ans_eval_tree):\n",
    "    \"\"\" Written by Yoav Freund, Sat Sep 19 17:09:48 PDT 2015\n",
    "    classifies the final value as: correct,parse_error,int, not_int\n",
    "    \"\"\"\n",
    "    att_final_value=extract_final_value(att_eval_tree)\n",
    "    if type(att_final_value)==str:\n",
    "        return 'in attempt: '+att_final_value\n",
    "        \n",
    "    ans_final_value=extract_final_value(ans_eval_tree)\n",
    "    if type(ans_final_value)==str:\n",
    "        return 'in answer: '+att_final_value\n",
    "\n",
    "    if att_final_value==ans_final_value:\n",
    "        return 'correct'\n",
    "    if isinf(att_final_value):\n",
    "        return \"inf\"\n",
    "    if int(att_final_value)!=att_final_value:\n",
    "        return \"not int\"\n",
    "    else:\n",
    "        return \"int\""
   ]
  },
  {
   "cell_type": "code",
   "execution_count": 96,
   "metadata": {
    "collapsed": false
   },
   "outputs": [],
   "source": [
    "#%%writefile answer_is_not_expression.py        \n",
    "def answer_is_not_expression(answer_string, parse_tree, eval_tree, correct_string, correct_tree, correct_eval, user_vars):\n",
    "    if len(att_eval_tree)==1:\n",
    "        return \"Please enter an expression, not just final numerical result\"\n",
    "    else:\n",
    "        return \"\""
   ]
  },
  {
   "cell_type": "code",
   "execution_count": 97,
   "metadata": {
    "collapsed": false
   },
   "outputs": [],
   "source": [
    "def check_81(attempt,att_parse_tree,att_eval_tree,answer,answer_parse_tree,answer_eval_tree,variables):\n",
    "\n",
    "    attempt_class=classify_final_value(att_eval_tree,answer_eval_tree)\n",
    "    if  attempt_class=='correct':\n",
    "        return 'correct answer'\n",
    "    if attempt_class=='int':\n",
    "        return 'Can the answer be an integer number? [_____]{n}'\n",
    "    \n",
    "    hint=answer_is_not_expression(attempt,att_parse_tree,att_eval_tree,answer,answer_parse_tree,answer_eval_tree,variables)\n",
    "    if  len(hint)!=0: \n",
    "        return hint\n",
    "\n",
    "    return None"
   ]
  },
  {
   "cell_type": "code",
   "execution_count": 17,
   "metadata": {
    "collapsed": false
   },
   "outputs": [
    {
     "name": "stdout",
     "output_type": "stream",
     "text": [
      "/Users/yoavfreund/projects/Webwork.Improvement.Project/AdaptiveHints/src/servers/rest_server/filter_helpers\n"
     ]
    }
   ],
   "source": [
    "cd ../filter_helpers/"
   ]
  },
  {
   "cell_type": "code",
   "execution_count": 54,
   "metadata": {
    "collapsed": false
   },
   "outputs": [],
   "source": [
    "#%%writefile %%flatten.py\n",
    "def flatten(L):\n",
    "    #print 'flattening ',L,type(L),\n",
    "    #if type(L)==list:\n",
    "        #print 'len(L)=',len(L),'type(L[0])=',type(L[0]),\n",
    "    if type(L)!=list:\n",
    "        #print 'not list'\n",
    "        return None\n",
    "    elif len(L)==1 and type(L[0])==float:\n",
    "        #print 'list of one number'\n",
    "        return [{'val':L[0]}]\n",
    "    elif len(L)==3 and type(L[0])==unicode:\n",
    "        #print 'list of one clause'\n",
    "        return [{'val':L[1],'location':L[2]}]\n",
    "    else:\n",
    "        #print 'general list'\n",
    "        answer=[]\n",
    "        for item in L:\n",
    "            answer = answer+flatten(item)\n",
    "        return answer\n",
    "        \n",
    "        \n",
    "        "
   ]
  },
  {
   "cell_type": "code",
   "execution_count": 103,
   "metadata": {
    "collapsed": false
   },
   "outputs": [
    {
     "name": "stdout",
     "output_type": "stream",
     "text": [
      "answer= ($coins!/(6!($coins-6)!))/2^$coins\n",
      "\n",
      "---\n",
      "\n",
      "attempt=462/2^10 hint=None\n"
     ]
    },
    {
     "ename": "TypeError",
     "evalue": "'NoneType' object is not iterable",
     "output_type": "error",
     "traceback": [
      "\u001b[0;31m---------------------------------------------------------------------------\u001b[0m",
      "\u001b[0;31mTypeError\u001b[0m                                 Traceback (most recent call last)",
      "\u001b[0;32m<ipython-input-103-50f8d5067c52>\u001b[0m in \u001b[0;36m<module>\u001b[0;34m()\u001b[0m\n\u001b[1;32m     18\u001b[0m         \u001b[0;31m#print 'flattened=',flat\u001b[0m\u001b[0;34m\u001b[0m\u001b[0;34m\u001b[0m\u001b[0m\n\u001b[1;32m     19\u001b[0m         \u001b[0matt_set\u001b[0m\u001b[0;34m=\u001b[0m\u001b[0;34m[\u001b[0m\u001b[0mx\u001b[0m\u001b[0;34m[\u001b[0m\u001b[0;34m'val'\u001b[0m\u001b[0;34m]\u001b[0m \u001b[0;32mfor\u001b[0m \u001b[0mx\u001b[0m \u001b[0;32min\u001b[0m \u001b[0matt_flat\u001b[0m \u001b[0;32mif\u001b[0m \u001b[0mx\u001b[0m\u001b[0;34m.\u001b[0m\u001b[0mhas_key\u001b[0m\u001b[0;34m(\u001b[0m\u001b[0;34m'val'\u001b[0m\u001b[0;34m)\u001b[0m\u001b[0;34m]\u001b[0m\u001b[0;34m\u001b[0m\u001b[0m\n\u001b[0;32m---> 20\u001b[0;31m         \u001b[0manswer_set\u001b[0m\u001b[0;34m=\u001b[0m\u001b[0;34m[\u001b[0m\u001b[0mx\u001b[0m\u001b[0;34m[\u001b[0m\u001b[0;34m'val'\u001b[0m\u001b[0;34m]\u001b[0m \u001b[0;32mfor\u001b[0m \u001b[0mx\u001b[0m \u001b[0;32min\u001b[0m \u001b[0mans_flat\u001b[0m \u001b[0;32mif\u001b[0m \u001b[0mx\u001b[0m\u001b[0;34m.\u001b[0m\u001b[0mhas_key\u001b[0m\u001b[0;34m(\u001b[0m\u001b[0;34m'val'\u001b[0m\u001b[0;34m)\u001b[0m\u001b[0;34m]\u001b[0m\u001b[0;34m\u001b[0m\u001b[0m\n\u001b[0m\u001b[1;32m     21\u001b[0m         \u001b[0;32mif\u001b[0m \u001b[0matt_set\u001b[0m\u001b[0;34m[\u001b[0m\u001b[0;36m0\u001b[0m\u001b[0;34m]\u001b[0m\u001b[0;34m==\u001b[0m\u001b[0manswer_set\u001b[0m\u001b[0;34m[\u001b[0m\u001b[0;36m0\u001b[0m\u001b[0;34m]\u001b[0m\u001b[0;34m:\u001b[0m\u001b[0;34m\u001b[0m\u001b[0m\n\u001b[1;32m     22\u001b[0m             \u001b[0;32mprint\u001b[0m \u001b[0;34m'attempted answer is correct'\u001b[0m\u001b[0;34m\u001b[0m\u001b[0m\n",
      "\u001b[0;31mTypeError\u001b[0m: 'NoneType' object is not iterable"
     ]
    }
   ],
   "source": [
    "file=open('CSE103_Fall14_Week2_problem13_part5.txt','r');\n",
    "ID=file.readline()\n",
    "answer=file.readline()\n",
    "print 'answer=',answer\n",
    "for line in file.readlines():\n",
    "    params=json.loads(line);\n",
    "    print '---\\n'\n",
    "    attempt,att_parse_tree,att_eval_tree,answer,answer_parse_tree,answer_eval_tree,variables = params\n",
    "    hint=check_81(attempt,att_parse_tree,att_eval_tree,answer,answer_parse_tree,answer_eval_tree,variables)\n",
    "    \n",
    "    print 'attempt=%s hint=%s'%(attempt,hint)\n",
    "    #if hint !=None:\n",
    "    #    print attempt,hint\n",
    "    \n",
    "    if hint==None:\n",
    "        att_flat=flatten(att_eval_tree)\n",
    "        ans_flat=flatten(answer_eval_tree)\n",
    "        #print 'flattened=',flat\n",
    "        att_set=[x['val'] for x in att_flat if x.has_key('val')]\n",
    "        answer_set=[x['val'] for x in ans_flat if x.has_key('val')]\n",
    "        if att_set[0]==answer_set[0]:\n",
    "            print 'attempted answer is correct'\n",
    "            continue\n",
    "        \n",
    "        intersection=[x for x in set(att_set) & set(answer_set) if (int(x)!=x) or x>100]\n",
    "        if len(intersection)>0:\n",
    "            print 'attempt=%s, att_eval_tree=%s\\n variables=%s,answer=%s,answer_eval_tree=%s'\\\n",
    "            %(attempt,str(att_eval_tree),str(variables),answer,str(answer_eval_tree))\n",
    "\n",
    "            print 'attempt set of values=',att_set\n",
    "            print 'correct set of values=',answer_set\n",
    "            print intersection\n",
    "        \n",
    "        \n",
    "        "
   ]
  },
  {
   "cell_type": "code",
   "execution_count": 65,
   "metadata": {
    "collapsed": false
   },
   "outputs": [
    {
     "name": "stdout",
     "output_type": "stream",
     "text": [
      "Week2 Problem13 Part3\r\n",
      "($coins!/($coins-1)!)/2^$coins\r\n",
      "[\"11/2^10\", [[\"/\", [0, 5]], 11, [[\"^\", [3, 5]], 2, 10]], [[\"/\", 0.0107421875, [0, 5]], [11.0], [[\"^\", 1024.0, [3, 5]], [2.0], [10.0]]], \"($coins!/($coins-1)!)/2^$coins\", [[\"/\", [0, 24]], [[\"/\", [1, 19]], [[\"!\", [1, 7]], \"$coins\"], [[\"!\", [9, 19]], [[\"-\", [10, 17]], \"$coins\", 1]]], [[\"^\", [22, 24]], 2, \"$coins\"]], [[\"/\", 0.00537109375, [0, 24]], [[\"/\", 11, [1, 19]], [[\"!\", 39916800, [1, 7]], [11.0]], [[\"!\", 3628800, [9, 19]], [[\"-\", 10.0, [10, 17]], [11.0], [1.0]]]], [[\"^\", 2048.0, [22, 24]], [2.0], [11.0]]], {\"$coins\": 11.0}]\r\n",
      "[\"11/2^11\", [[\"/\", [0, 5]], 11, [[\"^\", [3, 5]], 2, 11]], [[\"/\", 0.00537109375, [0, 5]], [11.0], [[\"^\", 2048.0, [3, 5]], [2.0], [11.0]]], \"($coins!/($coins-1)!)/2^$coins\", [[\"/\", [0, 24]], [[\"/\", [1, 19]], [[\"!\", [1, 7]], \"$coins\"], [[\"!\", [9, 19]], [[\"-\", [10, 17]], \"$coins\", 1]]], [[\"^\", [22, 24]], 2, \"$coins\"]], [[\"/\", 0.00537109375, [0, 24]], [[\"/\", 11, [1, 19]], [[\"!\", 39916800, [1, 7]], [11.0]], [[\"!\", 3628800, [9, 19]], [[\"-\", 10.0, [10, 17]], [11.0], [1.0]]]], [[\"^\", 2048.0, [22, 24]], [2.0], [11.0]]], {\"$coins\": 11.0}]\r\n",
      "[\"(1/2)^11\", [[\"^\", [0, 6]], [[\"/\", [1, 3]], 1, 2], 11], [[\"^\", 0.00048828125, [0, 6]], [[\"/\", 0.5, [1, 3]], [1.0], [2.0]], [11.0]], \"($coins!/($coins-1)!)/2^$coins\", [[\"/\", [0, 24]], [[\"/\", [1, 19]], [[\"!\", [1, 7]], \"$coins\"], [[\"!\", [9, 19]], [[\"-\", [10, 17]], \"$coins\", 1]]], [[\"^\", [22, 24]], 2, \"$coins\"]], [[\"/\", 0.00537109375, [0, 24]], [[\"/\", 11, [1, 19]], [[\"!\", 39916800, [1, 7]], [11.0]], [[\"!\", 3628800, [9, 19]], [[\"-\", 10.0, [10, 17]], [11.0], [1.0]]]], [[\"^\", 2048.0, [22, 24]], [2.0], [11.0]]], {\"$coins\": 11.0}]\r\n",
      "[\"(1/2)^10\", [[\"^\", [0, 6]], [[\"/\", [1, 3]], 1, 2], 10], [[\"^\", 0.0009765625, [0, 6]], [[\"/\", 0.5, [1, 3]], [1.0], [2.0]], [10.0]], \"($coins!/($coins-1)!)/2^$coins\", [[\"/\", [0, 24]], [[\"/\", [1, 19]], [[\"!\", [1, 7]], \"$coins\"], [[\"!\", [9, 19]], [[\"-\", [10, 17]], \"$coins\", 1]]], [[\"^\", [22, 24]], 2, \"$coins\"]], [[\"/\", 0.00537109375, [0, 24]], [[\"/\", 11, [1, 19]], [[\"!\", 39916800, [1, 7]], [11.0]], [[\"!\", 3628800, [9, 19]], [[\"-\", 10.0, [10, 17]], [11.0], [1.0]]]], [[\"^\", 2048.0, [22, 24]], [2.0], [11.0]]], {\"$coins\": 11.0}]\r\n",
      "[\"11/2^11\", [[\"/\", [0, 5]], 11, [[\"^\", [3, 5]], 2, 11]], [[\"/\", 0.00537109375, [0, 5]], [11.0], [[\"^\", 2048.0, [3, 5]], [2.0], [11.0]]], \"($coins!/($coins-1)!)/2^$coins\", [[\"/\", [0, 24]], [[\"/\", [1, 19]], [[\"!\", [1, 7]], \"$coins\"], [[\"!\", [9, 19]], [[\"-\", [10, 17]], \"$coins\", 1]]], [[\"^\", [22, 24]], 2, \"$coins\"]], [[\"/\", 0.00537109375, [0, 24]], [[\"/\", 11, [1, 19]], [[\"!\", 39916800, [1, 7]], [11.0]], [[\"!\", 3628800, [9, 19]], [[\"-\", 10.0, [10, 17]], [11.0], [1.0]]]], [[\"^\", 2048.0, [22, 24]], [2.0], [11.0]]], {\"$coins\": 11.0}]\r\n",
      "[\"1/81\", [[\"/\", [0, 2]], 1, 81], [[\"/\", 0.012345679012345678, [0, 2]], [1.0], [81.0]], \"($coins!/($coins-1)!)/2^$coins\", [[\"/\", [0, 24]], [[\"/\", [1, 19]], [[\"!\", [1, 7]], \"$coins\"], [[\"!\", [9, 19]], [[\"-\", [10, 17]], \"$coins\", 1]]], [[\"^\", [22, 24]], 2, \"$coins\"]], [[\"/\", 0.017578125, [0, 24]], [[\"/\", 9, [1, 19]], [[\"!\", 362880, [1, 7]], [9.0]], [[\"!\", 40320, [9, 19]], [[\"-\", 8.0, [10, 17]], [9.0], [1.0]]]], [[\"^\", 512.0, [22, 24]], [2.0], [9.0]]], {\"$coins\": 9.0}]\r\n",
      "[\"9/512\", [[\"/\", [0, 2]], 9, 512], [[\"/\", 0.017578125, [0, 2]], [9.0], [512.0]], \"($coins!/($coins-1)!)/2^$coins\", [[\"/\", [0, 24]], [[\"/\", [1, 19]], [[\"!\", [1, 7]], \"$coins\"], [[\"!\", [9, 19]], [[\"-\", [10, 17]], \"$coins\", 1]]], [[\"^\", [22, 24]], 2, \"$coins\"]], [[\"/\", 0.017578125, [0, 24]], [[\"/\", 9, [1, 19]], [[\"!\", 362880, [1, 7]], [9.0]], [[\"!\", 40320, [9, 19]], [[\"-\", 8.0, [10, 17]], [9.0], [1.0]]]], [[\"^\", 512.0, [22, 24]], [2.0], [9.0]]], {\"$coins\": 9.0}]\r\n",
      "[\"2^10/2^11\", [[\"/\", [0, 7]], [[\"^\", [0, 2]], 2, 10], [[\"^\", [5, 7]], 2, 11]], [[\"/\", 0.5, [0, 7]], [[\"^\", 1024.0, [0, 2]], [2.0], [10.0]], [[\"^\", 2048.0, [5, 7]], [2.0], [11.0]]], \"($coins!/($coins-1)!)/2^$coins\", [[\"/\", [0, 24]], [[\"/\", [1, 19]], [[\"!\", [1, 7]], \"$coins\"], [[\"!\", [9, 19]], [[\"-\", [10, 17]], \"$coins\", 1]]], [[\"^\", [22, 24]], 2, \"$coins\"]], [[\"/\", 0.00537109375, [0, 24]], [[\"/\", 11, [1, 19]], [[\"!\", 39916800, [1, 7]], [11.0]], [[\"!\", 3628800, [9, 19]], [[\"-\", 10.0, [10, 17]], [11.0], [1.0]]]], [[\"^\", 2048.0, [22, 24]], [2.0], [11.0]]], {\"$coins\": 11.0}]\r\n"
     ]
    }
   ],
   "source": [
    "!head CSE103_Fall14_Week2_problem13_part3.txt"
   ]
  },
  {
   "cell_type": "code",
   "execution_count": 35,
   "metadata": {
    "collapsed": false
   },
   "outputs": [
    {
     "data": {
      "text/plain": [
       "[1, 2, 3, 4]"
      ]
     },
     "execution_count": 35,
     "metadata": {},
     "output_type": "execute_result"
    }
   ],
   "source": [
    "A=[1,2,3]\n",
    "A.append(4)\n",
    "A"
   ]
  },
  {
   "cell_type": "code",
   "execution_count": 39,
   "metadata": {
    "collapsed": false
   },
   "outputs": [
    {
     "data": {
      "text/plain": [
       "True"
      ]
     },
     "execution_count": 39,
     "metadata": {},
     "output_type": "execute_result"
    }
   ],
   "source": [
    "X={'a':'a'}\n",
    "X.has_key('a')"
   ]
  },
  {
   "cell_type": "code",
   "execution_count": 9,
   "metadata": {
    "collapsed": false
   },
   "outputs": [
    {
     "ename": "SyntaxError",
     "evalue": "invalid syntax (<ipython-input-9-56d3901bedac>, line 1)",
     "output_type": "error",
     "traceback": [
      "\u001b[0;36m  File \u001b[0;32m\"<ipython-input-9-56d3901bedac>\"\u001b[0;36m, line \u001b[0;32m1\u001b[0m\n\u001b[0;31m    defined X\u001b[0m\n\u001b[0m            ^\u001b[0m\n\u001b[0;31mSyntaxError\u001b[0m\u001b[0;31m:\u001b[0m invalid syntax\n"
     ]
    }
   ],
   "source": [
    "defined X"
   ]
  },
  {
   "cell_type": "code",
   "execution_count": 43,
   "metadata": {
    "collapsed": false
   },
   "outputs": [
    {
     "data": {
      "text/plain": [
       "True"
      ]
     },
     "execution_count": 43,
     "metadata": {},
     "output_type": "execute_result"
    }
   ],
   "source": [
    "from numpy import isinf,isn\n",
    "isinf(float('inf'))"
   ]
  },
  {
   "cell_type": "code",
   "execution_count": 83,
   "metadata": {
    "collapsed": false
   },
   "outputs": [],
   "source": [
    "import numbers"
   ]
  },
  {
   "cell_type": "code",
   "execution_count": 88,
   "metadata": {
    "collapsed": false
   },
   "outputs": [
    {
     "data": {
      "text/plain": [
       "False"
      ]
     },
     "execution_count": 88,
     "metadata": {},
     "output_type": "execute_result"
    }
   ],
   "source": [
    "isinstance('10',numbers.Number)"
   ]
  },
  {
   "cell_type": "code",
   "execution_count": 92,
   "metadata": {
    "collapsed": false
   },
   "outputs": [
    {
     "data": {
      "text/plain": [
       "False"
      ]
     },
     "execution_count": 92,
     "metadata": {},
     "output_type": "execute_result"
    }
   ],
   "source": [
    "'abs'=='abd'"
   ]
  },
  {
   "cell_type": "code",
   "execution_count": null,
   "metadata": {
    "collapsed": true
   },
   "outputs": [],
   "source": []
  }
 ],
 "metadata": {
  "kernelspec": {
   "display_name": "Python 2",
   "language": "python",
   "name": "python2"
  },
  "language_info": {
   "codemirror_mode": {
    "name": "ipython",
    "version": 2
   },
   "file_extension": ".py",
   "mimetype": "text/x-python",
   "name": "python",
   "nbconvert_exporter": "python",
   "pygments_lexer": "ipython2",
   "version": "2.7.9"
  }
 },
 "nbformat": 4,
 "nbformat_minor": 0
}
