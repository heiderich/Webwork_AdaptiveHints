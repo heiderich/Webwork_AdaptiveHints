{
 "cells": [
  {
   "cell_type": "code",
   "execution_count": 1,
   "metadata": {
    "collapsed": false
   },
   "outputs": [
    {
     "name": "stdout",
     "output_type": "stream",
     "text": [
      "Function pointers and multiprocess communication.ipynb\r\n",
      "Load Libraries.ipynb\r\n",
      "Problem2.3.json\r\n",
      "Problem8Attempts.json\r\n",
      "Process Data.ipynb\r\n",
      "Week3.Prob8.Part1.json\r\n",
      "attempts.txt\r\n",
      "insulating_exec.py\r\n",
      "redirect.py\r\n",
      "timeouterror.py\r\n",
      "tmp\r\n"
     ]
    }
   ],
   "source": [
    "!ls"
   ]
  },
  {
   "cell_type": "code",
   "execution_count": 14,
   "metadata": {
    "collapsed": false
   },
   "outputs": [
    {
     "name": "stdout",
     "output_type": "stream",
     "text": [
      "/Users/yoavfreund/projects/Webwork.Improvement.Project/AdaptiveHints/src/servers/rest_server\n"
     ]
    }
   ],
   "source": [
    "%cd .."
   ]
  },
  {
   "cell_type": "code",
   "execution_count": 15,
   "metadata": {
    "collapsed": false
   },
   "outputs": [
    {
     "name": "stdout",
     "output_type": "stream",
     "text": [
      "#exec_filters.py#           \u001b[34mfilter_helpers\u001b[m\u001b[m              pg_wrapper.py\r\n",
      "#parsers.py#                \u001b[34mfilter_lab\u001b[m\u001b[m                  pg_wrapper.pyc\r\n",
      "README.md                   \u001b[34mfilters\u001b[m\u001b[m                     process_query.py\r\n",
      "TimeoutError.py             get_answers.py              process_query.pyc\r\n",
      "TimeoutError.pyc            get_header_footer.py        render.py\r\n",
      "TimeoutError.py~            get_header_footer.pyc       render.pyc\r\n",
      "__init__.py                 hints_api.py                rest_server.py\r\n",
      "auth.py                     hints_api.pyc               \u001b[34mscripts\u001b[m\u001b[m\r\n",
      "auth.pyc                    json_request_handler.py     tornado_database.py\r\n",
      "checkanswer.py              json_request_handler.pyc    tornado_database_example.py\r\n",
      "checkanswer.pyc             newrelic.ini                trace.log\r\n",
      "convert_timestamp.py        parser.out                  webwork.py\r\n",
      "convert_timestamp.pyc       parsers.py                  webwork.pyc\r\n",
      "exec_filters.py             parsers.pyc                 webwork_config.py\r\n",
      "exec_filters.pyc            pg_utils.py                 webwork_config.pyc\r\n",
      "\u001b[34mfilter\u001b[m\u001b[m                      pg_utils.pyc                webwork_utils.py\r\n",
      "filter_bank.py              pg_wrapper.md               webwork_utils.pyc\r\n"
     ]
    }
   ],
   "source": [
    "!ls"
   ]
  },
  {
   "cell_type": "code",
   "execution_count": 24,
   "metadata": {
    "collapsed": false
   },
   "outputs": [
    {
     "name": "stdout",
     "output_type": "stream",
     "text": [
      "answer_is_not_expression\n",
      "def answer_is_not_expression(answer_string, parse_tree, eval_tree, correct_string, correct_tree, correct_eval, user_vars):\n",
      "    if len(att_eval_tree)==1:\n",
      "        return \"Please enter an expression, not just final numerical result\"\n",
      "    else:\n",
      "        return \"\"\n",
      "['__builtins__', 'answer_is_not_expression']\n",
      "answer_should_be_int\n",
      "def answer_should_be_int(answer_string, parse_tree, eval_tree, correct_string, correct_tree, correct_eval, user_vars):\n",
      "    \"\"\" Written by Yoav Freund, Sat Sep 19 17:09:48 PDT 2015\n",
      "    Assumes answer should be an integer number, send a hint if not\n",
      "    \"\"\"\n",
      "    if len(eval_tree)==1:\n",
      "        final_value=eval_tree[0]\n",
      "    elif len(eval_tree)>1:\n",
      "        final_value=eval_tree[0][1]\n",
      "    else:\n",
      "        final_value=0\n",
      "    if int(final_value)!=final_value:\n",
      "        return \"Can the answer to this question be a fractional number?(y,n)  [__]{'n'}\"\n",
      "    else:\n",
      "        return \"\"\n",
      "['__builtins__', 'answer_should_be_int', 'answer_is_not_expression']\n"
     ]
    }
   ],
   "source": [
    "import glob\n",
    "import string\n",
    "from filter_bank import filter_bank\n",
    "\n",
    "filters=filter_bank()\n",
    "for filename in glob.glob('filters/*.py'):\n",
    "    filtername=filename[8:-3]\n",
    "    print filtername\n",
    "    code=open(filename,'r').read()\n",
    "    print code\n",
    "    filters.add_filter(filtername,code)\n",
    "    print filters.get_env_keys()"
   ]
  },
  {
   "cell_type": "code",
   "execution_count": 8,
   "metadata": {
    "collapsed": true
   },
   "outputs": [],
   "source": [
    "!touch tmp"
   ]
  },
  {
   "cell_type": "code",
   "execution_count": null,
   "metadata": {
    "collapsed": true
   },
   "outputs": [],
   "source": []
  }
 ],
 "metadata": {
  "kernelspec": {
   "display_name": "Python 2",
   "language": "python",
   "name": "python2"
  },
  "language_info": {
   "codemirror_mode": {
    "name": "ipython",
    "version": 2
   },
   "file_extension": ".py",
   "mimetype": "text/x-python",
   "name": "python",
   "nbconvert_exporter": "python",
   "pygments_lexer": "ipython2",
   "version": "2.7.9"
  }
 },
 "nbformat": 4,
 "nbformat_minor": 0
}
