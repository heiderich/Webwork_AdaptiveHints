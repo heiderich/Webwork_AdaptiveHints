{
 "cells": [
  {
   "cell_type": "code",
   "execution_count": 19,
   "metadata": {
    "collapsed": true
   },
   "outputs": [],
   "source": [
    "code=\"\"\"\n",
    "from string import *\n",
    "def f(x):\n",
    "    print x\n",
    "    return x**2\n",
    "\"\"\""
   ]
  },
  {
   "cell_type": "code",
   "execution_count": 20,
   "metadata": {
    "collapsed": false
   },
   "outputs": [
    {
     "name": "stdout",
     "output_type": "stream",
     "text": [
      "env keys= ['ascii_lowercase', 'upper', 'punctuation', 'letters', 'lstrip', 'uppercase', 'ascii_letters', 'replace', 'capwords', 'index_error', 'rfind', 'Template', 'strip', 'ljust', 'octdigits', 'index', 'ascii_uppercase', 'whitespace', 'rindex', 'rsplit', 'atol_error', 'find', 'printable', 'splitfields', 'split', 'rstrip', 'translate', 'digits', 'joinfields', 'rjust', '__builtins__', 'swapcase', 'atof_error', 'atoi', 'hexdigits', 'atol', 'atof', 'lowercase', 'count', 'lower', 'join', 'center', 'f', 'expandtabs', 'atoi_error', 'maketrans', 'capitalize', 'zfill', 'Formatter']\n",
      "<function f at 0x106ddfcf8> <type 'function'>\n",
      "2\n",
      "4\n"
     ]
    }
   ],
   "source": [
    "'''\n",
    "make_function takes a function source string as input and returns a pointer to the executable function\n",
    "\n",
    "Parameters: \n",
    "        name: name of the function (should be consistent with the name used in the code)\n",
    "        code: A string containing the code\n",
    "\n",
    "Returns:\n",
    "        if type==function: a pointer to the executable function\n",
    "        if type==str: An error message\n",
    "'''\n",
    "\n",
    "def make_function(name,code):\n",
    "    #locals().pop(name,'clearing keypair')\n",
    "    try:\n",
    "        bytecode=compile(source=code,filename='filter source code',mode='exec')\n",
    "        env={}\n",
    "        exec(bytecode,env)\n",
    "        print 'env keys=',env.keys()\n",
    "\n",
    "    except SyntaxError, e:\n",
    "        message='Syntax error:  line=%d, offset=%d text=%s'%(e.lineno,e.offset,e.text)\n",
    "        return message\n",
    "    \n",
    "    if env.has_key(name):\n",
    "        return env[name]\n",
    "    else:\n",
    "        return 'code failed to generate function named '+name\n",
    "\n",
    "import pickle    \n",
    "A=make_function('f',code)\n",
    "if type(A)==str:\n",
    "    print A\n",
    "else:\n",
    "    print A, type(A)\n",
    "    print A(2)"
   ]
  },
  {
   "cell_type": "code",
   "execution_count": 33,
   "metadata": {
    "collapsed": false
   },
   "outputs": [],
   "source": [
    "A={\"4\":\"4\"}\n",
    "A.pop?"
   ]
  },
  {
   "cell_type": "code",
   "execution_count": 7,
   "metadata": {
    "collapsed": false
   },
   "outputs": [
    {
     "name": "stdout",
     "output_type": "stream",
     "text": [
      "0\n",
      "1 1\n",
      "2\n",
      "3 3\n"
     ]
    },
    {
     "data": {
      "text/plain": [
       "[0, -1, 4, -3]"
      ]
     },
     "execution_count": 7,
     "metadata": {},
     "output_type": "execute_result"
    }
   ],
   "source": [
    "[A[i](i) for i in range(len(A))]"
   ]
  },
  {
   "cell_type": "code",
   "execution_count": 9,
   "metadata": {
    "collapsed": false
   },
   "outputs": [
    {
     "data": {
      "text/plain": [
       "'{\"A\": \"BB\"}'"
      ]
     },
     "execution_count": 9,
     "metadata": {},
     "output_type": "execute_result"
    }
   ],
   "source": [
    "import json\n",
    "json.dumps({'A':'BB'})"
   ]
  },
  {
   "cell_type": "code",
   "execution_count": 20,
   "metadata": {
    "collapsed": false
   },
   "outputs": [
    {
     "name": "stdout",
     "output_type": "stream",
     "text": [
      "{}\n",
      "\n",
      "def f(x):\n",
      "    print x\n",
      "    return x**2\n",
      "\n",
      "self.execs[\"f\"]=f\n",
      "{}\n"
     ]
    }
   ],
   "source": [
    "class filter_bank():\n",
    "    def __init__(self):\n",
    "        self.execs={}\n",
    "        print self.execs\n",
    "    '''\n",
    "make_function takes a function source string as input and returns a pointer to the executable function\n",
    "\n",
    "Parameters: \n",
    "        name: name of the function (should be consistent with the name used in the code)\n",
    "        code: A string containing the code\n",
    "\n",
    "Returns:\n",
    "        if type==function: a pointer to the executable function\n",
    "        if type==str: An error message\n",
    "'''\n",
    "\n",
    "def make_function(name,code):\n",
    "    locals().pop(name,'clearing keypair')\n",
    "    try:\n",
    "        bytecode=compile(source=code,filename='filter source code',mode='exec')\n",
    "        exec(bytecode)\n",
    "    except SyntaxError, e:\n",
    "        message='Syntax error:  line=%d, offset=%d text=%s'%(e.lineno,e.offset,e.text)\n",
    "        return message\n",
    "    \n",
    "    if locals().has_key(name):\n",
    "        return locals()[name]\n",
    "    else:\n",
    "        return 'code failed to generate function named '+name\n",
    "\n",
    "    def add_filter(self,function_name,code):\n",
    "        app_code = code+'\\nself.execs[\"%s\"]=%s'%(function_name,function_name)\n",
    "        print app_code\n",
    "        bytecode=compile(source=code,filename='not a  file',mode='exec')\n",
    "        exec(bytecode)\n",
    "        print self.execs\n",
    "\n",
    "A=filter_bank()\n",
    "code=\"\"\"\n",
    "def f(x):\n",
    "    print x\n",
    "    return x**2\n",
    "\"\"\"\n",
    "A.add_filter('f',code)"
   ]
  },
  {
   "cell_type": "markdown",
   "metadata": {},
   "source": [
    "### communicating through pipes"
   ]
  },
  {
   "cell_type": "code",
   "execution_count": 76,
   "metadata": {
    "collapsed": false
   },
   "outputs": [
    {
     "name": "stdout",
     "output_type": "stream",
     "text": [
      "00\n",
      "master got through conn2 f recieved 0\n",
      "11\n",
      "master got through conn2 f recieved 1\n",
      "22\n",
      "master got through conn2 f recieved 2\n",
      "33\n",
      "master got through conn2 f recieved 3\n",
      "44\n",
      "master got through conn2 f recieved 4\n",
      "55\n",
      "master got through conn2 f recieved 5\n",
      "66\n",
      "master got through conn2 f recieved 6\n",
      "77\n",
      "master got through conn2 f recieved 7\n",
      "88\n",
      "master got through conn2 f recieved 8\n",
      "99\n",
      "master got through conn2 f recieved 9\n"
     ]
    }
   ],
   "source": [
    "from multiprocessing import Process, Pipe\n",
    "\n",
    "def f(conn1,conn2):\n",
    "    #sys.stdout=conn2\n",
    "    while True:\n",
    "        string=conn1.recv()\n",
    "        conn1.send(string+string)\n",
    "        conn2.send('f recieved '+string)\n",
    "        # print 'f recieved '+string\n",
    "        # sys.stdout.flush()\n",
    "\n",
    "if __name__ == '__main__':\n",
    "    parent_conn1, child_conn1 = Pipe()\n",
    "    parent_conn2, child_conn2 = Pipe()\n",
    "    p = Process(target=f, args=(child_conn1,child_conn2))\n",
    "    p.start()\n",
    "    for i in range(10):\n",
    "        parent_conn1.send(str(i))\n",
    "        print parent_conn1.recv()\n",
    "        if parent_conn2.poll():\n",
    "            print \"master got through conn2\",parent_conn2.recv()\n",
    "    #while parent_conn2.poll():\n",
    "    #        print \"master got through conn2\",parent_conn2.recv()\n",
    "    parent_conn1.close()\n",
    "    parent_conn2.close()"
   ]
  },
  {
   "cell_type": "code",
   "execution_count": 70,
   "metadata": {
    "collapsed": true
   },
   "outputs": [],
   "source": [
    "from contextlib import contextmanager\n",
    "\n",
    "@contextmanager\n",
    "def stdout_redirector(stream):\n",
    "    old_stdout = sys.stdout\n",
    "    sys.stdout = stream\n",
    "    try:\n",
    "        yield\n",
    "    finally:\n",
    "        sys.stdout = old_stdout\n"
   ]
  },
  {
   "cell_type": "code",
   "execution_count": 71,
   "metadata": {
    "collapsed": false
   },
   "outputs": [
    {
     "ename": "TypeError",
     "evalue": "unicode argument expected, got 'str'",
     "output_type": "error",
     "traceback": [
      "\u001b[0;31m---------------------------------------------------------------------------\u001b[0m",
      "\u001b[0;31mTypeError\u001b[0m                                 Traceback (most recent call last)",
      "\u001b[0;32m<ipython-input-71-97d38d780397>\u001b[0m in \u001b[0;36m<module>\u001b[0;34m()\u001b[0m\n\u001b[1;32m      3\u001b[0m \u001b[0;32mwith\u001b[0m \u001b[0mstdout_redirector\u001b[0m\u001b[0;34m(\u001b[0m\u001b[0mf\u001b[0m\u001b[0;34m)\u001b[0m\u001b[0;34m:\u001b[0m\u001b[0;34m\u001b[0m\u001b[0m\n\u001b[1;32m      4\u001b[0m     \u001b[0;31m#print 'foobar'\u001b[0m\u001b[0;34m\u001b[0m\u001b[0;34m\u001b[0m\u001b[0m\n\u001b[0;32m----> 5\u001b[0;31m     \u001b[0;32mprint\u001b[0m \u001b[0;36m12\u001b[0m\u001b[0;34m\u001b[0m\u001b[0m\n\u001b[0m\u001b[1;32m      6\u001b[0m \u001b[0;32mprint\u001b[0m\u001b[0;34m(\u001b[0m\u001b[0;34mu'Got stdout: \"{0}\"'\u001b[0m\u001b[0;34m.\u001b[0m\u001b[0mformat\u001b[0m\u001b[0;34m(\u001b[0m\u001b[0mf\u001b[0m\u001b[0;34m.\u001b[0m\u001b[0mgetvalue\u001b[0m\u001b[0;34m(\u001b[0m\u001b[0;34m)\u001b[0m\u001b[0;34m)\u001b[0m\u001b[0;34m)\u001b[0m\u001b[0;34m\u001b[0m\u001b[0m\n",
      "\u001b[0;31mTypeError\u001b[0m: unicode argument expected, got 'str'"
     ]
    }
   ],
   "source": [
    "import io\n",
    "f = io.StringIO()\n",
    "with stdout_redirector(f):\n",
    "    #print 'foobar'\n",
    "    print 12\n",
    "print(u'Got stdout: \"{0}\"'.format(f.getvalue()))"
   ]
  },
  {
   "cell_type": "code",
   "execution_count": null,
   "metadata": {
    "collapsed": true
   },
   "outputs": [],
   "source": []
  }
 ],
 "metadata": {
  "kernelspec": {
   "display_name": "Python 2",
   "language": "python",
   "name": "python2"
  },
  "language_info": {
   "codemirror_mode": {
    "name": "ipython",
    "version": 2
   },
   "file_extension": ".py",
   "mimetype": "text/x-python",
   "name": "python",
   "nbconvert_exporter": "python",
   "pygments_lexer": "ipython2",
   "version": "2.7.9"
  }
 },
 "nbformat": 4,
 "nbformat_minor": 0
}
