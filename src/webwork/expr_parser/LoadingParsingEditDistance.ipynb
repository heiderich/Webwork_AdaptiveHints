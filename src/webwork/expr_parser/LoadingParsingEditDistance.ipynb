{
 "metadata": {
  "name": ""
 },
 "nbformat": 3,
 "nbformat_minor": 0,
 "worksheets": [
  {
   "cells": [
    {
     "cell_type": "code",
     "collapsed": false,
     "input": [
      "\"\"\"\n",
      "Instructions on how to load and parse webwork answers,\n",
      "as well as compute tree edit distance using the zss library\n",
      "\n",
      "1) Download a problem data JSON file from\n",
      "\"\"\"\n",
      "print \"http://webwork.cse.ucsd.edu/teacher/ng/#/UCSD_CSE103\"\n",
      "\"\"\"\n",
      "(The Fall14 class does not have the contents of the hint-related tables\n",
      "duplicated so those pages crash when you try to load problems. Also, the\n",
      "files will probably be opened by the browser so you need to save the file\n",
      "manually.)\n",
      "\n",
      "2) Install the zss python package if not already installed:\n",
      "\n",
      "sudo pip install zss\n",
      "\n",
      "(on Linux; something along those lines should work for other OSes)\n",
      "\n",
      "\"\"\""
     ],
     "language": "python",
     "metadata": {},
     "outputs": [
      {
       "output_type": "stream",
       "stream": "stdout",
       "text": [
        "http://webwork.cse.ucsd.edu/teacher/ng/#/UCSD_CSE103\n"
       ]
      },
      {
       "metadata": {},
       "output_type": "pyout",
       "prompt_number": 22,
       "text": [
        "'\\n(The Fall14 class does not have the contents of the hint-related tables\\nduplicated so those pages crash when you try to load problems. Also, the\\nfiles will probably be opened by the browser so you need to save the file\\nmanually.)\\n\\n2) Install the zss python package if not already installed:\\n\\nsudo pip install zss\\n\\n(on Linux; something along those lines should work for other OSes)\\n\\n'"
       ]
      }
     ],
     "prompt_number": 22
    },
    {
     "cell_type": "code",
     "collapsed": false,
     "input": [
      "\"\"\"\n",
      "3) Necessary imports:\n",
      "\"\"\"\n",
      "import webwork_parser\n",
      "import pandas as pd\n",
      "import numpy as np\n",
      "import json\n",
      "from zss import simple_distance\n",
      "from k_medoids_clustering import ExpressionNode\n"
     ],
     "language": "python",
     "metadata": {},
     "outputs": [],
     "prompt_number": 23
    },
    {
     "cell_type": "code",
     "collapsed": false,
     "input": [
      "\"\"\"\n",
      "4) To use webwork_parser:\n",
      "\n",
      "webwork_parser.parse_webwork(expression)\n",
      "\n",
      "the following tokens are supported by the parser:\n",
      "    'CHOOSE', 'VARIABLE', 'NUMBER', 'PLUS','MINUS','TIMES',\n",
      "    'DIVIDE', 'LPAREN','RPAREN','FACTORIAL', 'LSET', 'RSET',\n",
      "    'COMMA','EXP', 'LBRACKET', 'RBRACKET'\n",
      "\n",
      "parse_webwork returns an expression tree in the form of a tuple,\n",
      "which may have nested tuples representing subtrees.\n",
      "\n",
      "For example: parse_webwork('C(6*7, 5)')\n",
      "\"\"\"\n",
      "webwork_parser.parse_webwork('C(6*7, 5)') # Outputs ('C', ('*', 6, 7), 5)"
     ],
     "language": "python",
     "metadata": {},
     "outputs": [
      {
       "metadata": {},
       "output_type": "pyout",
       "prompt_number": 24,
       "text": [
        "('C', ('*', 6, 7), 5)"
       ]
      }
     ],
     "prompt_number": 24
    },
    {
     "cell_type": "code",
     "collapsed": false,
     "input": [
      "\"\"\"\n",
      "5) To load data from the JSON dump file:\n",
      "\"\"\"\n",
      "# Load file as JSON \n",
      "# The contents of this file are from\n",
      "# http://webwork.cse.ucsd.edu:4351/export_problem_data?course=UCSD_CSE103&set_id=Assignment10.11.13&problem_id=1\n",
      "with open('poker_cond2_1.pg.json', 'r') as f:\n",
      "    data = json.load(f)\n",
      "# The JSON file contains the dumps of several tables.\n",
      "# You can convert these tables into pandas dataframes\n",
      "df = pd.DataFrame(data['past_answers'])\n",
      "# This is just to split the past answers column into parts\n",
      "print 'Columns', df.columns\n",
      "print 'Example row:'\n",
      "print df.iloc[0]\n",
      "answers = df.answer_string.str.split('\\t')\n",
      "# This returns a Series of lists, so you can index it like\n",
      "a1 = answers[0][0] # first part of the first answer in the file\n",
      "# You can parse this expression\n",
      "e1 = webwork_parser.parse_webwork(a1)\n",
      "print a1, '=>',e1"
     ],
     "language": "python",
     "metadata": {},
     "outputs": [
      {
       "output_type": "stream",
       "stream": "stdout",
       "text": [
        "Columns Index([u'answer_id', u'answer_string', u'comment_string', u'course_id', u'problem_id', u'scores', u'set_id', u'source_file', u'timestamp', u'user_id'], dtype='object')\n",
        "Example row:\n",
        "answer_id                                     44091\n",
        "answer_string                       C(47,2)\\t\\t\\t\\t\n",
        "comment_string                                 None\n",
        "course_id                               UCSD_CSE103\n",
        "problem_id                                        1\n",
        "scores                                         0000\n",
        "set_id                           Assignment10.11.13\n",
        "source_file       setPokerCondProb/poker_cond2_1.pg\n",
        "timestamp                                1381529357\n",
        "user_id                                    mschwegl\n",
        "Name: 0, dtype: object\n",
        "C(47,2) => ('C', 47, 2)\n"
       ]
      }
     ],
     "prompt_number": 25
    },
    {
     "cell_type": "code",
     "collapsed": false,
     "input": [
      "\"\"\"\n",
      "6) Computing Zhang-Sasha edit distance:\n",
      "\n",
      "zss needs a little structure to know how to navigate a tree, so\n",
      "we have this ExpressionNode class to provide that structure and a\n",
      "convenience function for computing the edit distances. We can\n",
      "construct an ExpressionNode using an already parsed tuple, or from\n",
      "a string directly.\n",
      "\"\"\"\n",
      "n1 = ExpressionNode(e1)\n",
      "n2 = ExpressionNode.from_string(a1)\n",
      "print n1\n",
      "print n1.edit_distance(n2)\n",
      "\n",
      "n3 = ExpressionNode.from_string('C(52-13,5)')\n",
      "n4 = ExpressionNode.from_string('C(52, 5)')\n",
      "print 'Distance between', n3, 'and', n4\n",
      "print n3.edit_distance(n4)"
     ],
     "language": "python",
     "metadata": {},
     "outputs": [
      {
       "output_type": "stream",
       "stream": "stdout",
       "text": [
        "(C 47 2)\n",
        "0\n",
        "Distance between (C (+ 52 (- 13)) 5) and (C 52 5)\n",
        "3\n"
       ]
      }
     ],
     "prompt_number": 26
    },
    {
     "cell_type": "code",
     "collapsed": false,
     "input": [
      "\"\"\"\n",
      "7) k_medoids_clustering.py contains an implementation of K-medoids\n",
      "clustering for clustering based on edit distance, but it has a bug\n",
      "when some of the initial clusters are empty.\n",
      "\"\"\""
     ],
     "language": "python",
     "metadata": {},
     "outputs": [
      {
       "metadata": {},
       "output_type": "pyout",
       "prompt_number": 27,
       "text": [
        "'\\n7) k_medoids_clustering.py contains an implementation of K-medoids\\nclustering for clustering based on edit distance, but it has a bug\\nwhen some of the initial clusters are empty.\\n'"
       ]
      }
     ],
     "prompt_number": 27
    }
   ],
   "metadata": {}
  }
 ]
}