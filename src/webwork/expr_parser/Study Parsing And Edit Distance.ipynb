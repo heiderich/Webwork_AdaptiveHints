{
 "metadata": {
  "name": "",
  "signature": "sha256:1f8c91187a139f1a35ee4bfc8fb757fed599bed760f24b78f43c30d4bc77b88e"
 },
 "nbformat": 3,
 "nbformat_minor": 0,
 "worksheets": [
  {
   "cells": [
    {
     "cell_type": "code",
     "collapsed": false,
     "input": [
      "\"\"\"\n",
      "1) Necessary imports:\n",
      "\"\"\"\n",
      "!rm parser.out\n",
      "import webwork_parser\n",
      "reload(webwork_parser)\n",
      "import Eval_parsed\n",
      "reload(Eval_parsed)\n",
      "import pandas as pd\n",
      "import numpy as np\n",
      "import json\n",
      "from zss import simple_distance\n",
      "#from k_medoids_clustering import ExpressionNode\n",
      "### Right now import immediately executes clustering. Make import just be an import."
     ],
     "language": "python",
     "metadata": {},
     "outputs": [
      {
       "output_type": "stream",
       "stream": "stdout",
       "text": [
        "<type 'exceptions.Exception'>\n",
        "setting up logging"
       ]
      },
      {
       "output_type": "stream",
       "stream": "stdout",
       "text": [
        "\n"
       ]
      },
      {
       "output_type": "stream",
       "stream": "stderr",
       "text": [
        "Generating LALR tables\n",
        "WARNING: 1 shift/reduce conflict\n",
        "WARNING: 13 reduce/reduce conflicts\n",
        "WARNING: reduce/reduce conflict in state 48 resolved using rule (expression -> factor MINUS factor)\n",
        "WARNING: rejected rule (factor -> MINUS factor) in state 48\n"
       ]
      }
     ],
     "prompt_number": 216
    },
    {
     "cell_type": "code",
     "collapsed": false,
     "input": [
      "string='(C(32,5)- C(20,5))'\n",
      "#string='(1+2)*(3+4)'\n",
      "#string='C(32,5)'\n",
      "string='C(52-12,5)'\n",
      "#string='52.0-12.0'\n",
      "string='12(40!/36!)+(12*11)(39!/36!)'\n",
      "string='12*(40!/36!)+(12*11)*(39!/36!)'\n",
      "#string='(12*11)(39!/36!)'\n",
      "string='C(31+4-1,3-1)'\n",
      "string='{1,2,3,4,5,6,11,12,13}'\n",
      "string='12*(51!/47!)+(12*11)*(50!/47!)'\n",
      "A=webwork_parser.parse_webwork(string)\n",
      "print A"
     ],
     "language": "python",
     "metadata": {},
     "outputs": [
      {
       "output_type": "stream",
       "stream": "stdout",
       "text": [
        "(('+', (0, 29)), (('*', (0, 11)), 12, (('/', (4, 10)), (('!', (4, 6)), 51), (('!', (8, 10)), 47))), (('*', (13, 29)), (('*', (14, 17)), 12, 11), (('/', (22, 28)), (('!', (22, 24)), 50), (('!', (26, 28)), 47))))\n"
       ]
      }
     ],
     "prompt_number": 237
    },
    {
     "cell_type": "code",
     "collapsed": false,
     "input": [
      "12(51!/47!)+(12*11)(50!/47!)+(12*11*10)(49!/47!)+(12*11*10*9)(48!/47!)+(12*11*10*9*8)"
     ],
     "language": "python",
     "metadata": {},
     "outputs": [
      {
       "ename": "SyntaxError",
       "evalue": "invalid syntax (<ipython-input-231-3b035b7982c9>, line 1)",
       "output_type": "pyerr",
       "traceback": [
        "\u001b[0;36m  File \u001b[0;32m\"<ipython-input-231-3b035b7982c9>\"\u001b[0;36m, line \u001b[0;32m1\u001b[0m\n\u001b[0;31m    12(51!/47!)+(12*11)(50!/47!)+(12*11*10)(49!/47!)+(12*11*10*9)(48!/47!)+(12*11*10*9*8)\u001b[0m\n\u001b[0m         ^\u001b[0m\n\u001b[0;31mSyntaxError\u001b[0m\u001b[0;31m:\u001b[0m invalid syntax\n"
       ]
      }
     ],
     "prompt_number": 231
    },
    {
     "cell_type": "code",
     "collapsed": false,
     "input": [
      "A"
     ],
     "language": "python",
     "metadata": {},
     "outputs": [
      {
       "metadata": {},
       "output_type": "pyout",
       "prompt_number": 232,
       "text": [
        "(('+', (0, 28)),\n",
        " (('*', (0, 10)),\n",
        "  12,\n",
        "  (('/', (3, 9)), (('!', (3, 5)), 51), (('!', (7, 9)), 47))),\n",
        " (('*', (12, 28)),\n",
        "  (('*', (13, 16)), 12, 11),\n",
        "  (('/', (21, 27)), (('!', (21, 23)), 50), (('!', (25, 27)), 47))))"
       ]
      }
     ],
     "prompt_number": 232
    },
    {
     "cell_type": "code",
     "collapsed": false,
     "input": [
      "etree=Eval_parsed.eval_parsed(A)\n",
      "print etree"
     ],
     "language": "python",
     "metadata": {},
     "outputs": [
      {
       "output_type": "stream",
       "stream": "stdout",
       "text": [
        "(('+', 87494400.0, (0, 28)), (('*', 71971200.0, (0, 10)), (12.0,), (('/', 5997600L, (3, 9)), (('!', 1551118753287382280224243016469303211063259720016986112000000000000L, (3, 5)), (51.0,)), (('!', 258623241511168180642964355153611979969197632389120000000000L, (7, 9)), (47.0,)))), (('*', 15523200.0, (12, 28)), (('*', 132.0, (13, 16)), (12.0,), (11.0,)), (('/', 117600L, (21, 27)), (('!', 30414093201713378043612608166064768844377641568960512000000000000L, (21, 23)), (50.0,)), (('!', 258623241511168180642964355153611979969197632389120000000000L, (25, 27)), (47.0,)))))\n"
       ]
      }
     ],
     "prompt_number": 233
    },
    {
     "cell_type": "code",
     "collapsed": false,
     "input": [
      "Eval_parsed.Collect_numbers(etree)"
     ],
     "language": "python",
     "metadata": {},
     "outputs": [
      {
       "metadata": {},
       "output_type": "pyout",
       "prompt_number": 234,
       "text": [
        "{11.0: (11.0,),\n",
        " 12.0: (12.0,),\n",
        " 47.0: (47.0,),\n",
        " 50.0: (50.0,),\n",
        " 51.0: (51.0,),\n",
        " 132.0: (('*', 132.0, (13, 16)), (12.0,), (11.0,)),\n",
        " 117600L: (('/', 117600L, (21, 27)),\n",
        "  (('!',\n",
        "    30414093201713378043612608166064768844377641568960512000000000000L,\n",
        "    (21, 23)),\n",
        "   (50.0,)),\n",
        "  (('!',\n",
        "    258623241511168180642964355153611979969197632389120000000000L,\n",
        "    (25, 27)),\n",
        "   (47.0,))),\n",
        " 5997600L: (('/', 5997600L, (3, 9)),\n",
        "  (('!',\n",
        "    1551118753287382280224243016469303211063259720016986112000000000000L,\n",
        "    (3, 5)),\n",
        "   (51.0,)),\n",
        "  (('!',\n",
        "    258623241511168180642964355153611979969197632389120000000000L,\n",
        "    (7, 9)),\n",
        "   (47.0,))),\n",
        " 15523200.0: (('*', 15523200.0, (12, 28)),\n",
        "  (('*', 132.0, (13, 16)), (12.0,), (11.0,)),\n",
        "  (('/', 117600L, (21, 27)),\n",
        "   (('!',\n",
        "     30414093201713378043612608166064768844377641568960512000000000000L,\n",
        "     (21, 23)),\n",
        "    (50.0,)),\n",
        "   (('!',\n",
        "     258623241511168180642964355153611979969197632389120000000000L,\n",
        "     (25, 27)),\n",
        "    (47.0,)))),\n",
        " 71971200.0: (('*', 71971200.0, (0, 10)),\n",
        "  (12.0,),\n",
        "  (('/', 5997600L, (3, 9)),\n",
        "   (('!',\n",
        "     1551118753287382280224243016469303211063259720016986112000000000000L,\n",
        "     (3, 5)),\n",
        "    (51.0,)),\n",
        "   (('!',\n",
        "     258623241511168180642964355153611979969197632389120000000000L,\n",
        "     (7, 9)),\n",
        "    (47.0,)))),\n",
        " 87494400.0: (('+', 87494400.0, (0, 28)),\n",
        "  (('*', 71971200.0, (0, 10)),\n",
        "   (12.0,),\n",
        "   (('/', 5997600L, (3, 9)),\n",
        "    (('!',\n",
        "      1551118753287382280224243016469303211063259720016986112000000000000L,\n",
        "      (3, 5)),\n",
        "     (51.0,)),\n",
        "    (('!',\n",
        "      258623241511168180642964355153611979969197632389120000000000L,\n",
        "      (7, 9)),\n",
        "     (47.0,)))),\n",
        "  (('*', 15523200.0, (12, 28)),\n",
        "   (('*', 132.0, (13, 16)), (12.0,), (11.0,)),\n",
        "   (('/', 117600L, (21, 27)),\n",
        "    (('!',\n",
        "      30414093201713378043612608166064768844377641568960512000000000000L,\n",
        "      (21, 23)),\n",
        "     (50.0,)),\n",
        "    (('!',\n",
        "      258623241511168180642964355153611979969197632389120000000000L,\n",
        "      (25, 27)),\n",
        "     (47.0,))))),\n",
        " 258623241511168180642964355153611979969197632389120000000000L: (('!',\n",
        "   258623241511168180642964355153611979969197632389120000000000L,\n",
        "   (25, 27)),\n",
        "  (47.0,)),\n",
        " 30414093201713378043612608166064768844377641568960512000000000000L: (('!',\n",
        "   30414093201713378043612608166064768844377641568960512000000000000L,\n",
        "   (21, 23)),\n",
        "  (50.0,)),\n",
        " 1551118753287382280224243016469303211063259720016986112000000000000L: (('!',\n",
        "   1551118753287382280224243016469303211063259720016986112000000000000L,\n",
        "   (3, 5)),\n",
        "  (51.0,))}"
       ]
      }
     ],
     "prompt_number": 234
    },
    {
     "cell_type": "code",
     "collapsed": false,
     "input": [
      "tries=pd.read_json('example_struggle.json')\n",
      "tries.groupby('user_id').count().head()"
     ],
     "language": "python",
     "metadata": {},
     "outputs": [
      {
       "html": [
        "<div style=\"max-height:1000px;max-width:1500px;overflow:auto;\">\n",
        "<table border=\"1\" class=\"dataframe\">\n",
        "  <thead>\n",
        "    <tr style=\"text-align: right;\">\n",
        "      <th></th>\n",
        "      <th>answer_id</th>\n",
        "      <th>answer_string</th>\n",
        "      <th>id</th>\n",
        "      <th>part_id</th>\n",
        "      <th>problem_id</th>\n",
        "      <th>score</th>\n",
        "      <th>set_id</th>\n",
        "      <th>timestamp</th>\n",
        "    </tr>\n",
        "    <tr>\n",
        "      <th>user_id</th>\n",
        "      <th></th>\n",
        "      <th></th>\n",
        "      <th></th>\n",
        "      <th></th>\n",
        "      <th></th>\n",
        "      <th></th>\n",
        "      <th></th>\n",
        "      <th></th>\n",
        "    </tr>\n",
        "  </thead>\n",
        "  <tbody>\n",
        "    <tr>\n",
        "      <th>a4to</th>\n",
        "      <td>  3</td>\n",
        "      <td>  3</td>\n",
        "      <td>  3</td>\n",
        "      <td>  3</td>\n",
        "      <td>  3</td>\n",
        "      <td>  3</td>\n",
        "      <td>  3</td>\n",
        "      <td>  3</td>\n",
        "    </tr>\n",
        "    <tr>\n",
        "      <th>a5taylor</th>\n",
        "      <td>  2</td>\n",
        "      <td>  2</td>\n",
        "      <td>  2</td>\n",
        "      <td>  2</td>\n",
        "      <td>  2</td>\n",
        "      <td>  2</td>\n",
        "      <td>  2</td>\n",
        "      <td>  2</td>\n",
        "    </tr>\n",
        "    <tr>\n",
        "      <th>a7luong</th>\n",
        "      <td> 17</td>\n",
        "      <td> 17</td>\n",
        "      <td> 17</td>\n",
        "      <td> 17</td>\n",
        "      <td> 17</td>\n",
        "      <td> 17</td>\n",
        "      <td> 17</td>\n",
        "      <td> 17</td>\n",
        "    </tr>\n",
        "    <tr>\n",
        "      <th>abw004</th>\n",
        "      <td>  2</td>\n",
        "      <td>  2</td>\n",
        "      <td>  2</td>\n",
        "      <td>  2</td>\n",
        "      <td>  2</td>\n",
        "      <td>  2</td>\n",
        "      <td>  2</td>\n",
        "      <td>  2</td>\n",
        "    </tr>\n",
        "    <tr>\n",
        "      <th>actsang</th>\n",
        "      <td>  7</td>\n",
        "      <td>  7</td>\n",
        "      <td>  7</td>\n",
        "      <td>  7</td>\n",
        "      <td>  7</td>\n",
        "      <td>  7</td>\n",
        "      <td>  7</td>\n",
        "      <td>  7</td>\n",
        "    </tr>\n",
        "  </tbody>\n",
        "</table>\n",
        "</div>"
       ],
       "metadata": {},
       "output_type": "pyout",
       "prompt_number": 137,
       "text": [
        "          answer_id  answer_string  id  part_id  problem_id  score  set_id  \\\n",
        "user_id                                                                      \n",
        "a4to              3              3   3        3           3      3       3   \n",
        "a5taylor          2              2   2        2           2      2       2   \n",
        "a7luong          17             17  17       17          17     17      17   \n",
        "abw004            2              2   2        2           2      2       2   \n",
        "actsang           7              7   7        7           7      7       7   \n",
        "\n",
        "          timestamp  \n",
        "user_id              \n",
        "a4to              3  \n",
        "a5taylor          2  \n",
        "a7luong          17  \n",
        "abw004            2  \n",
        "actsang           7  "
       ]
      }
     ],
     "prompt_number": 137
    },
    {
     "cell_type": "code",
     "collapsed": false,
     "input": [
      "users=list(set(tries['user_id']))"
     ],
     "language": "python",
     "metadata": {},
     "outputs": [],
     "prompt_number": 222
    },
    {
     "cell_type": "code",
     "collapsed": false,
     "input": [
      "string='C(4*8,5)- C(4*5,5)'\n",
      "A=webwork_parser.parse_webwork(string)\n",
      "print A\n",
      "\n",
      "etree=Eval_parsed.eval_parsed(A)\n",
      "print etree\n",
      "HS=Eval_parsed.Collect_numbers(etree)\n",
      "HS\n",
      "HG=set(sort(HS.keys()))\n",
      "HG"
     ],
     "language": "python",
     "metadata": {},
     "outputs": [
      {
       "output_type": "stream",
       "stream": "stdout",
       "text": [
        "(('-', (0, 17)), (('C', (0, 7)), (('*', (2, 4)), 4, 8), 5), (('C', (10, 17)), (('*', (12, 14)), 4, 5), 5))\n",
        "(('-', 185872L, (0, 17)), (('C', 201376L, (0, 7)), (('*', 32.0, (2, 4)), (4.0,), (8.0,)), (5.0,)), (('C', 15504, (10, 17)), (('*', 20.0, (12, 14)), (4.0,), (5.0,)), (5.0,)))\n"
       ]
      },
      {
       "metadata": {},
       "output_type": "pyout",
       "prompt_number": 223,
       "text": [
        "{4.0, 5.0, 8.0, 20.0, 32.0, 15504.0, 185872.0, 201376.0}"
       ]
      }
     ],
     "prompt_number": 223
    },
    {
     "cell_type": "code",
     "collapsed": false,
     "input": [
      "import sys\n",
      "import traceback\n",
      "def extract_attempt_trajectory(answers,HG):\n",
      "    attempts=[]\n",
      "    i=0\n",
      "    for answer in answers:\n",
      "        i+=1\n",
      "        try:\n",
      "            #print 'Attempt text=\"%s\"'%answer,\n",
      "            ptree = webwork_parser.parse_webwork(answer)\n",
      "            if ptree!= None:\n",
      "                etree=Eval_parsed.eval_parsed(ptree)\n",
      "                H=Eval_parsed.Collect_numbers(etree)\n",
      "                common=sort(list((set(H.keys()) & HG)))\n",
      "                not_in_correct = sort(list((set(H.keys()) - HG)))\n",
      "                #print '\\t', '['+','.join(['%2.0f'%v for v in common])+']',\n",
      "                #print '\\t', '['+','.join(['%2.0f'%v for v in not_in_correct])+']'\n",
      "                attempts.append((answer,common,not_in_correct))\n",
      "        except Exception, e:\n",
      "            print '||%s||'%answer,\n",
      "            print 'iPython level exception',e\n",
      "            #traceback.print_exc()\n",
      "            pass\n",
      "    return attempts"
     ],
     "language": "python",
     "metadata": {},
     "outputs": [],
     "prompt_number": 224
    },
    {
     "cell_type": "code",
     "collapsed": false,
     "input": [
      "extract_attempt_trajectory(['C(8+4-1,4+1)'],HG)"
     ],
     "language": "python",
     "metadata": {},
     "outputs": [
      {
       "metadata": {},
       "output_type": "pyout",
       "prompt_number": 225,
       "text": [
        "[('C(8+4-1,4+1)', array([ 4.,  5.,  8.]), array([   1.,   11.,   12.,  462.]))]"
       ]
      }
     ],
     "prompt_number": 225
    },
    {
     "cell_type": "code",
     "collapsed": false,
     "input": [
      "attempts={}\n",
      "j=0;\n",
      "for user in users:\n",
      "    answers=tries[tries['user_id']==user]['answer_string']\n",
      "    attempts[user]=extract_attempt_trajectory(answers,HG)\n",
      "    l1=len(answers)\n",
      "    l2=len(attempts[user])\n",
      "    if l2<l1:\n",
      "        print 'all answers=',len(answers),'well-formed answers=',len(attempts[user])\n",
      "    j+=1; \n",
      "    if j>40: break"
     ],
     "language": "python",
     "metadata": {},
     "outputs": [
      {
       "output_type": "stream",
       "stream": "stdout",
       "text": [
        "||1/((C(12,1)+C(40,4))|| yacc:Syntax error - Empty token\n",
        "||1-(C(40,5)/C(52/5)|| yacc:Syntax error at 'LexToken(RPAREN,u')',1,17)',location=17\n",
        "||1-(C(|| yacc:Syntax error - Empty token\n",
        "all answers= 8 well-formed answers= 5\n",
        "||(52C5) - (28C5) - (16C5)|| yacc:Syntax error at 'LexToken(NUMBER,5,1,4)',location=4\n",
        "all answers= 9 well-formed answers= 8\n",
        "||C(32, 5) + C(12, 50|| yacc:Syntax error - Empty token\n",
        "||C(32, 5) + C(12, 50)|| iPython level exception factorial() not defined for negative values\n",
        "all answers= 13 well-formed answers= 11\n",
        "||((16!/(5!11!)) - ((52!/(47!5!)) - (40!/(5!35!)))|| yacc:Syntax error - Empty token\n",
        "||((52!/(47!5!)) - (40!/(5!35!))) - ((32!/(5!27!))|| yacc:Syntax error - Empty token\n",
        "all answers= 22 well-formed answers= 20\n",
        "||(C(52,5)-(16,5))/C(52,5)||"
       ]
      },
      {
       "output_type": "stream",
       "stream": "stdout",
       "text": [
        " iPython level exception Unrecognized expression form: 16\n",
        "||C(52,|| yacc:Syntax error - Empty token\n",
        "all answers= 17 well-formed answers= 15\n",
        "||C(52-20, C)|| yacc:Syntax error at 'LexToken(RPAREN,u')',1,10)',location=10\n",
        "all answers= 6 well-formed answers= 5\n",
        "||need help|| iPython level exception Unrecognized expression form: need\n",
        "all answers= 3 well-formed answers= 2\n",
        "||12*31*30*29*28)|| yacc:Syntax error at 'LexToken(RPAREN,u')',1,14)',location=14\n",
        "all answers= 9 well-formed answers= 8\n",
        "||(52C5) - (28C5) - (16C5)|| yacc:Syntax error at 'LexToken(NUMBER,5,1,4)',location=4\n",
        "||12*(31!/(27!4!)|| yacc:Syntax error - Empty token\n",
        "||(40!/(35!5!)-(20!/(15!5!))|| yacc:Syntax error - Empty token\n",
        "all answers= 11 well-formed answers= 8\n",
        "||12(40!/36!)+(12*11)(39!/36!)+(12*11*10)(38!/36!)+(12*11*10*9)(37!/36!)+(12*11*10*9*8)|| yacc:Syntax error at 'LexToken(LPAREN,u'(',1,19)',location=19\n",
        "||(16!/11!)+(16*15*12*11)+(16*15*12*11*10+*16*12*11*10*9)+(12*11*10*9*8)|| yacc:Syntax error at 'LexToken(TIMES,u'*',1,40)',location=40\n",
        "||(16!/11!)+(16*15*12*11)+(16*15*12*11*10+(16*12*11*10*9)+(12*11*10*9*8)|| yacc:Syntax error - Empty token\n",
        "||C32,5)-C(20-5)||"
       ]
      },
      {
       "output_type": "stream",
       "stream": "stdout",
       "text": [
        " yacc:Syntax error at 'LexToken(NUMBER,32,1,1)',location=1\n",
        "||C(32,5)-C(20-5)|| yacc:Syntax error at 'LexToken(RPAREN,u')',1,14)',location=14\n",
        "||12(51!/47!)+(12*11)(50!/47!)+(12*11*10)(49!/47!)+(12*11*10*9)(48!/47!)+(12*11*10*9*8)|| yacc:Syntax error at 'LexToken(LPAREN,u'(',1,19)',location=19\n",
        "all answers= 17 well-formed answers= 11\n",
        "||2,598,960 - C (40, 5)|| iPython level exception Unrecognized expression form: 2\n",
        "all answers= 51 well-formed answers= 50\n",
        "||{A,2,3,4,5,6,JQK}|| iPython level exception string index out of range\n",
        "||{1,2,3,4,5,6,11,12,13}|| iPython level exception 'int' object has no attribute '__getitem__'\n",
        "||C(20,5)-((C(52,5)-C(40,5) )|| yacc:Syntax error - Empty token\n",
        "all answers= 28 well-formed answers= 25\n",
        "||(52C5) - (20C5) - (16C5)||"
       ]
      },
      {
       "output_type": "stream",
       "stream": "stdout",
       "text": [
        " yacc:Syntax error at 'LexToken(NUMBER,5,1,4)',location=4\n",
        "all answers= 18 well-formed answers= 17\n",
        "||C(52-20,5|| yacc:Syntax error - Empty token\n",
        "all answers= 9 well-formed answers= 8\n",
        "|||| yacc:Syntax error - Empty token\n",
        "||C(27,5) - C(|| yacc:Syntax error - Empty token\n",
        "all answers= 15 well-formed answers= 13\n"
       ]
      }
     ],
     "prompt_number": 226
    },
    {
     "cell_type": "code",
     "collapsed": false,
     "input": [
      "%tb"
     ],
     "language": "python",
     "metadata": {},
     "outputs": [
      {
       "ename": "WebworkParseException",
       "evalue": "too many values to unpack",
       "output_type": "pyerr",
       "traceback": [
        "\u001b[0;31m---------------------------------------------------------------------------\u001b[0m\n\u001b[0;31mWebworkParseException\u001b[0m                     Traceback (most recent call last)",
        "\u001b[0;32m<ipython-input-83-06e959e506d8>\u001b[0m in \u001b[0;36m<module>\u001b[0;34m()\u001b[0m\n\u001b[0;32m----> 1\u001b[0;31m \u001b[0metree\u001b[0m\u001b[0;34m=\u001b[0m\u001b[0mEval_parsed\u001b[0m\u001b[0;34m.\u001b[0m\u001b[0meval_parsed\u001b[0m\u001b[0;34m(\u001b[0m\u001b[0mA\u001b[0m\u001b[0;34m)\u001b[0m\u001b[0;34m\u001b[0m\u001b[0m\n\u001b[0m\u001b[1;32m      2\u001b[0m \u001b[0metree\u001b[0m\u001b[0;34m\u001b[0m\u001b[0m\n",
        "\u001b[0;32m/Users/yoavfreund/projects/Webwork.Improvement.Project/AdaptiveHints/src/webwork/expr_parser/Eval_parsed.py\u001b[0m in \u001b[0;36meval_parsed\u001b[0;34m(e)\u001b[0m\n\u001b[1;32m     73\u001b[0m         \u001b[0;31m#print 'Eval_parsed Exception:',ex\u001b[0m\u001b[0;34m\u001b[0m\u001b[0;34m\u001b[0m\u001b[0m\n\u001b[1;32m     74\u001b[0m         \u001b[0;31m#traceback.print_exc()\u001b[0m\u001b[0;34m\u001b[0m\u001b[0;34m\u001b[0m\u001b[0m\n\u001b[0;32m---> 75\u001b[0;31m         \u001b[0;32mraise\u001b[0m \u001b[0mWebworkParseException\u001b[0m\u001b[0;34m(\u001b[0m\u001b[0mex\u001b[0m\u001b[0;34m)\u001b[0m\u001b[0;34m\u001b[0m\u001b[0m\n\u001b[0m\u001b[1;32m     76\u001b[0m \u001b[0;34m\u001b[0m\u001b[0m\n\u001b[1;32m     77\u001b[0m \u001b[0;32mdef\u001b[0m \u001b[0mCollect_numbers\u001b[0m\u001b[0;34m(\u001b[0m\u001b[0metree\u001b[0m\u001b[0;34m)\u001b[0m\u001b[0;34m:\u001b[0m\u001b[0;34m\u001b[0m\u001b[0m\n",
        "\u001b[0;31mWebworkParseException\u001b[0m: too many values to unpack"
       ]
      }
     ],
     "prompt_number": 143
    },
    {
     "cell_type": "code",
     "collapsed": false,
     "input": [],
     "language": "python",
     "metadata": {},
     "outputs": []
    },
    {
     "cell_type": "code",
     "collapsed": false,
     "input": [
      "for user in users:\n",
      "    print shape(tries[tries['user_id']==user]['answer_string'])\n",
      "    print attempts[user]"
     ],
     "language": "python",
     "metadata": {},
     "outputs": [
      {
       "output_type": "stream",
       "stream": "stdout",
       "text": [
        "(8,)\n"
       ]
      },
      {
       "ename": "KeyError",
       "evalue": "u'jwk020'",
       "output_type": "pyerr",
       "traceback": [
        "\u001b[0;31m---------------------------------------------------------------------------\u001b[0m\n\u001b[0;31mKeyError\u001b[0m                                  Traceback (most recent call last)",
        "\u001b[0;32m<ipython-input-12-592a471ca71d>\u001b[0m in \u001b[0;36m<module>\u001b[0;34m()\u001b[0m\n\u001b[1;32m      1\u001b[0m \u001b[0;32mfor\u001b[0m \u001b[0muser\u001b[0m \u001b[0;32min\u001b[0m \u001b[0musers\u001b[0m\u001b[0;34m:\u001b[0m\u001b[0;34m\u001b[0m\u001b[0m\n\u001b[1;32m      2\u001b[0m     \u001b[0;32mprint\u001b[0m \u001b[0mshape\u001b[0m\u001b[0;34m(\u001b[0m\u001b[0mtries\u001b[0m\u001b[0;34m[\u001b[0m\u001b[0mtries\u001b[0m\u001b[0;34m[\u001b[0m\u001b[0;34m'user_id'\u001b[0m\u001b[0;34m]\u001b[0m\u001b[0;34m==\u001b[0m\u001b[0muser\u001b[0m\u001b[0;34m]\u001b[0m\u001b[0;34m[\u001b[0m\u001b[0;34m'answer_string'\u001b[0m\u001b[0;34m]\u001b[0m\u001b[0;34m)\u001b[0m\u001b[0;34m\u001b[0m\u001b[0m\n\u001b[0;32m----> 3\u001b[0;31m     \u001b[0;32mprint\u001b[0m \u001b[0mattempts\u001b[0m\u001b[0;34m[\u001b[0m\u001b[0muser\u001b[0m\u001b[0;34m]\u001b[0m\u001b[0;34m\u001b[0m\u001b[0m\n\u001b[0m",
        "\u001b[0;31mKeyError\u001b[0m: u'jwk020'"
       ]
      }
     ],
     "prompt_number": 12
    },
    {
     "cell_type": "code",
     "collapsed": false,
     "input": [
      "hist([len(tries) for tries in attempts],bins=20);"
     ],
     "language": "python",
     "metadata": {},
     "outputs": [
      {
       "metadata": {},
       "output_type": "display_data",
       "png": "[encoded data removed]",
       "text": [
        "<matplotlib.figure.Figure at 0x10a6da350>"
       ]
      }
     ],
     "prompt_number": 73
    },
    {
     "cell_type": "code",
     "collapsed": false,
     "input": [
      "def is_number(s):\n",
      "    try:\n",
      "        float(s)\n",
      "        return True\n",
      "    except ValueError:\n",
      "        return False"
     ],
     "language": "python",
     "metadata": {},
     "outputs": [],
     "prompt_number": 35
    },
    {
     "cell_type": "code",
     "collapsed": false,
     "input": [
      "A=None\n",
      "type(A)==type(None)"
     ],
     "language": "python",
     "metadata": {},
     "outputs": [
      {
       "metadata": {},
       "output_type": "pyout",
       "prompt_number": 15,
       "text": [
        "True"
       ]
      }
     ],
     "prompt_number": 15
    },
    {
     "cell_type": "code",
     "collapsed": false,
     "input": [
      "type(None)"
     ],
     "language": "python",
     "metadata": {},
     "outputs": [
      {
       "metadata": {},
       "output_type": "pyout",
       "prompt_number": 14,
       "text": [
        "NoneType"
       ]
      }
     ],
     "prompt_number": 14
    },
    {
     "cell_type": "code",
     "collapsed": false,
     "input": [
      "[(('-', (2, 7)), (('+', (2, 5)), 31, 4), 1), 4]"
     ],
     "language": "python",
     "metadata": {},
     "outputs": []
    }
   ],
   "metadata": {}
  }
 ]
}