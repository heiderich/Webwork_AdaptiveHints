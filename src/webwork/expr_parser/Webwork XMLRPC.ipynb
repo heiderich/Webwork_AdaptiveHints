{
 "metadata": {
  "name": "",
  "signature": "sha256:e06b3aa0e9283325285dd555cdce64b73813aba8da1ca776d78d5ff168bc57f3"
 },
 "nbformat": 3,
 "nbformat_minor": 0,
 "worksheets": [
  {
   "cells": [
    {
     "cell_type": "code",
     "collapsed": false,
     "input": [
      "import xmlrpclib\n",
      "import base64\n",
      "import os.path"
     ],
     "language": "python",
     "metadata": {},
     "outputs": [],
     "prompt_number": 1
    },
    {
     "cell_type": "code",
     "collapsed": false,
     "input": [
      "url='http://192.168.33.10/mod_xmlrpc'\n",
      "server = xmlrpclib.ServerProxy(url)\n",
      "filename = os.path.expanduser('~/git/webwork/PG_files/EventSpace/event_tree_1.pg')\n",
      "\n",
      "with open(filename, 'r') as f:\n",
      "    pg_file = ''.join(f.readlines())\n",
      "    \n",
      "answers={'AnSwEr0001':'1/6^3'}\n",
      "\n",
      "args = {'envir': \n",
      "        {'fileName': filename, 'problemSeed': 1235, 'displayMode':'images', 'inputs_ref': answers},\n",
      "        'source': base64.b64encode(pg_file),\n",
      "        'userID': 'admin', 'password': 'admin', 'courseID':'CSE103'}\n"
     ],
     "language": "python",
     "metadata": {},
     "outputs": [],
     "prompt_number": 26
    },
    {
     "cell_type": "code",
     "collapsed": false,
     "input": [
      "res=server.WebworkXMLRPC.renderProblem(args)\n",
      "res"
     ],
     "language": "python",
     "metadata": {},
     "outputs": [
      {
       "metadata": {},
       "output_type": "pyout",
       "prompt_number": 27,
       "text": [
        "{'WARNINGS': 'V0FSTklOR1MKCjxici8+TW9yZTxici8+Cg==\\n',\n",
        " 'answers': {'AnSwEr0001': {'_filter_name': 'dereference_array_ans',\n",
        "   'ans_label': 'AnSwEr0001',\n",
        "   'ans_message': '',\n",
        "   'ans_name': 'AnSwEr0001',\n",
        "   'cmp_class': 'a Number',\n",
        "   'correct_ans': '(1/6)^(4 - 1)',\n",
        "   'correct_ans_latex_string': '\\\\left(\\\\frac{1}{6}\\\\right)^{4-1}',\n",
        "   'correct_value': 'Value::Real reference',\n",
        "   'done': '',\n",
        "   'error_flag': '',\n",
        "   'error_message': '',\n",
        "   'ignoreInfinity': 1,\n",
        "   'ignoreStrings': 1,\n",
        "   'isPreview': '',\n",
        "   'original_student_ans': '1/6^3',\n",
        "   'preview_latex_string': '\\\\frac{1}{6^{3}}',\n",
        "   'preview_text_string': '1/(6^3)',\n",
        "   'score': 1,\n",
        "   'showEqualErrors': 1,\n",
        "   'showTypeWarnings': 1,\n",
        "   'showUnionReduceWarnings': 1,\n",
        "   'student_ans': 0.00462963,\n",
        "   'student_formula': 'Value::Formula reference',\n",
        "   'student_value': 'Value::Real reference',\n",
        "   'studentsMustReduceUnions': 1,\n",
        "   'type': 'Value (Real)'}},\n",
        " 'compute_time': ' 1 wallclock secs ( 0.13 usr +  0.01 sys =  0.14 CPU)',\n",
        " 'courseID': 'CSE103',\n",
        " 'debug_messages': [],\n",
        " 'errors': '',\n",
        " 'flags': {'ANSWER_ENTRY_ORDER': ['AnSwEr0001'],\n",
        "  'KEPT_EXTRA_ANSWERS': [],\n",
        "  'PROBLEM_GRADER_TO_USE': '',\n",
        "  'comment': '',\n",
        "  'hintExists': 0,\n",
        "  'recordSubmittedAnswers': 1,\n",
        "  'refreshCachedImages': 0,\n",
        "  'showHint': 1,\n",
        "  'showHintLimit': 1,\n",
        "  'showPartialCorrectAnswers': 1,\n",
        "  'showpartialCorrectAnswers': 1,\n",
        "  'solutionExists': 0},\n",
        " 'header_text': '',\n",
        " 'internal_debug_messages': [],\n",
        " 'problem_result': {'errors': '',\n",
        "  'msg': '',\n",
        "  'score': 1,\n",
        "  'type': 'avg_problem_grader'},\n",
        " 'problem_state': {'num_of_correct_ans': 1,\n",
        "  'num_of_incorrect_ans': 0,\n",
        "  'recorded_score': 1,\n",
        "  'state_summary_msg': '',\n",
        "  'sub_recorded_score': 1},\n",
        " 'session_key': '7258d1XKkYyGf3m9ONes88LfyHzXgKXE',\n",
        " 'text': 'KDEgcHQpIDxCPi9ob21lL2licmFoaW0vZ2l0L3dlYndvcmsvUEdfZmlsZXMvRXZlbnRTcGFjZS9l\\ndmVudF90cmVlXzEucGc8L0I+PEJSPjxkaXYgY2xhc3M9IlBHTUwiPgpZb3UgdG9zcyA0IGZhaXIg\\nc2l4LXNpZGVkIGRpY2UuIFlvdSBnZXQgYSBkb2xsYXIgaWYgdGhlIG91dGNvbWVzIGFyZQogIGVx\\ndWFsLCB6ZXJvIG90aGVyd2lzZS4gV2hhdCBpcyB0aGUgZmFpciB2YWx1ZSBvZiBhIHRpY2tldCB0\\nbyBwbGF5IHRoaXMgZ2FtZT8KPHAgc3R5bGU9Im1hcmdpbi1ib3R0b206MCI+CjxpbnB1dCB0eXBl\\nPXRleHQgY2xhc3M9ImNvZGVzaGFyZCIgc2l6ZT0xMiBuYW1lPSJBblN3RXIwMDAxIiBpZD0iQW5T\\nd0VyMDAwMSIgdmFsdWU9IjEvNl4zIi8+CjxpbnB1dCB0eXBlPWhpZGRlbiAgbmFtZT0icHJldmlv\\ndXNfQW5Td0VyMDAwMSIgdmFsdWU9IjEvNl4zIi8+CjwvZGl2Pgo=\\n',\n",
        " 'userID': 'admin',\n",
        " 'warning_messages': ['<br/>------',\n",
        "  'The current problem set number setNumber is not defined']}"
       ]
      }
     ],
     "prompt_number": 27
    },
    {
     "cell_type": "code",
     "collapsed": false,
     "input": [
      "base64.b64decode(res['text'])"
     ],
     "language": "python",
     "metadata": {},
     "outputs": [
      {
       "metadata": {},
       "output_type": "pyout",
       "prompt_number": 5,
       "text": [
        "'(1 pt) <B>/home/ibrahim/git/webwork/PG_files/EventSpace/event_tree_1.pg</B><BR><div class=\"PGML\">\\nYou toss 4 fair six-sided dice. You get a dollar if the outcomes are\\n  equal, zero otherwise. What is the fair value of a ticket to play this game?\\n<p style=\"margin-bottom:0\">\\n<input type=text class=\"codeshard\" size=12 name=\"AnSwEr0001\" id=\"AnSwEr0001\" value=\"1/6^3\"/>\\n<input type=hidden  name=\"previous_AnSwEr0001\" value=\"1/6^3\"/>\\n</div>\\n'"
       ]
      }
     ],
     "prompt_number": 5
    },
    {
     "cell_type": "code",
     "collapsed": false,
     "input": [],
     "language": "python",
     "metadata": {},
     "outputs": []
    }
   ],
   "metadata": {}
  }
 ]
}