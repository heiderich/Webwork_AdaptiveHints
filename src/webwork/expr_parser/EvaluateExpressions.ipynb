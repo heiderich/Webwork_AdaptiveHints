{
 "metadata": {
  "name": "",
  "signature": "sha256:7c0177f0f59d42f129b68b2b87cdfe5462b0829e3fd09286c5dfae0fbce87e70"
 },
 "nbformat": 3,
 "nbformat_minor": 0,
 "worksheets": [
  {
   "cells": [
    {
     "cell_type": "code",
     "collapsed": false,
     "input": [
      "from webwork_parser import parse_webwork\n",
      "import webwork_parser\n",
      "\n",
      "import operator\n",
      "import math"
     ],
     "language": "python",
     "metadata": {},
     "outputs": [],
     "prompt_number": 1
    },
    {
     "cell_type": "code",
     "collapsed": false,
     "input": [
      "print webwork_parser.tokens\n",
      "\n",
      "def combinations(n, k):\n",
      "    return math.factorial(n)/(math.factorial(k)*math.factorial(n-k))\n",
      "\n",
      "def permutations(n, k):\n",
      "    return math.factorial(n)/math.factorial(n-k)\n",
      "\n",
      "def parens(x):\n",
      "    return x\n",
      "ops = {\n",
      "    '+': operator.add,\n",
      "    '-': operator.sub,\n",
      "    '*': operator.mul,\n",
      "    '/': operator.div,\n",
      "    '!': math.factorial,\n",
      "    'C': combinations,\n",
      "    'P': permutations,\n",
      "    '^': math.pow,\n",
      "    '(': parens\n",
      "    \n",
      "}\n",
      "def evaluate_expression(tree):\n",
      "    if not type(tree)==tuple:\n",
      "        try:\n",
      "            return int(tree)\n",
      "        except:\n",
      "            print \"Parsing {0} as int failed\".format(tree)\n",
      "            return 0\n",
      "    else:\n",
      "        op = tree[0]\n",
      "        args = [evaluate_expression(x) for x in tree[1:]]\n",
      "        fn = ops[op]\n",
      "        # Need to handle the special case of - being used to make a number negative\n",
      "        if op == '-' and len(args)==1:\n",
      "            return -args\n",
      "        else:\n",
      "            return reduce(fn, args)"
     ],
     "language": "python",
     "metadata": {},
     "outputs": [
      {
       "output_type": "stream",
       "stream": "stdout",
       "text": [
        "('CHOOSE', 'VARIABLE', 'NUMBER', 'PLUS', 'MINUS', 'TIMES', 'DIVIDE', 'LPAREN', 'RPAREN', 'FACTORIAL', 'LSET', 'RSET', 'COMMA', 'EXP', 'LBRACKET', 'RBRACKET')\n"
       ]
      }
     ],
     "prompt_number": 2
    },
    {
     "cell_type": "code",
     "collapsed": false,
     "input": [
      "test1 = '2^8 + 5 * 4 + C(10,4) + (1+2+3)*3'\n",
      "expr = parse_webwork(test1)\n",
      "print expr\n",
      "result = evaluate_expression(expr)\n",
      "print result"
     ],
     "language": "python",
     "metadata": {},
     "outputs": [
      {
       "output_type": "stream",
       "stream": "stdout",
       "text": [
        "('+', ('^', 2, 8), ('*', 5, 4), ('C', 10, 4), ('*', ('+', 1, 2, 3), 3))\n",
        "504.0\n"
       ]
      }
     ],
     "prompt_number": 3
    }
   ],
   "metadata": {}
  }
 ]
}